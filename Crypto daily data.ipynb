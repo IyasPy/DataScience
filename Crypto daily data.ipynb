{
 "cells": [
  {
   "cell_type": "code",
   "metadata": {
    "tags": [],
    "cell_id": "7d66720c-6911-4db6-9582-402190ffb32a",
    "deepnote_to_be_reexecuted": false,
    "source_hash": "9986d9aa",
    "execution_start": 1651824116053,
    "execution_millis": 1421,
    "deepnote_cell_type": "code",
    "deepnote_cell_height": 278.9375
   },
   "source": "import warnings\nwarnings.filterwarnings('ignore')  # Hide warnings\nimport datetime as dt\nimport pandas as pd\npd.core.common.is_list_like = pd.api.types.is_list_like\nimport pandas_datareader.data as web\nimport numpy as np\nimport matplotlib.pyplot as plt\nimport seaborn as sns\n\nimport matplotlib.dates as mdates\n",
   "outputs": [],
   "execution_count": null
  },
  {
   "cell_type": "code",
   "metadata": {
    "cell_id": "7236d937cd6f4dc9ad717a2b3e3dbd86",
    "tags": [],
    "deepnote_to_be_reexecuted": false,
    "source_hash": "bceeddb3",
    "execution_start": 1651824117481,
    "execution_millis": 144,
    "deepnote_cell_type": "code",
    "deepnote_cell_height": 80.921875
   },
   "source": "import plotly.express as px",
   "outputs": [],
   "execution_count": null
  },
  {
   "cell_type": "code",
   "metadata": {
    "cell_id": "86050c7fc1fa4c17a83fadf566ae0653",
    "tags": [],
    "deepnote_to_be_reexecuted": false,
    "source_hash": "6b58e369",
    "execution_start": 1651824117625,
    "execution_millis": 3969,
    "deepnote_cell_type": "code",
    "deepnote_cell_height": 700.921875
   },
   "source": "!pip install pandas_profiling==3.2.0",
   "outputs": [
    {
     "name": "stdout",
     "text": "Requirement already satisfied: pandas_profiling==3.2.0 in /root/venv/lib/python3.7/site-packages (3.2.0)\nRequirement already satisfied: visions[type_image_path]==0.7.4 in /root/venv/lib/python3.7/site-packages (from pandas_profiling==3.2.0) (0.7.4)\nRequirement already satisfied: scipy>=1.4.1 in /shared-libs/python3.7/py/lib/python3.7/site-packages (from pandas_profiling==3.2.0) (1.7.3)\nRequirement already satisfied: tqdm>=4.48.2 in /shared-libs/python3.7/py/lib/python3.7/site-packages (from pandas_profiling==3.2.0) (4.64.0)\nRequirement already satisfied: tangled-up-in-unicode==0.2.0 in /root/venv/lib/python3.7/site-packages (from pandas_profiling==3.2.0) (0.2.0)\nRequirement already satisfied: missingno>=0.4.2 in /root/venv/lib/python3.7/site-packages (from pandas_profiling==3.2.0) (0.5.1)\nRequirement already satisfied: pydantic>=1.8.1 in /shared-libs/python3.7/py/lib/python3.7/site-packages (from pandas_profiling==3.2.0) (1.8.2)\nRequirement already satisfied: htmlmin>=0.1.12 in /root/venv/lib/python3.7/site-packages (from pandas_profiling==3.2.0) (0.1.12)\nRequirement already satisfied: phik>=0.11.1 in /root/venv/lib/python3.7/site-packages (from pandas_profiling==3.2.0) (0.12.2)\nRequirement already satisfied: seaborn>=0.10.1 in /shared-libs/python3.7/py/lib/python3.7/site-packages (from pandas_profiling==3.2.0) (0.11.2)\nRequirement already satisfied: jinja2>=2.11.1 in /shared-libs/python3.7/py-core/lib/python3.7/site-packages (from pandas_profiling==3.2.0) (2.11.3)\nRequirement already satisfied: pandas!=1.0.0,!=1.0.1,!=1.0.2,!=1.1.0,>=0.25.3 in /shared-libs/python3.7/py/lib/python3.7/site-packages (from pandas_profiling==3.2.0) (1.2.5)\nRequirement already satisfied: joblib~=1.1.0 in /shared-libs/python3.7/py/lib/python3.7/site-packages (from pandas_profiling==3.2.0) (1.1.0)\nRequirement already satisfied: matplotlib>=3.2.0 in /shared-libs/python3.7/py/lib/python3.7/site-packages (from pandas_profiling==3.2.0) (3.5.1)\nRequirement already satisfied: requests>=2.24.0 in /shared-libs/python3.7/py/lib/python3.7/site-packages (from pandas_profiling==3.2.0) (2.27.1)\nRequirement already satisfied: multimethod>=1.4 in /root/venv/lib/python3.7/site-packages (from pandas_profiling==3.2.0) (1.8)\nCollecting markupsafe~=2.1.1\n  Using cached MarkupSafe-2.1.1-cp37-cp37m-manylinux_2_17_x86_64.manylinux2014_x86_64.whl (25 kB)\nRequirement already satisfied: PyYAML>=5.0.0 in /shared-libs/python3.7/py/lib/python3.7/site-packages (from pandas_profiling==3.2.0) (6.0)\nRequirement already satisfied: numpy>=1.16.0 in /shared-libs/python3.7/py/lib/python3.7/site-packages (from pandas_profiling==3.2.0) (1.21.6)\nRequirement already satisfied: networkx>=2.4 in /root/venv/lib/python3.7/site-packages (from visions[type_image_path]==0.7.4->pandas_profiling==3.2.0) (2.6.3)\nRequirement already satisfied: attrs>=19.3.0 in /shared-libs/python3.7/py-core/lib/python3.7/site-packages (from visions[type_image_path]==0.7.4->pandas_profiling==3.2.0) (21.4.0)\nRequirement already satisfied: Pillow; extra == \"type_image_path\" in /shared-libs/python3.7/py/lib/python3.7/site-packages (from visions[type_image_path]==0.7.4->pandas_profiling==3.2.0) (9.1.0)\nRequirement already satisfied: imagehash; extra == \"type_image_path\" in /root/venv/lib/python3.7/site-packages (from visions[type_image_path]==0.7.4->pandas_profiling==3.2.0) (4.2.1)\nRequirement already satisfied: typing-extensions>=3.7.4.3 in /shared-libs/python3.7/py-core/lib/python3.7/site-packages (from pydantic>=1.8.1->pandas_profiling==3.2.0) (4.2.0)\nRequirement already satisfied: python-dateutil>=2.7.3 in /shared-libs/python3.7/py-core/lib/python3.7/site-packages (from pandas!=1.0.0,!=1.0.1,!=1.0.2,!=1.1.0,>=0.25.3->pandas_profiling==3.2.0) (2.8.2)\nRequirement already satisfied: pytz>=2017.3 in /shared-libs/python3.7/py/lib/python3.7/site-packages (from pandas!=1.0.0,!=1.0.1,!=1.0.2,!=1.1.0,>=0.25.3->pandas_profiling==3.2.0) (2022.1)\nRequirement already satisfied: cycler>=0.10 in /shared-libs/python3.7/py/lib/python3.7/site-packages (from matplotlib>=3.2.0->pandas_profiling==3.2.0) (0.11.0)\nRequirement already satisfied: pyparsing>=2.2.1 in /shared-libs/python3.7/py/lib/python3.7/site-packages (from matplotlib>=3.2.0->pandas_profiling==3.2.0) (3.0.8)\nRequirement already satisfied: kiwisolver>=1.0.1 in /shared-libs/python3.7/py/lib/python3.7/site-packages (from matplotlib>=3.2.0->pandas_profiling==3.2.0) (1.4.2)\nRequirement already satisfied: packaging>=20.0 in /shared-libs/python3.7/py/lib/python3.7/site-packages (from matplotlib>=3.2.0->pandas_profiling==3.2.0) (21.3)\nRequirement already satisfied: fonttools>=4.22.0 in /shared-libs/python3.7/py/lib/python3.7/site-packages (from matplotlib>=3.2.0->pandas_profiling==3.2.0) (4.33.3)\nRequirement already satisfied: urllib3<1.27,>=1.21.1 in /shared-libs/python3.7/py/lib/python3.7/site-packages (from requests>=2.24.0->pandas_profiling==3.2.0) (1.26.9)\nRequirement already satisfied: charset-normalizer~=2.0.0; python_version >= \"3\" in /shared-libs/python3.7/py-core/lib/python3.7/site-packages (from requests>=2.24.0->pandas_profiling==3.2.0) (2.0.12)\nRequirement already satisfied: certifi>=2017.4.17 in /shared-libs/python3.7/py/lib/python3.7/site-packages (from requests>=2.24.0->pandas_profiling==3.2.0) (2021.10.8)\nRequirement already satisfied: idna<4,>=2.5; python_version >= \"3\" in /shared-libs/python3.7/py-core/lib/python3.7/site-packages (from requests>=2.24.0->pandas_profiling==3.2.0) (3.3)\nRequirement already satisfied: six in /shared-libs/python3.7/py-core/lib/python3.7/site-packages (from imagehash; extra == \"type_image_path\"->visions[type_image_path]==0.7.4->pandas_profiling==3.2.0) (1.16.0)\nRequirement already satisfied: PyWavelets in /root/venv/lib/python3.7/site-packages (from imagehash; extra == \"type_image_path\"->visions[type_image_path]==0.7.4->pandas_profiling==3.2.0) (1.3.0)\n\u001b[31mERROR: spacy 3.2.4 has requirement typing-extensions<4.0.0.0,>=3.7.4; python_version < \"3.8\", but you'll have typing-extensions 4.2.0 which is incompatible.\u001b[0m\nInstalling collected packages: markupsafe\n  Attempting uninstall: markupsafe\n    Found existing installation: MarkupSafe 2.0.1\n    Not uninstalling markupsafe at /shared-libs/python3.7/py-core/lib/python3.7/site-packages, outside environment /root/venv\n    Can't uninstall 'MarkupSafe'. No files were found to uninstall.\nSuccessfully installed markupsafe-2.1.1\n\u001b[33mWARNING: You are using pip version 20.1.1; however, version 22.0.4 is available.\nYou should consider upgrading via the '/root/venv/bin/python -m pip install --upgrade pip' command.\u001b[0m\n",
     "output_type": "stream"
    }
   ],
   "execution_count": null
  },
  {
   "cell_type": "code",
   "metadata": {
    "cell_id": "908f79014d0a411087a50a490dcbe3dd",
    "tags": [],
    "deepnote_to_be_reexecuted": false,
    "source_hash": "51d86ee3",
    "execution_start": 1651824121597,
    "execution_millis": 737,
    "deepnote_cell_type": "code",
    "deepnote_cell_height": 80.921875
   },
   "source": "from pandas_profiling import ProfileReport",
   "outputs": [],
   "execution_count": null
  },
  {
   "cell_type": "code",
   "metadata": {
    "cell_id": "66f876950a04409a979869707a9691a2",
    "tags": [],
    "deepnote_to_be_reexecuted": false,
    "source_hash": "5d71c780",
    "execution_start": 1651824122334,
    "execution_millis": 1,
    "deepnote_cell_type": "code",
    "deepnote_cell_height": 98.9375
   },
   "source": "start = dt.datetime(2021, 1, 1)\nend = dt.datetime(2022,4,29)",
   "outputs": [],
   "execution_count": null
  },
  {
   "cell_type": "code",
   "metadata": {
    "cell_id": "a45455106a2c46f5806f6b61769ebb78",
    "tags": [],
    "deepnote_to_be_reexecuted": false,
    "source_hash": "9ae4cf99",
    "execution_start": 1651824122335,
    "execution_millis": 614,
    "deepnote_cell_type": "code",
    "deepnote_cell_height": 278.9375
   },
   "source": "btc = web.DataReader(\"BTC-USD\", 'yahoo', start, end)  # Collects data\nbtc.reset_index(inplace=True)\n#bitcoin\n\n#bitcoin\n\ncrypto= btc[['Date','Adj Close']]\ncrypto= crypto.rename(columns = {'Adj Close':'BTC'})\n\n# 7 day moving average\n\ncrypto[ 'BTC_7DAY_MA' ] = crypto.BTC.rolling( 7).mean()",
   "outputs": [],
   "execution_count": null
  },
  {
   "cell_type": "code",
   "metadata": {
    "cell_id": "677e200a672048aab44bb4b970c20e3d",
    "tags": [],
    "deepnote_to_be_reexecuted": false,
    "source_hash": "863aefff",
    "execution_start": 1651824122952,
    "execution_millis": 836,
    "deepnote_cell_type": "code",
    "deepnote_cell_height": 206.9375
   },
   "source": "#Ethereum\n\neth = web.DataReader(\"ETH-USD\", 'yahoo', start, end)  # Collects data\neth.reset_index(inplace=True)\ncrypto[\"ETH\"]= eth[\"Adj Close\"]\n\n# 7 day moving average\ncrypto[ 'ETH_7DAY_MA' ] = crypto.ETH.rolling( 7).mean()",
   "outputs": [],
   "execution_count": null
  },
  {
   "cell_type": "code",
   "metadata": {
    "cell_id": "73ecd81f4909414bb6ac92d8966207c4",
    "tags": [],
    "deepnote_to_be_reexecuted": false,
    "source_hash": "7bd65325",
    "execution_start": 1651824123788,
    "execution_millis": 984,
    "deepnote_cell_type": "code",
    "deepnote_cell_height": 206.9375
   },
   "source": "#doge coin\n\ndoge = web.DataReader(\"DOGE-USD\", 'yahoo', start, end)  # Collects data\ndoge.reset_index(inplace=True)\ncrypto[\"DOGE\"]= doge[\"Adj Close\"]\n\n# 7 day moving average\ncrypto[ 'DOGE_7DAY_MA' ] = crypto.DOGE.rolling( 7).mean()",
   "outputs": [],
   "execution_count": null
  },
  {
   "cell_type": "code",
   "metadata": {
    "cell_id": "7244b88ab5fd4dfbab5f4c4ec4d26ef7",
    "tags": [],
    "deepnote_to_be_reexecuted": false,
    "source_hash": "da342de6",
    "execution_start": 1651824124773,
    "execution_millis": 483,
    "deepnote_cell_type": "code",
    "deepnote_cell_height": 206.9375
   },
   "source": "#BinanceCoin \n\nbnb = web.DataReader(\"BNB-USD\", 'yahoo', start, end)  # Collects data\nbnb.reset_index(inplace=True)\ncrypto[\"BNB\"]= bnb[\"Adj Close\"]\n\n# 7 day moving average\ncrypto[ 'BNB_7DAY_MA' ] = crypto.BNB.rolling( 7).mean()",
   "outputs": [],
   "execution_count": null
  },
  {
   "cell_type": "code",
   "metadata": {
    "cell_id": "f59e7776fcae4588b52fa973e654c7da",
    "tags": [],
    "deepnote_to_be_reexecuted": false,
    "source_hash": "2b9a6695",
    "execution_start": 1651824125257,
    "execution_millis": 612,
    "deepnote_cell_type": "code",
    "deepnote_cell_height": 206.9375
   },
   "source": "#Cardano\n\nada = web.DataReader(\"ADA-USD\", 'yahoo', start, end)  # Collects data\nada.reset_index(inplace=True)\ncrypto[\"ADA\"]= ada[\"Adj Close\"]\n\n\n# 7 day moving average",
   "outputs": [],
   "execution_count": null
  },
  {
   "cell_type": "code",
   "metadata": {
    "cell_id": "b16a1d8e76d34d2cace2a2490ea1e9ff",
    "tags": [],
    "deepnote_to_be_reexecuted": false,
    "source_hash": "f2645364",
    "execution_start": 1651824125870,
    "execution_millis": 591,
    "deepnote_cell_type": "code",
    "deepnote_cell_height": 206.9375
   },
   "source": "#XRP\n\nxrp = web.DataReader(\"XRP-USD\", 'yahoo', start, end)  # Collects data\nxrp.reset_index(inplace=True)\ncrypto[\"XRP\"]= xrp[\"Adj Close\"]\n\n# 7 day moving average\ncrypto[ 'XRP_7DAY_MA' ] = crypto.XRP.rolling( 7).mean()",
   "outputs": [],
   "execution_count": null
  },
  {
   "cell_type": "code",
   "metadata": {
    "cell_id": "34bb59ed1ec14159bf013f7905f0dc22",
    "tags": [],
    "deepnote_to_be_reexecuted": false,
    "source_hash": "8a9af780",
    "execution_start": 1651824126464,
    "execution_millis": 734,
    "deepnote_cell_type": "code",
    "deepnote_cell_height": 188.9375
   },
   "source": "#Dash\n\ndash = web.DataReader(\"DASH-USD\", 'yahoo', start, end)  # Collects data\ndash.reset_index(inplace=True)\ncrypto[\"DASH\"]= dash[\"Adj Close\"]\n\n# 7 day moving average",
   "outputs": [],
   "execution_count": null
  },
  {
   "cell_type": "code",
   "metadata": {
    "cell_id": "9084e57d8653494bbfea46e55a52a4fa",
    "tags": [],
    "deepnote_to_be_reexecuted": false,
    "source_hash": "5b5800ca",
    "execution_start": 1651824127198,
    "execution_millis": 638,
    "deepnote_cell_type": "code",
    "deepnote_cell_height": 188.9375
   },
   "source": "#Luna\n\nluna = web.DataReader(\"LUNA-USD\", 'yahoo', start, end)  # Collects data\nluna.reset_index(inplace=True)\ncrypto[\"LUNA\"]= luna[\"Adj Close\"]\n\n# 7 day moving average",
   "outputs": [],
   "execution_count": null
  },
  {
   "cell_type": "code",
   "metadata": {
    "cell_id": "87f977fb838b46308eafce074d6d75f5",
    "tags": [],
    "deepnote_to_be_reexecuted": false,
    "source_hash": "aafda081",
    "execution_start": 1651824127863,
    "execution_millis": 58,
    "deepnote_cell_type": "code",
    "deepnote_cell_height": 618.3125
   },
   "source": "luna",
   "outputs": [
    {
     "output_type": "execute_result",
     "execution_count": 14,
     "data": {
      "application/vnd.deepnote.dataframe.v3+json": {
       "column_count": 7,
       "row_count": 485,
       "columns": [
        {
         "name": "Date",
         "dtype": "datetime64[ns]",
         "stats": {
          "unique_count": 485,
          "nan_count": 0,
          "min": "2021-01-01 00:00:00",
          "max": "2022-04-30 00:00:00",
          "histogram": [
           {
            "bin_start": 1609459200000000000,
            "bin_end": 1613640960000000000,
            "count": 49
           },
           {
            "bin_start": 1613640960000000000,
            "bin_end": 1617822720000000000,
            "count": 48
           },
           {
            "bin_start": 1617822720000000000,
            "bin_end": 1622004480000000000,
            "count": 49
           },
           {
            "bin_start": 1622004480000000000,
            "bin_end": 1626186240000000000,
            "count": 48
           },
           {
            "bin_start": 1626186240000000000,
            "bin_end": 1630368000000000000,
            "count": 48
           },
           {
            "bin_start": 1630368000000000000,
            "bin_end": 1634549760000000000,
            "count": 49
           },
           {
            "bin_start": 1634549760000000000,
            "bin_end": 1638731520000000000,
            "count": 48
           },
           {
            "bin_start": 1638731520000000000,
            "bin_end": 1642913280000000000,
            "count": 49
           },
           {
            "bin_start": 1642913280000000000,
            "bin_end": 1647095040000000000,
            "count": 48
           },
           {
            "bin_start": 1647095040000000000,
            "bin_end": 1651276800000000000,
            "count": 49
           }
          ]
         }
        },
        {
         "name": "High",
         "dtype": "float64",
         "stats": {
          "unique_count": 471,
          "nan_count": 0,
          "min": "0.001976999919861555",
          "max": "0.022019999101758003",
          "histogram": [
           {
            "bin_start": 0.001976999919861555,
            "bin_end": 0.0039812998380512,
            "count": 36
           },
           {
            "bin_start": 0.0039812998380512,
            "bin_end": 0.0059855997562408446,
            "count": 105
           },
           {
            "bin_start": 0.0059855997562408446,
            "bin_end": 0.007989899674430489,
            "count": 138
           },
           {
            "bin_start": 0.007989899674430489,
            "bin_end": 0.009994199592620134,
            "count": 163
           },
           {
            "bin_start": 0.009994199592620134,
            "bin_end": 0.01199849951080978,
            "count": 41
           },
           {
            "bin_start": 0.01199849951080978,
            "bin_end": 0.014002799428999423,
            "count": 0
           },
           {
            "bin_start": 0.014002799428999423,
            "bin_end": 0.016007099347189066,
            "count": 0
           },
           {
            "bin_start": 0.016007099347189066,
            "bin_end": 0.018011399265378713,
            "count": 0
           },
           {
            "bin_start": 0.018011399265378713,
            "bin_end": 0.020015699183568356,
            "count": 1
           },
           {
            "bin_start": 0.020015699183568356,
            "bin_end": 0.022019999101758003,
            "count": 1
           }
          ]
         }
        },
        {
         "name": "Low",
         "dtype": "float64",
         "stats": {
          "unique_count": 470,
          "nan_count": 0,
          "min": "0.001307999948039651",
          "max": "0.011013000272214413",
          "histogram": [
           {
            "bin_start": 0.001307999948039651,
            "bin_end": 0.002278499980457127,
            "count": 22
           },
           {
            "bin_start": 0.002278499980457127,
            "bin_end": 0.0032490000128746034,
            "count": 22
           },
           {
            "bin_start": 0.0032490000128746034,
            "bin_end": 0.004219500045292079,
            "count": 40
           },
           {
            "bin_start": 0.004219500045292079,
            "bin_end": 0.005190000077709556,
            "count": 68
           },
           {
            "bin_start": 0.005190000077709556,
            "bin_end": 0.006160500110127032,
            "count": 52
           },
           {
            "bin_start": 0.006160500110127032,
            "bin_end": 0.007131000142544508,
            "count": 67
           },
           {
            "bin_start": 0.007131000142544508,
            "bin_end": 0.008101500174961983,
            "count": 101
           },
           {
            "bin_start": 0.008101500174961983,
            "bin_end": 0.009072000207379461,
            "count": 66
           },
           {
            "bin_start": 0.009072000207379461,
            "bin_end": 0.010042500239796937,
            "count": 29
           },
           {
            "bin_start": 0.010042500239796937,
            "bin_end": 0.011013000272214413,
            "count": 18
           }
          ]
         }
        },
        {
         "name": "Open",
         "dtype": "float64",
         "stats": {
          "unique_count": 478,
          "nan_count": 0,
          "min": "0.0013569999719038606",
          "max": "0.012315000407397747",
          "histogram": [
           {
            "bin_start": 0.0013569999719038606,
            "bin_end": 0.002452800015453249,
            "count": 17
           },
           {
            "bin_start": 0.002452800015453249,
            "bin_end": 0.0035486000590026377,
            "count": 18
           },
           {
            "bin_start": 0.0035486000590026377,
            "bin_end": 0.004644400102552026,
            "count": 49
           },
           {
            "bin_start": 0.004644400102552026,
            "bin_end": 0.005740200146101415,
            "count": 65
           },
           {
            "bin_start": 0.005740200146101415,
            "bin_end": 0.006836000189650804,
            "count": 75
           },
           {
            "bin_start": 0.006836000189650804,
            "bin_end": 0.007931800233200191,
            "count": 84
           },
           {
            "bin_start": 0.007931800233200191,
            "bin_end": 0.00902760027674958,
            "count": 100
           },
           {
            "bin_start": 0.00902760027674958,
            "bin_end": 0.010123400320298969,
            "count": 49
           },
           {
            "bin_start": 0.010123400320298969,
            "bin_end": 0.011219200363848358,
            "count": 24
           },
           {
            "bin_start": 0.011219200363848358,
            "bin_end": 0.012315000407397747,
            "count": 4
           }
          ]
         }
        },
        {
         "name": "Close",
         "dtype": "float64",
         "stats": {
          "unique_count": 475,
          "nan_count": 0,
          "min": "0.0013549999566748738",
          "max": "0.012330000288784504",
          "histogram": [
           {
            "bin_start": 0.0013549999566748738,
            "bin_end": 0.002452499989885837,
            "count": 17
           },
           {
            "bin_start": 0.002452499989885837,
            "bin_end": 0.0035500000230968,
            "count": 17
           },
           {
            "bin_start": 0.0035500000230968,
            "bin_end": 0.004647500056307763,
            "count": 50
           },
           {
            "bin_start": 0.004647500056307763,
            "bin_end": 0.005745000089518726,
            "count": 65
           },
           {
            "bin_start": 0.005745000089518726,
            "bin_end": 0.006842500122729689,
            "count": 75
           },
           {
            "bin_start": 0.006842500122729689,
            "bin_end": 0.007940000155940652,
            "count": 85
           },
           {
            "bin_start": 0.007940000155940652,
            "bin_end": 0.009037500189151615,
            "count": 101
           },
           {
            "bin_start": 0.009037500189151615,
            "bin_end": 0.010135000222362578,
            "count": 47
           },
           {
            "bin_start": 0.010135000222362578,
            "bin_end": 0.011232500255573541,
            "count": 24
           },
           {
            "bin_start": 0.011232500255573541,
            "bin_end": 0.012330000288784504,
            "count": 4
           }
          ]
         }
        },
        {
         "name": "Volume",
         "dtype": "int64",
         "stats": {
          "unique_count": 31,
          "nan_count": 0,
          "min": "0",
          "max": "649",
          "histogram": [
           {
            "bin_start": 0,
            "bin_end": 64.9,
            "count": 474
           },
           {
            "bin_start": 64.9,
            "bin_end": 129.8,
            "count": 8
           },
           {
            "bin_start": 129.8,
            "bin_end": 194.70000000000002,
            "count": 1
           },
           {
            "bin_start": 194.70000000000002,
            "bin_end": 259.6,
            "count": 1
           },
           {
            "bin_start": 259.6,
            "bin_end": 324.5,
            "count": 0
           },
           {
            "bin_start": 324.5,
            "bin_end": 389.40000000000003,
            "count": 0
           },
           {
            "bin_start": 389.40000000000003,
            "bin_end": 454.30000000000007,
            "count": 0
           },
           {
            "bin_start": 454.30000000000007,
            "bin_end": 519.2,
            "count": 0
           },
           {
            "bin_start": 519.2,
            "bin_end": 584.1,
            "count": 0
           },
           {
            "bin_start": 584.1,
            "bin_end": 649,
            "count": 1
           }
          ]
         }
        },
        {
         "name": "Adj Close",
         "dtype": "float64",
         "stats": {
          "unique_count": 475,
          "nan_count": 0,
          "min": "0.0013549999566748738",
          "max": "0.012330000288784504",
          "histogram": [
           {
            "bin_start": 0.0013549999566748738,
            "bin_end": 0.002452499989885837,
            "count": 17
           },
           {
            "bin_start": 0.002452499989885837,
            "bin_end": 0.0035500000230968,
            "count": 17
           },
           {
            "bin_start": 0.0035500000230968,
            "bin_end": 0.004647500056307763,
            "count": 50
           },
           {
            "bin_start": 0.004647500056307763,
            "bin_end": 0.005745000089518726,
            "count": 65
           },
           {
            "bin_start": 0.005745000089518726,
            "bin_end": 0.006842500122729689,
            "count": 75
           },
           {
            "bin_start": 0.006842500122729689,
            "bin_end": 0.007940000155940652,
            "count": 85
           },
           {
            "bin_start": 0.007940000155940652,
            "bin_end": 0.009037500189151615,
            "count": 101
           },
           {
            "bin_start": 0.009037500189151615,
            "bin_end": 0.010135000222362578,
            "count": 47
           },
           {
            "bin_start": 0.010135000222362578,
            "bin_end": 0.011232500255573541,
            "count": 24
           },
           {
            "bin_start": 0.011232500255573541,
            "bin_end": 0.012330000288784504,
            "count": 4
           }
          ]
         }
        },
        {
         "name": "_deepnote_index_column",
         "dtype": "int64"
        }
       ],
       "rows": [
        {
         "Date": "2021-01-01T00:00:00.000000",
         "High": 0.0029539999086409807,
         "Low": 0.0020490000024437904,
         "Open": 0.0029009999707341194,
         "Close": 0.002937000012025237,
         "Volume": 0,
         "Adj Close": 0.002937000012025237,
         "_deepnote_index_column": 0
        },
        {
         "Date": "2021-01-02T00:00:00.000000",
         "High": 0.0033160001039505005,
         "Low": 0.002377999946475029,
         "Open": 0.002937000012025237,
         "Close": 0.002566999988630414,
         "Volume": 0,
         "Adj Close": 0.002566999988630414,
         "_deepnote_index_column": 1
        },
        {
         "Date": "2021-01-03T00:00:00.000000",
         "High": 0.003461000043898821,
         "Low": 0.002563999965786934,
         "Open": 0.0025710000190883875,
         "Close": 0.003283000085502863,
         "Volume": 0,
         "Adj Close": 0.003283000085502863,
         "_deepnote_index_column": 2
        },
        {
         "Date": "2021-01-04T00:00:00.000000",
         "High": 0.003344000084325671,
         "Low": 0.002638000063598156,
         "Open": 0.0032740000169724226,
         "Close": 0.0031969998963177204,
         "Volume": 0,
         "Adj Close": 0.0031969998963177204,
         "_deepnote_index_column": 3
        },
        {
         "Date": "2021-01-05T00:00:00.000000",
         "High": 0.0034439999144524336,
         "Low": 0.0021609999239444733,
         "Open": 0.0031969998963177204,
         "Close": 0.0033990000374615192,
         "Volume": 0,
         "Adj Close": 0.0033990000374615192,
         "_deepnote_index_column": 4
        },
        {
         "Date": "2021-01-06T00:00:00.000000",
         "High": 0.0036879999097436666,
         "Low": 0.002368000103160739,
         "Open": 0.0033990000374615192,
         "Close": 0.0036879999097436666,
         "Volume": 0,
         "Adj Close": 0.0036879999097436666,
         "_deepnote_index_column": 5
        },
        {
         "Date": "2021-01-07T00:00:00.000000",
         "High": 0.004017999861389399,
         "Low": 0.0025939999613910913,
         "Open": 0.00368599989451468,
         "Close": 0.00393499992787838,
         "Volume": 0,
         "Adj Close": 0.00393499992787838,
         "_deepnote_index_column": 6
        },
        {
         "Date": "2021-01-08T00:00:00.000000",
         "High": 0.00419399980455637,
         "Low": 0.0026400000788271427,
         "Open": 0.0039369999431073666,
         "Close": 0.0028570001013576984,
         "Volume": 0,
         "Adj Close": 0.0028570001013576984,
         "_deepnote_index_column": 7
        },
        {
         "Date": "2021-01-09T00:00:00.000000",
         "High": 0.004143000114709139,
         "Low": 0.0027290000580251217,
         "Open": 0.002856000093743205,
         "Close": 0.0040259999223053455,
         "Volume": 0,
         "Adj Close": 0.0040259999223053455,
         "_deepnote_index_column": 8
        },
        {
         "Date": "2021-01-10T00:00:00.000000",
         "High": 0.004141999874264002,
         "Low": 0.002188999904319644,
         "Open": 0.004025000147521496,
         "Close": 0.002302000066265464,
         "Volume": 0,
         "Adj Close": 0.002302000066265464,
         "_deepnote_index_column": 9
        }
       ]
      },
      "text/plain": "          Date      High       Low      Open     Close  Volume  Adj Close\n0   2021-01-01  0.002954  0.002049  0.002901  0.002937       0   0.002937\n1   2021-01-02  0.003316  0.002378  0.002937  0.002567       0   0.002567\n2   2021-01-03  0.003461  0.002564  0.002571  0.003283       0   0.003283\n3   2021-01-04  0.003344  0.002638  0.003274  0.003197       0   0.003197\n4   2021-01-05  0.003444  0.002161  0.003197  0.003399       0   0.003399\n..         ...       ...       ...       ...       ...     ...        ...\n480 2022-04-26  0.003257  0.003031  0.003236  0.003049       0   0.003049\n481 2022-04-27  0.004728  0.003040  0.003050  0.004709       9   0.004709\n482 2022-04-28  0.004832  0.004673  0.004709  0.004773       0   0.004773\n483 2022-04-29  0.004786  0.004588  0.004772  0.004633       0   0.004633\n484 2022-04-30  0.004653  0.004147  0.004633  0.004149       4   0.004149\n\n[485 rows x 7 columns]",
      "text/html": "<div>\n<style scoped>\n    .dataframe tbody tr th:only-of-type {\n        vertical-align: middle;\n    }\n\n    .dataframe tbody tr th {\n        vertical-align: top;\n    }\n\n    .dataframe thead th {\n        text-align: right;\n    }\n</style>\n<table border=\"1\" class=\"dataframe\">\n  <thead>\n    <tr style=\"text-align: right;\">\n      <th></th>\n      <th>Date</th>\n      <th>High</th>\n      <th>Low</th>\n      <th>Open</th>\n      <th>Close</th>\n      <th>Volume</th>\n      <th>Adj Close</th>\n    </tr>\n  </thead>\n  <tbody>\n    <tr>\n      <th>0</th>\n      <td>2021-01-01</td>\n      <td>0.002954</td>\n      <td>0.002049</td>\n      <td>0.002901</td>\n      <td>0.002937</td>\n      <td>0</td>\n      <td>0.002937</td>\n    </tr>\n    <tr>\n      <th>1</th>\n      <td>2021-01-02</td>\n      <td>0.003316</td>\n      <td>0.002378</td>\n      <td>0.002937</td>\n      <td>0.002567</td>\n      <td>0</td>\n      <td>0.002567</td>\n    </tr>\n    <tr>\n      <th>2</th>\n      <td>2021-01-03</td>\n      <td>0.003461</td>\n      <td>0.002564</td>\n      <td>0.002571</td>\n      <td>0.003283</td>\n      <td>0</td>\n      <td>0.003283</td>\n    </tr>\n    <tr>\n      <th>3</th>\n      <td>2021-01-04</td>\n      <td>0.003344</td>\n      <td>0.002638</td>\n      <td>0.003274</td>\n      <td>0.003197</td>\n      <td>0</td>\n      <td>0.003197</td>\n    </tr>\n    <tr>\n      <th>4</th>\n      <td>2021-01-05</td>\n      <td>0.003444</td>\n      <td>0.002161</td>\n      <td>0.003197</td>\n      <td>0.003399</td>\n      <td>0</td>\n      <td>0.003399</td>\n    </tr>\n    <tr>\n      <th>...</th>\n      <td>...</td>\n      <td>...</td>\n      <td>...</td>\n      <td>...</td>\n      <td>...</td>\n      <td>...</td>\n      <td>...</td>\n    </tr>\n    <tr>\n      <th>480</th>\n      <td>2022-04-26</td>\n      <td>0.003257</td>\n      <td>0.003031</td>\n      <td>0.003236</td>\n      <td>0.003049</td>\n      <td>0</td>\n      <td>0.003049</td>\n    </tr>\n    <tr>\n      <th>481</th>\n      <td>2022-04-27</td>\n      <td>0.004728</td>\n      <td>0.003040</td>\n      <td>0.003050</td>\n      <td>0.004709</td>\n      <td>9</td>\n      <td>0.004709</td>\n    </tr>\n    <tr>\n      <th>482</th>\n      <td>2022-04-28</td>\n      <td>0.004832</td>\n      <td>0.004673</td>\n      <td>0.004709</td>\n      <td>0.004773</td>\n      <td>0</td>\n      <td>0.004773</td>\n    </tr>\n    <tr>\n      <th>483</th>\n      <td>2022-04-29</td>\n      <td>0.004786</td>\n      <td>0.004588</td>\n      <td>0.004772</td>\n      <td>0.004633</td>\n      <td>0</td>\n      <td>0.004633</td>\n    </tr>\n    <tr>\n      <th>484</th>\n      <td>2022-04-30</td>\n      <td>0.004653</td>\n      <td>0.004147</td>\n      <td>0.004633</td>\n      <td>0.004149</td>\n      <td>4</td>\n      <td>0.004149</td>\n    </tr>\n  </tbody>\n</table>\n<p>485 rows × 7 columns</p>\n</div>"
     },
     "metadata": {}
    }
   ],
   "execution_count": null
  },
  {
   "cell_type": "code",
   "metadata": {
    "cell_id": "79ce2d0442a848318ed433a319edc551",
    "tags": [],
    "deepnote_to_be_reexecuted": false,
    "source_hash": "ecbf0cb8",
    "execution_start": 1651824127902,
    "execution_millis": 1,
    "deepnote_cell_type": "code",
    "deepnote_cell_height": 116.9375
   },
   "source": "#getting the dates \n\ncrypto.set_index(\"Date\", inplace=True)",
   "outputs": [],
   "execution_count": null
  },
  {
   "cell_type": "code",
   "metadata": {
    "cell_id": "6f5dacc4cfee4732bcb0245e383af7a1",
    "tags": [],
    "deepnote_to_be_reexecuted": false,
    "source_hash": "da1bf3a0",
    "execution_start": 1651824127921,
    "execution_millis": 71,
    "deepnote_cell_type": "code",
    "deepnote_cell_height": 413.359375
   },
   "source": "crypto[['BTC','ETH','DOGE','BNB','ADA','XRP','DASH','LUNA']].head()",
   "outputs": [
    {
     "output_type": "execute_result",
     "execution_count": 16,
     "data": {
      "application/vnd.deepnote.dataframe.v3+json": {
       "column_count": 8,
       "row_count": 5,
       "columns": [
        {
         "name": "BTC",
         "dtype": "float64",
         "stats": {
          "unique_count": 5,
          "nan_count": 0,
          "min": "29374.15234375",
          "max": "33992.4296875",
          "histogram": [
           {
            "bin_start": 29374.15234375,
            "bin_end": 29835.980078125,
            "count": 1
           },
           {
            "bin_start": 29835.980078125,
            "bin_end": 30297.8078125,
            "count": 0
           },
           {
            "bin_start": 30297.8078125,
            "bin_end": 30759.635546875,
            "count": 0
           },
           {
            "bin_start": 30759.635546875,
            "bin_end": 31221.46328125,
            "count": 0
           },
           {
            "bin_start": 31221.46328125,
            "bin_end": 31683.291015625,
            "count": 0
           },
           {
            "bin_start": 31683.291015625,
            "bin_end": 32145.11875,
            "count": 2
           },
           {
            "bin_start": 32145.11875,
            "bin_end": 32606.946484375,
            "count": 0
           },
           {
            "bin_start": 32606.946484375,
            "bin_end": 33068.77421875,
            "count": 1
           },
           {
            "bin_start": 33068.77421875,
            "bin_end": 33530.601953125,
            "count": 0
           },
           {
            "bin_start": 33530.601953125,
            "bin_end": 33992.4296875,
            "count": 1
           }
          ]
         }
        },
        {
         "name": "ETH",
         "dtype": "float64",
         "stats": {
          "unique_count": 5,
          "nan_count": 0,
          "min": "730.3675537109375",
          "max": "1100.006103515625",
          "histogram": [
           {
            "bin_start": 730.3675537109375,
            "bin_end": 767.3314086914063,
            "count": 1
           },
           {
            "bin_start": 767.3314086914063,
            "bin_end": 804.295263671875,
            "count": 1
           },
           {
            "bin_start": 804.295263671875,
            "bin_end": 841.2591186523438,
            "count": 0
           },
           {
            "bin_start": 841.2591186523438,
            "bin_end": 878.2229736328125,
            "count": 0
           },
           {
            "bin_start": 878.2229736328125,
            "bin_end": 915.1868286132812,
            "count": 0
           },
           {
            "bin_start": 915.1868286132812,
            "bin_end": 952.15068359375,
            "count": 0
           },
           {
            "bin_start": 952.15068359375,
            "bin_end": 989.1145385742188,
            "count": 1
           },
           {
            "bin_start": 989.1145385742188,
            "bin_end": 1026.0783935546874,
            "count": 0
           },
           {
            "bin_start": 1026.0783935546874,
            "bin_end": 1063.0422485351562,
            "count": 1
           },
           {
            "bin_start": 1063.0422485351562,
            "bin_end": 1100.006103515625,
            "count": 1
           }
          ]
         }
        },
        {
         "name": "DOGE",
         "dtype": "float64",
         "stats": {
          "unique_count": 5,
          "nan_count": 0,
          "min": "0.005685000214725733",
          "max": "0.010614999569952488",
          "histogram": [
           {
            "bin_start": 0.005685000214725733,
            "bin_end": 0.006178000150248409,
            "count": 1
           },
           {
            "bin_start": 0.006178000150248409,
            "bin_end": 0.006671000085771084,
            "count": 0
           },
           {
            "bin_start": 0.006671000085771084,
            "bin_end": 0.0071640000212937595,
            "count": 0
           },
           {
            "bin_start": 0.0071640000212937595,
            "bin_end": 0.0076569999568164345,
            "count": 0
           },
           {
            "bin_start": 0.0076569999568164345,
            "bin_end": 0.00814999989233911,
            "count": 0
           },
           {
            "bin_start": 0.00814999989233911,
            "bin_end": 0.008642999827861786,
            "count": 0
           },
           {
            "bin_start": 0.008642999827861786,
            "bin_end": 0.009135999763384462,
            "count": 0
           },
           {
            "bin_start": 0.009135999763384462,
            "bin_end": 0.009628999698907136,
            "count": 0
           },
           {
            "bin_start": 0.009628999698907136,
            "bin_end": 0.010121999634429814,
            "count": 3
           },
           {
            "bin_start": 0.010121999634429814,
            "bin_end": 0.010614999569952488,
            "count": 1
           }
          ]
         }
        },
        {
         "name": "BNB",
         "dtype": "float64",
         "stats": {
          "unique_count": 5,
          "nan_count": 0,
          "min": "37.90501022338867",
          "max": "41.73460006713867",
          "histogram": [
           {
            "bin_start": 37.90501022338867,
            "bin_end": 38.28796920776367,
            "count": 2
           },
           {
            "bin_start": 38.28796920776367,
            "bin_end": 38.670928192138675,
            "count": 0
           },
           {
            "bin_start": 38.670928192138675,
            "bin_end": 39.05388717651367,
            "count": 0
           },
           {
            "bin_start": 39.05388717651367,
            "bin_end": 39.43684616088867,
            "count": 0
           },
           {
            "bin_start": 39.43684616088867,
            "bin_end": 39.81980514526367,
            "count": 0
           },
           {
            "bin_start": 39.81980514526367,
            "bin_end": 40.20276412963867,
            "count": 0
           },
           {
            "bin_start": 40.20276412963867,
            "bin_end": 40.585723114013675,
            "count": 0
           },
           {
            "bin_start": 40.585723114013675,
            "bin_end": 40.96868209838867,
            "count": 1
           },
           {
            "bin_start": 40.96868209838867,
            "bin_end": 41.35164108276367,
            "count": 1
           },
           {
            "bin_start": 41.35164108276367,
            "bin_end": 41.73460006713867,
            "count": 1
           }
          ]
         }
        },
        {
         "name": "ADA",
         "dtype": "float64",
         "stats": {
          "unique_count": 5,
          "nan_count": 0,
          "min": "0.17534999549388885",
          "max": "0.25831401348114014",
          "histogram": [
           {
            "bin_start": 0.17534999549388885,
            "bin_end": 0.18364639729261398,
            "count": 2
           },
           {
            "bin_start": 0.18364639729261398,
            "bin_end": 0.1919427990913391,
            "count": 0
           },
           {
            "bin_start": 0.1919427990913391,
            "bin_end": 0.20023920089006425,
            "count": 0
           },
           {
            "bin_start": 0.20023920089006425,
            "bin_end": 0.20853560268878937,
            "count": 1
           },
           {
            "bin_start": 0.20853560268878937,
            "bin_end": 0.2168320044875145,
            "count": 0
           },
           {
            "bin_start": 0.2168320044875145,
            "bin_end": 0.22512840628623962,
            "count": 1
           },
           {
            "bin_start": 0.22512840628623962,
            "bin_end": 0.23342480808496474,
            "count": 0
           },
           {
            "bin_start": 0.23342480808496474,
            "bin_end": 0.2417212098836899,
            "count": 0
           },
           {
            "bin_start": 0.2417212098836899,
            "bin_end": 0.250017611682415,
            "count": 0
           },
           {
            "bin_start": 0.250017611682415,
            "bin_end": 0.25831401348114014,
            "count": 1
           }
          ]
         }
        },
        {
         "name": "XRP",
         "dtype": "float64",
         "stats": {
          "unique_count": 5,
          "nan_count": 0,
          "min": "0.2216549962759018",
          "max": "0.23744399845600128",
          "histogram": [
           {
            "bin_start": 0.2216549962759018,
            "bin_end": 0.22323389649391173,
            "count": 1
           },
           {
            "bin_start": 0.22323389649391173,
            "bin_end": 0.2248127967119217,
            "count": 0
           },
           {
            "bin_start": 0.2248127967119217,
            "bin_end": 0.22639169692993164,
            "count": 1
           },
           {
            "bin_start": 0.22639169692993164,
            "bin_end": 0.2279705971479416,
            "count": 1
           },
           {
            "bin_start": 0.2279705971479416,
            "bin_end": 0.22954949736595154,
            "count": 0
           },
           {
            "bin_start": 0.22954949736595154,
            "bin_end": 0.23112839758396148,
            "count": 0
           },
           {
            "bin_start": 0.23112839758396148,
            "bin_end": 0.23270729780197144,
            "count": 0
           },
           {
            "bin_start": 0.23270729780197144,
            "bin_end": 0.23428619801998138,
            "count": 0
           },
           {
            "bin_start": 0.23428619801998138,
            "bin_end": 0.23586509823799134,
            "count": 0
           },
           {
            "bin_start": 0.23586509823799134,
            "bin_end": 0.23744399845600128,
            "count": 2
           }
          ]
         }
        },
        {
         "name": "DASH",
         "dtype": "float64",
         "stats": {
          "unique_count": 5,
          "nan_count": 0,
          "min": "86.96977233886719",
          "max": "89.10277557373047",
          "histogram": [
           {
            "bin_start": 86.96977233886719,
            "bin_end": 87.18307266235351,
            "count": 1
           },
           {
            "bin_start": 87.18307266235351,
            "bin_end": 87.39637298583985,
            "count": 0
           },
           {
            "bin_start": 87.39637298583985,
            "bin_end": 87.60967330932617,
            "count": 0
           },
           {
            "bin_start": 87.60967330932617,
            "bin_end": 87.8229736328125,
            "count": 0
           },
           {
            "bin_start": 87.8229736328125,
            "bin_end": 88.03627395629883,
            "count": 0
           },
           {
            "bin_start": 88.03627395629883,
            "bin_end": 88.24957427978515,
            "count": 1
           },
           {
            "bin_start": 88.24957427978515,
            "bin_end": 88.46287460327149,
            "count": 0
           },
           {
            "bin_start": 88.46287460327149,
            "bin_end": 88.67617492675781,
            "count": 0
           },
           {
            "bin_start": 88.67617492675781,
            "bin_end": 88.88947525024415,
            "count": 1
           },
           {
            "bin_start": 88.88947525024415,
            "bin_end": 89.10277557373047,
            "count": 2
           }
          ]
         }
        },
        {
         "name": "LUNA",
         "dtype": "float64",
         "stats": {
          "unique_count": 5,
          "nan_count": 0,
          "min": "0.002566999988630414",
          "max": "0.0033990000374615192",
          "histogram": [
           {
            "bin_start": 0.002566999988630414,
            "bin_end": 0.0026501999935135247,
            "count": 1
           },
           {
            "bin_start": 0.0026501999935135247,
            "bin_end": 0.002733399998396635,
            "count": 0
           },
           {
            "bin_start": 0.002733399998396635,
            "bin_end": 0.0028166000032797457,
            "count": 0
           },
           {
            "bin_start": 0.0028166000032797457,
            "bin_end": 0.002899800008162856,
            "count": 0
           },
           {
            "bin_start": 0.002899800008162856,
            "bin_end": 0.0029830000130459666,
            "count": 1
           },
           {
            "bin_start": 0.0029830000130459666,
            "bin_end": 0.0030662000179290773,
            "count": 0
           },
           {
            "bin_start": 0.0030662000179290773,
            "bin_end": 0.0031494000228121876,
            "count": 0
           },
           {
            "bin_start": 0.0031494000228121876,
            "bin_end": 0.0032326000276952983,
            "count": 1
           },
           {
            "bin_start": 0.0032326000276952983,
            "bin_end": 0.0033158000325784085,
            "count": 1
           },
           {
            "bin_start": 0.0033158000325784085,
            "bin_end": 0.0033990000374615192,
            "count": 1
           }
          ]
         }
        },
        {
         "name": "_deepnote_index_column",
         "dtype": "datetime64[ns]"
        }
       ],
       "rows": [
        {
         "BTC": 29374.15234375,
         "ETH": 730.3675537109375,
         "DOGE": 0.005685000214725733,
         "BNB": 37.90501022338867,
         "ADA": 0.17534999549388885,
         "XRP": 0.23744399845600128,
         "DASH": 88.24170684814453,
         "LUNA": 0.002937000012025237,
         "_deepnote_index_column": "2021-01-01T00:00:00.000000"
        },
        {
         "BTC": 32127.267578125,
         "ETH": 774.5349731445312,
         "DOGE": 0.010614999569952488,
         "BNB": 38.24159240722656,
         "ADA": 0.17742300033569336,
         "XRP": 0.2216549962759018,
         "DASH": 86.96977233886719,
         "LUNA": 0.002566999988630414,
         "_deepnote_index_column": "2021-01-02T00:00:00.000000"
        },
        {
         "BTC": 32782.0234375,
         "ETH": 975.5076904296875,
         "DOGE": 0.009770999662578106,
         "BNB": 41.14897918701172,
         "ADA": 0.20499500632286072,
         "XRP": 0.2258480042219162,
         "DASH": 89.06913757324219,
         "LUNA": 0.003283000085502863,
         "_deepnote_index_column": "2021-01-03T00:00:00.000000"
        },
        {
         "BTC": 31971.9140625,
         "ETH": 1040.2330322265625,
         "DOGE": 0.009766999632120132,
         "BNB": 40.926353454589844,
         "ADA": 0.2247619926929474,
         "XRP": 0.23667700588703156,
         "DASH": 88.79717254638672,
         "LUNA": 0.0031969998963177204,
         "_deepnote_index_column": "2021-01-04T00:00:00.000000"
        },
        {
         "BTC": 33992.4296875,
         "ETH": 1100.006103515625,
         "DOGE": 0.009920000098645687,
         "BNB": 41.73460006713867,
         "ADA": 0.25831401348114014,
         "XRP": 0.22675000131130219,
         "DASH": 89.10277557373047,
         "LUNA": 0.0033990000374615192,
         "_deepnote_index_column": "2021-01-05T00:00:00.000000"
        }
       ]
      },
      "text/plain": "                     BTC          ETH      DOGE        BNB       ADA  \\\nDate                                                                   \n2021-01-01  29374.152344   730.367554  0.005685  37.905010  0.175350   \n2021-01-02  32127.267578   774.534973  0.010615  38.241592  0.177423   \n2021-01-03  32782.023438   975.507690  0.009771  41.148979  0.204995   \n2021-01-04  31971.914062  1040.233032  0.009767  40.926353  0.224762   \n2021-01-05  33992.429688  1100.006104  0.009920  41.734600  0.258314   \n\n                 XRP       DASH      LUNA  \nDate                                       \n2021-01-01  0.237444  88.241707  0.002937  \n2021-01-02  0.221655  86.969772  0.002567  \n2021-01-03  0.225848  89.069138  0.003283  \n2021-01-04  0.236677  88.797173  0.003197  \n2021-01-05  0.226750  89.102776  0.003399  ",
      "text/html": "<div>\n<style scoped>\n    .dataframe tbody tr th:only-of-type {\n        vertical-align: middle;\n    }\n\n    .dataframe tbody tr th {\n        vertical-align: top;\n    }\n\n    .dataframe thead th {\n        text-align: right;\n    }\n</style>\n<table border=\"1\" class=\"dataframe\">\n  <thead>\n    <tr style=\"text-align: right;\">\n      <th></th>\n      <th>BTC</th>\n      <th>ETH</th>\n      <th>DOGE</th>\n      <th>BNB</th>\n      <th>ADA</th>\n      <th>XRP</th>\n      <th>DASH</th>\n      <th>LUNA</th>\n    </tr>\n    <tr>\n      <th>Date</th>\n      <th></th>\n      <th></th>\n      <th></th>\n      <th></th>\n      <th></th>\n      <th></th>\n      <th></th>\n      <th></th>\n    </tr>\n  </thead>\n  <tbody>\n    <tr>\n      <th>2021-01-01</th>\n      <td>29374.152344</td>\n      <td>730.367554</td>\n      <td>0.005685</td>\n      <td>37.905010</td>\n      <td>0.175350</td>\n      <td>0.237444</td>\n      <td>88.241707</td>\n      <td>0.002937</td>\n    </tr>\n    <tr>\n      <th>2021-01-02</th>\n      <td>32127.267578</td>\n      <td>774.534973</td>\n      <td>0.010615</td>\n      <td>38.241592</td>\n      <td>0.177423</td>\n      <td>0.221655</td>\n      <td>86.969772</td>\n      <td>0.002567</td>\n    </tr>\n    <tr>\n      <th>2021-01-03</th>\n      <td>32782.023438</td>\n      <td>975.507690</td>\n      <td>0.009771</td>\n      <td>41.148979</td>\n      <td>0.204995</td>\n      <td>0.225848</td>\n      <td>89.069138</td>\n      <td>0.003283</td>\n    </tr>\n    <tr>\n      <th>2021-01-04</th>\n      <td>31971.914062</td>\n      <td>1040.233032</td>\n      <td>0.009767</td>\n      <td>40.926353</td>\n      <td>0.224762</td>\n      <td>0.236677</td>\n      <td>88.797173</td>\n      <td>0.003197</td>\n    </tr>\n    <tr>\n      <th>2021-01-05</th>\n      <td>33992.429688</td>\n      <td>1100.006104</td>\n      <td>0.009920</td>\n      <td>41.734600</td>\n      <td>0.258314</td>\n      <td>0.226750</td>\n      <td>89.102776</td>\n      <td>0.003399</td>\n    </tr>\n  </tbody>\n</table>\n</div>"
     },
     "metadata": {}
    }
   ],
   "execution_count": null
  },
  {
   "cell_type": "code",
   "metadata": {
    "cell_id": "2afc802bd86945a48a7ad025b8be6392",
    "tags": [],
    "deepnote_to_be_reexecuted": false,
    "source_hash": "9415f35c",
    "execution_start": 1651824127986,
    "execution_millis": 13,
    "deepnote_cell_type": "code",
    "deepnote_cell_height": 536.328125
   },
   "source": "crypto[['BTC','ETH','DOGE','BNB','ADA','XRP','DASH','LUNA']].corr()",
   "outputs": [
    {
     "output_type": "execute_result",
     "execution_count": 17,
     "data": {
      "application/vnd.deepnote.dataframe.v3+json": {
       "column_count": 8,
       "row_count": 8,
       "columns": [
        {
         "name": "BTC",
         "dtype": "float64",
         "stats": {
          "unique_count": 8,
          "nan_count": 0,
          "min": "0.18354568978987304",
          "max": "1.0",
          "histogram": [
           {
            "bin_start": 0.18354568978987304,
            "bin_end": 0.26519112081088575,
            "count": 1
           },
           {
            "bin_start": 0.26519112081088575,
            "bin_end": 0.34683655183189843,
            "count": 0
           },
           {
            "bin_start": 0.34683655183189843,
            "bin_end": 0.42848198285291117,
            "count": 1
           },
           {
            "bin_start": 0.42848198285291117,
            "bin_end": 0.5101274138739238,
            "count": 2
           },
           {
            "bin_start": 0.5101274138739238,
            "bin_end": 0.5917728448949365,
            "count": 2
           },
           {
            "bin_start": 0.5917728448949365,
            "bin_end": 0.6734182759159493,
            "count": 1
           },
           {
            "bin_start": 0.6734182759159493,
            "bin_end": 0.7550637069369619,
            "count": 0
           },
           {
            "bin_start": 0.7550637069369619,
            "bin_end": 0.8367091379579746,
            "count": 0
           },
           {
            "bin_start": 0.8367091379579746,
            "bin_end": 0.9183545689789874,
            "count": 0
           },
           {
            "bin_start": 0.9183545689789874,
            "bin_end": 1,
            "count": 1
           }
          ]
         }
        },
        {
         "name": "ETH",
         "dtype": "float64",
         "stats": {
          "unique_count": 8,
          "nan_count": 0,
          "min": "0.1574744801507415",
          "max": "1.0",
          "histogram": [
           {
            "bin_start": 0.1574744801507415,
            "bin_end": 0.24172703213566735,
            "count": 1
           },
           {
            "bin_start": 0.24172703213566735,
            "bin_end": 0.3259795841205932,
            "count": 0
           },
           {
            "bin_start": 0.3259795841205932,
            "bin_end": 0.410232136105519,
            "count": 0
           },
           {
            "bin_start": 0.410232136105519,
            "bin_end": 0.4944846880904449,
            "count": 0
           },
           {
            "bin_start": 0.4944846880904449,
            "bin_end": 0.5787372400753708,
            "count": 3
           },
           {
            "bin_start": 0.5787372400753708,
            "bin_end": 0.6629897920602965,
            "count": 1
           },
           {
            "bin_start": 0.6629897920602965,
            "bin_end": 0.7472423440452224,
            "count": 1
           },
           {
            "bin_start": 0.7472423440452224,
            "bin_end": 0.8314948960301483,
            "count": 0
           },
           {
            "bin_start": 0.8314948960301483,
            "bin_end": 0.9157474480150741,
            "count": 1
           },
           {
            "bin_start": 0.9157474480150741,
            "bin_end": 1,
            "count": 1
           }
          ]
         }
        },
        {
         "name": "DOGE",
         "dtype": "float64",
         "stats": {
          "unique_count": 8,
          "nan_count": 0,
          "min": "0.18354568978987304",
          "max": "1.0",
          "histogram": [
           {
            "bin_start": 0.18354568978987304,
            "bin_end": 0.26519112081088575,
            "count": 1
           },
           {
            "bin_start": 0.26519112081088575,
            "bin_end": 0.34683655183189843,
            "count": 0
           },
           {
            "bin_start": 0.34683655183189843,
            "bin_end": 0.42848198285291117,
            "count": 0
           },
           {
            "bin_start": 0.42848198285291117,
            "bin_end": 0.5101274138739238,
            "count": 1
           },
           {
            "bin_start": 0.5101274138739238,
            "bin_end": 0.5917728448949365,
            "count": 2
           },
           {
            "bin_start": 0.5917728448949365,
            "bin_end": 0.6734182759159493,
            "count": 2
           },
           {
            "bin_start": 0.6734182759159493,
            "bin_end": 0.7550637069369619,
            "count": 0
           },
           {
            "bin_start": 0.7550637069369619,
            "bin_end": 0.8367091379579746,
            "count": 1
           },
           {
            "bin_start": 0.8367091379579746,
            "bin_end": 0.9183545689789874,
            "count": 0
           },
           {
            "bin_start": 0.9183545689789874,
            "bin_end": 1,
            "count": 1
           }
          ]
         }
        },
        {
         "name": "BNB",
         "dtype": "float64",
         "stats": {
          "unique_count": 8,
          "nan_count": 0,
          "min": "0.3833095175853629",
          "max": "1.0",
          "histogram": [
           {
            "bin_start": 0.3833095175853629,
            "bin_end": 0.4449785658268266,
            "count": 1
           },
           {
            "bin_start": 0.4449785658268266,
            "bin_end": 0.5066476140682903,
            "count": 0
           },
           {
            "bin_start": 0.5066476140682903,
            "bin_end": 0.568316662309754,
            "count": 1
           },
           {
            "bin_start": 0.568316662309754,
            "bin_end": 0.6299857105512178,
            "count": 3
           },
           {
            "bin_start": 0.6299857105512178,
            "bin_end": 0.6916547587926815,
            "count": 0
           },
           {
            "bin_start": 0.6916547587926815,
            "bin_end": 0.7533238070341451,
            "count": 0
           },
           {
            "bin_start": 0.7533238070341451,
            "bin_end": 0.8149928552756089,
            "count": 0
           },
           {
            "bin_start": 0.8149928552756089,
            "bin_end": 0.8766619035170726,
            "count": 2
           },
           {
            "bin_start": 0.8766619035170726,
            "bin_end": 0.9383309517585363,
            "count": 0
           },
           {
            "bin_start": 0.9383309517585363,
            "bin_end": 1,
            "count": 1
           }
          ]
         }
        },
        {
         "name": "ADA",
         "dtype": "float64",
         "stats": {
          "unique_count": 8,
          "nan_count": 0,
          "min": "0.45578748085886706",
          "max": "1.0",
          "histogram": [
           {
            "bin_start": 0.45578748085886706,
            "bin_end": 0.5102087327729803,
            "count": 2
           },
           {
            "bin_start": 0.5102087327729803,
            "bin_end": 0.5646299846870937,
            "count": 1
           },
           {
            "bin_start": 0.5646299846870937,
            "bin_end": 0.6190512366012069,
            "count": 1
           },
           {
            "bin_start": 0.6190512366012069,
            "bin_end": 0.6734724885153203,
            "count": 2
           },
           {
            "bin_start": 0.6734724885153203,
            "bin_end": 0.7278937404294334,
            "count": 1
           },
           {
            "bin_start": 0.7278937404294334,
            "bin_end": 0.7823149923435468,
            "count": 0
           },
           {
            "bin_start": 0.7823149923435468,
            "bin_end": 0.83673624425766,
            "count": 0
           },
           {
            "bin_start": 0.83673624425766,
            "bin_end": 0.8911574961717734,
            "count": 0
           },
           {
            "bin_start": 0.8911574961717734,
            "bin_end": 0.9455787480858866,
            "count": 0
           },
           {
            "bin_start": 0.9455787480858866,
            "bin_end": 1,
            "count": 1
           }
          ]
         }
        },
        {
         "name": "XRP",
         "dtype": "float64",
         "stats": {
          "unique_count": 8,
          "nan_count": 0,
          "min": "0.46807884791116156",
          "max": "1.0",
          "histogram": [
           {
            "bin_start": 0.46807884791116156,
            "bin_end": 0.5212709631200454,
            "count": 1
           },
           {
            "bin_start": 0.5212709631200454,
            "bin_end": 0.5744630783289293,
            "count": 1
           },
           {
            "bin_start": 0.5744630783289293,
            "bin_end": 0.6276551935378132,
            "count": 0
           },
           {
            "bin_start": 0.6276551935378132,
            "bin_end": 0.680847308746697,
            "count": 2
           },
           {
            "bin_start": 0.680847308746697,
            "bin_end": 0.7340394239555807,
            "count": 1
           },
           {
            "bin_start": 0.7340394239555807,
            "bin_end": 0.7872315391644646,
            "count": 1
           },
           {
            "bin_start": 0.7872315391644646,
            "bin_end": 0.8404236543733485,
            "count": 1
           },
           {
            "bin_start": 0.8404236543733485,
            "bin_end": 0.8936157695822324,
            "count": 0
           },
           {
            "bin_start": 0.8936157695822324,
            "bin_end": 0.9468078847911162,
            "count": 0
           },
           {
            "bin_start": 0.9468078847911162,
            "bin_end": 1,
            "count": 1
           }
          ]
         }
        },
        {
         "name": "DASH",
         "dtype": "float64",
         "stats": {
          "unique_count": 8,
          "nan_count": 0,
          "min": "0.1574744801507415",
          "max": "1.0",
          "histogram": [
           {
            "bin_start": 0.1574744801507415,
            "bin_end": 0.24172703213566735,
            "count": 1
           },
           {
            "bin_start": 0.24172703213566735,
            "bin_end": 0.3259795841205932,
            "count": 1
           },
           {
            "bin_start": 0.3259795841205932,
            "bin_end": 0.410232136105519,
            "count": 1
           },
           {
            "bin_start": 0.410232136105519,
            "bin_end": 0.4944846880904449,
            "count": 1
           },
           {
            "bin_start": 0.4944846880904449,
            "bin_end": 0.5787372400753708,
            "count": 1
           },
           {
            "bin_start": 0.5787372400753708,
            "bin_end": 0.6629897920602965,
            "count": 2
           },
           {
            "bin_start": 0.6629897920602965,
            "bin_end": 0.7472423440452224,
            "count": 0
           },
           {
            "bin_start": 0.7472423440452224,
            "bin_end": 0.8314948960301483,
            "count": 0
           },
           {
            "bin_start": 0.8314948960301483,
            "bin_end": 0.9157474480150741,
            "count": 0
           },
           {
            "bin_start": 0.9157474480150741,
            "bin_end": 1,
            "count": 1
           }
          ]
         }
        },
        {
         "name": "LUNA",
         "dtype": "float64",
         "stats": {
          "unique_count": 8,
          "nan_count": 0,
          "min": "0.29515699521958544",
          "max": "1.0",
          "histogram": [
           {
            "bin_start": 0.29515699521958544,
            "bin_end": 0.36564129569762693,
            "count": 1
           },
           {
            "bin_start": 0.36564129569762693,
            "bin_end": 0.4361255961756684,
            "count": 1
           },
           {
            "bin_start": 0.4361255961756684,
            "bin_end": 0.5066098966537098,
            "count": 2
           },
           {
            "bin_start": 0.5066098966537098,
            "bin_end": 0.5770941971317514,
            "count": 2
           },
           {
            "bin_start": 0.5770941971317514,
            "bin_end": 0.6475784976097927,
            "count": 1
           },
           {
            "bin_start": 0.6475784976097927,
            "bin_end": 0.7180627980878342,
            "count": 0
           },
           {
            "bin_start": 0.7180627980878342,
            "bin_end": 0.7885470985658758,
            "count": 0
           },
           {
            "bin_start": 0.7885470985658758,
            "bin_end": 0.8590313990439171,
            "count": 0
           },
           {
            "bin_start": 0.8590313990439171,
            "bin_end": 0.9295156995219587,
            "count": 0
           },
           {
            "bin_start": 0.9295156995219587,
            "bin_end": 1,
            "count": 1
           }
          ]
         }
        },
        {
         "name": "_deepnote_index_column",
         "dtype": "object"
        }
       ],
       "rows": [
        {
         "BTC": 1,
         "ETH": 0.5085968764691543,
         "DOGE": 0.18354568978987304,
         "BNB": 0.5668743004228002,
         "ADA": 0.45578748085886706,
         "XRP": 0.5527660568370073,
         "DASH": 0.6555793170607689,
         "LUNA": 0.36977581938019605,
         "_deepnote_index_column": "BTC"
        },
        {
         "BTC": 0.5085968764691543,
         "ETH": 1,
         "DOGE": 0.5376417282381667,
         "BNB": 0.8733924233860155,
         "ADA": 0.6411200421609361,
         "XRP": 0.6751545290276688,
         "DASH": 0.1574744801507415,
         "LUNA": 0.5366714306029541,
         "_deepnote_index_column": "ETH"
        },
        {
         "BTC": 0.18354568978987304,
         "ETH": 0.5376417282381667,
         "DOGE": 1,
         "BNB": 0.6291263180714659,
         "ADA": 0.6555783212781295,
         "XRP": 0.7830595174989344,
         "DASH": 0.5265590159765696,
         "LUNA": 0.4740486215121446,
         "_deepnote_index_column": "DOGE"
        },
        {
         "BTC": 0.5668743004228002,
         "ETH": 0.8733924233860155,
         "DOGE": 0.6291263180714659,
         "BNB": 1,
         "ADA": 0.5930216608378546,
         "XRP": 0.816855044760746,
         "DASH": 0.3833095175853629,
         "LUNA": 0.5819769692650217,
         "_deepnote_index_column": "BNB"
        },
        {
         "BTC": 0.45578748085886706,
         "ETH": 0.6411200421609361,
         "DOGE": 0.6555783212781295,
         "BNB": 0.5930216608378546,
         "ADA": 1,
         "XRP": 0.7146988374316956,
         "DASH": 0.4686571300252445,
         "LUNA": 0.52957495746752,
         "_deepnote_index_column": "ADA"
        },
        {
         "BTC": 0.5527660568370073,
         "ETH": 0.6751545290276688,
         "DOGE": 0.7830595174989344,
         "BNB": 0.816855044760746,
         "ADA": 0.7146988374316956,
         "XRP": 1,
         "DASH": 0.6384508751561409,
         "LUNA": 0.46807884791116156,
         "_deepnote_index_column": "XRP"
        },
        {
         "BTC": 0.6555793170607689,
         "ETH": 0.1574744801507415,
         "DOGE": 0.5265590159765696,
         "BNB": 0.3833095175853629,
         "ADA": 0.4686571300252445,
         "XRP": 0.6384508751561409,
         "DASH": 1,
         "LUNA": 0.29515699521958544,
         "_deepnote_index_column": "DASH"
        },
        {
         "BTC": 0.36977581938019605,
         "ETH": 0.5366714306029541,
         "DOGE": 0.4740486215121446,
         "BNB": 0.5819769692650217,
         "ADA": 0.52957495746752,
         "XRP": 0.46807884791116156,
         "DASH": 0.29515699521958544,
         "LUNA": 1,
         "_deepnote_index_column": "LUNA"
        }
       ]
      },
      "text/plain": "           BTC       ETH      DOGE       BNB       ADA       XRP      DASH  \\\nBTC   1.000000  0.508597  0.183546  0.566874  0.455787  0.552766  0.655579   \nETH   0.508597  1.000000  0.537642  0.873392  0.641120  0.675155  0.157474   \nDOGE  0.183546  0.537642  1.000000  0.629126  0.655578  0.783060  0.526559   \nBNB   0.566874  0.873392  0.629126  1.000000  0.593022  0.816855  0.383310   \nADA   0.455787  0.641120  0.655578  0.593022  1.000000  0.714699  0.468657   \nXRP   0.552766  0.675155  0.783060  0.816855  0.714699  1.000000  0.638451   \nDASH  0.655579  0.157474  0.526559  0.383310  0.468657  0.638451  1.000000   \nLUNA  0.369776  0.536671  0.474049  0.581977  0.529575  0.468079  0.295157   \n\n          LUNA  \nBTC   0.369776  \nETH   0.536671  \nDOGE  0.474049  \nBNB   0.581977  \nADA   0.529575  \nXRP   0.468079  \nDASH  0.295157  \nLUNA  1.000000  ",
      "text/html": "<div>\n<style scoped>\n    .dataframe tbody tr th:only-of-type {\n        vertical-align: middle;\n    }\n\n    .dataframe tbody tr th {\n        vertical-align: top;\n    }\n\n    .dataframe thead th {\n        text-align: right;\n    }\n</style>\n<table border=\"1\" class=\"dataframe\">\n  <thead>\n    <tr style=\"text-align: right;\">\n      <th></th>\n      <th>BTC</th>\n      <th>ETH</th>\n      <th>DOGE</th>\n      <th>BNB</th>\n      <th>ADA</th>\n      <th>XRP</th>\n      <th>DASH</th>\n      <th>LUNA</th>\n    </tr>\n  </thead>\n  <tbody>\n    <tr>\n      <th>BTC</th>\n      <td>1.000000</td>\n      <td>0.508597</td>\n      <td>0.183546</td>\n      <td>0.566874</td>\n      <td>0.455787</td>\n      <td>0.552766</td>\n      <td>0.655579</td>\n      <td>0.369776</td>\n    </tr>\n    <tr>\n      <th>ETH</th>\n      <td>0.508597</td>\n      <td>1.000000</td>\n      <td>0.537642</td>\n      <td>0.873392</td>\n      <td>0.641120</td>\n      <td>0.675155</td>\n      <td>0.157474</td>\n      <td>0.536671</td>\n    </tr>\n    <tr>\n      <th>DOGE</th>\n      <td>0.183546</td>\n      <td>0.537642</td>\n      <td>1.000000</td>\n      <td>0.629126</td>\n      <td>0.655578</td>\n      <td>0.783060</td>\n      <td>0.526559</td>\n      <td>0.474049</td>\n    </tr>\n    <tr>\n      <th>BNB</th>\n      <td>0.566874</td>\n      <td>0.873392</td>\n      <td>0.629126</td>\n      <td>1.000000</td>\n      <td>0.593022</td>\n      <td>0.816855</td>\n      <td>0.383310</td>\n      <td>0.581977</td>\n    </tr>\n    <tr>\n      <th>ADA</th>\n      <td>0.455787</td>\n      <td>0.641120</td>\n      <td>0.655578</td>\n      <td>0.593022</td>\n      <td>1.000000</td>\n      <td>0.714699</td>\n      <td>0.468657</td>\n      <td>0.529575</td>\n    </tr>\n    <tr>\n      <th>XRP</th>\n      <td>0.552766</td>\n      <td>0.675155</td>\n      <td>0.783060</td>\n      <td>0.816855</td>\n      <td>0.714699</td>\n      <td>1.000000</td>\n      <td>0.638451</td>\n      <td>0.468079</td>\n    </tr>\n    <tr>\n      <th>DASH</th>\n      <td>0.655579</td>\n      <td>0.157474</td>\n      <td>0.526559</td>\n      <td>0.383310</td>\n      <td>0.468657</td>\n      <td>0.638451</td>\n      <td>1.000000</td>\n      <td>0.295157</td>\n    </tr>\n    <tr>\n      <th>LUNA</th>\n      <td>0.369776</td>\n      <td>0.536671</td>\n      <td>0.474049</td>\n      <td>0.581977</td>\n      <td>0.529575</td>\n      <td>0.468079</td>\n      <td>0.295157</td>\n      <td>1.000000</td>\n    </tr>\n  </tbody>\n</table>\n</div>"
     },
     "metadata": {}
    }
   ],
   "execution_count": null
  },
  {
   "cell_type": "code",
   "metadata": {
    "cell_id": "65fb087f54e64d619ad97ad3a1eb291b",
    "tags": [],
    "deepnote_to_be_reexecuted": false,
    "source_hash": "bdb02bac",
    "execution_start": 1651824128000,
    "execution_millis": 802,
    "deepnote_cell_type": "code",
    "deepnote_cell_height": 784.0625,
    "deepnote_output_heights": [
     21.171875,
     580.984375
    ]
   },
   "source": "#heatmap\n\nplt.figure(figsize = (10,10))\nsns.heatmap(crypto[['BTC','ETH','DOGE','BNB','ADA','XRP','DASH','LUNA']].corr(),annot=True, cmap='Blues')",
   "outputs": [
    {
     "output_type": "execute_result",
     "execution_count": 18,
     "data": {
      "text/plain": "<AxesSubplot:>"
     },
     "metadata": {}
    },
    {
     "data": {
      "text/plain": "<Figure size 720x720 with 2 Axes>",
      "image/png": "[encoded data removed]"
     },
     "metadata": {
      "needs_background": "light",
      "image/png": {
       "width": 555,
       "height": 579
      }
     },
     "output_type": "display_data"
    }
   ],
   "execution_count": null
  },
  {
   "cell_type": "code",
   "metadata": {
    "cell_id": "0a68c0fa254a4edcba920a5b54408a43",
    "tags": [],
    "deepnote_to_be_reexecuted": false,
    "source_hash": "4cec97db",
    "execution_start": 1651824128842,
    "execution_millis": 598,
    "deepnote_cell_type": "code",
    "deepnote_cell_height": 641.90625,
    "deepnote_output_heights": [
     526.984375
    ]
   },
   "source": "fig = px.line(crypto, y=[\"BTC\",'ETH','DOGE','BNB','ADA','XRP','DASH'] )\nfig.show()",
   "outputs": [
    {
     "data": {
      "text/html": "<html>\n<head><meta charset=\"utf-8\" /></head>\n<body>\n    <div>            <script src=\"https://cdnjs.cloudflare.com/ajax/libs/mathjax/2.7.5/MathJax.js?config=TeX-AMS-MML_SVG\"></script><script type=\"text/javascript\">if (window.MathJax) {MathJax.Hub.Config({SVG: {font: \"STIX-Web\"}});}</script>                <script type=\"text/javascript\">window.PlotlyConfig = {MathJaxConfig: 'local'};</script>\n        <script src=\"https://cdn.plot.ly/plotly-2.11.1.min.js\"></script>                <div id=\"94bbebad-22da-45c6-b136-6ee7dc746993\" class=\"plotly-graph-div\" style=\"height:525px; width:100%;\"></div>            <script type=\"text/javascript\">                                    window.PLOTLYENV=window.PLOTLYENV || {};                                    if (document.getElementById(\"94bbebad-22da-45c6-b136-6ee7dc746993\")) {                    Plotly.newPlot(                        \"94bbebad-22da-45c6-b136-6ee7dc746993\",                        [{\"hovertemplate\":\"variable=BTC<br>Date=%{x}<br>value=%{y}<extra></extra>\",\"legendgroup\":\"BTC\",\"line\":{\"color\":\"#636efa\",\"dash\":\"solid\"},\"marker\":{\"symbol\":\"circle\"},\"mode\":\"lines\",\"name\":\"BTC\",\"showlegend\":true,\"x\":[\"2021-01-01T00:00:00\",\"2021-01-02T00:00:00\",\"2021-01-03T00:00:00\",\"2021-01-04T00:00:00\",\"2021-01-05T00:00:00\",\"2021-01-06T00:00:00\",\"2021-01-07T00:00:00\",\"2021-01-08T00:00:00\",\"2021-01-09T00:00:00\",\"2021-01-10T00:00:00\",\"2021-01-11T00:00:00\",\"2021-01-12T00:00:00\",\"2021-01-13T00:00:00\",\"2021-01-14T00:00:00\",\"2021-01-15T00:00:00\",\"2021-01-16T00:00:00\",\"2021-01-17T00:00:00\",\"2021-01-18T00:00:00\",\"2021-01-19T00:00:00\",\"2021-01-20T00:00:00\",\"2021-01-21T00:00:00\",\"2021-01-22T00:00:00\",\"2021-01-23T00:00:00\",\"2021-01-24T00:00:00\",\"2021-01-25T00:00:00\",\"2021-01-26T00:00:00\",\"2021-01-27T00:00:00\",\"2021-01-28T00:00:00\",\"2021-01-29T00:00:00\",\"2021-01-30T00:00:00\",\"2021-01-31T00:00:00\",\"2021-02-01T00:00:00\",\"2021-02-02T00:00:00\",\"2021-02-03T00:00:00\",\"2021-02-04T00:00:00\",\"2021-02-05T00:00:00\",\"2021-02-06T00:00:00\",\"2021-02-07T00:00:00\",\"2021-02-08T00:00:00\",\"2021-02-09T00:00:00\",\"2021-02-10T00:00:00\",\"2021-02-11T00:00:00\",\"2021-02-12T00:00:00\",\"2021-02-13T00:00:00\",\"2021-02-14T00:00:00\",\"2021-02-15T00:00:00\",\"2021-02-16T00:00:00\",\"2021-02-17T00:00:00\",\"2021-02-18T00:00:00\",\"2021-02-19T00:00:00\",\"2021-02-20T00:00:00\",\"2021-02-21T00:00:00\",\"2021-02-22T00:00:00\",\"2021-02-23T00:00:00\",\"2021-02-24T00:00:00\",\"2021-02-25T00:00:00\",\"2021-02-26T00:00:00\",\"2021-02-27T00:00:00\",\"2021-02-28T00:00:00\",\"2021-03-01T00:00:00\",\"2021-03-02T00:00:00\",\"2021-03-03T00:00:00\",\"2021-03-04T00:00:00\",\"2021-03-05T00:00:00\",\"2021-03-06T00:00:00\",\"2021-03-07T00:00:00\",\"2021-03-08T00:00:00\",\"2021-03-09T00:00:00\",\"2021-03-10T00:00:00\",\"2021-03-11T00:00:00\",\"2021-03-12T00:00:00\",\"2021-03-13T00:00:00\",\"2021-03-14T00:00:00\",\"2021-03-15T00:00:00\",\"2021-03-16T00:00:00\",\"2021-03-17T00:00:00\",\"2021-03-18T00:00:00\",\"2021-03-19T00:00:00\",\"2021-03-20T00:00:00\",\"2021-03-21T00:00:00\",\"2021-03-22T00:00:00\",\"2021-03-23T00:00:00\",\"2021-03-24T00:00:00\",\"2021-03-25T00:00:00\",\"2021-03-26T00:00:00\",\"2021-03-27T00:00:00\",\"2021-03-28T00:00:00\",\"2021-03-29T00:00:00\",\"2021-03-30T00:00:00\",\"2021-03-31T00:00:00\",\"2021-04-01T00:00:00\",\"2021-04-02T00:00:00\",\"2021-04-03T00:00:00\",\"2021-04-04T00:00:00\",\"2021-04-05T00:00:00\",\"2021-04-06T00:00:00\",\"2021-04-07T00:00:00\",\"2021-04-08T00:00:00\",\"2021-04-09T00:00:00\",\"2021-04-10T00:00:00\",\"2021-04-11T00:00:00\",\"2021-04-12T00:00:00\",\"2021-04-13T00:00:00\",\"2021-04-14T00:00:00\",\"2021-04-15T00:00:00\",\"2021-04-16T00:00:00\",\"2021-04-17T00:00:00\",\"2021-04-18T00:00:00\",\"2021-04-19T00:00:00\",\"2021-04-20T00:00:00\",\"2021-04-21T00:00:00\",\"2021-04-22T00:00:00\",\"2021-04-23T00:00:00\",\"2021-04-24T00:00:00\",\"2021-04-25T00:00:00\",\"2021-04-26T00:00:00\",\"2021-04-27T00:00:00\",\"2021-04-28T00:00:00\",\"2021-04-29T00:00:00\",\"2021-04-30T00:00:00\",\"2021-05-01T00:00:00\",\"2021-05-02T00:00:00\",\"2021-05-03T00:00:00\",\"2021-05-04T00:00:00\",\"2021-05-05T00:00:00\",\"2021-05-06T00:00:00\",\"2021-05-07T00:00:00\",\"2021-05-08T00:00:00\",\"2021-05-09T00:00:00\",\"2021-05-10T00:00:00\",\"2021-05-11T00:00:00\",\"2021-05-12T00:00:00\",\"2021-05-13T00:00:00\",\"2021-05-14T00:00:00\",\"2021-05-15T00:00:00\",\"2021-05-16T00:00:00\",\"2021-05-17T00:00:00\",\"2021-05-18T00:00:00\",\"2021-05-19T00:00:00\",\"2021-05-20T00:00:00\",\"2021-05-21T00:00:00\",\"2021-05-22T00:00:00\",\"2021-05-23T00:00:00\",\"2021-05-24T00:00:00\",\"2021-05-25T00:00:00\",\"2021-05-26T00:00:00\",\"2021-05-27T00:00:00\",\"2021-05-28T00:00:00\",\"2021-05-29T00:00:00\",\"2021-05-30T00:00:00\",\"2021-05-31T00:00:00\",\"2021-06-01T00:00:00\",\"2021-06-02T00:00:00\",\"2021-06-03T00:00:00\",\"2021-06-04T00:00:00\",\"2021-06-05T00:00:00\",\"2021-06-06T00:00:00\",\"2021-06-07T00:00:00\",\"2021-06-08T00:00:00\",\"2021-06-09T00:00:00\",\"2021-06-10T00:00:00\",\"2021-06-11T00:00:00\",\"2021-06-12T00:00:00\",\"2021-06-13T00:00:00\",\"2021-06-14T00:00:00\",\"2021-06-15T00:00:00\",\"2021-06-16T00:00:00\",\"2021-06-17T00:00:00\",\"2021-06-18T00:00:00\",\"2021-06-19T00:00:00\",\"2021-06-20T00:00:00\",\"2021-06-21T00:00:00\",\"2021-06-22T00:00:00\",\"2021-06-23T00:00:00\",\"2021-06-24T00:00:00\",\"2021-06-25T00:00:00\",\"2021-06-26T00:00:00\",\"2021-06-27T00:00:00\",\"2021-06-28T00:00:00\",\"2021-06-29T00:00:00\",\"2021-06-30T00:00:00\",\"2021-07-01T00:00:00\",\"2021-07-02T00:00:00\",\"2021-07-03T00:00:00\",\"2021-07-04T00:00:00\",\"2021-07-05T00:00:00\",\"2021-07-06T00:00:00\",\"2021-07-07T00:00:00\",\"2021-07-08T00:00:00\",\"2021-07-09T00:00:00\",\"2021-07-10T00:00:00\",\"2021-07-11T00:00:00\",\"2021-07-12T00:00:00\",\"2021-07-13T00:00:00\",\"2021-07-14T00:00:00\",\"2021-07-15T00:00:00\",\"2021-07-16T00:00:00\",\"2021-07-17T00:00:00\",\"2021-07-18T00:00:00\",\"2021-07-19T00:00:00\",\"2021-07-20T00:00:00\",\"2021-07-21T00:00:00\",\"2021-07-22T00:00:00\",\"2021-07-23T00:00:00\",\"2021-07-24T00:00:00\",\"2021-07-25T00:00:00\",\"2021-07-26T00:00:00\",\"2021-07-27T00:00:00\",\"2021-07-28T00:00:00\",\"2021-07-29T00:00:00\",\"2021-07-30T00:00:00\",\"2021-07-31T00:00:00\",\"2021-08-01T00:00:00\",\"2021-08-02T00:00:00\",\"2021-08-03T00:00:00\",\"2021-08-04T00:00:00\",\"2021-08-05T00:00:00\",\"2021-08-06T00:00:00\",\"2021-08-07T00:00:00\",\"2021-08-08T00:00:00\",\"2021-08-09T00:00:00\",\"2021-08-10T00:00:00\",\"2021-08-11T00:00:00\",\"2021-08-12T00:00:00\",\"2021-08-13T00:00:00\",\"2021-08-14T00:00:00\",\"2021-08-15T00:00:00\",\"2021-08-16T00:00:00\",\"2021-08-17T00:00:00\",\"2021-08-18T00:00:00\",\"2021-08-19T00:00:00\",\"2021-08-20T00:00:00\",\"2021-08-21T00:00:00\",\"2021-08-22T00:00:00\",\"2021-08-23T00:00:00\",\"2021-08-24T00:00:00\",\"2021-08-25T00:00:00\",\"2021-08-26T00:00:00\",\"2021-08-27T00:00:00\",\"2021-08-28T00:00:00\",\"2021-08-29T00:00:00\",\"2021-08-30T00:00:00\",\"2021-08-31T00:00:00\",\"2021-09-01T00:00:00\",\"2021-09-02T00:00:00\",\"2021-09-03T00:00:00\",\"2021-09-04T00:00:00\",\"2021-09-05T00:00:00\",\"2021-09-06T00:00:00\",\"2021-09-07T00:00:00\",\"2021-09-08T00:00:00\",\"2021-09-09T00:00:00\",\"2021-09-10T00:00:00\",\"2021-09-11T00:00:00\",\"2021-09-12T00:00:00\",\"2021-09-13T00:00:00\",\"2021-09-14T00:00:00\",\"2021-09-15T00:00:00\",\"2021-09-16T00:00:00\",\"2021-09-17T00:00:00\",\"2021-09-18T00:00:00\",\"2021-09-19T00:00:00\",\"2021-09-20T00:00:00\",\"2021-09-21T00:00:00\",\"2021-09-22T00:00:00\",\"2021-09-23T00:00:00\",\"2021-09-24T00:00:00\",\"2021-09-25T00:00:00\",\"2021-09-26T00:00:00\",\"2021-09-27T00:00:00\",\"2021-09-28T00:00:00\",\"2021-09-29T00:00:00\",\"2021-09-30T00:00:00\",\"2021-10-01T00:00:00\",\"2021-10-02T00:00:00\",\"2021-10-03T00:00:00\",\"2021-10-04T00:00:00\",\"2021-10-05T00:00:00\",\"2021-10-06T00:00:00\",\"2021-10-07T00:00:00\",\"2021-10-08T00:00:00\",\"2021-10-09T00:00:00\",\"2021-10-10T00:00:00\",\"2021-10-11T00:00:00\",\"2021-10-12T00:00:00\",\"2021-10-13T00:00:00\",\"2021-10-14T00:00:00\",\"2021-10-15T00:00:00\",\"2021-10-16T00:00:00\",\"2021-10-17T00:00:00\",\"2021-10-18T00:00:00\",\"2021-10-19T00:00:00\",\"2021-10-20T00:00:00\",\"2021-10-21T00:00:00\",\"2021-10-22T00:00:00\",\"2021-10-23T00:00:00\",\"2021-10-24T00:00:00\",\"2021-10-25T00:00:00\",\"2021-10-26T00:00:00\",\"2021-10-27T00:00:00\",\"2021-10-28T00:00:00\",\"2021-10-29T00:00:00\",\"2021-10-30T00:00:00\",\"2021-10-31T00:00:00\",\"2021-11-01T00:00:00\",\"2021-11-02T00:00:00\",\"2021-11-03T00:00:00\",\"2021-11-04T00:00:00\",\"2021-11-05T00:00:00\",\"2021-11-06T00:00:00\",\"2021-11-07T00:00:00\",\"2021-11-08T00:00:00\",\"2021-11-09T00:00:00\",\"2021-11-10T00:00:00\",\"2021-11-11T00:00:00\",\"2021-11-12T00:00:00\",\"2021-11-13T00:00:00\",\"2021-11-14T00:00:00\",\"2021-11-15T00:00:00\",\"2021-11-16T00:00:00\",\"2021-11-17T00:00:00\",\"2021-11-18T00:00:00\",\"2021-11-19T00:00:00\",\"2021-11-20T00:00:00\",\"2021-11-21T00:00:00\",\"2021-11-22T00:00:00\",\"2021-11-23T00:00:00\",\"2021-11-24T00:00:00\",\"2021-11-25T00:00:00\",\"2021-11-26T00:00:00\",\"2021-11-27T00:00:00\",\"2021-11-28T00:00:00\",\"2021-11-29T00:00:00\",\"2021-11-30T00:00:00\",\"2021-12-01T00:00:00\",\"2021-12-02T00:00:00\",\"2021-12-03T00:00:00\",\"2021-12-04T00:00:00\",\"2021-12-05T00:00:00\",\"2021-12-06T00:00:00\",\"2021-12-07T00:00:00\",\"2021-12-08T00:00:00\",\"2021-12-09T00:00:00\",\"2021-12-10T00:00:00\",\"2021-12-11T00:00:00\",\"2021-12-12T00:00:00\",\"2021-12-13T00:00:00\",\"2021-12-14T00:00:00\",\"2021-12-15T00:00:00\",\"2021-12-16T00:00:00\",\"2021-12-17T00:00:00\",\"2021-12-18T00:00:00\",\"2021-12-19T00:00:00\",\"2021-12-20T00:00:00\",\"2021-12-21T00:00:00\",\"2021-12-22T00:00:00\",\"2021-12-23T00:00:00\",\"2021-12-24T00:00:00\",\"2021-12-25T00:00:00\",\"2021-12-26T00:00:00\",\"2021-12-27T00:00:00\",\"2021-12-28T00:00:00\",\"2021-12-29T00:00:00\",\"2021-12-30T00:00:00\",\"2021-12-31T00:00:00\",\"2022-01-01T00:00:00\",\"2022-01-02T00:00:00\",\"2022-01-03T00:00:00\",\"2022-01-04T00:00:00\",\"2022-01-05T00:00:00\",\"2022-01-06T00:00:00\",\"2022-01-07T00:00:00\",\"2022-01-08T00:00:00\",\"2022-01-09T00:00:00\",\"2022-01-10T00:00:00\",\"2022-01-11T00:00:00\",\"2022-01-12T00:00:00\",\"2022-01-13T00:00:00\",\"2022-01-14T00:00:00\",\"2022-01-15T00:00:00\",\"2022-01-16T00:00:00\",\"2022-01-17T00:00:00\",\"2022-01-18T00:00:00\",\"2022-01-19T00:00:00\",\"2022-01-20T00:00:00\",\"2022-01-21T00:00:00\",\"2022-01-22T00:00:00\",\"2022-01-23T00:00:00\",\"2022-01-24T00:00:00\",\"2022-01-25T00:00:00\",\"2022-01-26T00:00:00\",\"2022-01-27T00:00:00\",\"2022-01-28T00:00:00\",\"2022-01-29T00:00:00\",\"2022-01-30T00:00:00\",\"2022-01-31T00:00:00\",\"2022-02-01T00:00:00\",\"2022-02-02T00:00:00\",\"2022-02-03T00:00:00\",\"2022-02-04T00:00:00\",\"2022-02-05T00:00:00\",\"2022-02-06T00:00:00\",\"2022-02-07T00:00:00\",\"2022-02-08T00:00:00\",\"2022-02-09T00:00:00\",\"2022-02-10T00:00:00\",\"2022-02-11T00:00:00\",\"2022-02-12T00:00:00\",\"2022-02-13T00:00:00\",\"2022-02-14T00:00:00\",\"2022-02-15T00:00:00\",\"2022-02-16T00:00:00\",\"2022-02-17T00:00:00\",\"2022-02-18T00:00:00\",\"2022-02-19T00:00:00\",\"2022-02-20T00:00:00\",\"2022-02-21T00:00:00\",\"2022-02-22T00:00:00\",\"2022-02-23T00:00:00\",\"2022-02-24T00:00:00\",\"2022-02-25T00:00:00\",\"2022-02-26T00:00:00\",\"2022-02-27T00:00:00\",\"2022-02-28T00:00:00\",\"2022-03-01T00:00:00\",\"2022-03-02T00:00:00\",\"2022-03-03T00:00:00\",\"2022-03-04T00:00:00\",\"2022-03-05T00:00:00\",\"2022-03-06T00:00:00\",\"2022-03-07T00:00:00\",\"2022-03-08T00:00:00\",\"2022-03-09T00:00:00\",\"2022-03-10T00:00:00\",\"2022-03-11T00:00:00\",\"2022-03-12T00:00:00\",\"2022-03-13T00:00:00\",\"2022-03-14T00:00:00\",\"2022-03-15T00:00:00\",\"2022-03-16T00:00:00\",\"2022-03-17T00:00:00\",\"2022-03-18T00:00:00\",\"2022-03-19T00:00:00\",\"2022-03-20T00:00:00\",\"2022-03-21T00:00:00\",\"2022-03-22T00:00:00\",\"2022-03-23T00:00:00\",\"2022-03-24T00:00:00\",\"2022-03-25T00:00:00\",\"2022-03-26T00:00:00\",\"2022-03-27T00:00:00\",\"2022-03-28T00:00:00\",\"2022-03-29T00:00:00\",\"2022-03-30T00:00:00\",\"2022-03-31T00:00:00\",\"2022-04-01T00:00:00\",\"2022-04-02T00:00:00\",\"2022-04-03T00:00:00\",\"2022-04-04T00:00:00\",\"2022-04-05T00:00:00\",\"2022-04-06T00:00:00\",\"2022-04-07T00:00:00\",\"2022-04-08T00:00:00\",\"2022-04-09T00:00:00\",\"2022-04-10T00:00:00\",\"2022-04-11T00:00:00\",\"2022-04-12T00:00:00\",\"2022-04-13T00:00:00\",\"2022-04-14T00:00:00\",\"2022-04-15T00:00:00\",\"2022-04-16T00:00:00\",\"2022-04-17T00:00:00\",\"2022-04-18T00:00:00\",\"2022-04-19T00:00:00\",\"2022-04-20T00:00:00\",\"2022-04-21T00:00:00\",\"2022-04-22T00:00:00\",\"2022-04-23T00:00:00\",\"2022-04-24T00:00:00\",\"2022-04-25T00:00:00\",\"2022-04-26T00:00:00\",\"2022-04-27T00:00:00\",\"2022-04-28T00:00:00\",\"2022-04-29T00:00:00\",\"2022-04-30T00:00:00\"],\"xaxis\":\"x\",\"y\":[29374.15234375,32127.267578125,32782.0234375,31971.9140625,33992.4296875,36824.36328125,39371.04296875,40797.609375,40254.546875,38356.44140625,35566.65625,33922.9609375,37316.359375,39187.328125,36825.3671875,36178.140625,35791.27734375,36630.07421875,36069.8046875,35547.75,30825.69921875,33005.76171875,32067.642578125,32289.37890625,32366.392578125,32569.849609375,30432.546875,33466.09765625,34316.38671875,34269.5234375,33114.359375,33537.17578125,35510.2890625,37472.08984375,36926.06640625,38144.30859375,39266.01171875,38903.44140625,46196.46484375,46481.10546875,44918.18359375,47909.33203125,47504.8515625,47105.515625,48717.2890625,47945.05859375,49199.87109375,52149.0078125,51679.796875,55888.1328125,56099.51953125,57539.9453125,54207.3203125,48824.42578125,49705.33203125,47093.8515625,46339.76171875,46188.453125,45137.76953125,49631.2421875,48378.98828125,50538.2421875,48561.16796875,48927.3046875,48912.3828125,51206.69140625,52246.5234375,54824.1171875,56008.55078125,57805.12109375,57332.08984375,61243.0859375,59302.31640625,55907.19921875,56804.90234375,58870.89453125,57858.921875,58346.65234375,58313.64453125,57523.421875,54529.14453125,54738.9453125,52774.265625,51704.16015625,55137.3125,55973.51171875,55950.74609375,57750.19921875,58917.69140625,58918.83203125,59095.80859375,59384.3125,57603.890625,58758.5546875,59057.87890625,58192.359375,56048.9375,58323.953125,58245.00390625,59793.234375,60204.96484375,59893.453125,63503.45703125,63109.6953125,63314.01171875,61572.7890625,60683.8203125,56216.18359375,55724.265625,56473.03125,53906.08984375,51762.2734375,51093.65234375,50050.8671875,49004.25390625,54021.75390625,55033.1171875,54824.703125,53555.109375,57750.17578125,57828.05078125,56631.078125,57200.29296875,53333.5390625,57424.0078125,56396.515625,57356.40234375,58803.77734375,58232.31640625,55859.796875,56704.57421875,49150.53515625,49716.19140625,49880.53515625,46760.1875,46456.05859375,43537.51171875,42909.40234375,37002.44140625,40782.73828125,37304.69140625,37536.6328125,34770.58203125,38705.98046875,38402.22265625,39294.19921875,38436.96875,35697.60546875,34616.06640625,35678.12890625,37332.85546875,36684.92578125,37575.1796875,39208.765625,36894.40625,35551.95703125,35862.37890625,33560.70703125,33472.6328125,37345.12109375,36702.59765625,37334.3984375,35552.515625,39097.859375,40218.4765625,40406.26953125,38347.0625,38053.50390625,35787.24609375,35615.87109375,35698.296875,31676.693359375,32505.66015625,33723.02734375,34662.4375,31637.779296875,32186.27734375,34649.64453125,34434.3359375,35867.77734375,35040.8359375,33572.1171875,33897.046875,34668.546875,35287.78125,33746.00390625,34235.1953125,33855.328125,32877.37109375,33798.01171875,33520.51953125,34240.1875,33155.84765625,32702.025390625,32822.34765625,31780.73046875,31421.5390625,31533.068359375,31796.810546875,30817.83203125,29807.34765625,32110.693359375,32313.10546875,33581.55078125,34292.4453125,35350.1875,37337.53515625,39406.94140625,39995.90625,40008.421875,42235.546875,41626.1953125,39974.89453125,39201.9453125,38152.98046875,39747.50390625,40869.5546875,42816.5,44555.80078125,43798.1171875,46365.40234375,45585.03125,45593.63671875,44428.2890625,47793.3203125,47096.9453125,47047.00390625,46004.484375,44695.359375,44801.1875,46717.578125,49339.17578125,48905.4921875,49321.65234375,49546.1484375,47706.1171875,48960.7890625,46942.21875,49058.66796875,48902.40234375,48829.83203125,47054.984375,47166.6875,48847.02734375,49327.72265625,50025.375,49944.625,51753.41015625,52633.53515625,46811.12890625,46091.390625,46391.421875,44883.91015625,45201.45703125,46063.26953125,44963.07421875,47092.4921875,48176.34765625,47783.359375,47267.51953125,48278.36328125,47260.21875,42843.80078125,40693.67578125,43574.5078125,44895.09765625,42839.75,42716.59375,43208.5390625,42235.73046875,41034.54296875,41564.36328125,43790.89453125,48116.94140625,47711.48828125,48199.953125,49112.90234375,51514.8125,55361.44921875,53805.984375,53967.84765625,54968.22265625,54771.578125,57484.7890625,56041.05859375,57401.09765625,57321.5234375,61593.94921875,60892.1796875,61553.6171875,62026.078125,64261.9921875,65992.8359375,62210.171875,60692.265625,61393.6171875,60930.8359375,63039.82421875,60363.79296875,58482.38671875,60622.13671875,62227.96484375,61888.83203125,61318.95703125,61004.40625,63226.40234375,62970.046875,61452.23046875,61125.67578125,61527.48046875,63326.98828125,67566.828125,66971.828125,64995.23046875,64949.9609375,64155.94140625,64469.52734375,65466.83984375,63557.87109375,60161.24609375,60368.01171875,56942.13671875,58119.578125,59697.1953125,58730.4765625,56289.2890625,57569.07421875,56280.42578125,57274.6796875,53569.765625,54815.078125,57248.45703125,57806.56640625,57005.42578125,57229.828125,56477.81640625,53598.24609375,49200.703125,49368.84765625,50582.625,50700.0859375,50504.796875,47672.12109375,47243.3046875,49362.5078125,50098.3359375,46737.48046875,46612.6328125,48896.72265625,47665.42578125,46202.14453125,46848.77734375,46707.015625,46880.27734375,48936.61328125,48628.51171875,50784.5390625,50822.1953125,50429.859375,50809.515625,50640.41796875,47588.85546875,46444.7109375,47178.125,46306.4453125,47686.8125,47345.21875,46458.1171875,45897.57421875,43569.00390625,43160.9296875,41557.90234375,41733.94140625,41911.6015625,41821.26171875,42735.85546875,43949.1015625,42591.5703125,43099.69921875,43177.3984375,43113.87890625,42250.55078125,42375.6328125,41744.328125,40680.41796875,36457.31640625,35030.25,36276.8046875,36654.328125,36954.00390625,36852.12109375,37138.234375,37784.33203125,38138.1796875,37917.6015625,38483.125,38743.2734375,36952.984375,37154.6015625,41500.875,41441.1640625,42412.43359375,43840.28515625,44118.4453125,44338.796875,43565.11328125,42407.9375,42244.46875,42197.515625,42586.91796875,44575.203125,43961.859375,40538.01171875,40030.9765625,40122.15625,38431.37890625,37075.28125,38286.02734375,37296.5703125,38332.609375,39214.21875,39105.1484375,37709.78515625,43193.234375,44354.63671875,43924.1171875,42451.7890625,39137.60546875,39400.5859375,38419.984375,38062.0390625,38737.26953125,41982.92578125,39437.4609375,38794.97265625,38904.01171875,37849.6640625,39666.75390625,39338.78515625,41143.9296875,40951.37890625,41801.15625,42190.65234375,41247.82421875,41077.99609375,42358.80859375,42892.95703125,43960.93359375,44348.73046875,44500.828125,46820.4921875,47128.00390625,47465.73046875,47062.6640625,45538.67578125,46281.64453125,45868.94921875,46453.56640625,46622.67578125,45555.9921875,43206.73828125,43503.84765625,42287.6640625,42782.13671875,42207.671875,39521.90234375,40127.18359375,41166.73046875,39935.515625,40553.46484375,40424.484375,39716.953125,40826.21484375,41502.75,41374.37890625,40527.36328125,39740.3203125,39486.73046875,39469.29296875,40458.30859375,38117.4609375,39241.12109375,39773.828125,38609.82421875,37714.875],\"yaxis\":\"y\",\"type\":\"scattergl\"},{\"hovertemplate\":\"variable=ETH<br>Date=%{x}<br>value=%{y}<extra></extra>\",\"legendgroup\":\"ETH\",\"line\":{\"color\":\"#EF553B\",\"dash\":\"solid\"},\"marker\":{\"symbol\":\"circle\"},\"mode\":\"lines\",\"name\":\"ETH\",\"showlegend\":true,\"x\":[\"2021-01-01T00:00:00\",\"2021-01-02T00:00:00\",\"2021-01-03T00:00:00\",\"2021-01-04T00:00:00\",\"2021-01-05T00:00:00\",\"2021-01-06T00:00:00\",\"2021-01-07T00:00:00\",\"2021-01-08T00:00:00\",\"2021-01-09T00:00:00\",\"2021-01-10T00:00:00\",\"2021-01-11T00:00:00\",\"2021-01-12T00:00:00\",\"2021-01-13T00:00:00\",\"2021-01-14T00:00:00\",\"2021-01-15T00:00:00\",\"2021-01-16T00:00:00\",\"2021-01-17T00:00:00\",\"2021-01-18T00:00:00\",\"2021-01-19T00:00:00\",\"2021-01-20T00:00:00\",\"2021-01-21T00:00:00\",\"2021-01-22T00:00:00\",\"2021-01-23T00:00:00\",\"2021-01-24T00:00:00\",\"2021-01-25T00:00:00\",\"2021-01-26T00:00:00\",\"2021-01-27T00:00:00\",\"2021-01-28T00:00:00\",\"2021-01-29T00:00:00\",\"2021-01-30T00:00:00\",\"2021-01-31T00:00:00\",\"2021-02-01T00:00:00\",\"2021-02-02T00:00:00\",\"2021-02-03T00:00:00\",\"2021-02-04T00:00:00\",\"2021-02-05T00:00:00\",\"2021-02-06T00:00:00\",\"2021-02-07T00:00:00\",\"2021-02-08T00:00:00\",\"2021-02-09T00:00:00\",\"2021-02-10T00:00:00\",\"2021-02-11T00:00:00\",\"2021-02-12T00:00:00\",\"2021-02-13T00:00:00\",\"2021-02-14T00:00:00\",\"2021-02-15T00:00:00\",\"2021-02-16T00:00:00\",\"2021-02-17T00:00:00\",\"2021-02-18T00:00:00\",\"2021-02-19T00:00:00\",\"2021-02-20T00:00:00\",\"2021-02-21T00:00:00\",\"2021-02-22T00:00:00\",\"2021-02-23T00:00:00\",\"2021-02-24T00:00:00\",\"2021-02-25T00:00:00\",\"2021-02-26T00:00:00\",\"2021-02-27T00:00:00\",\"2021-02-28T00:00:00\",\"2021-03-01T00:00:00\",\"2021-03-02T00:00:00\",\"2021-03-03T00:00:00\",\"2021-03-04T00:00:00\",\"2021-03-05T00:00:00\",\"2021-03-06T00:00:00\",\"2021-03-07T00:00:00\",\"2021-03-08T00:00:00\",\"2021-03-09T00:00:00\",\"2021-03-10T00:00:00\",\"2021-03-11T00:00:00\",\"2021-03-12T00:00:00\",\"2021-03-13T00:00:00\",\"2021-03-14T00:00:00\",\"2021-03-15T00:00:00\",\"2021-03-16T00:00:00\",\"2021-03-17T00:00:00\",\"2021-03-18T00:00:00\",\"2021-03-19T00:00:00\",\"2021-03-20T00:00:00\",\"2021-03-21T00:00:00\",\"2021-03-22T00:00:00\",\"2021-03-23T00:00:00\",\"2021-03-24T00:00:00\",\"2021-03-25T00:00:00\",\"2021-03-26T00:00:00\",\"2021-03-27T00:00:00\",\"2021-03-28T00:00:00\",\"2021-03-29T00:00:00\",\"2021-03-30T00:00:00\",\"2021-03-31T00:00:00\",\"2021-04-01T00:00:00\",\"2021-04-02T00:00:00\",\"2021-04-03T00:00:00\",\"2021-04-04T00:00:00\",\"2021-04-05T00:00:00\",\"2021-04-06T00:00:00\",\"2021-04-07T00:00:00\",\"2021-04-08T00:00:00\",\"2021-04-09T00:00:00\",\"2021-04-10T00:00:00\",\"2021-04-11T00:00:00\",\"2021-04-12T00:00:00\",\"2021-04-13T00:00:00\",\"2021-04-14T00:00:00\",\"2021-04-15T00:00:00\",\"2021-04-16T00:00:00\",\"2021-04-17T00:00:00\",\"2021-04-18T00:00:00\",\"2021-04-19T00:00:00\",\"2021-04-20T00:00:00\",\"2021-04-21T00:00:00\",\"2021-04-22T00:00:00\",\"2021-04-23T00:00:00\",\"2021-04-24T00:00:00\",\"2021-04-25T00:00:00\",\"2021-04-26T00:00:00\",\"2021-04-27T00:00:00\",\"2021-04-28T00:00:00\",\"2021-04-29T00:00:00\",\"2021-04-30T00:00:00\",\"2021-05-01T00:00:00\",\"2021-05-02T00:00:00\",\"2021-05-03T00:00:00\",\"2021-05-04T00:00:00\",\"2021-05-05T00:00:00\",\"2021-05-06T00:00:00\",\"2021-05-07T00:00:00\",\"2021-05-08T00:00:00\",\"2021-05-09T00:00:00\",\"2021-05-10T00:00:00\",\"2021-05-11T00:00:00\",\"2021-05-12T00:00:00\",\"2021-05-13T00:00:00\",\"2021-05-14T00:00:00\",\"2021-05-15T00:00:00\",\"2021-05-16T00:00:00\",\"2021-05-17T00:00:00\",\"2021-05-18T00:00:00\",\"2021-05-19T00:00:00\",\"2021-05-20T00:00:00\",\"2021-05-21T00:00:00\",\"2021-05-22T00:00:00\",\"2021-05-23T00:00:00\",\"2021-05-24T00:00:00\",\"2021-05-25T00:00:00\",\"2021-05-26T00:00:00\",\"2021-05-27T00:00:00\",\"2021-05-28T00:00:00\",\"2021-05-29T00:00:00\",\"2021-05-30T00:00:00\",\"2021-05-31T00:00:00\",\"2021-06-01T00:00:00\",\"2021-06-02T00:00:00\",\"2021-06-03T00:00:00\",\"2021-06-04T00:00:00\",\"2021-06-05T00:00:00\",\"2021-06-06T00:00:00\",\"2021-06-07T00:00:00\",\"2021-06-08T00:00:00\",\"2021-06-09T00:00:00\",\"2021-06-10T00:00:00\",\"2021-06-11T00:00:00\",\"2021-06-12T00:00:00\",\"2021-06-13T00:00:00\",\"2021-06-14T00:00:00\",\"2021-06-15T00:00:00\",\"2021-06-16T00:00:00\",\"2021-06-17T00:00:00\",\"2021-06-18T00:00:00\",\"2021-06-19T00:00:00\",\"2021-06-20T00:00:00\",\"2021-06-21T00:00:00\",\"2021-06-22T00:00:00\",\"2021-06-23T00:00:00\",\"2021-06-24T00:00:00\",\"2021-06-25T00:00:00\",\"2021-06-26T00:00:00\",\"2021-06-27T00:00:00\",\"2021-06-28T00:00:00\",\"2021-06-29T00:00:00\",\"2021-06-30T00:00:00\",\"2021-07-01T00:00:00\",\"2021-07-02T00:00:00\",\"2021-07-03T00:00:00\",\"2021-07-04T00:00:00\",\"2021-07-05T00:00:00\",\"2021-07-06T00:00:00\",\"2021-07-07T00:00:00\",\"2021-07-08T00:00:00\",\"2021-07-09T00:00:00\",\"2021-07-10T00:00:00\",\"2021-07-11T00:00:00\",\"2021-07-12T00:00:00\",\"2021-07-13T00:00:00\",\"2021-07-14T00:00:00\",\"2021-07-15T00:00:00\",\"2021-07-16T00:00:00\",\"2021-07-17T00:00:00\",\"2021-07-18T00:00:00\",\"2021-07-19T00:00:00\",\"2021-07-20T00:00:00\",\"2021-07-21T00:00:00\",\"2021-07-22T00:00:00\",\"2021-07-23T00:00:00\",\"2021-07-24T00:00:00\",\"2021-07-25T00:00:00\",\"2021-07-26T00:00:00\",\"2021-07-27T00:00:00\",\"2021-07-28T00:00:00\",\"2021-07-29T00:00:00\",\"2021-07-30T00:00:00\",\"2021-07-31T00:00:00\",\"2021-08-01T00:00:00\",\"2021-08-02T00:00:00\",\"2021-08-03T00:00:00\",\"2021-08-04T00:00:00\",\"2021-08-05T00:00:00\",\"2021-08-06T00:00:00\",\"2021-08-07T00:00:00\",\"2021-08-08T00:00:00\",\"2021-08-09T00:00:00\",\"2021-08-10T00:00:00\",\"2021-08-11T00:00:00\",\"2021-08-12T00:00:00\",\"2021-08-13T00:00:00\",\"2021-08-14T00:00:00\",\"2021-08-15T00:00:00\",\"2021-08-16T00:00:00\",\"2021-08-17T00:00:00\",\"2021-08-18T00:00:00\",\"2021-08-19T00:00:00\",\"2021-08-20T00:00:00\",\"2021-08-21T00:00:00\",\"2021-08-22T00:00:00\",\"2021-08-23T00:00:00\",\"2021-08-24T00:00:00\",\"2021-08-25T00:00:00\",\"2021-08-26T00:00:00\",\"2021-08-27T00:00:00\",\"2021-08-28T00:00:00\",\"2021-08-29T00:00:00\",\"2021-08-30T00:00:00\",\"2021-08-31T00:00:00\",\"2021-09-01T00:00:00\",\"2021-09-02T00:00:00\",\"2021-09-03T00:00:00\",\"2021-09-04T00:00:00\",\"2021-09-05T00:00:00\",\"2021-09-06T00:00:00\",\"2021-09-07T00:00:00\",\"2021-09-08T00:00:00\",\"2021-09-09T00:00:00\",\"2021-09-10T00:00:00\",\"2021-09-11T00:00:00\",\"2021-09-12T00:00:00\",\"2021-09-13T00:00:00\",\"2021-09-14T00:00:00\",\"2021-09-15T00:00:00\",\"2021-09-16T00:00:00\",\"2021-09-17T00:00:00\",\"2021-09-18T00:00:00\",\"2021-09-19T00:00:00\",\"2021-09-20T00:00:00\",\"2021-09-21T00:00:00\",\"2021-09-22T00:00:00\",\"2021-09-23T00:00:00\",\"2021-09-24T00:00:00\",\"2021-09-25T00:00:00\",\"2021-09-26T00:00:00\",\"2021-09-27T00:00:00\",\"2021-09-28T00:00:00\",\"2021-09-29T00:00:00\",\"2021-09-30T00:00:00\",\"2021-10-01T00:00:00\",\"2021-10-02T00:00:00\",\"2021-10-03T00:00:00\",\"2021-10-04T00:00:00\",\"2021-10-05T00:00:00\",\"2021-10-06T00:00:00\",\"2021-10-07T00:00:00\",\"2021-10-08T00:00:00\",\"2021-10-09T00:00:00\",\"2021-10-10T00:00:00\",\"2021-10-11T00:00:00\",\"2021-10-12T00:00:00\",\"2021-10-13T00:00:00\",\"2021-10-14T00:00:00\",\"2021-10-15T00:00:00\",\"2021-10-16T00:00:00\",\"2021-10-17T00:00:00\",\"2021-10-18T00:00:00\",\"2021-10-19T00:00:00\",\"2021-10-20T00:00:00\",\"2021-10-21T00:00:00\",\"2021-10-22T00:00:00\",\"2021-10-23T00:00:00\",\"2021-10-24T00:00:00\",\"2021-10-25T00:00:00\",\"2021-10-26T00:00:00\",\"2021-10-27T00:00:00\",\"2021-10-28T00:00:00\",\"2021-10-29T00:00:00\",\"2021-10-30T00:00:00\",\"2021-10-31T00:00:00\",\"2021-11-01T00:00:00\",\"2021-11-02T00:00:00\",\"2021-11-03T00:00:00\",\"2021-11-04T00:00:00\",\"2021-11-05T00:00:00\",\"2021-11-06T00:00:00\",\"2021-11-07T00:00:00\",\"2021-11-08T00:00:00\",\"2021-11-09T00:00:00\",\"2021-11-10T00:00:00\",\"2021-11-11T00:00:00\",\"2021-11-12T00:00:00\",\"2021-11-13T00:00:00\",\"2021-11-14T00:00:00\",\"2021-11-15T00:00:00\",\"2021-11-16T00:00:00\",\"2021-11-17T00:00:00\",\"2021-11-18T00:00:00\",\"2021-11-19T00:00:00\",\"2021-11-20T00:00:00\",\"2021-11-21T00:00:00\",\"2021-11-22T00:00:00\",\"2021-11-23T00:00:00\",\"2021-11-24T00:00:00\",\"2021-11-25T00:00:00\",\"2021-11-26T00:00:00\",\"2021-11-27T00:00:00\",\"2021-11-28T00:00:00\",\"2021-11-29T00:00:00\",\"2021-11-30T00:00:00\",\"2021-12-01T00:00:00\",\"2021-12-02T00:00:00\",\"2021-12-03T00:00:00\",\"2021-12-04T00:00:00\",\"2021-12-05T00:00:00\",\"2021-12-06T00:00:00\",\"2021-12-07T00:00:00\",\"2021-12-08T00:00:00\",\"2021-12-09T00:00:00\",\"2021-12-10T00:00:00\",\"2021-12-11T00:00:00\",\"2021-12-12T00:00:00\",\"2021-12-13T00:00:00\",\"2021-12-14T00:00:00\",\"2021-12-15T00:00:00\",\"2021-12-16T00:00:00\",\"2021-12-17T00:00:00\",\"2021-12-18T00:00:00\",\"2021-12-19T00:00:00\",\"2021-12-20T00:00:00\",\"2021-12-21T00:00:00\",\"2021-12-22T00:00:00\",\"2021-12-23T00:00:00\",\"2021-12-24T00:00:00\",\"2021-12-25T00:00:00\",\"2021-12-26T00:00:00\",\"2021-12-27T00:00:00\",\"2021-12-28T00:00:00\",\"2021-12-29T00:00:00\",\"2021-12-30T00:00:00\",\"2021-12-31T00:00:00\",\"2022-01-01T00:00:00\",\"2022-01-02T00:00:00\",\"2022-01-03T00:00:00\",\"2022-01-04T00:00:00\",\"2022-01-05T00:00:00\",\"2022-01-06T00:00:00\",\"2022-01-07T00:00:00\",\"2022-01-08T00:00:00\",\"2022-01-09T00:00:00\",\"2022-01-10T00:00:00\",\"2022-01-11T00:00:00\",\"2022-01-12T00:00:00\",\"2022-01-13T00:00:00\",\"2022-01-14T00:00:00\",\"2022-01-15T00:00:00\",\"2022-01-16T00:00:00\",\"2022-01-17T00:00:00\",\"2022-01-18T00:00:00\",\"2022-01-19T00:00:00\",\"2022-01-20T00:00:00\",\"2022-01-21T00:00:00\",\"2022-01-22T00:00:00\",\"2022-01-23T00:00:00\",\"2022-01-24T00:00:00\",\"2022-01-25T00:00:00\",\"2022-01-26T00:00:00\",\"2022-01-27T00:00:00\",\"2022-01-28T00:00:00\",\"2022-01-29T00:00:00\",\"2022-01-30T00:00:00\",\"2022-01-31T00:00:00\",\"2022-02-01T00:00:00\",\"2022-02-02T00:00:00\",\"2022-02-03T00:00:00\",\"2022-02-04T00:00:00\",\"2022-02-05T00:00:00\",\"2022-02-06T00:00:00\",\"2022-02-07T00:00:00\",\"2022-02-08T00:00:00\",\"2022-02-09T00:00:00\",\"2022-02-10T00:00:00\",\"2022-02-11T00:00:00\",\"2022-02-12T00:00:00\",\"2022-02-13T00:00:00\",\"2022-02-14T00:00:00\",\"2022-02-15T00:00:00\",\"2022-02-16T00:00:00\",\"2022-02-17T00:00:00\",\"2022-02-18T00:00:00\",\"2022-02-19T00:00:00\",\"2022-02-20T00:00:00\",\"2022-02-21T00:00:00\",\"2022-02-22T00:00:00\",\"2022-02-23T00:00:00\",\"2022-02-24T00:00:00\",\"2022-02-25T00:00:00\",\"2022-02-26T00:00:00\",\"2022-02-27T00:00:00\",\"2022-02-28T00:00:00\",\"2022-03-01T00:00:00\",\"2022-03-02T00:00:00\",\"2022-03-03T00:00:00\",\"2022-03-04T00:00:00\",\"2022-03-05T00:00:00\",\"2022-03-06T00:00:00\",\"2022-03-07T00:00:00\",\"2022-03-08T00:00:00\",\"2022-03-09T00:00:00\",\"2022-03-10T00:00:00\",\"2022-03-11T00:00:00\",\"2022-03-12T00:00:00\",\"2022-03-13T00:00:00\",\"2022-03-14T00:00:00\",\"2022-03-15T00:00:00\",\"2022-03-16T00:00:00\",\"2022-03-17T00:00:00\",\"2022-03-18T00:00:00\",\"2022-03-19T00:00:00\",\"2022-03-20T00:00:00\",\"2022-03-21T00:00:00\",\"2022-03-22T00:00:00\",\"2022-03-23T00:00:00\",\"2022-03-24T00:00:00\",\"2022-03-25T00:00:00\",\"2022-03-26T00:00:00\",\"2022-03-27T00:00:00\",\"2022-03-28T00:00:00\",\"2022-03-29T00:00:00\",\"2022-03-30T00:00:00\",\"2022-03-31T00:00:00\",\"2022-04-01T00:00:00\",\"2022-04-02T00:00:00\",\"2022-04-03T00:00:00\",\"2022-04-04T00:00:00\",\"2022-04-05T00:00:00\",\"2022-04-06T00:00:00\",\"2022-04-07T00:00:00\",\"2022-04-08T00:00:00\",\"2022-04-09T00:00:00\",\"2022-04-10T00:00:00\",\"2022-04-11T00:00:00\",\"2022-04-12T00:00:00\",\"2022-04-13T00:00:00\",\"2022-04-14T00:00:00\",\"2022-04-15T00:00:00\",\"2022-04-16T00:00:00\",\"2022-04-17T00:00:00\",\"2022-04-18T00:00:00\",\"2022-04-19T00:00:00\",\"2022-04-20T00:00:00\",\"2022-04-21T00:00:00\",\"2022-04-22T00:00:00\",\"2022-04-23T00:00:00\",\"2022-04-24T00:00:00\",\"2022-04-25T00:00:00\",\"2022-04-26T00:00:00\",\"2022-04-27T00:00:00\",\"2022-04-28T00:00:00\",\"2022-04-29T00:00:00\",\"2022-04-30T00:00:00\"],\"xaxis\":\"x\",\"y\":[730.3675537109375,774.5349731445312,975.5076904296875,1040.2330322265625,1100.006103515625,1207.1121826171875,1225.6781005859375,1224.1971435546875,1281.0772705078125,1262.2467041015625,1090.1453857421875,1043.4345703125,1130.7393798828125,1218.4530029296875,1171.8345947265625,1233.53759765625,1230.1722412109375,1257.279541015625,1377.2958984375,1382.2740478515625,1121.5709228515625,1236.51220703125,1230.9906005859375,1391.609375,1324.414794921875,1357.05810546875,1253.1871337890625,1332.4921875,1382.5228271484375,1376.115478515625,1314.9862060546875,1369.04052734375,1515.1937255859375,1660.9095458984375,1594.7626953125,1718.65087890625,1677.8468017578125,1614.227783203125,1746.6168212890625,1768.0350341796875,1744.243408203125,1783.7979736328125,1843.5325927734375,1814.10986328125,1805.0841064453125,1779.791015625,1781.0675048828125,1848.458251953125,1937.44921875,1960.164794921875,1919.5340576171875,1935.60107421875,1781.992919921875,1570.2039794921875,1626.57568359375,1475.7037353515625,1446.03369140625,1459.97314453125,1416.0489501953125,1564.7076416015625,1492.6087646484375,1575.8531494140625,1541.914306640625,1533.2750244140625,1654.7415771484375,1723.15380859375,1834.7279052734375,1868.048828125,1799.166259765625,1826.1949462890625,1772.1024169921875,1924.6854248046875,1854.5643310546875,1791.7022705078125,1806.9718017578125,1823.4493408203125,1782.8551025390625,1817.6241455078125,1812.6346435546875,1788.217041015625,1691.333984375,1678.650146484375,1593.4134521484375,1595.3592529296875,1702.842041015625,1716.49462890625,1691.35595703125,1819.6849365234375,1846.03369140625,1918.362060546875,1977.27685546875,2143.2255859375,2028.4224853515625,2093.122802734375,2107.88720703125,2118.37890625,1971.0772705078125,2088.57373046875,2072.10888671875,2135.942138671875,2157.656982421875,2139.353271484375,2299.187744140625,2435.10498046875,2519.1162109375,2431.946533203125,2344.89501953125,2237.136962890625,2166.188720703125,2330.2109375,2364.751708984375,2403.53515625,2363.586181640625,2211.625732421875,2316.0595703125,2534.481689453125,2662.865234375,2746.380126953125,2756.876953125,2773.20703125,2945.892822265625,2952.05615234375,3431.086181640625,3253.62939453125,3522.783203125,3490.88037109375,3484.72900390625,3902.647705078125,3928.8447265625,3952.2939453125,4168.701171875,3785.8486328125,3715.1484375,4079.057373046875,3638.1220703125,3587.506103515625,3282.397705078125,3380.070068359375,2460.67919921875,2784.294189453125,2430.621337890625,2295.70556640625,2109.579833984375,2643.591064453125,2706.62890625,2888.69873046875,2736.488525390625,2419.90625,2279.51416015625,2390.305419921875,2714.9453125,2633.518310546875,2706.125,2855.12646484375,2688.195068359375,2630.576904296875,2715.0927734375,2590.26318359375,2517.438720703125,2608.26708984375,2471.5185546875,2353.768798828125,2372.484375,2508.3916015625,2537.89111328125,2610.936767578125,2367.66357421875,2372.001953125,2231.733154296875,2178.4990234375,2246.364501953125,1888.447509765625,1874.9500732421875,1989.736328125,1988.456298828125,1813.21728515625,1829.2392578125,1978.8946533203125,2079.657470703125,2160.768310546875,2274.547607421875,2113.60546875,2150.040283203125,2226.1142578125,2321.72412109375,2198.58251953125,2324.679443359375,2315.161865234375,2120.0263671875,2146.6923828125,2111.403564453125,2139.664794921875,2036.7210693359375,1940.083984375,1994.331298828125,1911.1756591796875,1880.3829345703125,1898.8251953125,1895.5521240234375,1817.296630859375,1787.5107421875,1990.9708251953125,2025.2027587890625,2124.776611328125,2189.21875,2191.373779296875,2233.36669921875,2298.33349609375,2296.54541015625,2380.956787109375,2466.96142578125,2536.2099609375,2561.85205078125,2610.1533203125,2502.349609375,2724.619873046875,2827.328857421875,2890.941650390625,3157.23876953125,3013.732666015625,3167.856201171875,3141.691162109375,3164.2451171875,3043.414306640625,3322.211669921875,3265.443359375,3310.504150390625,3156.509521484375,3014.845947265625,3020.08984375,3182.7021484375,3286.935302734375,3226.083984375,3242.115478515625,3319.25732421875,3172.456298828125,3224.915283203125,3100.325439453125,3270.600830078125,3244.4033203125,3227.002685546875,3224.374267578125,3433.732666015625,3834.828125,3790.989990234375,3940.61474609375,3887.828369140625,3952.133544921875,3928.37939453125,3426.394287109375,3497.315185546875,3427.340087890625,3211.505859375,3270.278076171875,3410.134521484375,3285.51171875,3429.169677734375,3615.28271484375,3571.294921875,3398.538818359375,3432.018310546875,3329.447998046875,2958.993408203125,2764.43115234375,3077.867919921875,3155.523681640625,2931.669189453125,2925.565673828125,3062.265380859375,2934.138916015625,2807.296630859375,2853.143310546875,3001.678955078125,3307.51611328125,3391.6943359375,3418.358642578125,3380.089111328125,3518.5185546875,3580.56201171875,3587.974853515625,3563.75927734375,3575.716796875,3425.852783203125,3545.35400390625,3492.5732421875,3606.20166015625,3786.01416015625,3862.634765625,3830.382080078125,3847.1044921875,3748.76025390625,3877.65087890625,4155.9921875,4054.32275390625,3970.181884765625,4171.66357421875,4087.903076171875,4217.876953125,4131.10205078125,3930.25732421875,4287.31884765625,4414.74658203125,4325.650390625,4288.07421875,4324.626953125,4584.798828125,4607.19384765625,4537.32421875,4486.2431640625,4521.5810546875,4620.5546875,4812.08740234375,4735.06884765625,4636.17431640625,4730.38427734375,4667.115234375,4651.46044921875,4626.35888671875,4557.50390625,4216.365234375,4287.59375,4000.65087890625,4298.306640625,4409.93115234375,4269.73291015625,4088.457763671875,4340.763671875,4239.9814453125,4274.7431640625,4030.908935546875,4096.912109375,4294.45361328125,4445.10498046875,4631.47900390625,4586.990234375,4511.30224609375,4220.7060546875,4119.58740234375,4198.32275390625,4358.7373046875,4315.0615234375,4439.35791015625,4119.81591796875,3908.49609375,4084.452392578125,4134.453125,3784.226806640625,3745.4404296875,4018.388671875,3962.4697265625,3879.486572265625,3960.860107421875,3922.592529296875,3933.844482421875,4020.260009765625,3982.099609375,4108.015625,4047.98291015625,4093.281005859375,4067.328125,4037.547607421875,3800.89306640625,3628.53173828125,3713.85205078125,3682.6328125,3769.697021484375,3829.56494140625,3761.38037109375,3794.056640625,3550.386962890625,3418.408203125,3193.21044921875,3091.97265625,3157.75146484375,3083.097900390625,3238.111572265625,3372.25830078125,3248.28857421875,3310.00146484375,3330.53076171875,3350.921875,3212.304931640625,3164.025146484375,3095.825927734375,3001.1201171875,2557.931640625,2405.18115234375,2535.0390625,2440.352294921875,2455.93505859375,2468.0302734375,2423.001220703125,2547.092041015625,2597.084716796875,2603.466552734375,2688.27880859375,2792.1171875,2682.85400390625,2679.16259765625,2983.5869140625,3014.648193359375,3057.47607421875,3142.470703125,3122.608642578125,3239.45703125,3077.482177734375,2927.383544921875,2917.36279296875,2883.46337890625,2933.47900390625,3179.877197265625,3127.830078125,2881.48193359375,2785.7275390625,2763.701171875,2628.6484375,2573.816162109375,2639.29931640625,2590.359619140625,2598.067138671875,2764.53564453125,2781.11181640625,2621.8017578125,2919.201171875,2972.485107421875,2950.118408203125,2834.468994140625,2617.156005859375,2664.8310546875,2555.037353515625,2497.771240234375,2576.74755859375,2729.783447265625,2608.048583984375,2559.56298828125,2574.754150390625,2518.944580078125,2590.696044921875,2620.149658203125,2772.0556640625,2814.8544921875,2945.343017578125,2946.257080078125,2860.459228515625,2897.9765625,2973.131103515625,3031.067138671875,3108.06201171875,3106.67138671875,3143.178955078125,3291.57763671875,3336.634521484375,3401.98779296875,3385.157958984375,3281.642822265625,3449.55224609375,3445.059326171875,3522.83349609375,3521.2412109375,3411.79248046875,3171.69189453125,3233.274658203125,3192.073974609375,3261.916259765625,3211.866943359375,2981.05224609375,3030.37646484375,3118.34423828125,3019.909423828125,3040.91650390625,3062.310302734375,2993.4033203125,3057.606689453125,3104.1064453125,3077.745849609375,2987.480712890625,2964.835693359375,2938.114013671875,2922.732666015625,3009.3935546875,2808.29833984375,2888.9296875,2936.94091796875,2815.601806640625,2730.186767578125],\"yaxis\":\"y\",\"type\":\"scattergl\"},{\"hovertemplate\":\"variable=DOGE<br>Date=%{x}<br>value=%{y}<extra></extra>\",\"legendgroup\":\"DOGE\",\"line\":{\"color\":\"#00cc96\",\"dash\":\"solid\"},\"marker\":{\"symbol\":\"circle\"},\"mode\":\"lines\",\"name\":\"DOGE\",\"showlegend\":true,\"x\":[\"2021-01-01T00:00:00\",\"2021-01-02T00:00:00\",\"2021-01-03T00:00:00\",\"2021-01-04T00:00:00\",\"2021-01-05T00:00:00\",\"2021-01-06T00:00:00\",\"2021-01-07T00:00:00\",\"2021-01-08T00:00:00\",\"2021-01-09T00:00:00\",\"2021-01-10T00:00:00\",\"2021-01-11T00:00:00\",\"2021-01-12T00:00:00\",\"2021-01-13T00:00:00\",\"2021-01-14T00:00:00\",\"2021-01-15T00:00:00\",\"2021-01-16T00:00:00\",\"2021-01-17T00:00:00\",\"2021-01-18T00:00:00\",\"2021-01-19T00:00:00\",\"2021-01-20T00:00:00\",\"2021-01-21T00:00:00\",\"2021-01-22T00:00:00\",\"2021-01-23T00:00:00\",\"2021-01-24T00:00:00\",\"2021-01-25T00:00:00\",\"2021-01-26T00:00:00\",\"2021-01-27T00:00:00\",\"2021-01-28T00:00:00\",\"2021-01-29T00:00:00\",\"2021-01-30T00:00:00\",\"2021-01-31T00:00:00\",\"2021-02-01T00:00:00\",\"2021-02-02T00:00:00\",\"2021-02-03T00:00:00\",\"2021-02-04T00:00:00\",\"2021-02-05T00:00:00\",\"2021-02-06T00:00:00\",\"2021-02-07T00:00:00\",\"2021-02-08T00:00:00\",\"2021-02-09T00:00:00\",\"2021-02-10T00:00:00\",\"2021-02-11T00:00:00\",\"2021-02-12T00:00:00\",\"2021-02-13T00:00:00\",\"2021-02-14T00:00:00\",\"2021-02-15T00:00:00\",\"2021-02-16T00:00:00\",\"2021-02-17T00:00:00\",\"2021-02-18T00:00:00\",\"2021-02-19T00:00:00\",\"2021-02-20T00:00:00\",\"2021-02-21T00:00:00\",\"2021-02-22T00:00:00\",\"2021-02-23T00:00:00\",\"2021-02-24T00:00:00\",\"2021-02-25T00:00:00\",\"2021-02-26T00:00:00\",\"2021-02-27T00:00:00\",\"2021-02-28T00:00:00\",\"2021-03-01T00:00:00\",\"2021-03-02T00:00:00\",\"2021-03-03T00:00:00\",\"2021-03-04T00:00:00\",\"2021-03-05T00:00:00\",\"2021-03-06T00:00:00\",\"2021-03-07T00:00:00\",\"2021-03-08T00:00:00\",\"2021-03-09T00:00:00\",\"2021-03-10T00:00:00\",\"2021-03-11T00:00:00\",\"2021-03-12T00:00:00\",\"2021-03-13T00:00:00\",\"2021-03-14T00:00:00\",\"2021-03-15T00:00:00\",\"2021-03-16T00:00:00\",\"2021-03-17T00:00:00\",\"2021-03-18T00:00:00\",\"2021-03-19T00:00:00\",\"2021-03-20T00:00:00\",\"2021-03-21T00:00:00\",\"2021-03-22T00:00:00\",\"2021-03-23T00:00:00\",\"2021-03-24T00:00:00\",\"2021-03-25T00:00:00\",\"2021-03-26T00:00:00\",\"2021-03-27T00:00:00\",\"2021-03-28T00:00:00\",\"2021-03-29T00:00:00\",\"2021-03-30T00:00:00\",\"2021-03-31T00:00:00\",\"2021-04-01T00:00:00\",\"2021-04-02T00:00:00\",\"2021-04-03T00:00:00\",\"2021-04-04T00:00:00\",\"2021-04-05T00:00:00\",\"2021-04-06T00:00:00\",\"2021-04-07T00:00:00\",\"2021-04-08T00:00:00\",\"2021-04-09T00:00:00\",\"2021-04-10T00:00:00\",\"2021-04-11T00:00:00\",\"2021-04-12T00:00:00\",\"2021-04-13T00:00:00\",\"2021-04-14T00:00:00\",\"2021-04-15T00:00:00\",\"2021-04-16T00:00:00\",\"2021-04-17T00:00:00\",\"2021-04-18T00:00:00\",\"2021-04-19T00:00:00\",\"2021-04-20T00:00:00\",\"2021-04-21T00:00:00\",\"2021-04-22T00:00:00\",\"2021-04-23T00:00:00\",\"2021-04-24T00:00:00\",\"2021-04-25T00:00:00\",\"2021-04-26T00:00:00\",\"2021-04-27T00:00:00\",\"2021-04-28T00:00:00\",\"2021-04-29T00:00:00\",\"2021-04-30T00:00:00\",\"2021-05-01T00:00:00\",\"2021-05-02T00:00:00\",\"2021-05-03T00:00:00\",\"2021-05-04T00:00:00\",\"2021-05-05T00:00:00\",\"2021-05-06T00:00:00\",\"2021-05-07T00:00:00\",\"2021-05-08T00:00:00\",\"2021-05-09T00:00:00\",\"2021-05-10T00:00:00\",\"2021-05-11T00:00:00\",\"2021-05-12T00:00:00\",\"2021-05-13T00:00:00\",\"2021-05-14T00:00:00\",\"2021-05-15T00:00:00\",\"2021-05-16T00:00:00\",\"2021-05-17T00:00:00\",\"2021-05-18T00:00:00\",\"2021-05-19T00:00:00\",\"2021-05-20T00:00:00\",\"2021-05-21T00:00:00\",\"2021-05-22T00:00:00\",\"2021-05-23T00:00:00\",\"2021-05-24T00:00:00\",\"2021-05-25T00:00:00\",\"2021-05-26T00:00:00\",\"2021-05-27T00:00:00\",\"2021-05-28T00:00:00\",\"2021-05-29T00:00:00\",\"2021-05-30T00:00:00\",\"2021-05-31T00:00:00\",\"2021-06-01T00:00:00\",\"2021-06-02T00:00:00\",\"2021-06-03T00:00:00\",\"2021-06-04T00:00:00\",\"2021-06-05T00:00:00\",\"2021-06-06T00:00:00\",\"2021-06-07T00:00:00\",\"2021-06-08T00:00:00\",\"2021-06-09T00:00:00\",\"2021-06-10T00:00:00\",\"2021-06-11T00:00:00\",\"2021-06-12T00:00:00\",\"2021-06-13T00:00:00\",\"2021-06-14T00:00:00\",\"2021-06-15T00:00:00\",\"2021-06-16T00:00:00\",\"2021-06-17T00:00:00\",\"2021-06-18T00:00:00\",\"2021-06-19T00:00:00\",\"2021-06-20T00:00:00\",\"2021-06-21T00:00:00\",\"2021-06-22T00:00:00\",\"2021-06-23T00:00:00\",\"2021-06-24T00:00:00\",\"2021-06-25T00:00:00\",\"2021-06-26T00:00:00\",\"2021-06-27T00:00:00\",\"2021-06-28T00:00:00\",\"2021-06-29T00:00:00\",\"2021-06-30T00:00:00\",\"2021-07-01T00:00:00\",\"2021-07-02T00:00:00\",\"2021-07-03T00:00:00\",\"2021-07-04T00:00:00\",\"2021-07-05T00:00:00\",\"2021-07-06T00:00:00\",\"2021-07-07T00:00:00\",\"2021-07-08T00:00:00\",\"2021-07-09T00:00:00\",\"2021-07-10T00:00:00\",\"2021-07-11T00:00:00\",\"2021-07-12T00:00:00\",\"2021-07-13T00:00:00\",\"2021-07-14T00:00:00\",\"2021-07-15T00:00:00\",\"2021-07-16T00:00:00\",\"2021-07-17T00:00:00\",\"2021-07-18T00:00:00\",\"2021-07-19T00:00:00\",\"2021-07-20T00:00:00\",\"2021-07-21T00:00:00\",\"2021-07-22T00:00:00\",\"2021-07-23T00:00:00\",\"2021-07-24T00:00:00\",\"2021-07-25T00:00:00\",\"2021-07-26T00:00:00\",\"2021-07-27T00:00:00\",\"2021-07-28T00:00:00\",\"2021-07-29T00:00:00\",\"2021-07-30T00:00:00\",\"2021-07-31T00:00:00\",\"2021-08-01T00:00:00\",\"2021-08-02T00:00:00\",\"2021-08-03T00:00:00\",\"2021-08-04T00:00:00\",\"2021-08-05T00:00:00\",\"2021-08-06T00:00:00\",\"2021-08-07T00:00:00\",\"2021-08-08T00:00:00\",\"2021-08-09T00:00:00\",\"2021-08-10T00:00:00\",\"2021-08-11T00:00:00\",\"2021-08-12T00:00:00\",\"2021-08-13T00:00:00\",\"2021-08-14T00:00:00\",\"2021-08-15T00:00:00\",\"2021-08-16T00:00:00\",\"2021-08-17T00:00:00\",\"2021-08-18T00:00:00\",\"2021-08-19T00:00:00\",\"2021-08-20T00:00:00\",\"2021-08-21T00:00:00\",\"2021-08-22T00:00:00\",\"2021-08-23T00:00:00\",\"2021-08-24T00:00:00\",\"2021-08-25T00:00:00\",\"2021-08-26T00:00:00\",\"2021-08-27T00:00:00\",\"2021-08-28T00:00:00\",\"2021-08-29T00:00:00\",\"2021-08-30T00:00:00\",\"2021-08-31T00:00:00\",\"2021-09-01T00:00:00\",\"2021-09-02T00:00:00\",\"2021-09-03T00:00:00\",\"2021-09-04T00:00:00\",\"2021-09-05T00:00:00\",\"2021-09-06T00:00:00\",\"2021-09-07T00:00:00\",\"2021-09-08T00:00:00\",\"2021-09-09T00:00:00\",\"2021-09-10T00:00:00\",\"2021-09-11T00:00:00\",\"2021-09-12T00:00:00\",\"2021-09-13T00:00:00\",\"2021-09-14T00:00:00\",\"2021-09-15T00:00:00\",\"2021-09-16T00:00:00\",\"2021-09-17T00:00:00\",\"2021-09-18T00:00:00\",\"2021-09-19T00:00:00\",\"2021-09-20T00:00:00\",\"2021-09-21T00:00:00\",\"2021-09-22T00:00:00\",\"2021-09-23T00:00:00\",\"2021-09-24T00:00:00\",\"2021-09-25T00:00:00\",\"2021-09-26T00:00:00\",\"2021-09-27T00:00:00\",\"2021-09-28T00:00:00\",\"2021-09-29T00:00:00\",\"2021-09-30T00:00:00\",\"2021-10-01T00:00:00\",\"2021-10-02T00:00:00\",\"2021-10-03T00:00:00\",\"2021-10-04T00:00:00\",\"2021-10-05T00:00:00\",\"2021-10-06T00:00:00\",\"2021-10-07T00:00:00\",\"2021-10-08T00:00:00\",\"2021-10-09T00:00:00\",\"2021-10-10T00:00:00\",\"2021-10-11T00:00:00\",\"2021-10-12T00:00:00\",\"2021-10-13T00:00:00\",\"2021-10-14T00:00:00\",\"2021-10-15T00:00:00\",\"2021-10-16T00:00:00\",\"2021-10-17T00:00:00\",\"2021-10-18T00:00:00\",\"2021-10-19T00:00:00\",\"2021-10-20T00:00:00\",\"2021-10-21T00:00:00\",\"2021-10-22T00:00:00\",\"2021-10-23T00:00:00\",\"2021-10-24T00:00:00\",\"2021-10-25T00:00:00\",\"2021-10-26T00:00:00\",\"2021-10-27T00:00:00\",\"2021-10-28T00:00:00\",\"2021-10-29T00:00:00\",\"2021-10-30T00:00:00\",\"2021-10-31T00:00:00\",\"2021-11-01T00:00:00\",\"2021-11-02T00:00:00\",\"2021-11-03T00:00:00\",\"2021-11-04T00:00:00\",\"2021-11-05T00:00:00\",\"2021-11-06T00:00:00\",\"2021-11-07T00:00:00\",\"2021-11-08T00:00:00\",\"2021-11-09T00:00:00\",\"2021-11-10T00:00:00\",\"2021-11-11T00:00:00\",\"2021-11-12T00:00:00\",\"2021-11-13T00:00:00\",\"2021-11-14T00:00:00\",\"2021-11-15T00:00:00\",\"2021-11-16T00:00:00\",\"2021-11-17T00:00:00\",\"2021-11-18T00:00:00\",\"2021-11-19T00:00:00\",\"2021-11-20T00:00:00\",\"2021-11-21T00:00:00\",\"2021-11-22T00:00:00\",\"2021-11-23T00:00:00\",\"2021-11-24T00:00:00\",\"2021-11-25T00:00:00\",\"2021-11-26T00:00:00\",\"2021-11-27T00:00:00\",\"2021-11-28T00:00:00\",\"2021-11-29T00:00:00\",\"2021-11-30T00:00:00\",\"2021-12-01T00:00:00\",\"2021-12-02T00:00:00\",\"2021-12-03T00:00:00\",\"2021-12-04T00:00:00\",\"2021-12-05T00:00:00\",\"2021-12-06T00:00:00\",\"2021-12-07T00:00:00\",\"2021-12-08T00:00:00\",\"2021-12-09T00:00:00\",\"2021-12-10T00:00:00\",\"2021-12-11T00:00:00\",\"2021-12-12T00:00:00\",\"2021-12-13T00:00:00\",\"2021-12-14T00:00:00\",\"2021-12-15T00:00:00\",\"2021-12-16T00:00:00\",\"2021-12-17T00:00:00\",\"2021-12-18T00:00:00\",\"2021-12-19T00:00:00\",\"2021-12-20T00:00:00\",\"2021-12-21T00:00:00\",\"2021-12-22T00:00:00\",\"2021-12-23T00:00:00\",\"2021-12-24T00:00:00\",\"2021-12-25T00:00:00\",\"2021-12-26T00:00:00\",\"2021-12-27T00:00:00\",\"2021-12-28T00:00:00\",\"2021-12-29T00:00:00\",\"2021-12-30T00:00:00\",\"2021-12-31T00:00:00\",\"2022-01-01T00:00:00\",\"2022-01-02T00:00:00\",\"2022-01-03T00:00:00\",\"2022-01-04T00:00:00\",\"2022-01-05T00:00:00\",\"2022-01-06T00:00:00\",\"2022-01-07T00:00:00\",\"2022-01-08T00:00:00\",\"2022-01-09T00:00:00\",\"2022-01-10T00:00:00\",\"2022-01-11T00:00:00\",\"2022-01-12T00:00:00\",\"2022-01-13T00:00:00\",\"2022-01-14T00:00:00\",\"2022-01-15T00:00:00\",\"2022-01-16T00:00:00\",\"2022-01-17T00:00:00\",\"2022-01-18T00:00:00\",\"2022-01-19T00:00:00\",\"2022-01-20T00:00:00\",\"2022-01-21T00:00:00\",\"2022-01-22T00:00:00\",\"2022-01-23T00:00:00\",\"2022-01-24T00:00:00\",\"2022-01-25T00:00:00\",\"2022-01-26T00:00:00\",\"2022-01-27T00:00:00\",\"2022-01-28T00:00:00\",\"2022-01-29T00:00:00\",\"2022-01-30T00:00:00\",\"2022-01-31T00:00:00\",\"2022-02-01T00:00:00\",\"2022-02-02T00:00:00\",\"2022-02-03T00:00:00\",\"2022-02-04T00:00:00\",\"2022-02-05T00:00:00\",\"2022-02-06T00:00:00\",\"2022-02-07T00:00:00\",\"2022-02-08T00:00:00\",\"2022-02-09T00:00:00\",\"2022-02-10T00:00:00\",\"2022-02-11T00:00:00\",\"2022-02-12T00:00:00\",\"2022-02-13T00:00:00\",\"2022-02-14T00:00:00\",\"2022-02-15T00:00:00\",\"2022-02-16T00:00:00\",\"2022-02-17T00:00:00\",\"2022-02-18T00:00:00\",\"2022-02-19T00:00:00\",\"2022-02-20T00:00:00\",\"2022-02-21T00:00:00\",\"2022-02-22T00:00:00\",\"2022-02-23T00:00:00\",\"2022-02-24T00:00:00\",\"2022-02-25T00:00:00\",\"2022-02-26T00:00:00\",\"2022-02-27T00:00:00\",\"2022-02-28T00:00:00\",\"2022-03-01T00:00:00\",\"2022-03-02T00:00:00\",\"2022-03-03T00:00:00\",\"2022-03-04T00:00:00\",\"2022-03-05T00:00:00\",\"2022-03-06T00:00:00\",\"2022-03-07T00:00:00\",\"2022-03-08T00:00:00\",\"2022-03-09T00:00:00\",\"2022-03-10T00:00:00\",\"2022-03-11T00:00:00\",\"2022-03-12T00:00:00\",\"2022-03-13T00:00:00\",\"2022-03-14T00:00:00\",\"2022-03-15T00:00:00\",\"2022-03-16T00:00:00\",\"2022-03-17T00:00:00\",\"2022-03-18T00:00:00\",\"2022-03-19T00:00:00\",\"2022-03-20T00:00:00\",\"2022-03-21T00:00:00\",\"2022-03-22T00:00:00\",\"2022-03-23T00:00:00\",\"2022-03-24T00:00:00\",\"2022-03-25T00:00:00\",\"2022-03-26T00:00:00\",\"2022-03-27T00:00:00\",\"2022-03-28T00:00:00\",\"2022-03-29T00:00:00\",\"2022-03-30T00:00:00\",\"2022-03-31T00:00:00\",\"2022-04-01T00:00:00\",\"2022-04-02T00:00:00\",\"2022-04-03T00:00:00\",\"2022-04-04T00:00:00\",\"2022-04-05T00:00:00\",\"2022-04-06T00:00:00\",\"2022-04-07T00:00:00\",\"2022-04-08T00:00:00\",\"2022-04-09T00:00:00\",\"2022-04-10T00:00:00\",\"2022-04-11T00:00:00\",\"2022-04-12T00:00:00\",\"2022-04-13T00:00:00\",\"2022-04-14T00:00:00\",\"2022-04-15T00:00:00\",\"2022-04-16T00:00:00\",\"2022-04-17T00:00:00\",\"2022-04-18T00:00:00\",\"2022-04-19T00:00:00\",\"2022-04-20T00:00:00\",\"2022-04-21T00:00:00\",\"2022-04-22T00:00:00\",\"2022-04-23T00:00:00\",\"2022-04-24T00:00:00\",\"2022-04-25T00:00:00\",\"2022-04-26T00:00:00\",\"2022-04-27T00:00:00\",\"2022-04-28T00:00:00\",\"2022-04-29T00:00:00\",\"2022-04-30T00:00:00\"],\"xaxis\":\"x\",\"y\":[0.005685000214725733,0.010614999569952488,0.009770999662578106,0.009766999632120132,0.009920000098645687,0.010464999824762344,0.00974200014024973,0.009846000000834465,0.010193999856710434,0.009859999641776085,0.008834999985992908,0.008062999695539474,0.008616000413894653,0.009397000074386597,0.009368999861180782,0.009265000000596046,0.009066999889910221,0.009170999750494957,0.009097999893128872,0.009060000069439411,0.008166000247001648,0.008523999713361263,0.008578999899327755,0.008727000094950199,0.008383000269532204,0.008255000226199627,0.007482000160962343,0.03408399969339371,0.047162000089883804,0.028176000341773033,0.037195999175310135,0.03487500175833702,0.03152000159025192,0.03711999952793121,0.05328899994492531,0.04693499952554703,0.05759499967098236,0.07878199964761734,0.07882499694824219,0.07006999850273132,0.07289600372314453,0.0696759968996048,0.07006900012493134,0.06644999980926514,0.06253699958324432,0.05659100040793419,0.05352000147104263,0.049375999718904495,0.0595409981906414,0.055139001458883286,0.05438400059938431,0.055980000644922256,0.053725000470876694,0.04739199951291084,0.05655499920248985,0.05016700178384781,0.05048000067472458,0.05008300021290779,0.04805200174450874,0.050599001348018646,0.050262000411748886,0.050592001527547836,0.05004800111055374,0.049609001725912094,0.05098399892449379,0.052122000604867935,0.061948999762535095,0.05799800157546997,0.05600399896502495,0.055918000638484955,0.05534899979829788,0.062431998550891876,0.05859199911355972,0.05708799883723259,0.05860700085759163,0.057652998715639114,0.05738300085067749,0.05832799896597862,0.05896100029349327,0.05723400041460991,0.054962001740932465,0.05355599895119667,0.051702000200748444,0.051447998732328415,0.05395200103521347,0.0543770007789135,0.05369799956679344,0.054051999002695084,0.05389999970793724,0.05365699902176857,0.06198599934577942,0.05766399949789047,0.05580399930477142,0.05740400031208992,0.059696000069379807,0.06445799767971039,0.05902799963951111,0.06146400049328804,0.06168400123715401,0.06384500116109848,0.07464899867773056,0.07076700031757355,0.09344500303268433,0.12151700258255005,0.18220700323581696,0.36586999893188477,0.28417301177978516,0.3204750120639801,0.40731799602508545,0.31949999928474426,0.3069249987602234,0.2609669864177704,0.2485090047121048,0.27021199464797974,0.2511110007762909,0.2706739902496338,0.2721880078315735,0.3236820101737976,0.3051689863204956,0.3375610113143921,0.3929870128631592,0.37604600191116333,0.44170698523521423,0.5413339734077454,0.6576330065727234,0.5808039903640747,0.684777021408081,0.6364390254020691,0.5700700283050537,0.4499639868736267,0.4952310025691986,0.3853760063648224,0.49037399888038635,0.5596039891242981,0.507972002029419,0.5148950219154358,0.4878920018672943,0.47611498832702637,0.33312299847602844,0.400193989276886,0.3593820035457611,0.34237098693847656,0.30807098746299744,0.3661620020866394,0.34630200266838074,0.35369300842285156,0.33294498920440674,0.3112049996852875,0.3031100034713745,0.3022240102291107,0.3258099853992462,0.3700770139694214,0.4233739972114563,0.39996299147605896,0.37632301449775696,0.37217700481414795,0.3718070089817047,0.33105000853538513,0.32768699526786804,0.3433310091495514,0.32635098695755005,0.3193590044975281,0.31208398938179016,0.3243820071220398,0.3320850133895874,0.3283810019493103,0.307761013507843,0.3064959943294525,0.2934719920158386,0.2873559892177582,0.2809000015258789,0.17869099974632263,0.19103099405765533,0.23217399418354034,0.2627820074558258,0.23915299773216248,0.24478399753570557,0.2644500136375427,0.2568570077419281,0.26276901364326477,0.2542150020599365,0.2445490062236786,0.2452639937400818,0.24641099572181702,0.2464829981327057,0.23161399364471436,0.2344219982624054,0.22412599623203278,0.20759700238704681,0.21986399590969086,0.213919997215271,0.21585600078105927,0.2080480009317398,0.2000029981136322,0.1973239928483963,0.18488800525665283,0.17234499752521515,0.1861249953508377,0.18223300576210022,0.17355599999427795,0.17080099880695343,0.19034899771213531,0.19130299985408783,0.19476400315761566,0.19731900095939636,0.19786399602890015,0.20441900193691254,0.20589900016784668,0.2053920030593872,0.20461900532245636,0.20882099866867065,0.20831400156021118,0.2044370025396347,0.20360000431537628,0.19596700370311737,0.20148999989032745,0.2009740024805069,0.20468799769878387,0.26034098863601685,0.2400449961423874,0.2568970024585724,0.2573249936103821,0.26526299118995667,0.26392099261283875,0.2868080139160156,0.29311299324035645,0.34144100546836853,0.3207150101661682,0.29944199323654175,0.3037390112876892,0.3171440064907074,0.32749098539352417,0.3167969882488251,0.3149630129337311,0.3179140090942383,0.28873899579048157,0.29222598671913147,0.2689090073108673,0.29443299770355225,0.285629004240036,0.281125009059906,0.2721250057220459,0.27845299243927,0.29440099000930786,0.29595500230789185,0.29627299308776855,0.29938799142837524,0.3145270049571991,0.3087649941444397,0.2537440061569214,0.2571130096912384,0.252595990896225,0.2399819940328598,0.24143199622631073,0.25061699748039246,0.23590600490570068,0.24070900678634644,0.24769699573516846,0.24255500733852386,0.23993000388145447,0.24138599634170532,0.23314200341701508,0.20707100629806519,0.2010270059108734,0.22485800087451935,0.22483199834823608,0.20945100486278534,0.208639994263649,0.20496200025081635,0.20026199519634247,0.1968040019273758,0.19887599349021912,0.204244002699852,0.22301000356674194,0.21913300454616547,0.2217479944229126,0.2408519983291626,0.25201600790023804,0.2551339864730835,0.24292300641536713,0.24385100603103638,0.24659599363803864,0.22980499267578125,0.23150299489498138,0.22624200582504272,0.23257200419902802,0.23227299749851227,0.23378199338912964,0.23729200661182404,0.23789800703525543,0.2472810000181198,0.24578799307346344,0.2540929913520813,0.24239100515842438,0.24422100186347961,0.2517330050468445,0.2770479917526245,0.2647069990634918,0.255731999874115,0.2376900017261505,0.3004469871520996,0.2878530025482178,0.2683449983596802,0.28024399280548096,0.2717280089855194,0.2731209993362427,0.2694070041179657,0.2632800042629242,0.26146501302719116,0.261898010969162,0.2663150131702423,0.2823590040206909,0.27352601289749146,0.2557089924812317,0.2611669898033142,0.2594139873981476,0.26170599460601807,0.26291200518608093,0.2565290033817291,0.2372490018606186,0.23748700320720673,0.2213830053806305,0.2331099957227707,0.233024001121521,0.22632800042629242,0.21967600286006927,0.22651199996471405,0.2218250036239624,0.21632599830627441,0.20088699460029602,0.2053470015525818,0.20747199654579163,0.21517500281333923,0.21471500396728516,0.20948700606822968,0.2097260057926178,0.19999299943447113,0.17885300517082214,0.17125500738620758,0.17839999496936798,0.17680500447750092,0.1791509985923767,0.1694840043783188,0.16442200541496277,0.16901899874210358,0.16989099979400635,0.15756499767303467,0.18015700578689575,0.18108199536800385,0.17345400154590607,0.1690099984407425,0.17239999771118164,0.1695760041475296,0.16732199490070343,0.1711750030517578,0.17321400344371796,0.18448999524116516,0.1866219937801361,0.19065700471401215,0.19001999497413635,0.18770499527454376,0.17411699891090393,0.16776500642299652,0.17131300270557404,0.17049600183963776,0.17303499579429626,0.17440299689769745,0.170087993144989,0.16880300641059875,0.15941999852657318,0.16021299362182617,0.155022993683815,0.15195399522781372,0.15106500685214996,0.1433590054512024,0.1533990055322647,0.16165199875831604,0.17204299569129944,0.18354900181293488,0.18510299921035767,0.17717599868774414,0.1711450070142746,0.16548499464988708,0.16235600411891937,0.15520399808883667,0.14263999462127686,0.13289199769496918,0.14186300337314606,0.1377979964017868,0.14304900169372559,0.14378899335861206,0.1412470042705536,0.14165599644184113,0.1430560052394867,0.13947099447250366,0.1418049931526184,0.14263099431991577,0.13723500072956085,0.1375409960746765,0.14750300347805023,0.1471409946680069,0.15376999974250793,0.1655779927968979,0.15840500593185425,0.1591230034828186,0.15188899636268616,0.14484700560569763,0.14440500736236572,0.14894799888134003,0.14600299298763275,0.151760995388031,0.14909499883651733,0.1385519951581955,0.1387680023908615,0.14120599627494812,0.13686800003051758,0.12849000096321106,0.13155299425125122,0.12784600257873535,0.12381300330162048,0.12757599353790283,0.12764699757099152,0.12311100214719772,0.13315600156784058,0.1339379996061325,0.1329900026321411,0.12961000204086304,0.12259099632501602,0.12499599903821945,0.12076599895954132,0.11710499972105026,0.11702899634838104,0.12158799916505814,0.1168849989771843,0.11560200154781342,0.11513599753379822,0.11160799860954285,0.11404799669981003,0.1127839982509613,0.116907998919487,0.11650200188159943,0.11930599808692932,0.12356899678707123,0.11915399879217148,0.1193389967083931,0.12248100340366364,0.12972700595855713,0.13654999434947968,0.13101300597190857,0.13586799800395966,0.14473199844360352,0.14265699684619904,0.1444700062274933,0.14320999383926392,0.13782599568367004,0.14131499826908112,0.13891300559043884,0.14645299315452576,0.14859099686145782,0.1729069948196411,0.14341700077056885,0.14610199630260468,0.14254899322986603,0.14430299401283264,0.14953500032424927,0.1346540004014969,0.13807600736618042,0.14008000493049622,0.14392000436782837,0.14602600038051605,0.14371199905872345,0.13945899903774261,0.14028599858283997,0.14266499876976013,0.14087800681591034,0.13636499643325806,0.13639500737190247,0.1342409998178482,0.13194699585437775,0.1579589992761612,0.1377670019865036,0.1396999955177307,0.137363001704216,0.13502700626850128,0.12755699455738068],\"yaxis\":\"y\",\"type\":\"scattergl\"},{\"hovertemplate\":\"variable=BNB<br>Date=%{x}<br>value=%{y}<extra></extra>\",\"legendgroup\":\"BNB\",\"line\":{\"color\":\"#ab63fa\",\"dash\":\"solid\"},\"marker\":{\"symbol\":\"circle\"},\"mode\":\"lines\",\"name\":\"BNB\",\"showlegend\":true,\"x\":[\"2021-01-01T00:00:00\",\"2021-01-02T00:00:00\",\"2021-01-03T00:00:00\",\"2021-01-04T00:00:00\",\"2021-01-05T00:00:00\",\"2021-01-06T00:00:00\",\"2021-01-07T00:00:00\",\"2021-01-08T00:00:00\",\"2021-01-09T00:00:00\",\"2021-01-10T00:00:00\",\"2021-01-11T00:00:00\",\"2021-01-12T00:00:00\",\"2021-01-13T00:00:00\",\"2021-01-14T00:00:00\",\"2021-01-15T00:00:00\",\"2021-01-16T00:00:00\",\"2021-01-17T00:00:00\",\"2021-01-18T00:00:00\",\"2021-01-19T00:00:00\",\"2021-01-20T00:00:00\",\"2021-01-21T00:00:00\",\"2021-01-22T00:00:00\",\"2021-01-23T00:00:00\",\"2021-01-24T00:00:00\",\"2021-01-25T00:00:00\",\"2021-01-26T00:00:00\",\"2021-01-27T00:00:00\",\"2021-01-28T00:00:00\",\"2021-01-29T00:00:00\",\"2021-01-30T00:00:00\",\"2021-01-31T00:00:00\",\"2021-02-01T00:00:00\",\"2021-02-02T00:00:00\",\"2021-02-03T00:00:00\",\"2021-02-04T00:00:00\",\"2021-02-05T00:00:00\",\"2021-02-06T00:00:00\",\"2021-02-07T00:00:00\",\"2021-02-08T00:00:00\",\"2021-02-09T00:00:00\",\"2021-02-10T00:00:00\",\"2021-02-11T00:00:00\",\"2021-02-12T00:00:00\",\"2021-02-13T00:00:00\",\"2021-02-14T00:00:00\",\"2021-02-15T00:00:00\",\"2021-02-16T00:00:00\",\"2021-02-17T00:00:00\",\"2021-02-18T00:00:00\",\"2021-02-19T00:00:00\",\"2021-02-20T00:00:00\",\"2021-02-21T00:00:00\",\"2021-02-22T00:00:00\",\"2021-02-23T00:00:00\",\"2021-02-24T00:00:00\",\"2021-02-25T00:00:00\",\"2021-02-26T00:00:00\",\"2021-02-27T00:00:00\",\"2021-02-28T00:00:00\",\"2021-03-01T00:00:00\",\"2021-03-02T00:00:00\",\"2021-03-03T00:00:00\",\"2021-03-04T00:00:00\",\"2021-03-05T00:00:00\",\"2021-03-06T00:00:00\",\"2021-03-07T00:00:00\",\"2021-03-08T00:00:00\",\"2021-03-09T00:00:00\",\"2021-03-10T00:00:00\",\"2021-03-11T00:00:00\",\"2021-03-12T00:00:00\",\"2021-03-13T00:00:00\",\"2021-03-14T00:00:00\",\"2021-03-15T00:00:00\",\"2021-03-16T00:00:00\",\"2021-03-17T00:00:00\",\"2021-03-18T00:00:00\",\"2021-03-19T00:00:00\",\"2021-03-20T00:00:00\",\"2021-03-21T00:00:00\",\"2021-03-22T00:00:00\",\"2021-03-23T00:00:00\",\"2021-03-24T00:00:00\",\"2021-03-25T00:00:00\",\"2021-03-26T00:00:00\",\"2021-03-27T00:00:00\",\"2021-03-28T00:00:00\",\"2021-03-29T00:00:00\",\"2021-03-30T00:00:00\",\"2021-03-31T00:00:00\",\"2021-04-01T00:00:00\",\"2021-04-02T00:00:00\",\"2021-04-03T00:00:00\",\"2021-04-04T00:00:00\",\"2021-04-05T00:00:00\",\"2021-04-06T00:00:00\",\"2021-04-07T00:00:00\",\"2021-04-08T00:00:00\",\"2021-04-09T00:00:00\",\"2021-04-10T00:00:00\",\"2021-04-11T00:00:00\",\"2021-04-12T00:00:00\",\"2021-04-13T00:00:00\",\"2021-04-14T00:00:00\",\"2021-04-15T00:00:00\",\"2021-04-16T00:00:00\",\"2021-04-17T00:00:00\",\"2021-04-18T00:00:00\",\"2021-04-19T00:00:00\",\"2021-04-20T00:00:00\",\"2021-04-21T00:00:00\",\"2021-04-22T00:00:00\",\"2021-04-23T00:00:00\",\"2021-04-24T00:00:00\",\"2021-04-25T00:00:00\",\"2021-04-26T00:00:00\",\"2021-04-27T00:00:00\",\"2021-04-28T00:00:00\",\"2021-04-29T00:00:00\",\"2021-04-30T00:00:00\",\"2021-05-01T00:00:00\",\"2021-05-02T00:00:00\",\"2021-05-03T00:00:00\",\"2021-05-04T00:00:00\",\"2021-05-05T00:00:00\",\"2021-05-06T00:00:00\",\"2021-05-07T00:00:00\",\"2021-05-08T00:00:00\",\"2021-05-09T00:00:00\",\"2021-05-10T00:00:00\",\"2021-05-11T00:00:00\",\"2021-05-12T00:00:00\",\"2021-05-13T00:00:00\",\"2021-05-14T00:00:00\",\"2021-05-15T00:00:00\",\"2021-05-16T00:00:00\",\"2021-05-17T00:00:00\",\"2021-05-18T00:00:00\",\"2021-05-19T00:00:00\",\"2021-05-20T00:00:00\",\"2021-05-21T00:00:00\",\"2021-05-22T00:00:00\",\"2021-05-23T00:00:00\",\"2021-05-24T00:00:00\",\"2021-05-25T00:00:00\",\"2021-05-26T00:00:00\",\"2021-05-27T00:00:00\",\"2021-05-28T00:00:00\",\"2021-05-29T00:00:00\",\"2021-05-30T00:00:00\",\"2021-05-31T00:00:00\",\"2021-06-01T00:00:00\",\"2021-06-02T00:00:00\",\"2021-06-03T00:00:00\",\"2021-06-04T00:00:00\",\"2021-06-05T00:00:00\",\"2021-06-06T00:00:00\",\"2021-06-07T00:00:00\",\"2021-06-08T00:00:00\",\"2021-06-09T00:00:00\",\"2021-06-10T00:00:00\",\"2021-06-11T00:00:00\",\"2021-06-12T00:00:00\",\"2021-06-13T00:00:00\",\"2021-06-14T00:00:00\",\"2021-06-15T00:00:00\",\"2021-06-16T00:00:00\",\"2021-06-17T00:00:00\",\"2021-06-18T00:00:00\",\"2021-06-19T00:00:00\",\"2021-06-20T00:00:00\",\"2021-06-21T00:00:00\",\"2021-06-22T00:00:00\",\"2021-06-23T00:00:00\",\"2021-06-24T00:00:00\",\"2021-06-25T00:00:00\",\"2021-06-26T00:00:00\",\"2021-06-27T00:00:00\",\"2021-06-28T00:00:00\",\"2021-06-29T00:00:00\",\"2021-06-30T00:00:00\",\"2021-07-01T00:00:00\",\"2021-07-02T00:00:00\",\"2021-07-03T00:00:00\",\"2021-07-04T00:00:00\",\"2021-07-05T00:00:00\",\"2021-07-06T00:00:00\",\"2021-07-07T00:00:00\",\"2021-07-08T00:00:00\",\"2021-07-09T00:00:00\",\"2021-07-10T00:00:00\",\"2021-07-11T00:00:00\",\"2021-07-12T00:00:00\",\"2021-07-13T00:00:00\",\"2021-07-14T00:00:00\",\"2021-07-15T00:00:00\",\"2021-07-16T00:00:00\",\"2021-07-17T00:00:00\",\"2021-07-18T00:00:00\",\"2021-07-19T00:00:00\",\"2021-07-20T00:00:00\",\"2021-07-21T00:00:00\",\"2021-07-22T00:00:00\",\"2021-07-23T00:00:00\",\"2021-07-24T00:00:00\",\"2021-07-25T00:00:00\",\"2021-07-26T00:00:00\",\"2021-07-27T00:00:00\",\"2021-07-28T00:00:00\",\"2021-07-29T00:00:00\",\"2021-07-30T00:00:00\",\"2021-07-31T00:00:00\",\"2021-08-01T00:00:00\",\"2021-08-02T00:00:00\",\"2021-08-03T00:00:00\",\"2021-08-04T00:00:00\",\"2021-08-05T00:00:00\",\"2021-08-06T00:00:00\",\"2021-08-07T00:00:00\",\"2021-08-08T00:00:00\",\"2021-08-09T00:00:00\",\"2021-08-10T00:00:00\",\"2021-08-11T00:00:00\",\"2021-08-12T00:00:00\",\"2021-08-13T00:00:00\",\"2021-08-14T00:00:00\",\"2021-08-15T00:00:00\",\"2021-08-16T00:00:00\",\"2021-08-17T00:00:00\",\"2021-08-18T00:00:00\",\"2021-08-19T00:00:00\",\"2021-08-20T00:00:00\",\"2021-08-21T00:00:00\",\"2021-08-22T00:00:00\",\"2021-08-23T00:00:00\",\"2021-08-24T00:00:00\",\"2021-08-25T00:00:00\",\"2021-08-26T00:00:00\",\"2021-08-27T00:00:00\",\"2021-08-28T00:00:00\",\"2021-08-29T00:00:00\",\"2021-08-30T00:00:00\",\"2021-08-31T00:00:00\",\"2021-09-01T00:00:00\",\"2021-09-02T00:00:00\",\"2021-09-03T00:00:00\",\"2021-09-04T00:00:00\",\"2021-09-05T00:00:00\",\"2021-09-06T00:00:00\",\"2021-09-07T00:00:00\",\"2021-09-08T00:00:00\",\"2021-09-09T00:00:00\",\"2021-09-10T00:00:00\",\"2021-09-11T00:00:00\",\"2021-09-12T00:00:00\",\"2021-09-13T00:00:00\",\"2021-09-14T00:00:00\",\"2021-09-15T00:00:00\",\"2021-09-16T00:00:00\",\"2021-09-17T00:00:00\",\"2021-09-18T00:00:00\",\"2021-09-19T00:00:00\",\"2021-09-20T00:00:00\",\"2021-09-21T00:00:00\",\"2021-09-22T00:00:00\",\"2021-09-23T00:00:00\",\"2021-09-24T00:00:00\",\"2021-09-25T00:00:00\",\"2021-09-26T00:00:00\",\"2021-09-27T00:00:00\",\"2021-09-28T00:00:00\",\"2021-09-29T00:00:00\",\"2021-09-30T00:00:00\",\"2021-10-01T00:00:00\",\"2021-10-02T00:00:00\",\"2021-10-03T00:00:00\",\"2021-10-04T00:00:00\",\"2021-10-05T00:00:00\",\"2021-10-06T00:00:00\",\"2021-10-07T00:00:00\",\"2021-10-08T00:00:00\",\"2021-10-09T00:00:00\",\"2021-10-10T00:00:00\",\"2021-10-11T00:00:00\",\"2021-10-12T00:00:00\",\"2021-10-13T00:00:00\",\"2021-10-14T00:00:00\",\"2021-10-15T00:00:00\",\"2021-10-16T00:00:00\",\"2021-10-17T00:00:00\",\"2021-10-18T00:00:00\",\"2021-10-19T00:00:00\",\"2021-10-20T00:00:00\",\"2021-10-21T00:00:00\",\"2021-10-22T00:00:00\",\"2021-10-23T00:00:00\",\"2021-10-24T00:00:00\",\"2021-10-25T00:00:00\",\"2021-10-26T00:00:00\",\"2021-10-27T00:00:00\",\"2021-10-28T00:00:00\",\"2021-10-29T00:00:00\",\"2021-10-30T00:00:00\",\"2021-10-31T00:00:00\",\"2021-11-01T00:00:00\",\"2021-11-02T00:00:00\",\"2021-11-03T00:00:00\",\"2021-11-04T00:00:00\",\"2021-11-05T00:00:00\",\"2021-11-06T00:00:00\",\"2021-11-07T00:00:00\",\"2021-11-08T00:00:00\",\"2021-11-09T00:00:00\",\"2021-11-10T00:00:00\",\"2021-11-11T00:00:00\",\"2021-11-12T00:00:00\",\"2021-11-13T00:00:00\",\"2021-11-14T00:00:00\",\"2021-11-15T00:00:00\",\"2021-11-16T00:00:00\",\"2021-11-17T00:00:00\",\"2021-11-18T00:00:00\",\"2021-11-19T00:00:00\",\"2021-11-20T00:00:00\",\"2021-11-21T00:00:00\",\"2021-11-22T00:00:00\",\"2021-11-23T00:00:00\",\"2021-11-24T00:00:00\",\"2021-11-25T00:00:00\",\"2021-11-26T00:00:00\",\"2021-11-27T00:00:00\",\"2021-11-28T00:00:00\",\"2021-11-29T00:00:00\",\"2021-11-30T00:00:00\",\"2021-12-01T00:00:00\",\"2021-12-02T00:00:00\",\"2021-12-03T00:00:00\",\"2021-12-04T00:00:00\",\"2021-12-05T00:00:00\",\"2021-12-06T00:00:00\",\"2021-12-07T00:00:00\",\"2021-12-08T00:00:00\",\"2021-12-09T00:00:00\",\"2021-12-10T00:00:00\",\"2021-12-11T00:00:00\",\"2021-12-12T00:00:00\",\"2021-12-13T00:00:00\",\"2021-12-14T00:00:00\",\"2021-12-15T00:00:00\",\"2021-12-16T00:00:00\",\"2021-12-17T00:00:00\",\"2021-12-18T00:00:00\",\"2021-12-19T00:00:00\",\"2021-12-20T00:00:00\",\"2021-12-21T00:00:00\",\"2021-12-22T00:00:00\",\"2021-12-23T00:00:00\",\"2021-12-24T00:00:00\",\"2021-12-25T00:00:00\",\"2021-12-26T00:00:00\",\"2021-12-27T00:00:00\",\"2021-12-28T00:00:00\",\"2021-12-29T00:00:00\",\"2021-12-30T00:00:00\",\"2021-12-31T00:00:00\",\"2022-01-01T00:00:00\",\"2022-01-02T00:00:00\",\"2022-01-03T00:00:00\",\"2022-01-04T00:00:00\",\"2022-01-05T00:00:00\",\"2022-01-06T00:00:00\",\"2022-01-07T00:00:00\",\"2022-01-08T00:00:00\",\"2022-01-09T00:00:00\",\"2022-01-10T00:00:00\",\"2022-01-11T00:00:00\",\"2022-01-12T00:00:00\",\"2022-01-13T00:00:00\",\"2022-01-14T00:00:00\",\"2022-01-15T00:00:00\",\"2022-01-16T00:00:00\",\"2022-01-17T00:00:00\",\"2022-01-18T00:00:00\",\"2022-01-19T00:00:00\",\"2022-01-20T00:00:00\",\"2022-01-21T00:00:00\",\"2022-01-22T00:00:00\",\"2022-01-23T00:00:00\",\"2022-01-24T00:00:00\",\"2022-01-25T00:00:00\",\"2022-01-26T00:00:00\",\"2022-01-27T00:00:00\",\"2022-01-28T00:00:00\",\"2022-01-29T00:00:00\",\"2022-01-30T00:00:00\",\"2022-01-31T00:00:00\",\"2022-02-01T00:00:00\",\"2022-02-02T00:00:00\",\"2022-02-03T00:00:00\",\"2022-02-04T00:00:00\",\"2022-02-05T00:00:00\",\"2022-02-06T00:00:00\",\"2022-02-07T00:00:00\",\"2022-02-08T00:00:00\",\"2022-02-09T00:00:00\",\"2022-02-10T00:00:00\",\"2022-02-11T00:00:00\",\"2022-02-12T00:00:00\",\"2022-02-13T00:00:00\",\"2022-02-14T00:00:00\",\"2022-02-15T00:00:00\",\"2022-02-16T00:00:00\",\"2022-02-17T00:00:00\",\"2022-02-18T00:00:00\",\"2022-02-19T00:00:00\",\"2022-02-20T00:00:00\",\"2022-02-21T00:00:00\",\"2022-02-22T00:00:00\",\"2022-02-23T00:00:00\",\"2022-02-24T00:00:00\",\"2022-02-25T00:00:00\",\"2022-02-26T00:00:00\",\"2022-02-27T00:00:00\",\"2022-02-28T00:00:00\",\"2022-03-01T00:00:00\",\"2022-03-02T00:00:00\",\"2022-03-03T00:00:00\",\"2022-03-04T00:00:00\",\"2022-03-05T00:00:00\",\"2022-03-06T00:00:00\",\"2022-03-07T00:00:00\",\"2022-03-08T00:00:00\",\"2022-03-09T00:00:00\",\"2022-03-10T00:00:00\",\"2022-03-11T00:00:00\",\"2022-03-12T00:00:00\",\"2022-03-13T00:00:00\",\"2022-03-14T00:00:00\",\"2022-03-15T00:00:00\",\"2022-03-16T00:00:00\",\"2022-03-17T00:00:00\",\"2022-03-18T00:00:00\",\"2022-03-19T00:00:00\",\"2022-03-20T00:00:00\",\"2022-03-21T00:00:00\",\"2022-03-22T00:00:00\",\"2022-03-23T00:00:00\",\"2022-03-24T00:00:00\",\"2022-03-25T00:00:00\",\"2022-03-26T00:00:00\",\"2022-03-27T00:00:00\",\"2022-03-28T00:00:00\",\"2022-03-29T00:00:00\",\"2022-03-30T00:00:00\",\"2022-03-31T00:00:00\",\"2022-04-01T00:00:00\",\"2022-04-02T00:00:00\",\"2022-04-03T00:00:00\",\"2022-04-04T00:00:00\",\"2022-04-05T00:00:00\",\"2022-04-06T00:00:00\",\"2022-04-07T00:00:00\",\"2022-04-08T00:00:00\",\"2022-04-09T00:00:00\",\"2022-04-10T00:00:00\",\"2022-04-11T00:00:00\",\"2022-04-12T00:00:00\",\"2022-04-13T00:00:00\",\"2022-04-14T00:00:00\",\"2022-04-15T00:00:00\",\"2022-04-16T00:00:00\",\"2022-04-17T00:00:00\",\"2022-04-18T00:00:00\",\"2022-04-19T00:00:00\",\"2022-04-20T00:00:00\",\"2022-04-21T00:00:00\",\"2022-04-22T00:00:00\",\"2022-04-23T00:00:00\",\"2022-04-24T00:00:00\",\"2022-04-25T00:00:00\",\"2022-04-26T00:00:00\",\"2022-04-27T00:00:00\",\"2022-04-28T00:00:00\",\"2022-04-29T00:00:00\",\"2022-04-30T00:00:00\"],\"xaxis\":\"x\",\"y\":[37.90501022338867,38.24159240722656,41.14897918701172,40.926353454589844,41.73460006713867,42.16595458984375,43.44948959350586,42.39531707763672,43.93285369873047,42.4484748840332,38.371360778808594,38.111610412597656,40.13593292236328,41.79368209838867,40.91897964477539,43.17182540893555,45.68461227416992,45.353172302246094,42.7855339050293,42.60689926147461,38.64583969116211,40.85757064819336,40.81547927856445,41.88160705566406,41.62370300292969,41.69473648071289,40.994876861572266,42.52910614013672,42.85234832763672,44.77227783203125,44.27599334716797,51.607696533203125,51.05640411376953,52.242637634277344,55.92512512207031,67.84556579589844,72.73359680175781,68.59052276611328,79.83154296875,107.89927673339844,129.73715209960938,124.43425750732422,136.94839477539062,133.4526824951172,136.426513671875,129.56788635253906,130.05665588378906,164.67010498046875,195.93263244628906,332.61602783203125,255.9537353515625,293.923583984375,267.5097961425781,230.99424743652344,254.359130859375,233.88595581054688,221.68043518066406,225.2494354248047,209.57440185546875,254.6299285888672,239.5225372314453,241.09136962890625,229.945068359375,226.37255859375,226.66685485839844,240.17921447753906,240.31866455078125,293.4632263183594,279.3580322265625,289.7908020019531,263.6858215332031,276.1047058105469,264.6367492675781,254.66082763671875,258.1006774902344,269.8548583984375,261.7048034667969,264.05743408203125,264.7416687011719,264.88616943359375,255.9001922607422,255.68966674804688,249.85137939453125,234.88543701171875,255.1045684814453,269.1023254394531,269.1912841796875,275.2146301269531,311.4264831542969,302.0634460449219,335.212890625,339.0077209472656,323.1335144042969,351.6243896484375,367.7724914550781,403.59075927734375,374.6588134765625,418.03839111328125,453.178466796875,472.5603332519531,525.3855590820312,598.72265625,549.5865478515625,549.5918579101562,542.632080078125,510.2201843261719,520.416748046875,481.03424072265625,505.0929260253906,587.0291137695312,546.0235595703125,506.01300048828125,526.5652465820312,496.4150695800781,505.0770568847656,534.5776977539062,568.4705200195312,562.632568359375,599.70654296875,624.08056640625,619.3472290039062,622.1010131835938,675.68408203125,611.2003173828125,651.6627197265625,633.2803955078125,624.5632934570312,646.100830078125,662.2285766601562,631.3519897460938,672.3339233398438,588.1851806640625,571.4345092773438,603.1282958984375,563.0416870117188,562.829833984375,511.9643859863281,508.0223083496094,339.0254821777344,393.6127624511719,326.29632568359375,299.50408935546875,262.9456787109375,345.30963134765625,344.1139831542969,379.85430908203125,367.6557922363281,329.8799133300781,305.0521545410156,325.7840270996094,354.329345703125,362.7946472167969,401.2623291015625,427.80792236328125,391.39532470703125,390.4318542480469,393.8202209472656,357.3102111816406,354.0013732910156,375.73468017578125,352.1831970214844,345.9336853027344,343.74102783203125,366.6489562988281,368.7927551269531,373.566162109375,347.033447265625,352.738525390625,336.8096923828125,335.71282958984375,340.06719970703125,270.98443603515625,261.8180847167969,294.49029541015625,308.39703369140625,281.62091064453125,279.43804931640625,290.5670166015625,289.53411865234375,300.2115478515625,303.2958679199219,288.2184143066406,287.423095703125,298.23712158203125,307.7320861816406,302.37799072265625,320.934814453125,327.5224609375,310.4271240234375,316.4845275878906,316.14013671875,322.0316467285156,316.32818603515625,308.8111572265625,309.4063720703125,315.2440185546875,302.985595703125,300.4979248046875,302.4804992675781,280.01861572265625,264.7823791503906,292.5313720703125,293.6411437988281,299.2829895019531,302.0718688964844,302.4361572265625,304.4782409667969,313.60260009765625,313.42864990234375,316.74945068359375,322.90936279296875,333.5495910644531,333.4840087890625,331.1031188964844,322.74774169921875,334.9187927246094,337.8738708496094,342.1369934082031,355.7413635253906,342.06475830078125,354.9668273925781,371.9543762207031,391.7570495605469,385.8189697265625,410.94488525390625,409.03448486328125,414.59503173828125,417.4708557128906,401.9089050292969,398.25146484375,430.9888610839844,454.9363098144531,448.9202575683594,449.0534973144531,499.8905944824219,471.595458984375,502.7862548828125,479.006103515625,494.4986877441406,486.1969299316406,480.28302001953125,459.4907531738281,464.4187316894531,490.0687255859375,483.9210510253906,488.6047058105469,498.07843017578125,504.619873046875,495.9250183105469,417.5087890625,415.1131591796875,421.27001953125,401.6217956542969,405.5273742675781,416.6832275390625,399.0634460449219,414.2362365722656,431.42303466796875,424.64923095703125,406.6328125,410.8092956542969,408.4716491699219,361.9659118652344,344.53460693359375,379.4403381347656,383.8204040527344,355.3162841796875,349.8800964355469,344.1817626953125,336.19122314453125,333.0325927734375,367.9895935058594,387.0573425292969,421.6431884765625,428.09832763671875,430.5088195800781,425.7489013671875,442.7061462402344,435.4013671875,438.7617492675781,419.10205078125,421.5494689941406,405.0693054199219,413.4562072753906,443.8675231933594,470.74969482421875,472.02239990234375,473.70263671875,465.6424560546875,470.62554931640625,485.11102294921875,488.14886474609375,501.02032470703125,471.2569274902344,478.6431579589844,485.90643310546875,476.63311767578125,484.64508056640625,478.0250549316406,449.00799560546875,492.0155334472656,529.6221313476562,527.9212036132812,524.3644409179688,551.2559204101562,554.4476318359375,568.5787963867188,559.7373046875,608.6480712890625,636.1139526367188,650.4540405273438,654.3150024414062,635.1906127929688,615.278076171875,629.892333984375,626.6425170898438,650.1041259765625,650.9180908203125,633.0486450195312,589.8228759765625,578.0927734375,532.2376098632812,581.5308227539062,603.8400268554688,585.2942504882812,559.1270141601562,591.4395751953125,581.3953247070312,603.730224609375,585.1473388671875,600.3367919921875,611.3668212890625,624.31005859375,622.6698608398438,627.9715576171875,619.4701538085938,594.635986328125,569.0772705078125,557.7830810546875,589.2561645507812,579.6898803710938,607.5927734375,571.6489868164062,552.9668579101562,564.322509765625,570.823974609375,521.0115966796875,511.2293701171875,541.0269775390625,526.2465209960938,525.706298828125,533.891357421875,529.9720458984375,523.1624755859375,528.7109985351562,533.6449584960938,548.725830078125,541.9020385742188,547.3262329101562,546.9949951171875,562.6414794921875,534.9280395507812,514.0007934570312,518.9097290039062,511.70831298828125,527.3527221679688,531.3966674804688,512.135986328125,507.506103515625,475.05694580078125,473.2756042480469,447.7884826660156,430.24615478515625,438.8030700683594,424.93377685546875,463.518310546875,487.0074157714844,475.02911376953125,489.867431640625,494.9880676269531,498.42791748046875,475.7098693847656,472.00506591796875,462.82208251953125,440.00543212890625,383.07391357421875,358.0961608886719,383.9339599609375,371.36895751953125,384.6193542480469,375.7554626464844,390.0882873535156,386.0843811035156,389.1327819824219,377.6129150390625,375.2773132324219,385.46380615234375,367.4716796875,370.87774658203125,399.02960205078125,414.20001220703125,419.5455627441406,433.2292785644531,408.7767639160156,422.4655456542969,415.1192321777344,400.4223937988281,403.3897399902344,398.88677978515625,403.6607971191406,432.4093933105469,427.9181213378906,402.4500427246094,399.5691833496094,400.0435791015625,380.825927734375,356.6612548828125,374.3074645996094,366.53948974609375,361.2346496582031,374.9149475097656,373.6387634277344,360.5310363769531,395.6124267578125,408.4822998046875,409.00030517578125,402.5506896972656,374.2808837890625,384.87335205078125,375.0111999511719,381.3446350097656,381.95855712890625,393.5557556152344,372.1590270996094,372.1840515136719,372.7303771972656,361.8498229980469,373.4661560058594,371.62884521484375,385.5282287597656,391.8247375488281,397.6455078125,399.8535461425781,390.76837158203125,396.44781494140625,404.31494140625,408.6097717285156,414.1269836425781,410.8111572265625,415.9197998046875,430.5032653808594,430.390869140625,434.50567626953125,442.6848449707031,428.9161071777344,446.6042785644531,436.9553527832031,450.348876953125,447.5249328613281,445.172607421875,420.1463623046875,436.7967834472656,421.67724609375,427.1530456542969,418.5906677246094,394.0868835449219,413.8739318847656,423.1301574707031,414.6637268066406,417.2937316894531,417.47845458984375,407.3777160644531,416.9684143066406,422.3870544433594,418.354248046875,405.0214538574219,406.9875183105469,401.6524658203125,399.1053771972656,404.35028076171875,385.4830627441406,391.4458312988281,406.71820068359375,393.0621643066406,377.767822265625],\"yaxis\":\"y\",\"type\":\"scattergl\"},{\"hovertemplate\":\"variable=ADA<br>Date=%{x}<br>value=%{y}<extra></extra>\",\"legendgroup\":\"ADA\",\"line\":{\"color\":\"#FFA15A\",\"dash\":\"solid\"},\"marker\":{\"symbol\":\"circle\"},\"mode\":\"lines\",\"name\":\"ADA\",\"showlegend\":true,\"x\":[\"2021-01-01T00:00:00\",\"2021-01-02T00:00:00\",\"2021-01-03T00:00:00\",\"2021-01-04T00:00:00\",\"2021-01-05T00:00:00\",\"2021-01-06T00:00:00\",\"2021-01-07T00:00:00\",\"2021-01-08T00:00:00\",\"2021-01-09T00:00:00\",\"2021-01-10T00:00:00\",\"2021-01-11T00:00:00\",\"2021-01-12T00:00:00\",\"2021-01-13T00:00:00\",\"2021-01-14T00:00:00\",\"2021-01-15T00:00:00\",\"2021-01-16T00:00:00\",\"2021-01-17T00:00:00\",\"2021-01-18T00:00:00\",\"2021-01-19T00:00:00\",\"2021-01-20T00:00:00\",\"2021-01-21T00:00:00\",\"2021-01-22T00:00:00\",\"2021-01-23T00:00:00\",\"2021-01-24T00:00:00\",\"2021-01-25T00:00:00\",\"2021-01-26T00:00:00\",\"2021-01-27T00:00:00\",\"2021-01-28T00:00:00\",\"2021-01-29T00:00:00\",\"2021-01-30T00:00:00\",\"2021-01-31T00:00:00\",\"2021-02-01T00:00:00\",\"2021-02-02T00:00:00\",\"2021-02-03T00:00:00\",\"2021-02-04T00:00:00\",\"2021-02-05T00:00:00\",\"2021-02-06T00:00:00\",\"2021-02-07T00:00:00\",\"2021-02-08T00:00:00\",\"2021-02-09T00:00:00\",\"2021-02-10T00:00:00\",\"2021-02-11T00:00:00\",\"2021-02-12T00:00:00\",\"2021-02-13T00:00:00\",\"2021-02-14T00:00:00\",\"2021-02-15T00:00:00\",\"2021-02-16T00:00:00\",\"2021-02-17T00:00:00\",\"2021-02-18T00:00:00\",\"2021-02-19T00:00:00\",\"2021-02-20T00:00:00\",\"2021-02-21T00:00:00\",\"2021-02-22T00:00:00\",\"2021-02-23T00:00:00\",\"2021-02-24T00:00:00\",\"2021-02-25T00:00:00\",\"2021-02-26T00:00:00\",\"2021-02-27T00:00:00\",\"2021-02-28T00:00:00\",\"2021-03-01T00:00:00\",\"2021-03-02T00:00:00\",\"2021-03-03T00:00:00\",\"2021-03-04T00:00:00\",\"2021-03-05T00:00:00\",\"2021-03-06T00:00:00\",\"2021-03-07T00:00:00\",\"2021-03-08T00:00:00\",\"2021-03-09T00:00:00\",\"2021-03-10T00:00:00\",\"2021-03-11T00:00:00\",\"2021-03-12T00:00:00\",\"2021-03-13T00:00:00\",\"2021-03-14T00:00:00\",\"2021-03-15T00:00:00\",\"2021-03-16T00:00:00\",\"2021-03-17T00:00:00\",\"2021-03-18T00:00:00\",\"2021-03-19T00:00:00\",\"2021-03-20T00:00:00\",\"2021-03-21T00:00:00\",\"2021-03-22T00:00:00\",\"2021-03-23T00:00:00\",\"2021-03-24T00:00:00\",\"2021-03-25T00:00:00\",\"2021-03-26T00:00:00\",\"2021-03-27T00:00:00\",\"2021-03-28T00:00:00\",\"2021-03-29T00:00:00\",\"2021-03-30T00:00:00\",\"2021-03-31T00:00:00\",\"2021-04-01T00:00:00\",\"2021-04-02T00:00:00\",\"2021-04-03T00:00:00\",\"2021-04-04T00:00:00\",\"2021-04-05T00:00:00\",\"2021-04-06T00:00:00\",\"2021-04-07T00:00:00\",\"2021-04-08T00:00:00\",\"2021-04-09T00:00:00\",\"2021-04-10T00:00:00\",\"2021-04-11T00:00:00\",\"2021-04-12T00:00:00\",\"2021-04-13T00:00:00\",\"2021-04-14T00:00:00\",\"2021-04-15T00:00:00\",\"2021-04-16T00:00:00\",\"2021-04-17T00:00:00\",\"2021-04-18T00:00:00\",\"2021-04-19T00:00:00\",\"2021-04-20T00:00:00\",\"2021-04-21T00:00:00\",\"2021-04-22T00:00:00\",\"2021-04-23T00:00:00\",\"2021-04-24T00:00:00\",\"2021-04-25T00:00:00\",\"2021-04-26T00:00:00\",\"2021-04-27T00:00:00\",\"2021-04-28T00:00:00\",\"2021-04-29T00:00:00\",\"2021-04-30T00:00:00\",\"2021-05-01T00:00:00\",\"2021-05-02T00:00:00\",\"2021-05-03T00:00:00\",\"2021-05-04T00:00:00\",\"2021-05-05T00:00:00\",\"2021-05-06T00:00:00\",\"2021-05-07T00:00:00\",\"2021-05-08T00:00:00\",\"2021-05-09T00:00:00\",\"2021-05-10T00:00:00\",\"2021-05-11T00:00:00\",\"2021-05-12T00:00:00\",\"2021-05-13T00:00:00\",\"2021-05-14T00:00:00\",\"2021-05-15T00:00:00\",\"2021-05-16T00:00:00\",\"2021-05-17T00:00:00\",\"2021-05-18T00:00:00\",\"2021-05-19T00:00:00\",\"2021-05-20T00:00:00\",\"2021-05-21T00:00:00\",\"2021-05-22T00:00:00\",\"2021-05-23T00:00:00\",\"2021-05-24T00:00:00\",\"2021-05-25T00:00:00\",\"2021-05-26T00:00:00\",\"2021-05-27T00:00:00\",\"2021-05-28T00:00:00\",\"2021-05-29T00:00:00\",\"2021-05-30T00:00:00\",\"2021-05-31T00:00:00\",\"2021-06-01T00:00:00\",\"2021-06-02T00:00:00\",\"2021-06-03T00:00:00\",\"2021-06-04T00:00:00\",\"2021-06-05T00:00:00\",\"2021-06-06T00:00:00\",\"2021-06-07T00:00:00\",\"2021-06-08T00:00:00\",\"2021-06-09T00:00:00\",\"2021-06-10T00:00:00\",\"2021-06-11T00:00:00\",\"2021-06-12T00:00:00\",\"2021-06-13T00:00:00\",\"2021-06-14T00:00:00\",\"2021-06-15T00:00:00\",\"2021-06-16T00:00:00\",\"2021-06-17T00:00:00\",\"2021-06-18T00:00:00\",\"2021-06-19T00:00:00\",\"2021-06-20T00:00:00\",\"2021-06-21T00:00:00\",\"2021-06-22T00:00:00\",\"2021-06-23T00:00:00\",\"2021-06-24T00:00:00\",\"2021-06-25T00:00:00\",\"2021-06-26T00:00:00\",\"2021-06-27T00:00:00\",\"2021-06-28T00:00:00\",\"2021-06-29T00:00:00\",\"2021-06-30T00:00:00\",\"2021-07-01T00:00:00\",\"2021-07-02T00:00:00\",\"2021-07-03T00:00:00\",\"2021-07-04T00:00:00\",\"2021-07-05T00:00:00\",\"2021-07-06T00:00:00\",\"2021-07-07T00:00:00\",\"2021-07-08T00:00:00\",\"2021-07-09T00:00:00\",\"2021-07-10T00:00:00\",\"2021-07-11T00:00:00\",\"2021-07-12T00:00:00\",\"2021-07-13T00:00:00\",\"2021-07-14T00:00:00\",\"2021-07-15T00:00:00\",\"2021-07-16T00:00:00\",\"2021-07-17T00:00:00\",\"2021-07-18T00:00:00\",\"2021-07-19T00:00:00\",\"2021-07-20T00:00:00\",\"2021-07-21T00:00:00\",\"2021-07-22T00:00:00\",\"2021-07-23T00:00:00\",\"2021-07-24T00:00:00\",\"2021-07-25T00:00:00\",\"2021-07-26T00:00:00\",\"2021-07-27T00:00:00\",\"2021-07-28T00:00:00\",\"2021-07-29T00:00:00\",\"2021-07-30T00:00:00\",\"2021-07-31T00:00:00\",\"2021-08-01T00:00:00\",\"2021-08-02T00:00:00\",\"2021-08-03T00:00:00\",\"2021-08-04T00:00:00\",\"2021-08-05T00:00:00\",\"2021-08-06T00:00:00\",\"2021-08-07T00:00:00\",\"2021-08-08T00:00:00\",\"2021-08-09T00:00:00\",\"2021-08-10T00:00:00\",\"2021-08-11T00:00:00\",\"2021-08-12T00:00:00\",\"2021-08-13T00:00:00\",\"2021-08-14T00:00:00\",\"2021-08-15T00:00:00\",\"2021-08-16T00:00:00\",\"2021-08-17T00:00:00\",\"2021-08-18T00:00:00\",\"2021-08-19T00:00:00\",\"2021-08-20T00:00:00\",\"2021-08-21T00:00:00\",\"2021-08-22T00:00:00\",\"2021-08-23T00:00:00\",\"2021-08-24T00:00:00\",\"2021-08-25T00:00:00\",\"2021-08-26T00:00:00\",\"2021-08-27T00:00:00\",\"2021-08-28T00:00:00\",\"2021-08-29T00:00:00\",\"2021-08-30T00:00:00\",\"2021-08-31T00:00:00\",\"2021-09-01T00:00:00\",\"2021-09-02T00:00:00\",\"2021-09-03T00:00:00\",\"2021-09-04T00:00:00\",\"2021-09-05T00:00:00\",\"2021-09-06T00:00:00\",\"2021-09-07T00:00:00\",\"2021-09-08T00:00:00\",\"2021-09-09T00:00:00\",\"2021-09-10T00:00:00\",\"2021-09-11T00:00:00\",\"2021-09-12T00:00:00\",\"2021-09-13T00:00:00\",\"2021-09-14T00:00:00\",\"2021-09-15T00:00:00\",\"2021-09-16T00:00:00\",\"2021-09-17T00:00:00\",\"2021-09-18T00:00:00\",\"2021-09-19T00:00:00\",\"2021-09-20T00:00:00\",\"2021-09-21T00:00:00\",\"2021-09-22T00:00:00\",\"2021-09-23T00:00:00\",\"2021-09-24T00:00:00\",\"2021-09-25T00:00:00\",\"2021-09-26T00:00:00\",\"2021-09-27T00:00:00\",\"2021-09-28T00:00:00\",\"2021-09-29T00:00:00\",\"2021-09-30T00:00:00\",\"2021-10-01T00:00:00\",\"2021-10-02T00:00:00\",\"2021-10-03T00:00:00\",\"2021-10-04T00:00:00\",\"2021-10-05T00:00:00\",\"2021-10-06T00:00:00\",\"2021-10-07T00:00:00\",\"2021-10-08T00:00:00\",\"2021-10-09T00:00:00\",\"2021-10-10T00:00:00\",\"2021-10-11T00:00:00\",\"2021-10-12T00:00:00\",\"2021-10-13T00:00:00\",\"2021-10-14T00:00:00\",\"2021-10-15T00:00:00\",\"2021-10-16T00:00:00\",\"2021-10-17T00:00:00\",\"2021-10-18T00:00:00\",\"2021-10-19T00:00:00\",\"2021-10-20T00:00:00\",\"2021-10-21T00:00:00\",\"2021-10-22T00:00:00\",\"2021-10-23T00:00:00\",\"2021-10-24T00:00:00\",\"2021-10-25T00:00:00\",\"2021-10-26T00:00:00\",\"2021-10-27T00:00:00\",\"2021-10-28T00:00:00\",\"2021-10-29T00:00:00\",\"2021-10-30T00:00:00\",\"2021-10-31T00:00:00\",\"2021-11-01T00:00:00\",\"2021-11-02T00:00:00\",\"2021-11-03T00:00:00\",\"2021-11-04T00:00:00\",\"2021-11-05T00:00:00\",\"2021-11-06T00:00:00\",\"2021-11-07T00:00:00\",\"2021-11-08T00:00:00\",\"2021-11-09T00:00:00\",\"2021-11-10T00:00:00\",\"2021-11-11T00:00:00\",\"2021-11-12T00:00:00\",\"2021-11-13T00:00:00\",\"2021-11-14T00:00:00\",\"2021-11-15T00:00:00\",\"2021-11-16T00:00:00\",\"2021-11-17T00:00:00\",\"2021-11-18T00:00:00\",\"2021-11-19T00:00:00\",\"2021-11-20T00:00:00\",\"2021-11-21T00:00:00\",\"2021-11-22T00:00:00\",\"2021-11-23T00:00:00\",\"2021-11-24T00:00:00\",\"2021-11-25T00:00:00\",\"2021-11-26T00:00:00\",\"2021-11-27T00:00:00\",\"2021-11-28T00:00:00\",\"2021-11-29T00:00:00\",\"2021-11-30T00:00:00\",\"2021-12-01T00:00:00\",\"2021-12-02T00:00:00\",\"2021-12-03T00:00:00\",\"2021-12-04T00:00:00\",\"2021-12-05T00:00:00\",\"2021-12-06T00:00:00\",\"2021-12-07T00:00:00\",\"2021-12-08T00:00:00\",\"2021-12-09T00:00:00\",\"2021-12-10T00:00:00\",\"2021-12-11T00:00:00\",\"2021-12-12T00:00:00\",\"2021-12-13T00:00:00\",\"2021-12-14T00:00:00\",\"2021-12-15T00:00:00\",\"2021-12-16T00:00:00\",\"2021-12-17T00:00:00\",\"2021-12-18T00:00:00\",\"2021-12-19T00:00:00\",\"2021-12-20T00:00:00\",\"2021-12-21T00:00:00\",\"2021-12-22T00:00:00\",\"2021-12-23T00:00:00\",\"2021-12-24T00:00:00\",\"2021-12-25T00:00:00\",\"2021-12-26T00:00:00\",\"2021-12-27T00:00:00\",\"2021-12-28T00:00:00\",\"2021-12-29T00:00:00\",\"2021-12-30T00:00:00\",\"2021-12-31T00:00:00\",\"2022-01-01T00:00:00\",\"2022-01-02T00:00:00\",\"2022-01-03T00:00:00\",\"2022-01-04T00:00:00\",\"2022-01-05T00:00:00\",\"2022-01-06T00:00:00\",\"2022-01-07T00:00:00\",\"2022-01-08T00:00:00\",\"2022-01-09T00:00:00\",\"2022-01-10T00:00:00\",\"2022-01-11T00:00:00\",\"2022-01-12T00:00:00\",\"2022-01-13T00:00:00\",\"2022-01-14T00:00:00\",\"2022-01-15T00:00:00\",\"2022-01-16T00:00:00\",\"2022-01-17T00:00:00\",\"2022-01-18T00:00:00\",\"2022-01-19T00:00:00\",\"2022-01-20T00:00:00\",\"2022-01-21T00:00:00\",\"2022-01-22T00:00:00\",\"2022-01-23T00:00:00\",\"2022-01-24T00:00:00\",\"2022-01-25T00:00:00\",\"2022-01-26T00:00:00\",\"2022-01-27T00:00:00\",\"2022-01-28T00:00:00\",\"2022-01-29T00:00:00\",\"2022-01-30T00:00:00\",\"2022-01-31T00:00:00\",\"2022-02-01T00:00:00\",\"2022-02-02T00:00:00\",\"2022-02-03T00:00:00\",\"2022-02-04T00:00:00\",\"2022-02-05T00:00:00\",\"2022-02-06T00:00:00\",\"2022-02-07T00:00:00\",\"2022-02-08T00:00:00\",\"2022-02-09T00:00:00\",\"2022-02-10T00:00:00\",\"2022-02-11T00:00:00\",\"2022-02-12T00:00:00\",\"2022-02-13T00:00:00\",\"2022-02-14T00:00:00\",\"2022-02-15T00:00:00\",\"2022-02-16T00:00:00\",\"2022-02-17T00:00:00\",\"2022-02-18T00:00:00\",\"2022-02-19T00:00:00\",\"2022-02-20T00:00:00\",\"2022-02-21T00:00:00\",\"2022-02-22T00:00:00\",\"2022-02-23T00:00:00\",\"2022-02-24T00:00:00\",\"2022-02-25T00:00:00\",\"2022-02-26T00:00:00\",\"2022-02-27T00:00:00\",\"2022-02-28T00:00:00\",\"2022-03-01T00:00:00\",\"2022-03-02T00:00:00\",\"2022-03-03T00:00:00\",\"2022-03-04T00:00:00\",\"2022-03-05T00:00:00\",\"2022-03-06T00:00:00\",\"2022-03-07T00:00:00\",\"2022-03-08T00:00:00\",\"2022-03-09T00:00:00\",\"2022-03-10T00:00:00\",\"2022-03-11T00:00:00\",\"2022-03-12T00:00:00\",\"2022-03-13T00:00:00\",\"2022-03-14T00:00:00\",\"2022-03-15T00:00:00\",\"2022-03-16T00:00:00\",\"2022-03-17T00:00:00\",\"2022-03-18T00:00:00\",\"2022-03-19T00:00:00\",\"2022-03-20T00:00:00\",\"2022-03-21T00:00:00\",\"2022-03-22T00:00:00\",\"2022-03-23T00:00:00\",\"2022-03-24T00:00:00\",\"2022-03-25T00:00:00\",\"2022-03-26T00:00:00\",\"2022-03-27T00:00:00\",\"2022-03-28T00:00:00\",\"2022-03-29T00:00:00\",\"2022-03-30T00:00:00\",\"2022-03-31T00:00:00\",\"2022-04-01T00:00:00\",\"2022-04-02T00:00:00\",\"2022-04-03T00:00:00\",\"2022-04-04T00:00:00\",\"2022-04-05T00:00:00\",\"2022-04-06T00:00:00\",\"2022-04-07T00:00:00\",\"2022-04-08T00:00:00\",\"2022-04-09T00:00:00\",\"2022-04-10T00:00:00\",\"2022-04-11T00:00:00\",\"2022-04-12T00:00:00\",\"2022-04-13T00:00:00\",\"2022-04-14T00:00:00\",\"2022-04-15T00:00:00\",\"2022-04-16T00:00:00\",\"2022-04-17T00:00:00\",\"2022-04-18T00:00:00\",\"2022-04-19T00:00:00\",\"2022-04-20T00:00:00\",\"2022-04-21T00:00:00\",\"2022-04-22T00:00:00\",\"2022-04-23T00:00:00\",\"2022-04-24T00:00:00\",\"2022-04-25T00:00:00\",\"2022-04-26T00:00:00\",\"2022-04-27T00:00:00\",\"2022-04-28T00:00:00\",\"2022-04-29T00:00:00\",\"2022-04-30T00:00:00\"],\"xaxis\":\"x\",\"y\":[0.17534999549388885,0.17742300033569336,0.20499500632286072,0.2247619926929474,0.25831401348114014,0.3318980038166046,0.2999800145626068,0.3055970072746277,0.33297300338745117,0.3048950135707855,0.2754659950733185,0.2870030105113983,0.3136090040206909,0.3103959858417511,0.3025299906730652,0.35244399309158325,0.3798519968986511,0.3714280128479004,0.3691369891166687,0.37539398670196533,0.3102090060710907,0.34957700967788696,0.345643013715744,0.35388100147247314,0.34388598799705505,0.34423398971557617,0.3130800127983093,0.34612900018692017,0.348131000995636,0.362619012594223,0.344897985458374,0.4020330011844635,0.4262470006942749,0.4413999915122986,0.44105100631713867,0.5378739833831787,0.6278859972953796,0.663237988948822,0.6825109720230103,0.7035160064697266,0.9303179979324341,0.9277409911155701,0.925586998462677,0.905718982219696,0.8484190106391907,0.8610119819641113,0.8709509968757629,0.8909199833869934,0.9141190052032471,0.9276490211486816,1.1229579448699951,1.1005200147628784,1.0991510152816772,0.954708993434906,1.05165696144104,1.0791159868240356,1.2411049604415894,1.3248599767684937,1.3080589771270752,1.2923879623413086,1.2255820035934448,1.2165930271148682,1.1148680448532104,1.1685229539871216,1.131011962890625,1.1333669424057007,1.1180529594421387,1.195160984992981,1.1350029706954956,1.1247899532318115,1.0391440391540527,1.1033140420913696,1.0591540336608887,1.033539056777954,1.2429529428482056,1.3786729574203491,1.2390060424804688,1.3021700382232666,1.2065409421920776,1.18913996219635,1.1098740100860596,1.1215519905090332,1.0750019550323486,1.1015739440917969,1.2139689922332764,1.1765769720077515,1.1911239624023438,1.2025409936904907,1.2133170366287231,1.1932640075683594,1.189244031906128,1.1965090036392212,1.1732770204544067,1.1914199590682983,1.2143000364303589,1.2553540468215942,1.1751489639282227,1.2194360494613647,1.2035399675369263,1.2187579870224,1.2667349576950073,1.3161269426345825,1.4117859601974487,1.4554200172424316,1.4815880060195923,1.4169490337371826,1.3848689794540405,1.275501012802124,1.1979589462280273,1.2659339904785156,1.2067350149154663,1.147017002105713,1.155701994895935,1.101354956626892,1.0882500410079956,1.2340190410614014,1.306926965713501,1.3356659412384033,1.3080140352249146,1.3524490594863892,1.3530709743499756,1.3268120288848877,1.362030029296875,1.274111032485962,1.4755289554595947,1.650123953819275,1.65345299243927,1.619554042816162,1.7705620527267456,1.6446959972381592,1.7640769481658936,1.5527750253677368,1.9336680173873901,2.004796028137207,2.1740269660949707,2.309113025665283,2.032226085662842,2.003662109375,1.4825210571289062,1.8104690313339233,1.5522769689559937,1.463621973991394,1.325435996055603,1.5494849681854248,1.5553690195083618,1.7827019691467285,1.6459599733352661,1.5119869709014893,1.4062319993972778,1.577278971672058,1.742777943611145,1.7347530126571655,1.7528239488601685,1.8404710292816162,1.710908055305481,1.6590089797973633,1.6782480478286743,1.5641059875488281,1.5880299806594849,1.6248259544372559,1.5318570137023926,1.436378002166748,1.4802199602127075,1.5583590269088745,1.5751099586486816,1.597756028175354,1.4825730323791504,1.482193946838379,1.415395975112915,1.390570044517517,1.4291880130767822,1.1774799823760986,1.1532540321350098,1.2528959512710571,1.3560869693756104,1.256477952003479,1.250440001487732,1.3352019786834717,1.3247519731521606,1.3684370517730713,1.383471965789795,1.3356109857559204,1.3943970203399658,1.4068360328674316,1.458184003829956,1.4048980474472046,1.4180530309677124,1.4031180143356323,1.3301459550857544,1.3494739532470703,1.3360849618911743,1.3481450080871582,1.3150990009307861,1.2650829553604126,1.2622580528259277,1.2231919765472412,1.1737149953842163,1.172302007675171,1.183698058128357,1.121116042137146,1.0562909841537476,1.168097972869873,1.1861610412597656,1.206307053565979,1.2334970235824585,1.2285009622573853,1.2584929466247559,1.2784459590911865,1.2835040092468262,1.2840839624404907,1.3089519739151,1.3223450183868408,1.3177299499511719,1.3100680112838745,1.3650259971618652,1.3765640258789062,1.386144995689392,1.401785969734192,1.4706770181655884,1.4278299808502197,1.4776400327682495,1.6725660562515259,1.7980380058288574,1.8238780498504639,2.1360790729522705,2.1916871070861816,2.1691529750823975,2.0794169902801514,1.9266010522842407,2.108560085296631,2.4281399250030518,2.4577019214630127,2.4354350566864014,2.7137250900268555,2.917386054992676,2.7210910320281982,2.7381319999694824,2.5355279445648193,2.944196939468384,2.847490072250366,2.8559861183166504,2.7331600189208984,2.772475004196167,2.870767116546631,2.963438034057617,2.9682390689849854,2.8328070640563965,2.9108240604400635,2.831897020339966,2.502490997314453,2.4749889373779297,2.5176661014556885,2.385910987854004,2.6339499950408936,2.5817270278930664,2.400662899017334,2.3956379890441895,2.5016350746154785,2.420969009399414,2.346419095993042,2.3699779510498047,2.282299041748047,2.0639889240264893,1.9870280027389526,2.2661819458007812,2.3309409618377686,2.281269073486328,2.3015410900115967,2.2084949016571045,2.1359050273895264,2.0391390323638916,2.065687894821167,2.1144518852233887,2.258126974105835,2.2514588832855225,2.252872943878174,2.189234972000122,2.233124017715454,2.2121551036834717,2.2769949436187744,2.237175941467285,2.2666149139404297,2.197213888168335,2.173388957977295,2.119189977645874,2.1890530586242676,2.170362949371338,2.214651107788086,2.177712917327881,2.1569631099700928,2.128262996673584,2.112962007522583,2.1859500408172607,2.1365909576416016,2.1541988849639893,2.1668150424957275,2.1234350204467773,2.144066095352173,2.138777017593384,1.9132369756698608,1.9882190227508545,2.0121870040893555,1.9574220180511475,1.9650260210037231,1.9500019550323486,1.9713770151138306,2.0637009143829346,1.9848819971084595,1.9862060546875,2.0066089630126953,2.021872043609619,2.1244189739227295,2.2734830379486084,2.101802110671997,2.085524082183838,2.0457661151885986,2.0531039237976074,2.0408530235290527,2.015587091445923,1.8772350549697876,1.875540018081665,1.7883310317993164,1.8647929430007935,1.9217360019683838,1.8397630453109741,1.7765549421310425,1.7505029439926147,1.6864229440689087,1.6513450145721436,1.5284199714660645,1.5461180210113525,1.5928549766540527,1.6025079488754272,1.5549030303955078,1.547713041305542,1.715366005897522,1.5565550327301025,1.420706033706665,1.3781050443649292,1.425392985343933,1.3819409608840942,1.3970739841461182,1.2904399633407593,1.2116889953613281,1.354248046875,1.3472820520401,1.2253479957580566,1.2228349447250366,1.3118469715118408,1.2405339479446411,1.2198920249938965,1.2425340414047241,1.2446609735488892,1.2382400035858154,1.2808589935302734,1.3280409574508667,1.4746910333633423,1.3923670053482056,1.4534950256347656,1.4560450315475464,1.5129129886627197,1.4022639989852905,1.330814003944397,1.360414981842041,1.310209035873413,1.3769750595092773,1.3775839805603027,1.3216370344161987,1.3116580247879028,1.236001968383789,1.2797820568084717,1.2115470170974731,1.1875120401382446,1.17385995388031,1.128051996231079,1.1851099729537964,1.3045350313186646,1.2331609725952148,1.2909259796142578,1.2962629795074463,1.407251000404358,1.5941309928894043,1.4655410051345825,1.34175705909729,1.2580549716949463,1.1232329607009888,1.066715955734253,1.122370958328247,1.0665980577468872,1.0435739755630493,1.0790469646453857,1.0435329675674438,1.0506060123443604,1.0595699548721313,1.0374729633331299,1.0523029565811157,1.0886240005493164,1.028905987739563,1.0564440488815308,1.1356240510940552,1.1273449659347534,1.1445469856262207,1.1973069906234741,1.1787199974060059,1.1948100328445435,1.1524779796600342,1.080346941947937,1.0581990480422974,1.0458190441131592,1.050266981124878,1.1075860261917114,1.0849809646606445,1.0198949575424194,0.9971129894256592,0.9977030158042908,0.9329019784927368,0.8582360148429871,0.8890169858932495,0.8691689968109131,0.8534250259399414,0.8980270028114319,0.8879179954528809,0.858335018157959,0.9598280191421509,0.9623460173606873,0.9386619925498962,0.902658998966217,0.8428890109062195,0.8656719923019409,0.8237519860267639,0.7973790168762207,0.8012499809265137,0.8492929935455322,0.8063160181045532,0.7901250123977661,0.7906739711761475,0.7909950017929077,0.8039169907569885,0.8000059723854065,0.8383740186691284,0.8367840051651001,0.8534330129623413,0.9010990262031555,0.8770920038223267,0.916782021522522,0.9764400124549866,1.1074819564819336,1.130010962486267,1.0978879928588867,1.1505939960479736,1.1821479797363281,1.1701840162277222,1.1911120414733887,1.1903849840164185,1.1418509483337402,1.1654249429702759,1.1560070514678955,1.1859409809112549,1.2129449844360352,1.170801043510437,1.052770972251892,1.0918940305709839,1.0263259410858154,1.0450149774551392,1.0308849811553955,0.92044997215271,0.955145001411438,0.9746959805488586,0.9324120283126831,0.9547169804573059,0.9526399970054626,0.9174659848213196,0.9367300271987915,0.9533330202102661,0.9373409748077393,0.9104740023612976,0.9071540236473083,0.8885030150413513,0.8863499760627747,0.8986949920654297,0.8276450037956238,0.840595006942749,0.8439499735832214,0.8050429821014404,0.756659984588623],\"yaxis\":\"y\",\"type\":\"scattergl\"},{\"hovertemplate\":\"variable=XRP<br>Date=%{x}<br>value=%{y}<extra></extra>\",\"legendgroup\":\"XRP\",\"line\":{\"color\":\"#19d3f3\",\"dash\":\"solid\"},\"marker\":{\"symbol\":\"circle\"},\"mode\":\"lines\",\"name\":\"XRP\",\"showlegend\":true,\"x\":[\"2021-01-01T00:00:00\",\"2021-01-02T00:00:00\",\"2021-01-03T00:00:00\",\"2021-01-04T00:00:00\",\"2021-01-05T00:00:00\",\"2021-01-06T00:00:00\",\"2021-01-07T00:00:00\",\"2021-01-08T00:00:00\",\"2021-01-09T00:00:00\",\"2021-01-10T00:00:00\",\"2021-01-11T00:00:00\",\"2021-01-12T00:00:00\",\"2021-01-13T00:00:00\",\"2021-01-14T00:00:00\",\"2021-01-15T00:00:00\",\"2021-01-16T00:00:00\",\"2021-01-17T00:00:00\",\"2021-01-18T00:00:00\",\"2021-01-19T00:00:00\",\"2021-01-20T00:00:00\",\"2021-01-21T00:00:00\",\"2021-01-22T00:00:00\",\"2021-01-23T00:00:00\",\"2021-01-24T00:00:00\",\"2021-01-25T00:00:00\",\"2021-01-26T00:00:00\",\"2021-01-27T00:00:00\",\"2021-01-28T00:00:00\",\"2021-01-29T00:00:00\",\"2021-01-30T00:00:00\",\"2021-01-31T00:00:00\",\"2021-02-01T00:00:00\",\"2021-02-02T00:00:00\",\"2021-02-03T00:00:00\",\"2021-02-04T00:00:00\",\"2021-02-05T00:00:00\",\"2021-02-06T00:00:00\",\"2021-02-07T00:00:00\",\"2021-02-08T00:00:00\",\"2021-02-09T00:00:00\",\"2021-02-10T00:00:00\",\"2021-02-11T00:00:00\",\"2021-02-12T00:00:00\",\"2021-02-13T00:00:00\",\"2021-02-14T00:00:00\",\"2021-02-15T00:00:00\",\"2021-02-16T00:00:00\",\"2021-02-17T00:00:00\",\"2021-02-18T00:00:00\",\"2021-02-19T00:00:00\",\"2021-02-20T00:00:00\",\"2021-02-21T00:00:00\",\"2021-02-22T00:00:00\",\"2021-02-23T00:00:00\",\"2021-02-24T00:00:00\",\"2021-02-25T00:00:00\",\"2021-02-26T00:00:00\",\"2021-02-27T00:00:00\",\"2021-02-28T00:00:00\",\"2021-03-01T00:00:00\",\"2021-03-02T00:00:00\",\"2021-03-03T00:00:00\",\"2021-03-04T00:00:00\",\"2021-03-05T00:00:00\",\"2021-03-06T00:00:00\",\"2021-03-07T00:00:00\",\"2021-03-08T00:00:00\",\"2021-03-09T00:00:00\",\"2021-03-10T00:00:00\",\"2021-03-11T00:00:00\",\"2021-03-12T00:00:00\",\"2021-03-13T00:00:00\",\"2021-03-14T00:00:00\",\"2021-03-15T00:00:00\",\"2021-03-16T00:00:00\",\"2021-03-17T00:00:00\",\"2021-03-18T00:00:00\",\"2021-03-19T00:00:00\",\"2021-03-20T00:00:00\",\"2021-03-21T00:00:00\",\"2021-03-22T00:00:00\",\"2021-03-23T00:00:00\",\"2021-03-24T00:00:00\",\"2021-03-25T00:00:00\",\"2021-03-26T00:00:00\",\"2021-03-27T00:00:00\",\"2021-03-28T00:00:00\",\"2021-03-29T00:00:00\",\"2021-03-30T00:00:00\",\"2021-03-31T00:00:00\",\"2021-04-01T00:00:00\",\"2021-04-02T00:00:00\",\"2021-04-03T00:00:00\",\"2021-04-04T00:00:00\",\"2021-04-05T00:00:00\",\"2021-04-06T00:00:00\",\"2021-04-07T00:00:00\",\"2021-04-08T00:00:00\",\"2021-04-09T00:00:00\",\"2021-04-10T00:00:00\",\"2021-04-11T00:00:00\",\"2021-04-12T00:00:00\",\"2021-04-13T00:00:00\",\"2021-04-14T00:00:00\",\"2021-04-15T00:00:00\",\"2021-04-16T00:00:00\",\"2021-04-17T00:00:00\",\"2021-04-18T00:00:00\",\"2021-04-19T00:00:00\",\"2021-04-20T00:00:00\",\"2021-04-21T00:00:00\",\"2021-04-22T00:00:00\",\"2021-04-23T00:00:00\",\"2021-04-24T00:00:00\",\"2021-04-25T00:00:00\",\"2021-04-26T00:00:00\",\"2021-04-27T00:00:00\",\"2021-04-28T00:00:00\",\"2021-04-29T00:00:00\",\"2021-04-30T00:00:00\",\"2021-05-01T00:00:00\",\"2021-05-02T00:00:00\",\"2021-05-03T00:00:00\",\"2021-05-04T00:00:00\",\"2021-05-05T00:00:00\",\"2021-05-06T00:00:00\",\"2021-05-07T00:00:00\",\"2021-05-08T00:00:00\",\"2021-05-09T00:00:00\",\"2021-05-10T00:00:00\",\"2021-05-11T00:00:00\",\"2021-05-12T00:00:00\",\"2021-05-13T00:00:00\",\"2021-05-14T00:00:00\",\"2021-05-15T00:00:00\",\"2021-05-16T00:00:00\",\"2021-05-17T00:00:00\",\"2021-05-18T00:00:00\",\"2021-05-19T00:00:00\",\"2021-05-20T00:00:00\",\"2021-05-21T00:00:00\",\"2021-05-22T00:00:00\",\"2021-05-23T00:00:00\",\"2021-05-24T00:00:00\",\"2021-05-25T00:00:00\",\"2021-05-26T00:00:00\",\"2021-05-27T00:00:00\",\"2021-05-28T00:00:00\",\"2021-05-29T00:00:00\",\"2021-05-30T00:00:00\",\"2021-05-31T00:00:00\",\"2021-06-01T00:00:00\",\"2021-06-02T00:00:00\",\"2021-06-03T00:00:00\",\"2021-06-04T00:00:00\",\"2021-06-05T00:00:00\",\"2021-06-06T00:00:00\",\"2021-06-07T00:00:00\",\"2021-06-08T00:00:00\",\"2021-06-09T00:00:00\",\"2021-06-10T00:00:00\",\"2021-06-11T00:00:00\",\"2021-06-12T00:00:00\",\"2021-06-13T00:00:00\",\"2021-06-14T00:00:00\",\"2021-06-15T00:00:00\",\"2021-06-16T00:00:00\",\"2021-06-17T00:00:00\",\"2021-06-18T00:00:00\",\"2021-06-19T00:00:00\",\"2021-06-20T00:00:00\",\"2021-06-21T00:00:00\",\"2021-06-22T00:00:00\",\"2021-06-23T00:00:00\",\"2021-06-24T00:00:00\",\"2021-06-25T00:00:00\",\"2021-06-26T00:00:00\",\"2021-06-27T00:00:00\",\"2021-06-28T00:00:00\",\"2021-06-29T00:00:00\",\"2021-06-30T00:00:00\",\"2021-07-01T00:00:00\",\"2021-07-02T00:00:00\",\"2021-07-03T00:00:00\",\"2021-07-04T00:00:00\",\"2021-07-05T00:00:00\",\"2021-07-06T00:00:00\",\"2021-07-07T00:00:00\",\"2021-07-08T00:00:00\",\"2021-07-09T00:00:00\",\"2021-07-10T00:00:00\",\"2021-07-11T00:00:00\",\"2021-07-12T00:00:00\",\"2021-07-13T00:00:00\",\"2021-07-14T00:00:00\",\"2021-07-15T00:00:00\",\"2021-07-16T00:00:00\",\"2021-07-17T00:00:00\",\"2021-07-18T00:00:00\",\"2021-07-19T00:00:00\",\"2021-07-20T00:00:00\",\"2021-07-21T00:00:00\",\"2021-07-22T00:00:00\",\"2021-07-23T00:00:00\",\"2021-07-24T00:00:00\",\"2021-07-25T00:00:00\",\"2021-07-26T00:00:00\",\"2021-07-27T00:00:00\",\"2021-07-28T00:00:00\",\"2021-07-29T00:00:00\",\"2021-07-30T00:00:00\",\"2021-07-31T00:00:00\",\"2021-08-01T00:00:00\",\"2021-08-02T00:00:00\",\"2021-08-03T00:00:00\",\"2021-08-04T00:00:00\",\"2021-08-05T00:00:00\",\"2021-08-06T00:00:00\",\"2021-08-07T00:00:00\",\"2021-08-08T00:00:00\",\"2021-08-09T00:00:00\",\"2021-08-10T00:00:00\",\"2021-08-11T00:00:00\",\"2021-08-12T00:00:00\",\"2021-08-13T00:00:00\",\"2021-08-14T00:00:00\",\"2021-08-15T00:00:00\",\"2021-08-16T00:00:00\",\"2021-08-17T00:00:00\",\"2021-08-18T00:00:00\",\"2021-08-19T00:00:00\",\"2021-08-20T00:00:00\",\"2021-08-21T00:00:00\",\"2021-08-22T00:00:00\",\"2021-08-23T00:00:00\",\"2021-08-24T00:00:00\",\"2021-08-25T00:00:00\",\"2021-08-26T00:00:00\",\"2021-08-27T00:00:00\",\"2021-08-28T00:00:00\",\"2021-08-29T00:00:00\",\"2021-08-30T00:00:00\",\"2021-08-31T00:00:00\",\"2021-09-01T00:00:00\",\"2021-09-02T00:00:00\",\"2021-09-03T00:00:00\",\"2021-09-04T00:00:00\",\"2021-09-05T00:00:00\",\"2021-09-06T00:00:00\",\"2021-09-07T00:00:00\",\"2021-09-08T00:00:00\",\"2021-09-09T00:00:00\",\"2021-09-10T00:00:00\",\"2021-09-11T00:00:00\",\"2021-09-12T00:00:00\",\"2021-09-13T00:00:00\",\"2021-09-14T00:00:00\",\"2021-09-15T00:00:00\",\"2021-09-16T00:00:00\",\"2021-09-17T00:00:00\",\"2021-09-18T00:00:00\",\"2021-09-19T00:00:00\",\"2021-09-20T00:00:00\",\"2021-09-21T00:00:00\",\"2021-09-22T00:00:00\",\"2021-09-23T00:00:00\",\"2021-09-24T00:00:00\",\"2021-09-25T00:00:00\",\"2021-09-26T00:00:00\",\"2021-09-27T00:00:00\",\"2021-09-28T00:00:00\",\"2021-09-29T00:00:00\",\"2021-09-30T00:00:00\",\"2021-10-01T00:00:00\",\"2021-10-02T00:00:00\",\"2021-10-03T00:00:00\",\"2021-10-04T00:00:00\",\"2021-10-05T00:00:00\",\"2021-10-06T00:00:00\",\"2021-10-07T00:00:00\",\"2021-10-08T00:00:00\",\"2021-10-09T00:00:00\",\"2021-10-10T00:00:00\",\"2021-10-11T00:00:00\",\"2021-10-12T00:00:00\",\"2021-10-13T00:00:00\",\"2021-10-14T00:00:00\",\"2021-10-15T00:00:00\",\"2021-10-16T00:00:00\",\"2021-10-17T00:00:00\",\"2021-10-18T00:00:00\",\"2021-10-19T00:00:00\",\"2021-10-20T00:00:00\",\"2021-10-21T00:00:00\",\"2021-10-22T00:00:00\",\"2021-10-23T00:00:00\",\"2021-10-24T00:00:00\",\"2021-10-25T00:00:00\",\"2021-10-26T00:00:00\",\"2021-10-27T00:00:00\",\"2021-10-28T00:00:00\",\"2021-10-29T00:00:00\",\"2021-10-30T00:00:00\",\"2021-10-31T00:00:00\",\"2021-11-01T00:00:00\",\"2021-11-02T00:00:00\",\"2021-11-03T00:00:00\",\"2021-11-04T00:00:00\",\"2021-11-05T00:00:00\",\"2021-11-06T00:00:00\",\"2021-11-07T00:00:00\",\"2021-11-08T00:00:00\",\"2021-11-09T00:00:00\",\"2021-11-10T00:00:00\",\"2021-11-11T00:00:00\",\"2021-11-12T00:00:00\",\"2021-11-13T00:00:00\",\"2021-11-14T00:00:00\",\"2021-11-15T00:00:00\",\"2021-11-16T00:00:00\",\"2021-11-17T00:00:00\",\"2021-11-18T00:00:00\",\"2021-11-19T00:00:00\",\"2021-11-20T00:00:00\",\"2021-11-21T00:00:00\",\"2021-11-22T00:00:00\",\"2021-11-23T00:00:00\",\"2021-11-24T00:00:00\",\"2021-11-25T00:00:00\",\"2021-11-26T00:00:00\",\"2021-11-27T00:00:00\",\"2021-11-28T00:00:00\",\"2021-11-29T00:00:00\",\"2021-11-30T00:00:00\",\"2021-12-01T00:00:00\",\"2021-12-02T00:00:00\",\"2021-12-03T00:00:00\",\"2021-12-04T00:00:00\",\"2021-12-05T00:00:00\",\"2021-12-06T00:00:00\",\"2021-12-07T00:00:00\",\"2021-12-08T00:00:00\",\"2021-12-09T00:00:00\",\"2021-12-10T00:00:00\",\"2021-12-11T00:00:00\",\"2021-12-12T00:00:00\",\"2021-12-13T00:00:00\",\"2021-12-14T00:00:00\",\"2021-12-15T00:00:00\",\"2021-12-16T00:00:00\",\"2021-12-17T00:00:00\",\"2021-12-18T00:00:00\",\"2021-12-19T00:00:00\",\"2021-12-20T00:00:00\",\"2021-12-21T00:00:00\",\"2021-12-22T00:00:00\",\"2021-12-23T00:00:00\",\"2021-12-24T00:00:00\",\"2021-12-25T00:00:00\",\"2021-12-26T00:00:00\",\"2021-12-27T00:00:00\",\"2021-12-28T00:00:00\",\"2021-12-29T00:00:00\",\"2021-12-30T00:00:00\",\"2021-12-31T00:00:00\",\"2022-01-01T00:00:00\",\"2022-01-02T00:00:00\",\"2022-01-03T00:00:00\",\"2022-01-04T00:00:00\",\"2022-01-05T00:00:00\",\"2022-01-06T00:00:00\",\"2022-01-07T00:00:00\",\"2022-01-08T00:00:00\",\"2022-01-09T00:00:00\",\"2022-01-10T00:00:00\",\"2022-01-11T00:00:00\",\"2022-01-12T00:00:00\",\"2022-01-13T00:00:00\",\"2022-01-14T00:00:00\",\"2022-01-15T00:00:00\",\"2022-01-16T00:00:00\",\"2022-01-17T00:00:00\",\"2022-01-18T00:00:00\",\"2022-01-19T00:00:00\",\"2022-01-20T00:00:00\",\"2022-01-21T00:00:00\",\"2022-01-22T00:00:00\",\"2022-01-23T00:00:00\",\"2022-01-24T00:00:00\",\"2022-01-25T00:00:00\",\"2022-01-26T00:00:00\",\"2022-01-27T00:00:00\",\"2022-01-28T00:00:00\",\"2022-01-29T00:00:00\",\"2022-01-30T00:00:00\",\"2022-01-31T00:00:00\",\"2022-02-01T00:00:00\",\"2022-02-02T00:00:00\",\"2022-02-03T00:00:00\",\"2022-02-04T00:00:00\",\"2022-02-05T00:00:00\",\"2022-02-06T00:00:00\",\"2022-02-07T00:00:00\",\"2022-02-08T00:00:00\",\"2022-02-09T00:00:00\",\"2022-02-10T00:00:00\",\"2022-02-11T00:00:00\",\"2022-02-12T00:00:00\",\"2022-02-13T00:00:00\",\"2022-02-14T00:00:00\",\"2022-02-15T00:00:00\",\"2022-02-16T00:00:00\",\"2022-02-17T00:00:00\",\"2022-02-18T00:00:00\",\"2022-02-19T00:00:00\",\"2022-02-20T00:00:00\",\"2022-02-21T00:00:00\",\"2022-02-22T00:00:00\",\"2022-02-23T00:00:00\",\"2022-02-24T00:00:00\",\"2022-02-25T00:00:00\",\"2022-02-26T00:00:00\",\"2022-02-27T00:00:00\",\"2022-02-28T00:00:00\",\"2022-03-01T00:00:00\",\"2022-03-02T00:00:00\",\"2022-03-03T00:00:00\",\"2022-03-04T00:00:00\",\"2022-03-05T00:00:00\",\"2022-03-06T00:00:00\",\"2022-03-07T00:00:00\",\"2022-03-08T00:00:00\",\"2022-03-09T00:00:00\",\"2022-03-10T00:00:00\",\"2022-03-11T00:00:00\",\"2022-03-12T00:00:00\",\"2022-03-13T00:00:00\",\"2022-03-14T00:00:00\",\"2022-03-15T00:00:00\",\"2022-03-16T00:00:00\",\"2022-03-17T00:00:00\",\"2022-03-18T00:00:00\",\"2022-03-19T00:00:00\",\"2022-03-20T00:00:00\",\"2022-03-21T00:00:00\",\"2022-03-22T00:00:00\",\"2022-03-23T00:00:00\",\"2022-03-24T00:00:00\",\"2022-03-25T00:00:00\",\"2022-03-26T00:00:00\",\"2022-03-27T00:00:00\",\"2022-03-28T00:00:00\",\"2022-03-29T00:00:00\",\"2022-03-30T00:00:00\",\"2022-03-31T00:00:00\",\"2022-04-01T00:00:00\",\"2022-04-02T00:00:00\",\"2022-04-03T00:00:00\",\"2022-04-04T00:00:00\",\"2022-04-05T00:00:00\",\"2022-04-06T00:00:00\",\"2022-04-07T00:00:00\",\"2022-04-08T00:00:00\",\"2022-04-09T00:00:00\",\"2022-04-10T00:00:00\",\"2022-04-11T00:00:00\",\"2022-04-12T00:00:00\",\"2022-04-13T00:00:00\",\"2022-04-14T00:00:00\",\"2022-04-15T00:00:00\",\"2022-04-16T00:00:00\",\"2022-04-17T00:00:00\",\"2022-04-18T00:00:00\",\"2022-04-19T00:00:00\",\"2022-04-20T00:00:00\",\"2022-04-21T00:00:00\",\"2022-04-22T00:00:00\",\"2022-04-23T00:00:00\",\"2022-04-24T00:00:00\",\"2022-04-25T00:00:00\",\"2022-04-26T00:00:00\",\"2022-04-27T00:00:00\",\"2022-04-28T00:00:00\",\"2022-04-29T00:00:00\",\"2022-04-30T00:00:00\"],\"xaxis\":\"x\",\"y\":[0.23744399845600128,0.2216549962759018,0.2258480042219162,0.23667700588703156,0.22675000131130219,0.2508949935436249,0.32600200176239014,0.32322999835014343,0.32691600918769836,0.31833600997924805,0.28890499472618103,0.2921229898929596,0.3055799901485443,0.2954379916191101,0.28040599822998047,0.2801879942417145,0.2773840129375458,0.2847689986228943,0.2943139970302582,0.2965179979801178,0.26894599199295044,0.27279898524284363,0.271820992231369,0.2735089957714081,0.269089013338089,0.26882699131965637,0.2519429922103882,0.26412200927734375,0.2821879982948303,0.44024398922920227,0.49231401085853577,0.37150898575782776,0.369269996881485,0.3934899866580963,0.44644901156425476,0.45004698634147644,0.43909600377082825,0.41795799136161804,0.44770199060440063,0.47199100255966187,0.503445029258728,0.5247870087623596,0.6085919737815857,0.6289960145950317,0.5941929817199707,0.5489150285720825,0.5208460092544556,0.5355370044708252,0.5324329733848572,0.567018985748291,0.5175120234489441,0.5485600233078003,0.571740984916687,0.47356298565864563,0.4718320071697235,0.4345239996910095,0.4278999865055084,0.4378089904785156,0.41495299339294434,0.44724398851394653,0.43683698773384094,0.45027899742126465,0.4866049885749817,0.4581190049648285,0.4651060104370117,0.46686699986457825,0.47359699010849,0.48598799109458923,0.4631659984588623,0.4529600143432617,0.44113099575042725,0.45992401242256165,0.442111998796463,0.4375549852848053,0.4625999927520752,0.4724169969558716,0.4729189872741699,0.47117099165916443,0.5269910097122192,0.5198349952697754,0.5499420166015625,0.5565950274467468,0.48883700370788574,0.5174980163574219,0.5670549869537354,0.5504429936408997,0.5507559776306152,0.5678709745407104,0.5668590068817139,0.573868989944458,0.5792919993400574,0.6165689826011658,0.5909150242805481,0.6467289924621582,0.9204729795455933,1.0962660312652588,0.917576014995575,1.0527559518814087,1.0208369493484497,1.3744159936904907,1.3605300188064575,1.4677350521087646,1.7940009832382202,1.8392360210418701,1.7660670280456543,1.55752694606781,1.5600550174713135,1.4059979915618896,1.3150440454483032,1.3832989931106567,1.2964979410171509,1.159682035446167,1.169659972190857,1.0487060546875,1.032256007194519,1.3685059547424316,1.4009549617767334,1.3586009740829468,1.399359941482544,1.5916739702224731,1.6510250568389893,1.5626410245895386,1.555994987487793,1.3923759460449219,1.6145119667053223,1.6005810499191284,1.5817550420761108,1.5625979900360107,1.5352929830551147,1.3890060186386108,1.4776819944381714,1.247864007949829,1.3589099645614624,1.4029170274734497,1.4858800172805786,1.452605962753296,1.4962999820709229,1.5907340049743652,1.0703129768371582,1.1855369806289673,1.0069760084152222,0.9063169956207275,0.7970150113105774,0.9928349852561951,0.976186990737915,1.0337250232696533,0.9702349901199341,0.9001479744911194,0.8317880034446716,0.9066089987754822,1.0465840101242065,1.0110009908676147,1.024399995803833,1.045320987701416,0.970196008682251,0.9232860207557678,0.945285975933075,0.8611549735069275,0.8757879734039307,0.9200339913368225,0.8691819906234741,0.8484500050544739,0.8326830267906189,0.8831599950790405,0.8928970098495483,0.8898000121116638,0.8319079875946045,0.8414379954338074,0.797648012638092,0.7616729736328125,0.7763770222663879,0.6103879809379578,0.5450670123100281,0.6265349984169006,0.671999990940094,0.6133229732513428,0.615435004234314,0.6469230055809021,0.643746018409729,0.7017250061035156,0.7063739895820618,0.6611800193786621,0.6567630171775818,0.6728879809379578,0.6949449777603149,0.6542999744415283,0.6654019951820374,0.6515750288963318,0.623058021068573,0.6368039846420288,0.6254630088806152,0.6359350085258484,0.6301779747009277,0.6195229887962341,0.6203240156173706,0.5969409942626953,0.5907739996910095,0.582427978515625,0.5879219770431519,0.5575559735298157,0.5293359756469727,0.569998025894165,0.5922060012817383,0.6092240214347839,0.6098269820213318,0.6063569784164429,0.6256179809570312,0.6446040272712708,0.7254449725151062,0.7480170130729675,0.7521190047264099,0.7477859854698181,0.7259219884872437,0.7392200231552124,0.7127289772033691,0.7304880023002625,0.7331510186195374,0.7465130090713501,0.8162810206413269,0.7787389755249023,0.8185529708862305,0.8512470126152039,1.0125240087509155,0.9645490050315857,1.089959979057312,1.280411958694458,1.288159966468811,1.1909929513931274,1.0981990098953247,1.14609694480896,1.232841968536377,1.2632219791412354,1.2164729833602905,1.2277220487594604,1.2472699880599976,1.1373519897460938,1.1725289821624756,1.0752660036087036,1.1884729862213135,1.1455049514770508,1.1408319473266602,1.1014349460601807,1.1875929832458496,1.234889030456543,1.256324052810669,1.2914350032806396,1.2557790279388428,1.3054980039596558,1.3894129991531372,1.1250989437103271,1.1007200479507446,1.0894010066986084,1.0572669506072998,1.0799059867858887,1.119636058807373,1.0646779537200928,1.0965739488601685,1.121353030204773,1.0914980173110962,1.0655980110168457,1.0756679773330688,1.0484280586242676,0.9171519875526428,0.8763290047645569,1.0040760040283203,1.0020400285720825,0.9459239840507507,0.9413419961929321,0.944720983505249,0.9236850142478943,0.893688976764679,0.9283490180969238,0.9526360034942627,1.0426239967346191,1.0386749505996704,1.0551700592041016,1.043004035949707,1.0855029821395874,1.0776560306549072,1.0680259466171265,1.0628910064697266,1.1599260568618774,1.1384530067443848,1.137887954711914,1.1018589735031128,1.128391981124878,1.132315993309021,1.1405500173568726,1.1350959539413452,1.0934679508209229,1.0838420391082764,1.092079997062683,1.1423280239105225,1.0893150568008423,1.0883740186691284,1.0944969654083252,1.0842829942703247,1.0951579809188843,1.108093023300171,0.9954519867897034,1.0588200092315674,1.0815030336380005,1.0839489698410034,1.113247036933899,1.0928670167922974,1.1361960172653198,1.2087960243225098,1.202003002166748,1.161532998085022,1.1524540185928345,1.2175339460372925,1.282377004623413,1.258929967880249,1.1933729648590088,1.2183640003204346,1.1893550157546997,1.191938042640686,1.1885969638824463,1.1713709831237793,1.0909340381622314,1.096290946006775,1.0419540405273438,1.0914920568466187,1.0976459980010986,1.0601730346679688,1.0366220474243164,1.0670570135116577,1.0420750379562378,1.0318880081176758,0.9363499879837036,0.9471579790115356,0.9687510132789612,0.9919610023498535,0.9987540245056152,0.9909300208091736,0.9723119735717773,0.9222440123558044,0.8470289707183838,0.8055949807167053,0.8282880187034607,0.8185880184173584,0.863306999206543,0.8612719774246216,0.8010969758033752,0.8393129706382751,0.841323971748352,0.7828940153121948,0.7962489724159241,0.8274310231208801,0.8062300086021423,0.7992910146713257,0.8273789882659912,0.8350329995155334,0.8798279762268066,0.9476460218429565,0.9546989798545837,0.9932850003242493,0.9120470285415649,0.9248189926147461,0.921180009841919,0.9261839985847473,0.8529599905014038,0.8167139887809753,0.8396490216255188,0.8311629891395569,0.8494719862937927,0.8591179847717285,0.8328850269317627,0.8246729969978333,0.7743579745292664,0.7813460230827332,0.7630739808082581,0.7476879954338074,0.7545049786567688,0.7393350005149841,0.7705540060997009,0.7995479702949524,0.7683280110359192,0.7742969989776611,0.7814229726791382,0.778954029083252,0.7627419829368591,0.7526310086250305,0.739749014377594,0.7194210290908813,0.6357380151748657,0.5960419774055481,0.6287559866905212,0.6121389865875244,0.617563009262085,0.6220719814300537,0.6087700128555298,0.6125119924545288,0.6169350147247314,0.603181004524231,0.6191490292549133,0.6292330026626587,0.6014829874038696,0.6076840162277222,0.6558769941329956,0.6671270132064819,0.6836469769477844,0.8278189897537231,0.8781939744949341,0.8706269860267639,0.8300099968910217,0.7602260112762451,0.8224080204963684,0.8102729916572571,0.8022180199623108,0.8523330092430115,0.8390359878540039,0.7671729922294617,0.7858899831771851,0.8225280046463013,0.7782959938049316,0.70346599817276,0.722832977771759,0.6987460255622864,0.6962720155715942,0.7689030170440674,0.7509729862213135,0.721992015838623,0.782043993473053,0.7848619818687439,0.7684959769248962,0.7521849870681763,0.7126719951629639,0.7548999786376953,0.7259939908981323,0.7232869863510132,0.7209770083427429,0.7672359943389893,0.7374650239944458,0.8021550178527832,0.7865869998931885,0.7613509893417358,0.7746559977531433,0.7667829990386963,0.793537974357605,0.7935029864311218,0.7982659935951233,0.8193730115890503,0.8061209917068481,0.8381519913673401,0.8370969891548157,0.8378869891166687,0.8429679870605469,0.8251270055770874,0.8327720165252686,0.8573430180549622,0.8633040189743042,0.8579999804496765,0.8608139753341675,0.8145639896392822,0.8277400135993958,0.8249189853668213,0.8429499864578247,0.8272510170936584,0.8176419734954834,0.7613139748573303,0.7879999876022339,0.7540559768676758,0.7635849714279175,0.7566140294075012,0.6950230002403259,0.7166140079498291,0.7238500118255615,0.7268189787864685,0.7856749892234802,0.781840980052948,0.7531539797782898,0.7680169939994812,0.7750629782676697,0.7521780133247375,0.7331780195236206,0.7191939949989319,0.707705020904541,0.6987389922142029,0.6944260001182556,0.6416990160942078,0.652318000793457,0.6443629860877991,0.6114069819450378,0.5870910286903381],\"yaxis\":\"y\",\"type\":\"scattergl\"},{\"hovertemplate\":\"variable=DASH<br>Date=%{x}<br>value=%{y}<extra></extra>\",\"legendgroup\":\"DASH\",\"line\":{\"color\":\"#FF6692\",\"dash\":\"solid\"},\"marker\":{\"symbol\":\"circle\"},\"mode\":\"lines\",\"name\":\"DASH\",\"showlegend\":true,\"x\":[\"2021-01-01T00:00:00\",\"2021-01-02T00:00:00\",\"2021-01-03T00:00:00\",\"2021-01-04T00:00:00\",\"2021-01-05T00:00:00\",\"2021-01-06T00:00:00\",\"2021-01-07T00:00:00\",\"2021-01-08T00:00:00\",\"2021-01-09T00:00:00\",\"2021-01-10T00:00:00\",\"2021-01-11T00:00:00\",\"2021-01-12T00:00:00\",\"2021-01-13T00:00:00\",\"2021-01-14T00:00:00\",\"2021-01-15T00:00:00\",\"2021-01-16T00:00:00\",\"2021-01-17T00:00:00\",\"2021-01-18T00:00:00\",\"2021-01-19T00:00:00\",\"2021-01-20T00:00:00\",\"2021-01-21T00:00:00\",\"2021-01-22T00:00:00\",\"2021-01-23T00:00:00\",\"2021-01-24T00:00:00\",\"2021-01-25T00:00:00\",\"2021-01-26T00:00:00\",\"2021-01-27T00:00:00\",\"2021-01-28T00:00:00\",\"2021-01-29T00:00:00\",\"2021-01-30T00:00:00\",\"2021-01-31T00:00:00\",\"2021-02-01T00:00:00\",\"2021-02-02T00:00:00\",\"2021-02-03T00:00:00\",\"2021-02-04T00:00:00\",\"2021-02-05T00:00:00\",\"2021-02-06T00:00:00\",\"2021-02-07T00:00:00\",\"2021-02-08T00:00:00\",\"2021-02-09T00:00:00\",\"2021-02-10T00:00:00\",\"2021-02-11T00:00:00\",\"2021-02-12T00:00:00\",\"2021-02-13T00:00:00\",\"2021-02-14T00:00:00\",\"2021-02-15T00:00:00\",\"2021-02-16T00:00:00\",\"2021-02-17T00:00:00\",\"2021-02-18T00:00:00\",\"2021-02-19T00:00:00\",\"2021-02-20T00:00:00\",\"2021-02-21T00:00:00\",\"2021-02-22T00:00:00\",\"2021-02-23T00:00:00\",\"2021-02-24T00:00:00\",\"2021-02-25T00:00:00\",\"2021-02-26T00:00:00\",\"2021-02-27T00:00:00\",\"2021-02-28T00:00:00\",\"2021-03-01T00:00:00\",\"2021-03-02T00:00:00\",\"2021-03-03T00:00:00\",\"2021-03-04T00:00:00\",\"2021-03-05T00:00:00\",\"2021-03-06T00:00:00\",\"2021-03-07T00:00:00\",\"2021-03-08T00:00:00\",\"2021-03-09T00:00:00\",\"2021-03-10T00:00:00\",\"2021-03-11T00:00:00\",\"2021-03-12T00:00:00\",\"2021-03-13T00:00:00\",\"2021-03-14T00:00:00\",\"2021-03-15T00:00:00\",\"2021-03-16T00:00:00\",\"2021-03-17T00:00:00\",\"2021-03-18T00:00:00\",\"2021-03-19T00:00:00\",\"2021-03-20T00:00:00\",\"2021-03-21T00:00:00\",\"2021-03-22T00:00:00\",\"2021-03-23T00:00:00\",\"2021-03-24T00:00:00\",\"2021-03-25T00:00:00\",\"2021-03-26T00:00:00\",\"2021-03-27T00:00:00\",\"2021-03-28T00:00:00\",\"2021-03-29T00:00:00\",\"2021-03-30T00:00:00\",\"2021-03-31T00:00:00\",\"2021-04-01T00:00:00\",\"2021-04-02T00:00:00\",\"2021-04-03T00:00:00\",\"2021-04-04T00:00:00\",\"2021-04-05T00:00:00\",\"2021-04-06T00:00:00\",\"2021-04-07T00:00:00\",\"2021-04-08T00:00:00\",\"2021-04-09T00:00:00\",\"2021-04-10T00:00:00\",\"2021-04-11T00:00:00\",\"2021-04-12T00:00:00\",\"2021-04-13T00:00:00\",\"2021-04-14T00:00:00\",\"2021-04-15T00:00:00\",\"2021-04-16T00:00:00\",\"2021-04-17T00:00:00\",\"2021-04-18T00:00:00\",\"2021-04-19T00:00:00\",\"2021-04-20T00:00:00\",\"2021-04-21T00:00:00\",\"2021-04-22T00:00:00\",\"2021-04-23T00:00:00\",\"2021-04-24T00:00:00\",\"2021-04-25T00:00:00\",\"2021-04-26T00:00:00\",\"2021-04-27T00:00:00\",\"2021-04-28T00:00:00\",\"2021-04-29T00:00:00\",\"2021-04-30T00:00:00\",\"2021-05-01T00:00:00\",\"2021-05-02T00:00:00\",\"2021-05-03T00:00:00\",\"2021-05-04T00:00:00\",\"2021-05-05T00:00:00\",\"2021-05-06T00:00:00\",\"2021-05-07T00:00:00\",\"2021-05-08T00:00:00\",\"2021-05-09T00:00:00\",\"2021-05-10T00:00:00\",\"2021-05-11T00:00:00\",\"2021-05-12T00:00:00\",\"2021-05-13T00:00:00\",\"2021-05-14T00:00:00\",\"2021-05-15T00:00:00\",\"2021-05-16T00:00:00\",\"2021-05-17T00:00:00\",\"2021-05-18T00:00:00\",\"2021-05-19T00:00:00\",\"2021-05-20T00:00:00\",\"2021-05-21T00:00:00\",\"2021-05-22T00:00:00\",\"2021-05-23T00:00:00\",\"2021-05-24T00:00:00\",\"2021-05-25T00:00:00\",\"2021-05-26T00:00:00\",\"2021-05-27T00:00:00\",\"2021-05-28T00:00:00\",\"2021-05-29T00:00:00\",\"2021-05-30T00:00:00\",\"2021-05-31T00:00:00\",\"2021-06-01T00:00:00\",\"2021-06-02T00:00:00\",\"2021-06-03T00:00:00\",\"2021-06-04T00:00:00\",\"2021-06-05T00:00:00\",\"2021-06-06T00:00:00\",\"2021-06-07T00:00:00\",\"2021-06-08T00:00:00\",\"2021-06-09T00:00:00\",\"2021-06-10T00:00:00\",\"2021-06-11T00:00:00\",\"2021-06-12T00:00:00\",\"2021-06-13T00:00:00\",\"2021-06-14T00:00:00\",\"2021-06-15T00:00:00\",\"2021-06-16T00:00:00\",\"2021-06-17T00:00:00\",\"2021-06-18T00:00:00\",\"2021-06-19T00:00:00\",\"2021-06-20T00:00:00\",\"2021-06-21T00:00:00\",\"2021-06-22T00:00:00\",\"2021-06-23T00:00:00\",\"2021-06-24T00:00:00\",\"2021-06-25T00:00:00\",\"2021-06-26T00:00:00\",\"2021-06-27T00:00:00\",\"2021-06-28T00:00:00\",\"2021-06-29T00:00:00\",\"2021-06-30T00:00:00\",\"2021-07-01T00:00:00\",\"2021-07-02T00:00:00\",\"2021-07-03T00:00:00\",\"2021-07-04T00:00:00\",\"2021-07-05T00:00:00\",\"2021-07-06T00:00:00\",\"2021-07-07T00:00:00\",\"2021-07-08T00:00:00\",\"2021-07-09T00:00:00\",\"2021-07-10T00:00:00\",\"2021-07-11T00:00:00\",\"2021-07-12T00:00:00\",\"2021-07-13T00:00:00\",\"2021-07-14T00:00:00\",\"2021-07-15T00:00:00\",\"2021-07-16T00:00:00\",\"2021-07-17T00:00:00\",\"2021-07-18T00:00:00\",\"2021-07-19T00:00:00\",\"2021-07-20T00:00:00\",\"2021-07-21T00:00:00\",\"2021-07-22T00:00:00\",\"2021-07-23T00:00:00\",\"2021-07-24T00:00:00\",\"2021-07-25T00:00:00\",\"2021-07-26T00:00:00\",\"2021-07-27T00:00:00\",\"2021-07-28T00:00:00\",\"2021-07-29T00:00:00\",\"2021-07-30T00:00:00\",\"2021-07-31T00:00:00\",\"2021-08-01T00:00:00\",\"2021-08-02T00:00:00\",\"2021-08-03T00:00:00\",\"2021-08-04T00:00:00\",\"2021-08-05T00:00:00\",\"2021-08-06T00:00:00\",\"2021-08-07T00:00:00\",\"2021-08-08T00:00:00\",\"2021-08-09T00:00:00\",\"2021-08-10T00:00:00\",\"2021-08-11T00:00:00\",\"2021-08-12T00:00:00\",\"2021-08-13T00:00:00\",\"2021-08-14T00:00:00\",\"2021-08-15T00:00:00\",\"2021-08-16T00:00:00\",\"2021-08-17T00:00:00\",\"2021-08-18T00:00:00\",\"2021-08-19T00:00:00\",\"2021-08-20T00:00:00\",\"2021-08-21T00:00:00\",\"2021-08-22T00:00:00\",\"2021-08-23T00:00:00\",\"2021-08-24T00:00:00\",\"2021-08-25T00:00:00\",\"2021-08-26T00:00:00\",\"2021-08-27T00:00:00\",\"2021-08-28T00:00:00\",\"2021-08-29T00:00:00\",\"2021-08-30T00:00:00\",\"2021-08-31T00:00:00\",\"2021-09-01T00:00:00\",\"2021-09-02T00:00:00\",\"2021-09-03T00:00:00\",\"2021-09-04T00:00:00\",\"2021-09-05T00:00:00\",\"2021-09-06T00:00:00\",\"2021-09-07T00:00:00\",\"2021-09-08T00:00:00\",\"2021-09-09T00:00:00\",\"2021-09-10T00:00:00\",\"2021-09-11T00:00:00\",\"2021-09-12T00:00:00\",\"2021-09-13T00:00:00\",\"2021-09-14T00:00:00\",\"2021-09-15T00:00:00\",\"2021-09-16T00:00:00\",\"2021-09-17T00:00:00\",\"2021-09-18T00:00:00\",\"2021-09-19T00:00:00\",\"2021-09-20T00:00:00\",\"2021-09-21T00:00:00\",\"2021-09-22T00:00:00\",\"2021-09-23T00:00:00\",\"2021-09-24T00:00:00\",\"2021-09-25T00:00:00\",\"2021-09-26T00:00:00\",\"2021-09-27T00:00:00\",\"2021-09-28T00:00:00\",\"2021-09-29T00:00:00\",\"2021-09-30T00:00:00\",\"2021-10-01T00:00:00\",\"2021-10-02T00:00:00\",\"2021-10-03T00:00:00\",\"2021-10-04T00:00:00\",\"2021-10-05T00:00:00\",\"2021-10-06T00:00:00\",\"2021-10-07T00:00:00\",\"2021-10-08T00:00:00\",\"2021-10-09T00:00:00\",\"2021-10-10T00:00:00\",\"2021-10-11T00:00:00\",\"2021-10-12T00:00:00\",\"2021-10-13T00:00:00\",\"2021-10-14T00:00:00\",\"2021-10-15T00:00:00\",\"2021-10-16T00:00:00\",\"2021-10-17T00:00:00\",\"2021-10-18T00:00:00\",\"2021-10-19T00:00:00\",\"2021-10-20T00:00:00\",\"2021-10-21T00:00:00\",\"2021-10-22T00:00:00\",\"2021-10-23T00:00:00\",\"2021-10-24T00:00:00\",\"2021-10-25T00:00:00\",\"2021-10-26T00:00:00\",\"2021-10-27T00:00:00\",\"2021-10-28T00:00:00\",\"2021-10-29T00:00:00\",\"2021-10-30T00:00:00\",\"2021-10-31T00:00:00\",\"2021-11-01T00:00:00\",\"2021-11-02T00:00:00\",\"2021-11-03T00:00:00\",\"2021-11-04T00:00:00\",\"2021-11-05T00:00:00\",\"2021-11-06T00:00:00\",\"2021-11-07T00:00:00\",\"2021-11-08T00:00:00\",\"2021-11-09T00:00:00\",\"2021-11-10T00:00:00\",\"2021-11-11T00:00:00\",\"2021-11-12T00:00:00\",\"2021-11-13T00:00:00\",\"2021-11-14T00:00:00\",\"2021-11-15T00:00:00\",\"2021-11-16T00:00:00\",\"2021-11-17T00:00:00\",\"2021-11-18T00:00:00\",\"2021-11-19T00:00:00\",\"2021-11-20T00:00:00\",\"2021-11-21T00:00:00\",\"2021-11-22T00:00:00\",\"2021-11-23T00:00:00\",\"2021-11-24T00:00:00\",\"2021-11-25T00:00:00\",\"2021-11-26T00:00:00\",\"2021-11-27T00:00:00\",\"2021-11-28T00:00:00\",\"2021-11-29T00:00:00\",\"2021-11-30T00:00:00\",\"2021-12-01T00:00:00\",\"2021-12-02T00:00:00\",\"2021-12-03T00:00:00\",\"2021-12-04T00:00:00\",\"2021-12-05T00:00:00\",\"2021-12-06T00:00:00\",\"2021-12-07T00:00:00\",\"2021-12-08T00:00:00\",\"2021-12-09T00:00:00\",\"2021-12-10T00:00:00\",\"2021-12-11T00:00:00\",\"2021-12-12T00:00:00\",\"2021-12-13T00:00:00\",\"2021-12-14T00:00:00\",\"2021-12-15T00:00:00\",\"2021-12-16T00:00:00\",\"2021-12-17T00:00:00\",\"2021-12-18T00:00:00\",\"2021-12-19T00:00:00\",\"2021-12-20T00:00:00\",\"2021-12-21T00:00:00\",\"2021-12-22T00:00:00\",\"2021-12-23T00:00:00\",\"2021-12-24T00:00:00\",\"2021-12-25T00:00:00\",\"2021-12-26T00:00:00\",\"2021-12-27T00:00:00\",\"2021-12-28T00:00:00\",\"2021-12-29T00:00:00\",\"2021-12-30T00:00:00\",\"2021-12-31T00:00:00\",\"2022-01-01T00:00:00\",\"2022-01-02T00:00:00\",\"2022-01-03T00:00:00\",\"2022-01-04T00:00:00\",\"2022-01-05T00:00:00\",\"2022-01-06T00:00:00\",\"2022-01-07T00:00:00\",\"2022-01-08T00:00:00\",\"2022-01-09T00:00:00\",\"2022-01-10T00:00:00\",\"2022-01-11T00:00:00\",\"2022-01-12T00:00:00\",\"2022-01-13T00:00:00\",\"2022-01-14T00:00:00\",\"2022-01-15T00:00:00\",\"2022-01-16T00:00:00\",\"2022-01-17T00:00:00\",\"2022-01-18T00:00:00\",\"2022-01-19T00:00:00\",\"2022-01-20T00:00:00\",\"2022-01-21T00:00:00\",\"2022-01-22T00:00:00\",\"2022-01-23T00:00:00\",\"2022-01-24T00:00:00\",\"2022-01-25T00:00:00\",\"2022-01-26T00:00:00\",\"2022-01-27T00:00:00\",\"2022-01-28T00:00:00\",\"2022-01-29T00:00:00\",\"2022-01-30T00:00:00\",\"2022-01-31T00:00:00\",\"2022-02-01T00:00:00\",\"2022-02-02T00:00:00\",\"2022-02-03T00:00:00\",\"2022-02-04T00:00:00\",\"2022-02-05T00:00:00\",\"2022-02-06T00:00:00\",\"2022-02-07T00:00:00\",\"2022-02-08T00:00:00\",\"2022-02-09T00:00:00\",\"2022-02-10T00:00:00\",\"2022-02-11T00:00:00\",\"2022-02-12T00:00:00\",\"2022-02-13T00:00:00\",\"2022-02-14T00:00:00\",\"2022-02-15T00:00:00\",\"2022-02-16T00:00:00\",\"2022-02-17T00:00:00\",\"2022-02-18T00:00:00\",\"2022-02-19T00:00:00\",\"2022-02-20T00:00:00\",\"2022-02-21T00:00:00\",\"2022-02-22T00:00:00\",\"2022-02-23T00:00:00\",\"2022-02-24T00:00:00\",\"2022-02-25T00:00:00\",\"2022-02-26T00:00:00\",\"2022-02-27T00:00:00\",\"2022-02-28T00:00:00\",\"2022-03-01T00:00:00\",\"2022-03-02T00:00:00\",\"2022-03-03T00:00:00\",\"2022-03-04T00:00:00\",\"2022-03-05T00:00:00\",\"2022-03-06T00:00:00\",\"2022-03-07T00:00:00\",\"2022-03-08T00:00:00\",\"2022-03-09T00:00:00\",\"2022-03-10T00:00:00\",\"2022-03-11T00:00:00\",\"2022-03-12T00:00:00\",\"2022-03-13T00:00:00\",\"2022-03-14T00:00:00\",\"2022-03-15T00:00:00\",\"2022-03-16T00:00:00\",\"2022-03-17T00:00:00\",\"2022-03-18T00:00:00\",\"2022-03-19T00:00:00\",\"2022-03-20T00:00:00\",\"2022-03-21T00:00:00\",\"2022-03-22T00:00:00\",\"2022-03-23T00:00:00\",\"2022-03-24T00:00:00\",\"2022-03-25T00:00:00\",\"2022-03-26T00:00:00\",\"2022-03-27T00:00:00\",\"2022-03-28T00:00:00\",\"2022-03-29T00:00:00\",\"2022-03-30T00:00:00\",\"2022-03-31T00:00:00\",\"2022-04-01T00:00:00\",\"2022-04-02T00:00:00\",\"2022-04-03T00:00:00\",\"2022-04-04T00:00:00\",\"2022-04-05T00:00:00\",\"2022-04-06T00:00:00\",\"2022-04-07T00:00:00\",\"2022-04-08T00:00:00\",\"2022-04-09T00:00:00\",\"2022-04-10T00:00:00\",\"2022-04-11T00:00:00\",\"2022-04-12T00:00:00\",\"2022-04-13T00:00:00\",\"2022-04-14T00:00:00\",\"2022-04-15T00:00:00\",\"2022-04-16T00:00:00\",\"2022-04-17T00:00:00\",\"2022-04-18T00:00:00\",\"2022-04-19T00:00:00\",\"2022-04-20T00:00:00\",\"2022-04-21T00:00:00\",\"2022-04-22T00:00:00\",\"2022-04-23T00:00:00\",\"2022-04-24T00:00:00\",\"2022-04-25T00:00:00\",\"2022-04-26T00:00:00\",\"2022-04-27T00:00:00\",\"2022-04-28T00:00:00\",\"2022-04-29T00:00:00\",\"2022-04-30T00:00:00\"],\"xaxis\":\"x\",\"y\":[88.24170684814453,86.96977233886719,89.06913757324219,88.79717254638672,89.10277557373047,94.29486083984375,99.25945281982422,96.63829040527344,110.03205108642578,148.38363647460938,124.72435760498047,127.91223907470703,133.20989990234375,132.72242736816406,124.52399444580078,125.36519622802734,123.37920379638672,129.238525390625,125.1343765258789,121.20066833496094,100.08177185058594,105.16366577148438,105.21566009521484,106.19976043701172,105.31409454345703,104.91120147705078,96.92486572265625,102.7978286743164,104.79981994628906,104.87330627441406,102.56926727294922,103.65044403076172,109.90973663330078,116.57481384277344,111.2339096069336,120.249267578125,119.07769775390625,118.50476837158203,126.35946655273438,136.6925048828125,139.607666015625,164.8201904296875,169.92604064941406,266.84490966796875,231.91690063476562,257.7479248046875,248.9886474609375,266.26104736328125,282.0085144042969,325.2530517578125,298.6866455078125,301.69317626953125,272.0561828613281,229.6285858154297,238.3899383544922,218.50010681152344,206.70166015625,211.6562042236328,196.2718963623047,223.27999877929688,216.19158935546875,223.57183837890625,211.21237182617188,206.41807556152344,208.97938537597656,214.23692321777344,218.20669555664062,244.65338134765625,234.91635131835938,235.39495849609375,225.5315399169922,243.48358154296875,232.74282836914062,221.1944122314453,223.32272338867188,229.13754272460938,226.49794006347656,226.57208251953125,228.11802673339844,221.1623992919922,207.9124298095703,207.84616088867188,192.2743377685547,189.76625061035156,203.5928955078125,201.6759033203125,207.04820251464844,214.62571716308594,216.64932250976562,222.53558349609375,234.1024932861328,245.21214294433594,224.99575805664062,272.31475830078125,273.76861572265625,276.6620788574219,253.8490447998047,267.1763610839844,264.9345397949219,282.8511962890625,287.8891906738281,280.6748046875,293.0616760253906,305.8320617675781,327.7560119628906,381.2538757324219,360.3804016113281,315.9982604980469,294.12933349609375,317.69293212890625,295.8661193847656,276.8070373535156,262.6677551269531,246.5718231201172,246.45765686035156,278.7384338378906,292.6408996582031,288.9514465332031,286.6329345703125,319.1708679199219,322.0465087890625,315.03631591796875,342.0164489746094,361.7254638671875,395.6672058105469,440.8867492675781,405.4638671875,409.18914794921875,405.00042724609375,371.0570983886719,426.6883239746094,354.1837158203125,357.28485107421875,371.0878601074219,336.1266784667969,331.5959167480469,294.48626708984375,304.90106201171875,191.43124389648438,228.412841796875,188.72918701171875,178.26036071777344,151.4751434326172,199.95257568359375,195.23516845703125,214.2022705078125,203.32568359375,183.1865234375,176.79043579101562,182.0885467529297,197.80145263671875,191.51205444335938,202.5358123779297,209.7586212158203,191.68955993652344,185.27235412597656,185.7380828857422,171.60997009277344,166.78379821777344,176.42684936523438,169.81427001953125,165.6772003173828,163.69642639160156,172.7238311767578,173.92776489257812,175.8301239013672,164.1434326171875,163.80184936523438,154.95700073242188,152.0312957763672,153.69898986816406,123.29505920410156,119.16285705566406,126.29235076904297,131.04478454589844,120.75800323486328,124.37985229492188,127.00121307373047,131.78509521484375,139.9272003173828,145.2664794921875,138.60922241210938,135.52635192871094,138.6572723388672,140.2721710205078,132.82015991210938,134.8974609375,134.56687927246094,126.60302734375,128.4962615966797,128.33372497558594,128.36778259277344,126.99866485595703,123.80884552001953,123.22850036621094,121.90779113769531,115.11602020263672,116.07040405273438,116.13452911376953,137.5277099609375,125.65970611572266,138.45127868652344,142.1764678955078,142.8134765625,141.20733642578125,139.80911254882812,142.5493927001953,146.0492706298828,152.51478576660156,164.96051025390625,165.60057067871094,164.20956420898438,160.5591278076172,161.9168243408203,156.14639282226562,161.3732147216797,164.4180145263672,166.79278564453125,170.35598754882812,161.66107177734375,179.44493103027344,175.8022003173828,181.9827423095703,179.90499877929688,202.01028442382812,199.10130310058594,215.16952514648438,202.09327697753906,194.60391235351562,210.22152709960938,220.021484375,232.82537841796875,237.39930725097656,255.0361785888672,270.222900390625,248.4403839111328,264.0304870605469,232.4397735595703,242.22357177734375,236.49534606933594,225.57115173339844,216.5446319580078,223.8780517578125,238.95977783203125,239.124755859375,247.52658081054688,251.7869415283203,263.6717224121094,255.46983337402344,206.56008911132812,201.6989288330078,202.4326629638672,193.1383819580078,194.04750061035156,203.87416076660156,196.51748657226562,205.4199981689453,208.8966522216797,208.36817932128906,198.48216247558594,199.40603637695312,192.93634033203125,168.96347045898438,157.12278747558594,175.76116943359375,184.5865478515625,165.64089965820312,164.46682739257812,162.02964782714844,153.99777221679688,147.2743377685547,152.74337768554688,165.94309997558594,176.8180694580078,177.81581115722656,177.95457458496094,173.8440399169922,182.54489135742188,185.4502410888672,188.99537658691406,189.46444702148438,193.05776977539062,183.0681610107422,183.10873413085938,180.81192016601562,183.52870178222656,186.2261199951172,193.55445861816406,190.28453063964844,186.28494262695312,186.8433074951172,193.91062927246094,201.2010955810547,196.7230224609375,195.10389709472656,197.80262756347656,202.89234924316406,208.06024169921875,198.6298828125,174.7181396484375,182.916015625,187.73858642578125,183.89366149902344,192.5885467529297,189.61611938476562,200.0105438232422,201.4314727783203,199.17445373535156,195.00296020507812,191.313232421875,194.09371948242188,212.01597595214844,234.65283203125,217.75218200683594,233.68136596679688,221.6092071533203,229.17071533203125,228.86643981933594,223.93272399902344,198.82083129882812,189.34681701660156,175.64332580566406,189.42132568359375,193.7332305908203,207.7373504638672,197.03762817382812,187.50277709960938,189.78610229492188,205.82138061523438,182.50730895996094,182.74925231933594,178.6663818359375,182.0981903076172,179.64964294433594,178.57406616210938,175.8801727294922,167.47390747070312,142.40614318847656,134.71051025390625,138.18968200683594,138.59088134765625,147.1129913330078,136.68519592285156,133.28451538085938,140.5103759765625,138.79591369628906,126.48068237304688,127.62391662597656,134.12026977539062,130.40859985351562,128.49667358398438,130.02061462402344,129.21961975097656,127.11482238769531,133.8475341796875,135.06527709960938,146.0125274658203,148.8353729248047,150.01055908203125,149.4401397705078,150.25265502929688,135.1034698486328,133.33033752441406,133.4425048828125,134.00779724121094,137.9539337158203,142.06263732910156,139.25575256347656,134.84695434570312,123.25239562988281,124.66200256347656,133.95945739746094,142.3133544921875,153.16720581054688,148.2267303466797,141.973876953125,143.5205078125,140.89134216308594,141.51258850097656,141.83383178710938,137.5402069091797,135.83851623535156,130.86033630371094,127.28755187988281,121.27249908447266,105.7988052368164,97.13134765625,99.35006713867188,90.38058471679688,89.69280242919922,92.89773559570312,91.59614562988281,95.63079071044922,96.4242935180664,93.10681915283203,94.39225769042969,97.23040008544922,93.13287353515625,94.5758056640625,102.9380874633789,103.77330780029297,108.55671691894531,115.9920425415039,112.85295104980469,115.14352416992188,112.01493072509766,104.09935760498047,103.8870849609375,102.7927474975586,103.98352813720703,109.46661376953125,115.52680206298828,104.74022674560547,105.37860107421875,102.51168060302734,98.30338287353516,87.26446533203125,93.59300994873047,88.76683044433594,87.78496551513672,92.74513244628906,93.48756408691406,88.29226684570312,100.27006530761719,99.87918853759766,100.94232940673828,96.77476501464844,89.45503997802734,89.62205505371094,86.00035095214844,86.1670913696289,96.87416076660156,99.75558471679688,104.82414245605469,95.7054672241211,99.62523651123047,93.88875579833984,98.19611358642578,95.37816619873047,98.43061065673828,96.59779357910156,98.79864501953125,102.98870849609375,115.19500732421875,123.33521270751953,130.68310546875,129.74461364746094,130.1918487548828,126.28829956054688,128.08485412597656,132.91368103027344,127.58899688720703,130.4614715576172,132.7347412109375,127.02091217041016,128.16241455078125,127.2207260131836,132.66709899902344,133.1615753173828,127.2558364868164,114.03560638427734,116.88786315917969,110.8219223022461,114.79098510742188,111.8371353149414,100.59423065185547,102.3305892944336,105.63807678222656,106.62735748291016,109.19276428222656,108.49427795410156,104.70516204833984,108.58356475830078,109.60491180419922,107.11422729492188,102.28857421875,103.73295593261719,102.17656707763672,100.07998657226562,99.63310241699219,93.2701644897461,95.61714172363281,96.56824493408203,92.26946258544922,85.08344268798828],\"yaxis\":\"y\",\"type\":\"scattergl\"}],                        {\"template\":{\"data\":{\"histogram2dcontour\":[{\"type\":\"histogram2dcontour\",\"colorbar\":{\"outlinewidth\":0,\"ticks\":\"\"},\"colorscale\":[[0.0,\"#0d0887\"],[0.1111111111111111,\"#46039f\"],[0.2222222222222222,\"#7201a8\"],[0.3333333333333333,\"#9c179e\"],[0.4444444444444444,\"#bd3786\"],[0.5555555555555556,\"#d8576b\"],[0.6666666666666666,\"#ed7953\"],[0.7777777777777778,\"#fb9f3a\"],[0.8888888888888888,\"#fdca26\"],[1.0,\"#f0f921\"]]}],\"choropleth\":[{\"type\":\"choropleth\",\"colorbar\":{\"outlinewidth\":0,\"ticks\":\"\"}}],\"histogram2d\":[{\"type\":\"histogram2d\",\"colorbar\":{\"outlinewidth\":0,\"ticks\":\"\"},\"colorscale\":[[0.0,\"#0d0887\"],[0.1111111111111111,\"#46039f\"],[0.2222222222222222,\"#7201a8\"],[0.3333333333333333,\"#9c179e\"],[0.4444444444444444,\"#bd3786\"],[0.5555555555555556,\"#d8576b\"],[0.6666666666666666,\"#ed7953\"],[0.7777777777777778,\"#fb9f3a\"],[0.8888888888888888,\"#fdca26\"],[1.0,\"#f0f921\"]]}],\"heatmap\":[{\"type\":\"heatmap\",\"colorbar\":{\"outlinewidth\":0,\"ticks\":\"\"},\"colorscale\":[[0.0,\"#0d0887\"],[0.1111111111111111,\"#46039f\"],[0.2222222222222222,\"#7201a8\"],[0.3333333333333333,\"#9c179e\"],[0.4444444444444444,\"#bd3786\"],[0.5555555555555556,\"#d8576b\"],[0.6666666666666666,\"#ed7953\"],[0.7777777777777778,\"#fb9f3a\"],[0.8888888888888888,\"#fdca26\"],[1.0,\"#f0f921\"]]}],\"heatmapgl\":[{\"type\":\"heatmapgl\",\"colorbar\":{\"outlinewidth\":0,\"ticks\":\"\"},\"colorscale\":[[0.0,\"#0d0887\"],[0.1111111111111111,\"#46039f\"],[0.2222222222222222,\"#7201a8\"],[0.3333333333333333,\"#9c179e\"],[0.4444444444444444,\"#bd3786\"],[0.5555555555555556,\"#d8576b\"],[0.6666666666666666,\"#ed7953\"],[0.7777777777777778,\"#fb9f3a\"],[0.8888888888888888,\"#fdca26\"],[1.0,\"#f0f921\"]]}],\"contourcarpet\":[{\"type\":\"contourcarpet\",\"colorbar\":{\"outlinewidth\":0,\"ticks\":\"\"}}],\"contour\":[{\"type\":\"contour\",\"colorbar\":{\"outlinewidth\":0,\"ticks\":\"\"},\"colorscale\":[[0.0,\"#0d0887\"],[0.1111111111111111,\"#46039f\"],[0.2222222222222222,\"#7201a8\"],[0.3333333333333333,\"#9c179e\"],[0.4444444444444444,\"#bd3786\"],[0.5555555555555556,\"#d8576b\"],[0.6666666666666666,\"#ed7953\"],[0.7777777777777778,\"#fb9f3a\"],[0.8888888888888888,\"#fdca26\"],[1.0,\"#f0f921\"]]}],\"surface\":[{\"type\":\"surface\",\"colorbar\":{\"outlinewidth\":0,\"ticks\":\"\"},\"colorscale\":[[0.0,\"#0d0887\"],[0.1111111111111111,\"#46039f\"],[0.2222222222222222,\"#7201a8\"],[0.3333333333333333,\"#9c179e\"],[0.4444444444444444,\"#bd3786\"],[0.5555555555555556,\"#d8576b\"],[0.6666666666666666,\"#ed7953\"],[0.7777777777777778,\"#fb9f3a\"],[0.8888888888888888,\"#fdca26\"],[1.0,\"#f0f921\"]]}],\"mesh3d\":[{\"type\":\"mesh3d\",\"colorbar\":{\"outlinewidth\":0,\"ticks\":\"\"}}],\"scatter\":[{\"fillpattern\":{\"fillmode\":\"overlay\",\"size\":10,\"solidity\":0.2},\"type\":\"scatter\"}],\"parcoords\":[{\"type\":\"parcoords\",\"line\":{\"colorbar\":{\"outlinewidth\":0,\"ticks\":\"\"}}}],\"scatterpolargl\":[{\"type\":\"scatterpolargl\",\"marker\":{\"colorbar\":{\"outlinewidth\":0,\"ticks\":\"\"}}}],\"bar\":[{\"error_x\":{\"color\":\"#2a3f5f\"},\"error_y\":{\"color\":\"#2a3f5f\"},\"marker\":{\"line\":{\"color\":\"#E5ECF6\",\"width\":0.5},\"pattern\":{\"fillmode\":\"overlay\",\"size\":10,\"solidity\":0.2}},\"type\":\"bar\"}],\"scattergeo\":[{\"type\":\"scattergeo\",\"marker\":{\"colorbar\":{\"outlinewidth\":0,\"ticks\":\"\"}}}],\"scatterpolar\":[{\"type\":\"scatterpolar\",\"marker\":{\"colorbar\":{\"outlinewidth\":0,\"ticks\":\"\"}}}],\"histogram\":[{\"marker\":{\"pattern\":{\"fillmode\":\"overlay\",\"size\":10,\"solidity\":0.2}},\"type\":\"histogram\"}],\"scattergl\":[{\"type\":\"scattergl\",\"marker\":{\"colorbar\":{\"outlinewidth\":0,\"ticks\":\"\"}}}],\"scatter3d\":[{\"type\":\"scatter3d\",\"line\":{\"colorbar\":{\"outlinewidth\":0,\"ticks\":\"\"}},\"marker\":{\"colorbar\":{\"outlinewidth\":0,\"ticks\":\"\"}}}],\"scattermapbox\":[{\"type\":\"scattermapbox\",\"marker\":{\"colorbar\":{\"outlinewidth\":0,\"ticks\":\"\"}}}],\"scatterternary\":[{\"type\":\"scatterternary\",\"marker\":{\"colorbar\":{\"outlinewidth\":0,\"ticks\":\"\"}}}],\"scattercarpet\":[{\"type\":\"scattercarpet\",\"marker\":{\"colorbar\":{\"outlinewidth\":0,\"ticks\":\"\"}}}],\"carpet\":[{\"aaxis\":{\"endlinecolor\":\"#2a3f5f\",\"gridcolor\":\"white\",\"linecolor\":\"white\",\"minorgridcolor\":\"white\",\"startlinecolor\":\"#2a3f5f\"},\"baxis\":{\"endlinecolor\":\"#2a3f5f\",\"gridcolor\":\"white\",\"linecolor\":\"white\",\"minorgridcolor\":\"white\",\"startlinecolor\":\"#2a3f5f\"},\"type\":\"carpet\"}],\"table\":[{\"cells\":{\"fill\":{\"color\":\"#EBF0F8\"},\"line\":{\"color\":\"white\"}},\"header\":{\"fill\":{\"color\":\"#C8D4E3\"},\"line\":{\"color\":\"white\"}},\"type\":\"table\"}],\"barpolar\":[{\"marker\":{\"line\":{\"color\":\"#E5ECF6\",\"width\":0.5},\"pattern\":{\"fillmode\":\"overlay\",\"size\":10,\"solidity\":0.2}},\"type\":\"barpolar\"}],\"pie\":[{\"automargin\":true,\"type\":\"pie\"}]},\"layout\":{\"autotypenumbers\":\"strict\",\"colorway\":[\"#636efa\",\"#EF553B\",\"#00cc96\",\"#ab63fa\",\"#FFA15A\",\"#19d3f3\",\"#FF6692\",\"#B6E880\",\"#FF97FF\",\"#FECB52\"],\"font\":{\"color\":\"#2a3f5f\"},\"hovermode\":\"closest\",\"hoverlabel\":{\"align\":\"left\"},\"paper_bgcolor\":\"white\",\"plot_bgcolor\":\"#E5ECF6\",\"polar\":{\"bgcolor\":\"#E5ECF6\",\"angularaxis\":{\"gridcolor\":\"white\",\"linecolor\":\"white\",\"ticks\":\"\"},\"radialaxis\":{\"gridcolor\":\"white\",\"linecolor\":\"white\",\"ticks\":\"\"}},\"ternary\":{\"bgcolor\":\"#E5ECF6\",\"aaxis\":{\"gridcolor\":\"white\",\"linecolor\":\"white\",\"ticks\":\"\"},\"baxis\":{\"gridcolor\":\"white\",\"linecolor\":\"white\",\"ticks\":\"\"},\"caxis\":{\"gridcolor\":\"white\",\"linecolor\":\"white\",\"ticks\":\"\"}},\"coloraxis\":{\"colorbar\":{\"outlinewidth\":0,\"ticks\":\"\"}},\"colorscale\":{\"sequential\":[[0.0,\"#0d0887\"],[0.1111111111111111,\"#46039f\"],[0.2222222222222222,\"#7201a8\"],[0.3333333333333333,\"#9c179e\"],[0.4444444444444444,\"#bd3786\"],[0.5555555555555556,\"#d8576b\"],[0.6666666666666666,\"#ed7953\"],[0.7777777777777778,\"#fb9f3a\"],[0.8888888888888888,\"#fdca26\"],[1.0,\"#f0f921\"]],\"sequentialminus\":[[0.0,\"#0d0887\"],[0.1111111111111111,\"#46039f\"],[0.2222222222222222,\"#7201a8\"],[0.3333333333333333,\"#9c179e\"],[0.4444444444444444,\"#bd3786\"],[0.5555555555555556,\"#d8576b\"],[0.6666666666666666,\"#ed7953\"],[0.7777777777777778,\"#fb9f3a\"],[0.8888888888888888,\"#fdca26\"],[1.0,\"#f0f921\"]],\"diverging\":[[0,\"#8e0152\"],[0.1,\"#c51b7d\"],[0.2,\"#de77ae\"],[0.3,\"#f1b6da\"],[0.4,\"#fde0ef\"],[0.5,\"#f7f7f7\"],[0.6,\"#e6f5d0\"],[0.7,\"#b8e186\"],[0.8,\"#7fbc41\"],[0.9,\"#4d9221\"],[1,\"#276419\"]]},\"xaxis\":{\"gridcolor\":\"white\",\"linecolor\":\"white\",\"ticks\":\"\",\"title\":{\"standoff\":15},\"zerolinecolor\":\"white\",\"automargin\":true,\"zerolinewidth\":2},\"yaxis\":{\"gridcolor\":\"white\",\"linecolor\":\"white\",\"ticks\":\"\",\"title\":{\"standoff\":15},\"zerolinecolor\":\"white\",\"automargin\":true,\"zerolinewidth\":2},\"scene\":{\"xaxis\":{\"backgroundcolor\":\"#E5ECF6\",\"gridcolor\":\"white\",\"linecolor\":\"white\",\"showbackground\":true,\"ticks\":\"\",\"zerolinecolor\":\"white\",\"gridwidth\":2},\"yaxis\":{\"backgroundcolor\":\"#E5ECF6\",\"gridcolor\":\"white\",\"linecolor\":\"white\",\"showbackground\":true,\"ticks\":\"\",\"zerolinecolor\":\"white\",\"gridwidth\":2},\"zaxis\":{\"backgroundcolor\":\"#E5ECF6\",\"gridcolor\":\"white\",\"linecolor\":\"white\",\"showbackground\":true,\"ticks\":\"\",\"zerolinecolor\":\"white\",\"gridwidth\":2}},\"shapedefaults\":{\"line\":{\"color\":\"#2a3f5f\"}},\"annotationdefaults\":{\"arrowcolor\":\"#2a3f5f\",\"arrowhead\":0,\"arrowwidth\":1},\"geo\":{\"bgcolor\":\"white\",\"landcolor\":\"#E5ECF6\",\"subunitcolor\":\"white\",\"showland\":true,\"showlakes\":true,\"lakecolor\":\"white\"},\"title\":{\"x\":0.05},\"mapbox\":{\"style\":\"light\"}}},\"xaxis\":{\"anchor\":\"y\",\"domain\":[0.0,1.0],\"title\":{\"text\":\"Date\"}},\"yaxis\":{\"anchor\":\"x\",\"domain\":[0.0,1.0],\"title\":{\"text\":\"value\"}},\"legend\":{\"title\":{\"text\":\"variable\"},\"tracegroupgap\":0},\"margin\":{\"t\":60}},                        {\"responsive\": true}                    ).then(function(){\n                            \nvar gd = document.getElementById('94bbebad-22da-45c6-b136-6ee7dc746993');\nvar x = new MutationObserver(function (mutations, observer) {{\n        var display = window.getComputedStyle(gd).display;\n        if (!display || display === 'none') {{\n            console.log([gd, 'removed!']);\n            Plotly.purge(gd);\n            observer.disconnect();\n        }}\n}});\n\n// Listen for the removal of the full notebook cells\nvar notebookContainer = gd.closest('#notebook-container');\nif (notebookContainer) {{\n    x.observe(notebookContainer, {childList: true});\n}}\n\n// Listen for the clearing of the current output cell\nvar outputEl = gd.closest('.output');\nif (outputEl) {{\n    x.observe(outputEl, {childList: true});\n}}\n\n                        })                };                            </script>        </div>\n</body>\n</html>"
     },
     "metadata": {},
     "output_type": "display_data"
    }
   ],
   "execution_count": null
  },
  {
   "cell_type": "code",
   "metadata": {
    "cell_id": "baec8a541d8b4dfba66c5c204d4f0cd8",
    "tags": [],
    "deepnote_to_be_reexecuted": false,
    "source_hash": "6d4c0617",
    "execution_start": 1651824129433,
    "execution_millis": 84,
    "deepnote_cell_type": "code",
    "deepnote_cell_height": 641.921875,
    "deepnote_output_heights": [
     526.984375
    ]
   },
   "source": "fig = px.line(crypto, y=['BTC_7DAY_MA'] )\nfig.show()",
   "outputs": [
    {
     "data": {
      "text/html": "<html>\n<head><meta charset=\"utf-8\" /></head>\n<body>\n    <div>            <script src=\"https://cdnjs.cloudflare.com/ajax/libs/mathjax/2.7.5/MathJax.js?config=TeX-AMS-MML_SVG\"></script><script type=\"text/javascript\">if (window.MathJax) {MathJax.Hub.Config({SVG: {font: \"STIX-Web\"}});}</script>                <script type=\"text/javascript\">window.PlotlyConfig = {MathJaxConfig: 'local'};</script>\n        <script src=\"https://cdn.plot.ly/plotly-2.11.1.min.js\"></script>                <div id=\"c9c6479b-dfe8-4985-8ca5-cecfbb9fbf7d\" class=\"plotly-graph-div\" style=\"height:525px; width:100%;\"></div>            <script type=\"text/javascript\">                                    window.PLOTLYENV=window.PLOTLYENV || {};                                    if (document.getElementById(\"c9c6479b-dfe8-4985-8ca5-cecfbb9fbf7d\")) {                    Plotly.newPlot(                        \"c9c6479b-dfe8-4985-8ca5-cecfbb9fbf7d\",                        [{\"hovertemplate\":\"variable=BTC_7DAY_MA<br>Date=%{x}<br>value=%{y}<extra></extra>\",\"legendgroup\":\"BTC_7DAY_MA\",\"line\":{\"color\":\"#636efa\",\"dash\":\"solid\"},\"marker\":{\"symbol\":\"circle\"},\"mode\":\"lines\",\"name\":\"BTC_7DAY_MA\",\"orientation\":\"v\",\"showlegend\":true,\"x\":[\"2021-01-01T00:00:00\",\"2021-01-02T00:00:00\",\"2021-01-03T00:00:00\",\"2021-01-04T00:00:00\",\"2021-01-05T00:00:00\",\"2021-01-06T00:00:00\",\"2021-01-07T00:00:00\",\"2021-01-08T00:00:00\",\"2021-01-09T00:00:00\",\"2021-01-10T00:00:00\",\"2021-01-11T00:00:00\",\"2021-01-12T00:00:00\",\"2021-01-13T00:00:00\",\"2021-01-14T00:00:00\",\"2021-01-15T00:00:00\",\"2021-01-16T00:00:00\",\"2021-01-17T00:00:00\",\"2021-01-18T00:00:00\",\"2021-01-19T00:00:00\",\"2021-01-20T00:00:00\",\"2021-01-21T00:00:00\",\"2021-01-22T00:00:00\",\"2021-01-23T00:00:00\",\"2021-01-24T00:00:00\",\"2021-01-25T00:00:00\",\"2021-01-26T00:00:00\",\"2021-01-27T00:00:00\",\"2021-01-28T00:00:00\",\"2021-01-29T00:00:00\",\"2021-01-30T00:00:00\",\"2021-01-31T00:00:00\",\"2021-02-01T00:00:00\",\"2021-02-02T00:00:00\",\"2021-02-03T00:00:00\",\"2021-02-04T00:00:00\",\"2021-02-05T00:00:00\",\"2021-02-06T00:00:00\",\"2021-02-07T00:00:00\",\"2021-02-08T00:00:00\",\"2021-02-09T00:00:00\",\"2021-02-10T00:00:00\",\"2021-02-11T00:00:00\",\"2021-02-12T00:00:00\",\"2021-02-13T00:00:00\",\"2021-02-14T00:00:00\",\"2021-02-15T00:00:00\",\"2021-02-16T00:00:00\",\"2021-02-17T00:00:00\",\"2021-02-18T00:00:00\",\"2021-02-19T00:00:00\",\"2021-02-20T00:00:00\",\"2021-02-21T00:00:00\",\"2021-02-22T00:00:00\",\"2021-02-23T00:00:00\",\"2021-02-24T00:00:00\",\"2021-02-25T00:00:00\",\"2021-02-26T00:00:00\",\"2021-02-27T00:00:00\",\"2021-02-28T00:00:00\",\"2021-03-01T00:00:00\",\"2021-03-02T00:00:00\",\"2021-03-03T00:00:00\",\"2021-03-04T00:00:00\",\"2021-03-05T00:00:00\",\"2021-03-06T00:00:00\",\"2021-03-07T00:00:00\",\"2021-03-08T00:00:00\",\"2021-03-09T00:00:00\",\"2021-03-10T00:00:00\",\"2021-03-11T00:00:00\",\"2021-03-12T00:00:00\",\"2021-03-13T00:00:00\",\"2021-03-14T00:00:00\",\"2021-03-15T00:00:00\",\"2021-03-16T00:00:00\",\"2021-03-17T00:00:00\",\"2021-03-18T00:00:00\",\"2021-03-19T00:00:00\",\"2021-03-20T00:00:00\",\"2021-03-21T00:00:00\",\"2021-03-22T00:00:00\",\"2021-03-23T00:00:00\",\"2021-03-24T00:00:00\",\"2021-03-25T00:00:00\",\"2021-03-26T00:00:00\",\"2021-03-27T00:00:00\",\"2021-03-28T00:00:00\",\"2021-03-29T00:00:00\",\"2021-03-30T00:00:00\",\"2021-03-31T00:00:00\",\"2021-04-01T00:00:00\",\"2021-04-02T00:00:00\",\"2021-04-03T00:00:00\",\"2021-04-04T00:00:00\",\"2021-04-05T00:00:00\",\"2021-04-06T00:00:00\",\"2021-04-07T00:00:00\",\"2021-04-08T00:00:00\",\"2021-04-09T00:00:00\",\"2021-04-10T00:00:00\",\"2021-04-11T00:00:00\",\"2021-04-12T00:00:00\",\"2021-04-13T00:00:00\",\"2021-04-14T00:00:00\",\"2021-04-15T00:00:00\",\"2021-04-16T00:00:00\",\"2021-04-17T00:00:00\",\"2021-04-18T00:00:00\",\"2021-04-19T00:00:00\",\"2021-04-20T00:00:00\",\"2021-04-21T00:00:00\",\"2021-04-22T00:00:00\",\"2021-04-23T00:00:00\",\"2021-04-24T00:00:00\",\"2021-04-25T00:00:00\",\"2021-04-26T00:00:00\",\"2021-04-27T00:00:00\",\"2021-04-28T00:00:00\",\"2021-04-29T00:00:00\",\"2021-04-30T00:00:00\",\"2021-05-01T00:00:00\",\"2021-05-02T00:00:00\",\"2021-05-03T00:00:00\",\"2021-05-04T00:00:00\",\"2021-05-05T00:00:00\",\"2021-05-06T00:00:00\",\"2021-05-07T00:00:00\",\"2021-05-08T00:00:00\",\"2021-05-09T00:00:00\",\"2021-05-10T00:00:00\",\"2021-05-11T00:00:00\",\"2021-05-12T00:00:00\",\"2021-05-13T00:00:00\",\"2021-05-14T00:00:00\",\"2021-05-15T00:00:00\",\"2021-05-16T00:00:00\",\"2021-05-17T00:00:00\",\"2021-05-18T00:00:00\",\"2021-05-19T00:00:00\",\"2021-05-20T00:00:00\",\"2021-05-21T00:00:00\",\"2021-05-22T00:00:00\",\"2021-05-23T00:00:00\",\"2021-05-24T00:00:00\",\"2021-05-25T00:00:00\",\"2021-05-26T00:00:00\",\"2021-05-27T00:00:00\",\"2021-05-28T00:00:00\",\"2021-05-29T00:00:00\",\"2021-05-30T00:00:00\",\"2021-05-31T00:00:00\",\"2021-06-01T00:00:00\",\"2021-06-02T00:00:00\",\"2021-06-03T00:00:00\",\"2021-06-04T00:00:00\",\"2021-06-05T00:00:00\",\"2021-06-06T00:00:00\",\"2021-06-07T00:00:00\",\"2021-06-08T00:00:00\",\"2021-06-09T00:00:00\",\"2021-06-10T00:00:00\",\"2021-06-11T00:00:00\",\"2021-06-12T00:00:00\",\"2021-06-13T00:00:00\",\"2021-06-14T00:00:00\",\"2021-06-15T00:00:00\",\"2021-06-16T00:00:00\",\"2021-06-17T00:00:00\",\"2021-06-18T00:00:00\",\"2021-06-19T00:00:00\",\"2021-06-20T00:00:00\",\"2021-06-21T00:00:00\",\"2021-06-22T00:00:00\",\"2021-06-23T00:00:00\",\"2021-06-24T00:00:00\",\"2021-06-25T00:00:00\",\"2021-06-26T00:00:00\",\"2021-06-27T00:00:00\",\"2021-06-28T00:00:00\",\"2021-06-29T00:00:00\",\"2021-06-30T00:00:00\",\"2021-07-01T00:00:00\",\"2021-07-02T00:00:00\",\"2021-07-03T00:00:00\",\"2021-07-04T00:00:00\",\"2021-07-05T00:00:00\",\"2021-07-06T00:00:00\",\"2021-07-07T00:00:00\",\"2021-07-08T00:00:00\",\"2021-07-09T00:00:00\",\"2021-07-10T00:00:00\",\"2021-07-11T00:00:00\",\"2021-07-12T00:00:00\",\"2021-07-13T00:00:00\",\"2021-07-14T00:00:00\",\"2021-07-15T00:00:00\",\"2021-07-16T00:00:00\",\"2021-07-17T00:00:00\",\"2021-07-18T00:00:00\",\"2021-07-19T00:00:00\",\"2021-07-20T00:00:00\",\"2021-07-21T00:00:00\",\"2021-07-22T00:00:00\",\"2021-07-23T00:00:00\",\"2021-07-24T00:00:00\",\"2021-07-25T00:00:00\",\"2021-07-26T00:00:00\",\"2021-07-27T00:00:00\",\"2021-07-28T00:00:00\",\"2021-07-29T00:00:00\",\"2021-07-30T00:00:00\",\"2021-07-31T00:00:00\",\"2021-08-01T00:00:00\",\"2021-08-02T00:00:00\",\"2021-08-03T00:00:00\",\"2021-08-04T00:00:00\",\"2021-08-05T00:00:00\",\"2021-08-06T00:00:00\",\"2021-08-07T00:00:00\",\"2021-08-08T00:00:00\",\"2021-08-09T00:00:00\",\"2021-08-10T00:00:00\",\"2021-08-11T00:00:00\",\"2021-08-12T00:00:00\",\"2021-08-13T00:00:00\",\"2021-08-14T00:00:00\",\"2021-08-15T00:00:00\",\"2021-08-16T00:00:00\",\"2021-08-17T00:00:00\",\"2021-08-18T00:00:00\",\"2021-08-19T00:00:00\",\"2021-08-20T00:00:00\",\"2021-08-21T00:00:00\",\"2021-08-22T00:00:00\",\"2021-08-23T00:00:00\",\"2021-08-24T00:00:00\",\"2021-08-25T00:00:00\",\"2021-08-26T00:00:00\",\"2021-08-27T00:00:00\",\"2021-08-28T00:00:00\",\"2021-08-29T00:00:00\",\"2021-08-30T00:00:00\",\"2021-08-31T00:00:00\",\"2021-09-01T00:00:00\",\"2021-09-02T00:00:00\",\"2021-09-03T00:00:00\",\"2021-09-04T00:00:00\",\"2021-09-05T00:00:00\",\"2021-09-06T00:00:00\",\"2021-09-07T00:00:00\",\"2021-09-08T00:00:00\",\"2021-09-09T00:00:00\",\"2021-09-10T00:00:00\",\"2021-09-11T00:00:00\",\"2021-09-12T00:00:00\",\"2021-09-13T00:00:00\",\"2021-09-14T00:00:00\",\"2021-09-15T00:00:00\",\"2021-09-16T00:00:00\",\"2021-09-17T00:00:00\",\"2021-09-18T00:00:00\",\"2021-09-19T00:00:00\",\"2021-09-20T00:00:00\",\"2021-09-21T00:00:00\",\"2021-09-22T00:00:00\",\"2021-09-23T00:00:00\",\"2021-09-24T00:00:00\",\"2021-09-25T00:00:00\",\"2021-09-26T00:00:00\",\"2021-09-27T00:00:00\",\"2021-09-28T00:00:00\",\"2021-09-29T00:00:00\",\"2021-09-30T00:00:00\",\"2021-10-01T00:00:00\",\"2021-10-02T00:00:00\",\"2021-10-03T00:00:00\",\"2021-10-04T00:00:00\",\"2021-10-05T00:00:00\",\"2021-10-06T00:00:00\",\"2021-10-07T00:00:00\",\"2021-10-08T00:00:00\",\"2021-10-09T00:00:00\",\"2021-10-10T00:00:00\",\"2021-10-11T00:00:00\",\"2021-10-12T00:00:00\",\"2021-10-13T00:00:00\",\"2021-10-14T00:00:00\",\"2021-10-15T00:00:00\",\"2021-10-16T00:00:00\",\"2021-10-17T00:00:00\",\"2021-10-18T00:00:00\",\"2021-10-19T00:00:00\",\"2021-10-20T00:00:00\",\"2021-10-21T00:00:00\",\"2021-10-22T00:00:00\",\"2021-10-23T00:00:00\",\"2021-10-24T00:00:00\",\"2021-10-25T00:00:00\",\"2021-10-26T00:00:00\",\"2021-10-27T00:00:00\",\"2021-10-28T00:00:00\",\"2021-10-29T00:00:00\",\"2021-10-30T00:00:00\",\"2021-10-31T00:00:00\",\"2021-11-01T00:00:00\",\"2021-11-02T00:00:00\",\"2021-11-03T00:00:00\",\"2021-11-04T00:00:00\",\"2021-11-05T00:00:00\",\"2021-11-06T00:00:00\",\"2021-11-07T00:00:00\",\"2021-11-08T00:00:00\",\"2021-11-09T00:00:00\",\"2021-11-10T00:00:00\",\"2021-11-11T00:00:00\",\"2021-11-12T00:00:00\",\"2021-11-13T00:00:00\",\"2021-11-14T00:00:00\",\"2021-11-15T00:00:00\",\"2021-11-16T00:00:00\",\"2021-11-17T00:00:00\",\"2021-11-18T00:00:00\",\"2021-11-19T00:00:00\",\"2021-11-20T00:00:00\",\"2021-11-21T00:00:00\",\"2021-11-22T00:00:00\",\"2021-11-23T00:00:00\",\"2021-11-24T00:00:00\",\"2021-11-25T00:00:00\",\"2021-11-26T00:00:00\",\"2021-11-27T00:00:00\",\"2021-11-28T00:00:00\",\"2021-11-29T00:00:00\",\"2021-11-30T00:00:00\",\"2021-12-01T00:00:00\",\"2021-12-02T00:00:00\",\"2021-12-03T00:00:00\",\"2021-12-04T00:00:00\",\"2021-12-05T00:00:00\",\"2021-12-06T00:00:00\",\"2021-12-07T00:00:00\",\"2021-12-08T00:00:00\",\"2021-12-09T00:00:00\",\"2021-12-10T00:00:00\",\"2021-12-11T00:00:00\",\"2021-12-12T00:00:00\",\"2021-12-13T00:00:00\",\"2021-12-14T00:00:00\",\"2021-12-15T00:00:00\",\"2021-12-16T00:00:00\",\"2021-12-17T00:00:00\",\"2021-12-18T00:00:00\",\"2021-12-19T00:00:00\",\"2021-12-20T00:00:00\",\"2021-12-21T00:00:00\",\"2021-12-22T00:00:00\",\"2021-12-23T00:00:00\",\"2021-12-24T00:00:00\",\"2021-12-25T00:00:00\",\"2021-12-26T00:00:00\",\"2021-12-27T00:00:00\",\"2021-12-28T00:00:00\",\"2021-12-29T00:00:00\",\"2021-12-30T00:00:00\",\"2021-12-31T00:00:00\",\"2022-01-01T00:00:00\",\"2022-01-02T00:00:00\",\"2022-01-03T00:00:00\",\"2022-01-04T00:00:00\",\"2022-01-05T00:00:00\",\"2022-01-06T00:00:00\",\"2022-01-07T00:00:00\",\"2022-01-08T00:00:00\",\"2022-01-09T00:00:00\",\"2022-01-10T00:00:00\",\"2022-01-11T00:00:00\",\"2022-01-12T00:00:00\",\"2022-01-13T00:00:00\",\"2022-01-14T00:00:00\",\"2022-01-15T00:00:00\",\"2022-01-16T00:00:00\",\"2022-01-17T00:00:00\",\"2022-01-18T00:00:00\",\"2022-01-19T00:00:00\",\"2022-01-20T00:00:00\",\"2022-01-21T00:00:00\",\"2022-01-22T00:00:00\",\"2022-01-23T00:00:00\",\"2022-01-24T00:00:00\",\"2022-01-25T00:00:00\",\"2022-01-26T00:00:00\",\"2022-01-27T00:00:00\",\"2022-01-28T00:00:00\",\"2022-01-29T00:00:00\",\"2022-01-30T00:00:00\",\"2022-01-31T00:00:00\",\"2022-02-01T00:00:00\",\"2022-02-02T00:00:00\",\"2022-02-03T00:00:00\",\"2022-02-04T00:00:00\",\"2022-02-05T00:00:00\",\"2022-02-06T00:00:00\",\"2022-02-07T00:00:00\",\"2022-02-08T00:00:00\",\"2022-02-09T00:00:00\",\"2022-02-10T00:00:00\",\"2022-02-11T00:00:00\",\"2022-02-12T00:00:00\",\"2022-02-13T00:00:00\",\"2022-02-14T00:00:00\",\"2022-02-15T00:00:00\",\"2022-02-16T00:00:00\",\"2022-02-17T00:00:00\",\"2022-02-18T00:00:00\",\"2022-02-19T00:00:00\",\"2022-02-20T00:00:00\",\"2022-02-21T00:00:00\",\"2022-02-22T00:00:00\",\"2022-02-23T00:00:00\",\"2022-02-24T00:00:00\",\"2022-02-25T00:00:00\",\"2022-02-26T00:00:00\",\"2022-02-27T00:00:00\",\"2022-02-28T00:00:00\",\"2022-03-01T00:00:00\",\"2022-03-02T00:00:00\",\"2022-03-03T00:00:00\",\"2022-03-04T00:00:00\",\"2022-03-05T00:00:00\",\"2022-03-06T00:00:00\",\"2022-03-07T00:00:00\",\"2022-03-08T00:00:00\",\"2022-03-09T00:00:00\",\"2022-03-10T00:00:00\",\"2022-03-11T00:00:00\",\"2022-03-12T00:00:00\",\"2022-03-13T00:00:00\",\"2022-03-14T00:00:00\",\"2022-03-15T00:00:00\",\"2022-03-16T00:00:00\",\"2022-03-17T00:00:00\",\"2022-03-18T00:00:00\",\"2022-03-19T00:00:00\",\"2022-03-20T00:00:00\",\"2022-03-21T00:00:00\",\"2022-03-22T00:00:00\",\"2022-03-23T00:00:00\",\"2022-03-24T00:00:00\",\"2022-03-25T00:00:00\",\"2022-03-26T00:00:00\",\"2022-03-27T00:00:00\",\"2022-03-28T00:00:00\",\"2022-03-29T00:00:00\",\"2022-03-30T00:00:00\",\"2022-03-31T00:00:00\",\"2022-04-01T00:00:00\",\"2022-04-02T00:00:00\",\"2022-04-03T00:00:00\",\"2022-04-04T00:00:00\",\"2022-04-05T00:00:00\",\"2022-04-06T00:00:00\",\"2022-04-07T00:00:00\",\"2022-04-08T00:00:00\",\"2022-04-09T00:00:00\",\"2022-04-10T00:00:00\",\"2022-04-11T00:00:00\",\"2022-04-12T00:00:00\",\"2022-04-13T00:00:00\",\"2022-04-14T00:00:00\",\"2022-04-15T00:00:00\",\"2022-04-16T00:00:00\",\"2022-04-17T00:00:00\",\"2022-04-18T00:00:00\",\"2022-04-19T00:00:00\",\"2022-04-20T00:00:00\",\"2022-04-21T00:00:00\",\"2022-04-22T00:00:00\",\"2022-04-23T00:00:00\",\"2022-04-24T00:00:00\",\"2022-04-25T00:00:00\",\"2022-04-26T00:00:00\",\"2022-04-27T00:00:00\",\"2022-04-28T00:00:00\",\"2022-04-29T00:00:00\",\"2022-04-30T00:00:00\"],\"xaxis\":\"x\",\"y\":[null,null,null,null,null,null,33777.59905133928,35409.521484375,36570.56138392857,37366.90680803572,37880.44140625,37870.517299107145,37940.802455357145,37914.55747767857,37347.09430803572,36764.75055803572,36398.298549107145,36550.21540178572,36856.90736607143,36604.24888392857,35409.73046875,34864.072544642855,34276.85853794643,33776.58733258928,33167.489955357145,32667.49637276786,31936.753069196428,32313.95284598214,32501.184988839286,32815.73939732143,32933.59375,33100.84849330357,33520.91127232143,34526.560267857145,35020.841517857145,35567.6875,36281.47154017857,37108.48325892857,38916.953125,40484.212611607145,41547.94029017857,43116.978236607145,44454.19866071428,45574.12779017857,46976.10602678572,47225.90513392857,47614.30022321428,48647.275111607145,49185.91294642857,50383.52455357143,51668.38225446428,52928.76171875,53823.37053571428,53769.73549107143,53420.638950892855,52765.50390625,51401.450892857145,49985.584263392855,48213.84486607143,47560.119419642855,47496.48549107143,47615.47265625,47825.08928571428,48194.73828125,48583.87109375,49450.85993303572,49824.47154017857,50745.20424107143,51526.67689732143,52847.24162946428,54047.92522321428,55809.45424107143,56965.97209821428,57488.92578125,57771.89508928572,58180.80133928572,58188.48716517857,58333.42466517857,57914.93303571428,57660.80524553572,57463.94029017857,57168.80357142857,56297.85658482143,55418.60491071428,54960.12779017857,54625.82310267857,54401.15513392857,54861.30580357143,55458.26953125,56336.064732142855,57392.01450892857,57998.728794642855,58231.64006696428,58632.755580357145,58819.56696428572,58715.94810267857,58305.963169642855,58195.69810267857,58032.939732142855,58345.703125,58552.33314732143,58671.700892857145,59430.42912946428,60439.10881696428,61151.974330357145,61627.37220982143,61754.59877232143,61184.77287946428,60589.17466517857,59584.828125,58270.02734375,56619.779017857145,55122.759486607145,53603.76618303572,52573.490513392855,52330.27455357143,52124.572544642855,52255.803013392855,52511.92243303572,53462.85435267857,54573.880580357145,55663.42689732143,56117.50390625,55874.70703125,56246.03627232143,56651.951450892855,56595.69810267857,56735.087611607145,56963.8359375,56772.33649553572,57253.91294642857,56071.98828125,55117.65625,54049.67522321428,52329.162388392855,50646.83984375,48886.513392857145,46915.77455357143,45180.33258928572,43904.125,42107.575892857145,40789.92522321428,39120.57142857143,38430.35267857143,37786.46986607143,38113.86383928572,37778.75390625,37549.170200892855,37131.94642857143,37261.595982142855,37065.435267857145,36820.107142857145,36574.532924107145,36684.78962053572,36855.76116071428,36989.45982142857,37015.78125,36476.90290178572,36018.00390625,35985.138392857145,35627.11439732143,35689.970424107145,35690.05022321428,36152.26171875,37103.37165178572,38093.89118303572,38237.025669642855,38430.01227678572,38208.990513392855,38218.041294642855,37732.38950892857,36512.134765625,35383.476283482145,34722.89983258928,34238.46177455357,33645.68080357143,33155.73883928572,33005.931361607145,33399.88030133928,33880.18275669643,34068.441127232145,33912.68108258928,34235.43359375,34590.04352678572,34681.20591517857,34582.872767857145,34349.646763392855,34180.28850446428,34081.0390625,34066.89118303572,33902.88727678572,33753.23102678572,33668.92299107143,33449.898716517855,33302.330078125,33145.66713169643,32806.17103794643,32522.249441964286,32173.19559151786,31839.193359375,31425.66796875,31324.003069196428,31400.056640625,31708.629743303572,32102.82645089286,32610.451729910714,33541.837890625,34913.20842633928,36039.66741071428,37138.998325892855,38375.283482142855,39422.96205357143,40083.634486607145,40349.978794642855,40170.841517857145,40135.35546875,40258.37444196428,40341.36774553572,40759.8828125,41306.05747767857,42329.408482142855,43391.13002232143,44226.29185267857,44734.68247767857,45445.65680803572,45808.677455357145,46272.80412946428,46221.244419642855,46094.1484375,45980.94140625,46307.982700892855,46528.81919642857,46787.18303571428,47112.1328125,47618.08482142857,48048.193080357145,48642.421875,48674.513392857145,48634.44084821428,48633.99944196428,48563.73939732143,48207.85881696428,48130.79743303572,48114.54575892857,48455.33203125,48593.43303571428,48742.321986607145,49159.97600446428,49956.911830357145,49906.11774553572,49512.455357142855,49092.98381696428,48358.48883928572,47680.89341517857,46868.01618303572,45772.236049107145,45812.43080357143,46110.28180803572,46309.13002232143,46649.64564732143,47089.20368303572,47260.19642857143,46957.443080357145,46043.326450892855,45385.92075892857,44973.31194196428,44340.7734375,43546.23493303572,42967.423549107145,42880.556361607145,42929.251674107145,42642.088169642855,42484.34486607143,43238.22935267857,43951.78571428572,44664.84486607143,45647.29799107143,47144.47935267857,49115.49162946428,50546.21875,51382.0625,52418.73883928572,53357.54241071428,54553.52622767857,55200.1328125,55491.51116071428,55993.73102678572,57083.174107142855,57929.45368303572,58898.31640625,59547.071986607145,60721.49107142857,61948.88225446428,62647.26060267857,62518.44866071428,62590.08258928572,62501.11383928572,62645.93470982143,62089.049107142855,61016.12779017857,60789.265625,61008.65122767857,61079.396205357145,61134.842075892855,60844.068080357145,61253.01227678572,61894.10658482143,62012.69140625,61855.22154017857,61803.599888392855,62090.46149553572,63027.95033482143,63563.01116071428,63852.32310267857,64351.99888392857,64784.89397321428,65205.18638392857,65510.87946428572,64938.17131696428,63965.23102678572,63304.19977678572,62160.224888392855,61297.88727678572,60616.12555803572,59653.78794642857,58615.41908482143,58245.10881696428,57661.16796875,57708.674107142855,57058.700892857145,56361.255580357145,56149.53850446428,56366.29241071428,56285.771205357145,56421.400111607145,56307.5625,56311.631138392855,55509.57756696428,54383.91908482143,53351.927455357145,52451.16462053572,51490.44587053572,50232.48939732143,49324.640625,49347.755580357145,49451.96819196428,48902.661830357145,48318.739955357145,48089.01506696428,48088.05859375,47939.32142857143,47580.217075892855,47095.74274553572,47116.142299107145,47448.13950892857,47409.82366071428,47855.41127232143,48515.41852678572,49027.001674107145,49613.07310267857,50150.236049107145,49957.69921875,49645.72767857143,49130.525669642855,48485.41852678572,48093.5546875,47598.65513392857,47001.18359375,46759.571986607145,46348.75669642857,45774.87165178572,45096.50837053572,44246.09821428572,43469.8671875,42807.459263392855,42355.78515625,42410.08482142857,42328.747767857145,42549.00446428572,42755.212611607145,42926.966517857145,42988.29352678572,42936.83314732143,42621.865513392855,42348.84375,41399.931919642855,40236.05357142857,39259.32868303572,38459.86830357143,37685.349888392855,36986.463169642855,36480.43694196428,36670.01060267857,37114.00055803572,37348.400111607145,37609.65680803572,37865.26674107143,37879.67578125,37882.013950892855,38412.94866071428,38884.80357142857,39526.92243303572,40292.23102678572,41060.11272321428,42115.228794642855,43031.01618303572,43160.59654017857,43275.35435267857,43244.65178571428,43065.599330357145,43130.85044642857,43077.002232142855,42644.55915178572,42304.99330357143,42001.80580357143,41463.78627232143,40676.40959821428,39777.95591517857,38825.771763392855,38510.71428571428,38394.03459821428,38248.747767857145,38145.66294642857,39019.65625,39886.60044642857,40833.392857142855,41421.84709821428,41410.90234375,41453.107700892855,41554.564732142855,40821.536830357145,40019.05580357143,39741.74274553572,39311.12444196428,39262.17689732143,39191.23772321428,39109.763392857145,39339.00837053572,39424.939174107145,39305.08258928572,39521.35658482143,39950.81138392857,40420.33147321428,40905.782924107145,41107.388950892855,41538.82087053572,41788.681919642855,42218.61830357143,42582.55747767857,42912.58258928572,43708.678013392855,44572.96484375,45302.525111607145,45898.197544642855,46123.58928571428,46399.71986607143,46595.165736607145,46542.747767857145,46470.55803571428,46197.73828125,45646.89174107143,45356.20200892857,44785.63337053572,44344.66015625,43738.103794642855,42723.70758928572,41948.16350446428,41656.73381696428,41146.97209821428,40899.22935267857,40562.421875,40206.60491071428,40392.935267857145,40589.44475446428,40619.10881696428,40703.658482142855,40587.49497767857,40453.53013392857,40418.150111607145,40365.592075892855,39881.97935267857,39577.228236607145,39469.580357142855,39308.08091517857,39054.958705357145],\"yaxis\":\"y\",\"type\":\"scatter\"}],                        {\"template\":{\"data\":{\"histogram2dcontour\":[{\"type\":\"histogram2dcontour\",\"colorbar\":{\"outlinewidth\":0,\"ticks\":\"\"},\"colorscale\":[[0.0,\"#0d0887\"],[0.1111111111111111,\"#46039f\"],[0.2222222222222222,\"#7201a8\"],[0.3333333333333333,\"#9c179e\"],[0.4444444444444444,\"#bd3786\"],[0.5555555555555556,\"#d8576b\"],[0.6666666666666666,\"#ed7953\"],[0.7777777777777778,\"#fb9f3a\"],[0.8888888888888888,\"#fdca26\"],[1.0,\"#f0f921\"]]}],\"choropleth\":[{\"type\":\"choropleth\",\"colorbar\":{\"outlinewidth\":0,\"ticks\":\"\"}}],\"histogram2d\":[{\"type\":\"histogram2d\",\"colorbar\":{\"outlinewidth\":0,\"ticks\":\"\"},\"colorscale\":[[0.0,\"#0d0887\"],[0.1111111111111111,\"#46039f\"],[0.2222222222222222,\"#7201a8\"],[0.3333333333333333,\"#9c179e\"],[0.4444444444444444,\"#bd3786\"],[0.5555555555555556,\"#d8576b\"],[0.6666666666666666,\"#ed7953\"],[0.7777777777777778,\"#fb9f3a\"],[0.8888888888888888,\"#fdca26\"],[1.0,\"#f0f921\"]]}],\"heatmap\":[{\"type\":\"heatmap\",\"colorbar\":{\"outlinewidth\":0,\"ticks\":\"\"},\"colorscale\":[[0.0,\"#0d0887\"],[0.1111111111111111,\"#46039f\"],[0.2222222222222222,\"#7201a8\"],[0.3333333333333333,\"#9c179e\"],[0.4444444444444444,\"#bd3786\"],[0.5555555555555556,\"#d8576b\"],[0.6666666666666666,\"#ed7953\"],[0.7777777777777778,\"#fb9f3a\"],[0.8888888888888888,\"#fdca26\"],[1.0,\"#f0f921\"]]}],\"heatmapgl\":[{\"type\":\"heatmapgl\",\"colorbar\":{\"outlinewidth\":0,\"ticks\":\"\"},\"colorscale\":[[0.0,\"#0d0887\"],[0.1111111111111111,\"#46039f\"],[0.2222222222222222,\"#7201a8\"],[0.3333333333333333,\"#9c179e\"],[0.4444444444444444,\"#bd3786\"],[0.5555555555555556,\"#d8576b\"],[0.6666666666666666,\"#ed7953\"],[0.7777777777777778,\"#fb9f3a\"],[0.8888888888888888,\"#fdca26\"],[1.0,\"#f0f921\"]]}],\"contourcarpet\":[{\"type\":\"contourcarpet\",\"colorbar\":{\"outlinewidth\":0,\"ticks\":\"\"}}],\"contour\":[{\"type\":\"contour\",\"colorbar\":{\"outlinewidth\":0,\"ticks\":\"\"},\"colorscale\":[[0.0,\"#0d0887\"],[0.1111111111111111,\"#46039f\"],[0.2222222222222222,\"#7201a8\"],[0.3333333333333333,\"#9c179e\"],[0.4444444444444444,\"#bd3786\"],[0.5555555555555556,\"#d8576b\"],[0.6666666666666666,\"#ed7953\"],[0.7777777777777778,\"#fb9f3a\"],[0.8888888888888888,\"#fdca26\"],[1.0,\"#f0f921\"]]}],\"surface\":[{\"type\":\"surface\",\"colorbar\":{\"outlinewidth\":0,\"ticks\":\"\"},\"colorscale\":[[0.0,\"#0d0887\"],[0.1111111111111111,\"#46039f\"],[0.2222222222222222,\"#7201a8\"],[0.3333333333333333,\"#9c179e\"],[0.4444444444444444,\"#bd3786\"],[0.5555555555555556,\"#d8576b\"],[0.6666666666666666,\"#ed7953\"],[0.7777777777777778,\"#fb9f3a\"],[0.8888888888888888,\"#fdca26\"],[1.0,\"#f0f921\"]]}],\"mesh3d\":[{\"type\":\"mesh3d\",\"colorbar\":{\"outlinewidth\":0,\"ticks\":\"\"}}],\"scatter\":[{\"fillpattern\":{\"fillmode\":\"overlay\",\"size\":10,\"solidity\":0.2},\"type\":\"scatter\"}],\"parcoords\":[{\"type\":\"parcoords\",\"line\":{\"colorbar\":{\"outlinewidth\":0,\"ticks\":\"\"}}}],\"scatterpolargl\":[{\"type\":\"scatterpolargl\",\"marker\":{\"colorbar\":{\"outlinewidth\":0,\"ticks\":\"\"}}}],\"bar\":[{\"error_x\":{\"color\":\"#2a3f5f\"},\"error_y\":{\"color\":\"#2a3f5f\"},\"marker\":{\"line\":{\"color\":\"#E5ECF6\",\"width\":0.5},\"pattern\":{\"fillmode\":\"overlay\",\"size\":10,\"solidity\":0.2}},\"type\":\"bar\"}],\"scattergeo\":[{\"type\":\"scattergeo\",\"marker\":{\"colorbar\":{\"outlinewidth\":0,\"ticks\":\"\"}}}],\"scatterpolar\":[{\"type\":\"scatterpolar\",\"marker\":{\"colorbar\":{\"outlinewidth\":0,\"ticks\":\"\"}}}],\"histogram\":[{\"marker\":{\"pattern\":{\"fillmode\":\"overlay\",\"size\":10,\"solidity\":0.2}},\"type\":\"histogram\"}],\"scattergl\":[{\"type\":\"scattergl\",\"marker\":{\"colorbar\":{\"outlinewidth\":0,\"ticks\":\"\"}}}],\"scatter3d\":[{\"type\":\"scatter3d\",\"line\":{\"colorbar\":{\"outlinewidth\":0,\"ticks\":\"\"}},\"marker\":{\"colorbar\":{\"outlinewidth\":0,\"ticks\":\"\"}}}],\"scattermapbox\":[{\"type\":\"scattermapbox\",\"marker\":{\"colorbar\":{\"outlinewidth\":0,\"ticks\":\"\"}}}],\"scatterternary\":[{\"type\":\"scatterternary\",\"marker\":{\"colorbar\":{\"outlinewidth\":0,\"ticks\":\"\"}}}],\"scattercarpet\":[{\"type\":\"scattercarpet\",\"marker\":{\"colorbar\":{\"outlinewidth\":0,\"ticks\":\"\"}}}],\"carpet\":[{\"aaxis\":{\"endlinecolor\":\"#2a3f5f\",\"gridcolor\":\"white\",\"linecolor\":\"white\",\"minorgridcolor\":\"white\",\"startlinecolor\":\"#2a3f5f\"},\"baxis\":{\"endlinecolor\":\"#2a3f5f\",\"gridcolor\":\"white\",\"linecolor\":\"white\",\"minorgridcolor\":\"white\",\"startlinecolor\":\"#2a3f5f\"},\"type\":\"carpet\"}],\"table\":[{\"cells\":{\"fill\":{\"color\":\"#EBF0F8\"},\"line\":{\"color\":\"white\"}},\"header\":{\"fill\":{\"color\":\"#C8D4E3\"},\"line\":{\"color\":\"white\"}},\"type\":\"table\"}],\"barpolar\":[{\"marker\":{\"line\":{\"color\":\"#E5ECF6\",\"width\":0.5},\"pattern\":{\"fillmode\":\"overlay\",\"size\":10,\"solidity\":0.2}},\"type\":\"barpolar\"}],\"pie\":[{\"automargin\":true,\"type\":\"pie\"}]},\"layout\":{\"autotypenumbers\":\"strict\",\"colorway\":[\"#636efa\",\"#EF553B\",\"#00cc96\",\"#ab63fa\",\"#FFA15A\",\"#19d3f3\",\"#FF6692\",\"#B6E880\",\"#FF97FF\",\"#FECB52\"],\"font\":{\"color\":\"#2a3f5f\"},\"hovermode\":\"closest\",\"hoverlabel\":{\"align\":\"left\"},\"paper_bgcolor\":\"white\",\"plot_bgcolor\":\"#E5ECF6\",\"polar\":{\"bgcolor\":\"#E5ECF6\",\"angularaxis\":{\"gridcolor\":\"white\",\"linecolor\":\"white\",\"ticks\":\"\"},\"radialaxis\":{\"gridcolor\":\"white\",\"linecolor\":\"white\",\"ticks\":\"\"}},\"ternary\":{\"bgcolor\":\"#E5ECF6\",\"aaxis\":{\"gridcolor\":\"white\",\"linecolor\":\"white\",\"ticks\":\"\"},\"baxis\":{\"gridcolor\":\"white\",\"linecolor\":\"white\",\"ticks\":\"\"},\"caxis\":{\"gridcolor\":\"white\",\"linecolor\":\"white\",\"ticks\":\"\"}},\"coloraxis\":{\"colorbar\":{\"outlinewidth\":0,\"ticks\":\"\"}},\"colorscale\":{\"sequential\":[[0.0,\"#0d0887\"],[0.1111111111111111,\"#46039f\"],[0.2222222222222222,\"#7201a8\"],[0.3333333333333333,\"#9c179e\"],[0.4444444444444444,\"#bd3786\"],[0.5555555555555556,\"#d8576b\"],[0.6666666666666666,\"#ed7953\"],[0.7777777777777778,\"#fb9f3a\"],[0.8888888888888888,\"#fdca26\"],[1.0,\"#f0f921\"]],\"sequentialminus\":[[0.0,\"#0d0887\"],[0.1111111111111111,\"#46039f\"],[0.2222222222222222,\"#7201a8\"],[0.3333333333333333,\"#9c179e\"],[0.4444444444444444,\"#bd3786\"],[0.5555555555555556,\"#d8576b\"],[0.6666666666666666,\"#ed7953\"],[0.7777777777777778,\"#fb9f3a\"],[0.8888888888888888,\"#fdca26\"],[1.0,\"#f0f921\"]],\"diverging\":[[0,\"#8e0152\"],[0.1,\"#c51b7d\"],[0.2,\"#de77ae\"],[0.3,\"#f1b6da\"],[0.4,\"#fde0ef\"],[0.5,\"#f7f7f7\"],[0.6,\"#e6f5d0\"],[0.7,\"#b8e186\"],[0.8,\"#7fbc41\"],[0.9,\"#4d9221\"],[1,\"#276419\"]]},\"xaxis\":{\"gridcolor\":\"white\",\"linecolor\":\"white\",\"ticks\":\"\",\"title\":{\"standoff\":15},\"zerolinecolor\":\"white\",\"automargin\":true,\"zerolinewidth\":2},\"yaxis\":{\"gridcolor\":\"white\",\"linecolor\":\"white\",\"ticks\":\"\",\"title\":{\"standoff\":15},\"zerolinecolor\":\"white\",\"automargin\":true,\"zerolinewidth\":2},\"scene\":{\"xaxis\":{\"backgroundcolor\":\"#E5ECF6\",\"gridcolor\":\"white\",\"linecolor\":\"white\",\"showbackground\":true,\"ticks\":\"\",\"zerolinecolor\":\"white\",\"gridwidth\":2},\"yaxis\":{\"backgroundcolor\":\"#E5ECF6\",\"gridcolor\":\"white\",\"linecolor\":\"white\",\"showbackground\":true,\"ticks\":\"\",\"zerolinecolor\":\"white\",\"gridwidth\":2},\"zaxis\":{\"backgroundcolor\":\"#E5ECF6\",\"gridcolor\":\"white\",\"linecolor\":\"white\",\"showbackground\":true,\"ticks\":\"\",\"zerolinecolor\":\"white\",\"gridwidth\":2}},\"shapedefaults\":{\"line\":{\"color\":\"#2a3f5f\"}},\"annotationdefaults\":{\"arrowcolor\":\"#2a3f5f\",\"arrowhead\":0,\"arrowwidth\":1},\"geo\":{\"bgcolor\":\"white\",\"landcolor\":\"#E5ECF6\",\"subunitcolor\":\"white\",\"showland\":true,\"showlakes\":true,\"lakecolor\":\"white\"},\"title\":{\"x\":0.05},\"mapbox\":{\"style\":\"light\"}}},\"xaxis\":{\"anchor\":\"y\",\"domain\":[0.0,1.0],\"title\":{\"text\":\"Date\"}},\"yaxis\":{\"anchor\":\"x\",\"domain\":[0.0,1.0],\"title\":{\"text\":\"value\"}},\"legend\":{\"title\":{\"text\":\"variable\"},\"tracegroupgap\":0},\"margin\":{\"t\":60}},                        {\"responsive\": true}                    ).then(function(){\n                            \nvar gd = document.getElementById('c9c6479b-dfe8-4985-8ca5-cecfbb9fbf7d');\nvar x = new MutationObserver(function (mutations, observer) {{\n        var display = window.getComputedStyle(gd).display;\n        if (!display || display === 'none') {{\n            console.log([gd, 'removed!']);\n            Plotly.purge(gd);\n            observer.disconnect();\n        }}\n}});\n\n// Listen for the removal of the full notebook cells\nvar notebookContainer = gd.closest('#notebook-container');\nif (notebookContainer) {{\n    x.observe(notebookContainer, {childList: true});\n}}\n\n// Listen for the clearing of the current output cell\nvar outputEl = gd.closest('.output');\nif (outputEl) {{\n    x.observe(outputEl, {childList: true});\n}}\n\n                        })                };                            </script>        </div>\n</body>\n</html>"
     },
     "metadata": {},
     "output_type": "display_data"
    }
   ],
   "execution_count": null
  },
  {
   "cell_type": "code",
   "metadata": {
    "cell_id": "6728ae5aa45d43869a507e5caee6d59f",
    "tags": [],
    "deepnote_to_be_reexecuted": false,
    "source_hash": "f5004b12",
    "execution_start": 1651824129518,
    "execution_millis": 68,
    "deepnote_cell_type": "code",
    "deepnote_cell_height": 641.921875,
    "deepnote_output_heights": [
     526.984375
    ]
   },
   "source": "fig=px.line(crypto,y=['ETH_7DAY_MA'] )\nfig.show()",
   "outputs": [
    {
     "data": {
      "text/html": "<html>\n<head><meta charset=\"utf-8\" /></head>\n<body>\n    <div>            <script src=\"https://cdnjs.cloudflare.com/ajax/libs/mathjax/2.7.5/MathJax.js?config=TeX-AMS-MML_SVG\"></script><script type=\"text/javascript\">if (window.MathJax) {MathJax.Hub.Config({SVG: {font: \"STIX-Web\"}});}</script>                <script type=\"text/javascript\">window.PlotlyConfig = {MathJaxConfig: 'local'};</script>\n        <script src=\"https://cdn.plot.ly/plotly-2.11.1.min.js\"></script>                <div id=\"9a445891-5e2a-4592-a155-531c1effeb95\" class=\"plotly-graph-div\" style=\"height:525px; width:100%;\"></div>            <script type=\"text/javascript\">                                    window.PLOTLYENV=window.PLOTLYENV || {};                                    if (document.getElementById(\"9a445891-5e2a-4592-a155-531c1effeb95\")) {                    Plotly.newPlot(                        \"9a445891-5e2a-4592-a155-531c1effeb95\",                        [{\"hovertemplate\":\"variable=ETH_7DAY_MA<br>Date=%{x}<br>value=%{y}<extra></extra>\",\"legendgroup\":\"ETH_7DAY_MA\",\"line\":{\"color\":\"#636efa\",\"dash\":\"solid\"},\"marker\":{\"symbol\":\"circle\"},\"mode\":\"lines\",\"name\":\"ETH_7DAY_MA\",\"orientation\":\"v\",\"showlegend\":true,\"x\":[\"2021-01-01T00:00:00\",\"2021-01-02T00:00:00\",\"2021-01-03T00:00:00\",\"2021-01-04T00:00:00\",\"2021-01-05T00:00:00\",\"2021-01-06T00:00:00\",\"2021-01-07T00:00:00\",\"2021-01-08T00:00:00\",\"2021-01-09T00:00:00\",\"2021-01-10T00:00:00\",\"2021-01-11T00:00:00\",\"2021-01-12T00:00:00\",\"2021-01-13T00:00:00\",\"2021-01-14T00:00:00\",\"2021-01-15T00:00:00\",\"2021-01-16T00:00:00\",\"2021-01-17T00:00:00\",\"2021-01-18T00:00:00\",\"2021-01-19T00:00:00\",\"2021-01-20T00:00:00\",\"2021-01-21T00:00:00\",\"2021-01-22T00:00:00\",\"2021-01-23T00:00:00\",\"2021-01-24T00:00:00\",\"2021-01-25T00:00:00\",\"2021-01-26T00:00:00\",\"2021-01-27T00:00:00\",\"2021-01-28T00:00:00\",\"2021-01-29T00:00:00\",\"2021-01-30T00:00:00\",\"2021-01-31T00:00:00\",\"2021-02-01T00:00:00\",\"2021-02-02T00:00:00\",\"2021-02-03T00:00:00\",\"2021-02-04T00:00:00\",\"2021-02-05T00:00:00\",\"2021-02-06T00:00:00\",\"2021-02-07T00:00:00\",\"2021-02-08T00:00:00\",\"2021-02-09T00:00:00\",\"2021-02-10T00:00:00\",\"2021-02-11T00:00:00\",\"2021-02-12T00:00:00\",\"2021-02-13T00:00:00\",\"2021-02-14T00:00:00\",\"2021-02-15T00:00:00\",\"2021-02-16T00:00:00\",\"2021-02-17T00:00:00\",\"2021-02-18T00:00:00\",\"2021-02-19T00:00:00\",\"2021-02-20T00:00:00\",\"2021-02-21T00:00:00\",\"2021-02-22T00:00:00\",\"2021-02-23T00:00:00\",\"2021-02-24T00:00:00\",\"2021-02-25T00:00:00\",\"2021-02-26T00:00:00\",\"2021-02-27T00:00:00\",\"2021-02-28T00:00:00\",\"2021-03-01T00:00:00\",\"2021-03-02T00:00:00\",\"2021-03-03T00:00:00\",\"2021-03-04T00:00:00\",\"2021-03-05T00:00:00\",\"2021-03-06T00:00:00\",\"2021-03-07T00:00:00\",\"2021-03-08T00:00:00\",\"2021-03-09T00:00:00\",\"2021-03-10T00:00:00\",\"2021-03-11T00:00:00\",\"2021-03-12T00:00:00\",\"2021-03-13T00:00:00\",\"2021-03-14T00:00:00\",\"2021-03-15T00:00:00\",\"2021-03-16T00:00:00\",\"2021-03-17T00:00:00\",\"2021-03-18T00:00:00\",\"2021-03-19T00:00:00\",\"2021-03-20T00:00:00\",\"2021-03-21T00:00:00\",\"2021-03-22T00:00:00\",\"2021-03-23T00:00:00\",\"2021-03-24T00:00:00\",\"2021-03-25T00:00:00\",\"2021-03-26T00:00:00\",\"2021-03-27T00:00:00\",\"2021-03-28T00:00:00\",\"2021-03-29T00:00:00\",\"2021-03-30T00:00:00\",\"2021-03-31T00:00:00\",\"2021-04-01T00:00:00\",\"2021-04-02T00:00:00\",\"2021-04-03T00:00:00\",\"2021-04-04T00:00:00\",\"2021-04-05T00:00:00\",\"2021-04-06T00:00:00\",\"2021-04-07T00:00:00\",\"2021-04-08T00:00:00\",\"2021-04-09T00:00:00\",\"2021-04-10T00:00:00\",\"2021-04-11T00:00:00\",\"2021-04-12T00:00:00\",\"2021-04-13T00:00:00\",\"2021-04-14T00:00:00\",\"2021-04-15T00:00:00\",\"2021-04-16T00:00:00\",\"2021-04-17T00:00:00\",\"2021-04-18T00:00:00\",\"2021-04-19T00:00:00\",\"2021-04-20T00:00:00\",\"2021-04-21T00:00:00\",\"2021-04-22T00:00:00\",\"2021-04-23T00:00:00\",\"2021-04-24T00:00:00\",\"2021-04-25T00:00:00\",\"2021-04-26T00:00:00\",\"2021-04-27T00:00:00\",\"2021-04-28T00:00:00\",\"2021-04-29T00:00:00\",\"2021-04-30T00:00:00\",\"2021-05-01T00:00:00\",\"2021-05-02T00:00:00\",\"2021-05-03T00:00:00\",\"2021-05-04T00:00:00\",\"2021-05-05T00:00:00\",\"2021-05-06T00:00:00\",\"2021-05-07T00:00:00\",\"2021-05-08T00:00:00\",\"2021-05-09T00:00:00\",\"2021-05-10T00:00:00\",\"2021-05-11T00:00:00\",\"2021-05-12T00:00:00\",\"2021-05-13T00:00:00\",\"2021-05-14T00:00:00\",\"2021-05-15T00:00:00\",\"2021-05-16T00:00:00\",\"2021-05-17T00:00:00\",\"2021-05-18T00:00:00\",\"2021-05-19T00:00:00\",\"2021-05-20T00:00:00\",\"2021-05-21T00:00:00\",\"2021-05-22T00:00:00\",\"2021-05-23T00:00:00\",\"2021-05-24T00:00:00\",\"2021-05-25T00:00:00\",\"2021-05-26T00:00:00\",\"2021-05-27T00:00:00\",\"2021-05-28T00:00:00\",\"2021-05-29T00:00:00\",\"2021-05-30T00:00:00\",\"2021-05-31T00:00:00\",\"2021-06-01T00:00:00\",\"2021-06-02T00:00:00\",\"2021-06-03T00:00:00\",\"2021-06-04T00:00:00\",\"2021-06-05T00:00:00\",\"2021-06-06T00:00:00\",\"2021-06-07T00:00:00\",\"2021-06-08T00:00:00\",\"2021-06-09T00:00:00\",\"2021-06-10T00:00:00\",\"2021-06-11T00:00:00\",\"2021-06-12T00:00:00\",\"2021-06-13T00:00:00\",\"2021-06-14T00:00:00\",\"2021-06-15T00:00:00\",\"2021-06-16T00:00:00\",\"2021-06-17T00:00:00\",\"2021-06-18T00:00:00\",\"2021-06-19T00:00:00\",\"2021-06-20T00:00:00\",\"2021-06-21T00:00:00\",\"2021-06-22T00:00:00\",\"2021-06-23T00:00:00\",\"2021-06-24T00:00:00\",\"2021-06-25T00:00:00\",\"2021-06-26T00:00:00\",\"2021-06-27T00:00:00\",\"2021-06-28T00:00:00\",\"2021-06-29T00:00:00\",\"2021-06-30T00:00:00\",\"2021-07-01T00:00:00\",\"2021-07-02T00:00:00\",\"2021-07-03T00:00:00\",\"2021-07-04T00:00:00\",\"2021-07-05T00:00:00\",\"2021-07-06T00:00:00\",\"2021-07-07T00:00:00\",\"2021-07-08T00:00:00\",\"2021-07-09T00:00:00\",\"2021-07-10T00:00:00\",\"2021-07-11T00:00:00\",\"2021-07-12T00:00:00\",\"2021-07-13T00:00:00\",\"2021-07-14T00:00:00\",\"2021-07-15T00:00:00\",\"2021-07-16T00:00:00\",\"2021-07-17T00:00:00\",\"2021-07-18T00:00:00\",\"2021-07-19T00:00:00\",\"2021-07-20T00:00:00\",\"2021-07-21T00:00:00\",\"2021-07-22T00:00:00\",\"2021-07-23T00:00:00\",\"2021-07-24T00:00:00\",\"2021-07-25T00:00:00\",\"2021-07-26T00:00:00\",\"2021-07-27T00:00:00\",\"2021-07-28T00:00:00\",\"2021-07-29T00:00:00\",\"2021-07-30T00:00:00\",\"2021-07-31T00:00:00\",\"2021-08-01T00:00:00\",\"2021-08-02T00:00:00\",\"2021-08-03T00:00:00\",\"2021-08-04T00:00:00\",\"2021-08-05T00:00:00\",\"2021-08-06T00:00:00\",\"2021-08-07T00:00:00\",\"2021-08-08T00:00:00\",\"2021-08-09T00:00:00\",\"2021-08-10T00:00:00\",\"2021-08-11T00:00:00\",\"2021-08-12T00:00:00\",\"2021-08-13T00:00:00\",\"2021-08-14T00:00:00\",\"2021-08-15T00:00:00\",\"2021-08-16T00:00:00\",\"2021-08-17T00:00:00\",\"2021-08-18T00:00:00\",\"2021-08-19T00:00:00\",\"2021-08-20T00:00:00\",\"2021-08-21T00:00:00\",\"2021-08-22T00:00:00\",\"2021-08-23T00:00:00\",\"2021-08-24T00:00:00\",\"2021-08-25T00:00:00\",\"2021-08-26T00:00:00\",\"2021-08-27T00:00:00\",\"2021-08-28T00:00:00\",\"2021-08-29T00:00:00\",\"2021-08-30T00:00:00\",\"2021-08-31T00:00:00\",\"2021-09-01T00:00:00\",\"2021-09-02T00:00:00\",\"2021-09-03T00:00:00\",\"2021-09-04T00:00:00\",\"2021-09-05T00:00:00\",\"2021-09-06T00:00:00\",\"2021-09-07T00:00:00\",\"2021-09-08T00:00:00\",\"2021-09-09T00:00:00\",\"2021-09-10T00:00:00\",\"2021-09-11T00:00:00\",\"2021-09-12T00:00:00\",\"2021-09-13T00:00:00\",\"2021-09-14T00:00:00\",\"2021-09-15T00:00:00\",\"2021-09-16T00:00:00\",\"2021-09-17T00:00:00\",\"2021-09-18T00:00:00\",\"2021-09-19T00:00:00\",\"2021-09-20T00:00:00\",\"2021-09-21T00:00:00\",\"2021-09-22T00:00:00\",\"2021-09-23T00:00:00\",\"2021-09-24T00:00:00\",\"2021-09-25T00:00:00\",\"2021-09-26T00:00:00\",\"2021-09-27T00:00:00\",\"2021-09-28T00:00:00\",\"2021-09-29T00:00:00\",\"2021-09-30T00:00:00\",\"2021-10-01T00:00:00\",\"2021-10-02T00:00:00\",\"2021-10-03T00:00:00\",\"2021-10-04T00:00:00\",\"2021-10-05T00:00:00\",\"2021-10-06T00:00:00\",\"2021-10-07T00:00:00\",\"2021-10-08T00:00:00\",\"2021-10-09T00:00:00\",\"2021-10-10T00:00:00\",\"2021-10-11T00:00:00\",\"2021-10-12T00:00:00\",\"2021-10-13T00:00:00\",\"2021-10-14T00:00:00\",\"2021-10-15T00:00:00\",\"2021-10-16T00:00:00\",\"2021-10-17T00:00:00\",\"2021-10-18T00:00:00\",\"2021-10-19T00:00:00\",\"2021-10-20T00:00:00\",\"2021-10-21T00:00:00\",\"2021-10-22T00:00:00\",\"2021-10-23T00:00:00\",\"2021-10-24T00:00:00\",\"2021-10-25T00:00:00\",\"2021-10-26T00:00:00\",\"2021-10-27T00:00:00\",\"2021-10-28T00:00:00\",\"2021-10-29T00:00:00\",\"2021-10-30T00:00:00\",\"2021-10-31T00:00:00\",\"2021-11-01T00:00:00\",\"2021-11-02T00:00:00\",\"2021-11-03T00:00:00\",\"2021-11-04T00:00:00\",\"2021-11-05T00:00:00\",\"2021-11-06T00:00:00\",\"2021-11-07T00:00:00\",\"2021-11-08T00:00:00\",\"2021-11-09T00:00:00\",\"2021-11-10T00:00:00\",\"2021-11-11T00:00:00\",\"2021-11-12T00:00:00\",\"2021-11-13T00:00:00\",\"2021-11-14T00:00:00\",\"2021-11-15T00:00:00\",\"2021-11-16T00:00:00\",\"2021-11-17T00:00:00\",\"2021-11-18T00:00:00\",\"2021-11-19T00:00:00\",\"2021-11-20T00:00:00\",\"2021-11-21T00:00:00\",\"2021-11-22T00:00:00\",\"2021-11-23T00:00:00\",\"2021-11-24T00:00:00\",\"2021-11-25T00:00:00\",\"2021-11-26T00:00:00\",\"2021-11-27T00:00:00\",\"2021-11-28T00:00:00\",\"2021-11-29T00:00:00\",\"2021-11-30T00:00:00\",\"2021-12-01T00:00:00\",\"2021-12-02T00:00:00\",\"2021-12-03T00:00:00\",\"2021-12-04T00:00:00\",\"2021-12-05T00:00:00\",\"2021-12-06T00:00:00\",\"2021-12-07T00:00:00\",\"2021-12-08T00:00:00\",\"2021-12-09T00:00:00\",\"2021-12-10T00:00:00\",\"2021-12-11T00:00:00\",\"2021-12-12T00:00:00\",\"2021-12-13T00:00:00\",\"2021-12-14T00:00:00\",\"2021-12-15T00:00:00\",\"2021-12-16T00:00:00\",\"2021-12-17T00:00:00\",\"2021-12-18T00:00:00\",\"2021-12-19T00:00:00\",\"2021-12-20T00:00:00\",\"2021-12-21T00:00:00\",\"2021-12-22T00:00:00\",\"2021-12-23T00:00:00\",\"2021-12-24T00:00:00\",\"2021-12-25T00:00:00\",\"2021-12-26T00:00:00\",\"2021-12-27T00:00:00\",\"2021-12-28T00:00:00\",\"2021-12-29T00:00:00\",\"2021-12-30T00:00:00\",\"2021-12-31T00:00:00\",\"2022-01-01T00:00:00\",\"2022-01-02T00:00:00\",\"2022-01-03T00:00:00\",\"2022-01-04T00:00:00\",\"2022-01-05T00:00:00\",\"2022-01-06T00:00:00\",\"2022-01-07T00:00:00\",\"2022-01-08T00:00:00\",\"2022-01-09T00:00:00\",\"2022-01-10T00:00:00\",\"2022-01-11T00:00:00\",\"2022-01-12T00:00:00\",\"2022-01-13T00:00:00\",\"2022-01-14T00:00:00\",\"2022-01-15T00:00:00\",\"2022-01-16T00:00:00\",\"2022-01-17T00:00:00\",\"2022-01-18T00:00:00\",\"2022-01-19T00:00:00\",\"2022-01-20T00:00:00\",\"2022-01-21T00:00:00\",\"2022-01-22T00:00:00\",\"2022-01-23T00:00:00\",\"2022-01-24T00:00:00\",\"2022-01-25T00:00:00\",\"2022-01-26T00:00:00\",\"2022-01-27T00:00:00\",\"2022-01-28T00:00:00\",\"2022-01-29T00:00:00\",\"2022-01-30T00:00:00\",\"2022-01-31T00:00:00\",\"2022-02-01T00:00:00\",\"2022-02-02T00:00:00\",\"2022-02-03T00:00:00\",\"2022-02-04T00:00:00\",\"2022-02-05T00:00:00\",\"2022-02-06T00:00:00\",\"2022-02-07T00:00:00\",\"2022-02-08T00:00:00\",\"2022-02-09T00:00:00\",\"2022-02-10T00:00:00\",\"2022-02-11T00:00:00\",\"2022-02-12T00:00:00\",\"2022-02-13T00:00:00\",\"2022-02-14T00:00:00\",\"2022-02-15T00:00:00\",\"2022-02-16T00:00:00\",\"2022-02-17T00:00:00\",\"2022-02-18T00:00:00\",\"2022-02-19T00:00:00\",\"2022-02-20T00:00:00\",\"2022-02-21T00:00:00\",\"2022-02-22T00:00:00\",\"2022-02-23T00:00:00\",\"2022-02-24T00:00:00\",\"2022-02-25T00:00:00\",\"2022-02-26T00:00:00\",\"2022-02-27T00:00:00\",\"2022-02-28T00:00:00\",\"2022-03-01T00:00:00\",\"2022-03-02T00:00:00\",\"2022-03-03T00:00:00\",\"2022-03-04T00:00:00\",\"2022-03-05T00:00:00\",\"2022-03-06T00:00:00\",\"2022-03-07T00:00:00\",\"2022-03-08T00:00:00\",\"2022-03-09T00:00:00\",\"2022-03-10T00:00:00\",\"2022-03-11T00:00:00\",\"2022-03-12T00:00:00\",\"2022-03-13T00:00:00\",\"2022-03-14T00:00:00\",\"2022-03-15T00:00:00\",\"2022-03-16T00:00:00\",\"2022-03-17T00:00:00\",\"2022-03-18T00:00:00\",\"2022-03-19T00:00:00\",\"2022-03-20T00:00:00\",\"2022-03-21T00:00:00\",\"2022-03-22T00:00:00\",\"2022-03-23T00:00:00\",\"2022-03-24T00:00:00\",\"2022-03-25T00:00:00\",\"2022-03-26T00:00:00\",\"2022-03-27T00:00:00\",\"2022-03-28T00:00:00\",\"2022-03-29T00:00:00\",\"2022-03-30T00:00:00\",\"2022-03-31T00:00:00\",\"2022-04-01T00:00:00\",\"2022-04-02T00:00:00\",\"2022-04-03T00:00:00\",\"2022-04-04T00:00:00\",\"2022-04-05T00:00:00\",\"2022-04-06T00:00:00\",\"2022-04-07T00:00:00\",\"2022-04-08T00:00:00\",\"2022-04-09T00:00:00\",\"2022-04-10T00:00:00\",\"2022-04-11T00:00:00\",\"2022-04-12T00:00:00\",\"2022-04-13T00:00:00\",\"2022-04-14T00:00:00\",\"2022-04-15T00:00:00\",\"2022-04-16T00:00:00\",\"2022-04-17T00:00:00\",\"2022-04-18T00:00:00\",\"2022-04-19T00:00:00\",\"2022-04-20T00:00:00\",\"2022-04-21T00:00:00\",\"2022-04-22T00:00:00\",\"2022-04-23T00:00:00\",\"2022-04-24T00:00:00\",\"2022-04-25T00:00:00\",\"2022-04-26T00:00:00\",\"2022-04-27T00:00:00\",\"2022-04-28T00:00:00\",\"2022-04-29T00:00:00\",\"2022-04-30T00:00:00\"],\"xaxis\":\"x\",\"y\":[null,null,null,null,null,null,1007.6342337472098,1078.1813180106026,1150.5445033482142,1191.5072195870537,1198.6375558035713,1190.555908203125,1179.6455078125,1178.6133510044642,1171.1329868861608,1164.3416050502233,1159.7595389229912,1183.6358468191963,1231.330322265625,1267.2638462611608,1253.423549107143,1262.6632080078125,1262.299351283482,1285.3617989676338,1294.9525495256696,1292.0614362444196,1273.6204485212054,1303.7520577566963,1324.6107177734375,1345.3428431919642,1334.3966761997767,1340.7717808314733,1363.362583705357,1421.608642578125,1459.0758579799108,1507.0941510881696,1550.1986258370537,1592.9474225725446,1646.8868931361608,1683.007080078125,1694.9119175502233,1721.916957310268,1739.7572021484375,1759.223353794643,1786.4885428292412,1791.2277134486608,1793.0894949776787,1807.977329799107,1829.9275076729912,1846.5892508370537,1861.6498500279017,1880.295131138393,1880.6096888950892,1850.486328125,1818.788818359375,1752.8251778738838,1679.3778773716517,1613.726318359375,1539.5045863560267,1508.463832310268,1497.3788016183037,1490.1327253069196,1499.5913783482142,1512.0544259207588,1539.8784877232142,1583.7506103515625,1622.3249337332588,1675.959228515625,1707.8611014229912,1748.472621372768,1782.5908203125,1821.1542271205358,1839.9271589006696,1833.7806396484375,1825.0553501674108,1828.5243617466517,1822.3329554966517,1828.8360595703125,1812.8288051060267,1803.350620814732,1789.0122942243304,1770.680629185268,1737.818359375,1711.033238002232,1694.6357945033483,1680.9015066964287,1667.064208984375,1685.4000592912946,1709.3119942801338,1755.7332240513392,1810.2928815569196,1873.2048165457588,1917.7659388950892,1975.1612025669642,2016.3329554966517,2055.239414760045,2062.7701590401784,2078.6697126116073,2068.510184151786,2083.870134626116,2093.0893031529017,2097.584455217634,2123.414289202009,2189.7039620535716,2251.210030691964,2302.615408761161,2332.4658203125,2343.8201032366073,2347.653738839286,2352.085623604911,2342.03515625,2325.5235770089284,2315.7578125,2296.7193429129466,2307.9940011160716,2360.6072823660716,2408.129324776786,2462.6476702008927,2513.125069754464,2571.642333984375,2676.5376325334823,2767.394287109375,2895.480643136161,2979.8755231584823,3090.7902483258927,3195.647879464286,3297.293875558036,3433.97314453125,3573.5143694196427,3647.9726213727677,3778.6971609933034,3816.2779366629466,3848.316231863839,3933.220284598214,3895.430908203125,3846.6682477678573,3750.9687848772323,3638.307198660714,3448.9972795758927,3316.0181012834823,3080.5272391183034,2888.7534528459823,2677.6211286272323,2586.363037109375,2490.157156808036,2551.302804129464,2544.4734235491073,2542.942696707589,2540.629638671875,2580.7332938058034,2590.9267578125,2580.4823869977677,2554.4004255022323,2571.348702566964,2609.6756766183034,2659.8274972098216,2706.2256905691966,2688.4139578683034,2671.8311593191966,2657.8514578683034,2603.0503278459823,2555.275146484375,2518.40478515625,2488.876046316964,2481.3943219866073,2494.7511858258927,2460.3792550223216,2446.16259765625,2428.728934151786,2401.0167410714284,2363.584298270089,2270.806640625,2165.665684291295,2111.6760777064733,2056.8838413783483,1997.0958600725446,1947.2016078404017,1908.9916294642858,1936.307338169643,1977.1385149274554,2017.8258405412946,2035.7042933872767,2083.82186453683,2140.518293108259,2189.4939313616073,2206.483224051339,2229.899100167411,2235.7011369977677,2236.618408203125,2236.14013671875,2219.7528948102677,2193.7444196428573,2170.621355329241,2115.6791469029017,2069.846208844866,2040.0103934151787,2001.9661865234375,1971.5978480747767,1936.724609375,1905.3782610212054,1883.5820835658483,1883.102015904018,1899.3916015625,1934.3049839564733,1975.7897774832588,2018.050013950893,2077.488595145089,2150.4632742745534,2194.11678641183,2244.938790457589,2293.822335379464,2343.392508370536,2396.3179757254466,2450.1446358816966,2479.289794921875,2540.443289620536,2604.2107282366073,2664.7793317522323,2753.497732979911,2818.0521065848216,2897.723946707589,2989.0584542410716,3051.862060546875,3082.7314104352677,3144.3414132254466,3159.7992117745534,3202.195138113839,3200.5741838727677,3182.453438895089,3161.8598284040177,3181.7580915178573,3176.7186104910716,3171.0958426339284,3161.3260323660716,3184.5757184709823,3207.091482979911,3236.3522600446427,3224.584158761161,3222.250662667411,3224.8677106584823,3222.708740234375,3209.1540178571427,3246.4792131696427,3333.609619140625,3432.2759835379466,3527.992257254464,3619.9101213727677,3723.500244140625,3824.0724051339284,3823.0240652901784,3774.807931082589,3722.8579450334823,3618.699532645089,3530.4780622209823,3453.049630301339,3361.2113909040177,3361.6078752790177,3378.460379464286,3399.0253557477677,3425.7443498883927,3448.85009765625,3437.3234514508927,3390.677978515625,3295.71533203125,3218.9417898995534,3159.5458984375,3092.8502371651784,3020.4998604910716,2982.3309151785716,2978.7802734375,2984.9039132254466,2952.8003976004466,2930.822579520089,2984.5149972098216,3051.104806082589,3101.975272042411,3165.682442801339,3267.285574776786,3371.2025320870534,3454.9590890066966,3491.565255301339,3517.854178292411,3518.9247698102677,3542.5340401785716,3538.827566964286,3542.4903738839284,3570.7817034040177,3613.478201729911,3649.858956473214,3710.037772042411,3739.0958077566966,3794.1068987165177,3872.6484026227677,3910.978201729911,3926.3420758928573,3975.0965750558034,4009.4963727678573,4076.5130440848216,4112.720354352678,4080.4725167410716,4113.757672991072,4177.26691545759,4199.265032087053,4227.860909598215,4243.110909598215,4307.924734933035,4404.629952566965,4440.345005580357,4450.558803013393,4478.548897879465,4526.046107700893,4595.683314732143,4617.150460379465,4621.29052734375,4648.870535714285,4674.709402901785,4693.263602120535,4694.0927734375,4657.723702566965,4583.623186383928,4533.825962611607,4429.578334263393,4376.891392299107,4342.38720703125,4291.440638950893,4224.434047154018,4242.20525251116,4235.40349469866,4274.559535435268,4236.35986328125,4191.642857142857,4195.174386160715,4246.123988560268,4287.654750279018,4337.227434430803,4371.021589006697,4398.135463169643,4401.374790736607,4387.641810825893,4375.303571428572,4330.10107421875,4309.0107421875,4253.084123883928,4208.482700892857,4203.463413783482,4194.33918108259,4112.266252790178,4030.8918108258927,3970.753348214286,3948.275320870536,3944.131103515625,3926.4750627790177,3896.2092633928573,3917.5832170758927,3956.8431570870534,3951.659005301339,3972.4512765066966,3996.5221819196427,4015.439453125,4036.115966796875,4050.9306989397323,4019.5925641741073,3969.0828683035716,3912.7737862723216,3860.5809151785716,3814.3546316964284,3780.3884626116073,3740.9360002790177,3739.9593680245534,3728.795828683036,3686.5895647321427,3616.6720842633927,3519.854317801339,3423.8809640066966,3326.983468191964,3247.562744140625,3222.115792410714,3197.81298828125,3214.4974190848216,3248.5771484375,3276.172921316964,3294.6310686383927,3284.047293526786,3244.556954520089,3209.2471749441966,3101.8086286272323,2969.6158272879466,2853.0611397879466,2742.7821916852677,2641.62646484375,2551.9413713727677,2469.352957589286,2467.804443359375,2495.21923828125,2504.9945940290177,2540.412667410714,2588.4386858258927,2619.1277901785716,2655.7222726004466,2718.078683035714,2777.7306082589284,2842.589111328125,2907.4736676897323,2954.6867327008927,3034.2014508928573,3091.104248046875,3083.0751953125,3069.1772809709823,3044.3183244977677,3014.4623674665177,3022.6435895647323,3006.6968819754466,2978.696847098214,2958.460274832589,2936.508614676339,2900.1064801897323,2848.72607421875,2771.500662667411,2694.719168526786,2654.2313406808034,2651.203927176339,2653.691162109375,2652.713065011161,2702.053780691964,2749.6517508370534,2801.0458635602677,2834.817557198661,2813.7633231026784,2797.151785714286,2787.614013671875,2727.409737723214,2670.875802176339,2639.3993791852677,2607.0536063058034,2598.8260323660716,2585.9579031808034,2580.8017926897323,2594.0767647879466,2600.2770647321427,2606.3159528459823,2635.8596540178573,2690.9710867745534,2744.0429338727677,2792.830740792411,2836.727957589286,2887.153878348214,2924.155517578125,2966.042306082589,2989.0892159598216,3017.2209123883927,3078.809256417411,3141.474679129464,3202.739920479911,3253.3243233816966,3278.12158203125,3327.104561941964,3370.2303292410716,3403.2668805803573,3429.6392647879466,3431.0399344308034,3400.5447823660716,3393.6350446428573,3356.8524344308034,3330.689139229911,3286.2653459821427,3209.0954938616073,3154.607491629464,3146.986397879464,3116.5056501116073,3094.9117257254466,3066.3965890066966,3035.1875,3046.123849051339,3056.6567034040177,3050.85693359375,3046.2242606026784,3035.3555733816966,3017.6132463727677,3007.5174386160716,3000.6298479352677,2958.3715471540177,2931.3978097098216,2924.1778390066966,2902.858712332589,2873.1548200334823],\"yaxis\":\"y\",\"type\":\"scatter\"}],                        {\"template\":{\"data\":{\"histogram2dcontour\":[{\"type\":\"histogram2dcontour\",\"colorbar\":{\"outlinewidth\":0,\"ticks\":\"\"},\"colorscale\":[[0.0,\"#0d0887\"],[0.1111111111111111,\"#46039f\"],[0.2222222222222222,\"#7201a8\"],[0.3333333333333333,\"#9c179e\"],[0.4444444444444444,\"#bd3786\"],[0.5555555555555556,\"#d8576b\"],[0.6666666666666666,\"#ed7953\"],[0.7777777777777778,\"#fb9f3a\"],[0.8888888888888888,\"#fdca26\"],[1.0,\"#f0f921\"]]}],\"choropleth\":[{\"type\":\"choropleth\",\"colorbar\":{\"outlinewidth\":0,\"ticks\":\"\"}}],\"histogram2d\":[{\"type\":\"histogram2d\",\"colorbar\":{\"outlinewidth\":0,\"ticks\":\"\"},\"colorscale\":[[0.0,\"#0d0887\"],[0.1111111111111111,\"#46039f\"],[0.2222222222222222,\"#7201a8\"],[0.3333333333333333,\"#9c179e\"],[0.4444444444444444,\"#bd3786\"],[0.5555555555555556,\"#d8576b\"],[0.6666666666666666,\"#ed7953\"],[0.7777777777777778,\"#fb9f3a\"],[0.8888888888888888,\"#fdca26\"],[1.0,\"#f0f921\"]]}],\"heatmap\":[{\"type\":\"heatmap\",\"colorbar\":{\"outlinewidth\":0,\"ticks\":\"\"},\"colorscale\":[[0.0,\"#0d0887\"],[0.1111111111111111,\"#46039f\"],[0.2222222222222222,\"#7201a8\"],[0.3333333333333333,\"#9c179e\"],[0.4444444444444444,\"#bd3786\"],[0.5555555555555556,\"#d8576b\"],[0.6666666666666666,\"#ed7953\"],[0.7777777777777778,\"#fb9f3a\"],[0.8888888888888888,\"#fdca26\"],[1.0,\"#f0f921\"]]}],\"heatmapgl\":[{\"type\":\"heatmapgl\",\"colorbar\":{\"outlinewidth\":0,\"ticks\":\"\"},\"colorscale\":[[0.0,\"#0d0887\"],[0.1111111111111111,\"#46039f\"],[0.2222222222222222,\"#7201a8\"],[0.3333333333333333,\"#9c179e\"],[0.4444444444444444,\"#bd3786\"],[0.5555555555555556,\"#d8576b\"],[0.6666666666666666,\"#ed7953\"],[0.7777777777777778,\"#fb9f3a\"],[0.8888888888888888,\"#fdca26\"],[1.0,\"#f0f921\"]]}],\"contourcarpet\":[{\"type\":\"contourcarpet\",\"colorbar\":{\"outlinewidth\":0,\"ticks\":\"\"}}],\"contour\":[{\"type\":\"contour\",\"colorbar\":{\"outlinewidth\":0,\"ticks\":\"\"},\"colorscale\":[[0.0,\"#0d0887\"],[0.1111111111111111,\"#46039f\"],[0.2222222222222222,\"#7201a8\"],[0.3333333333333333,\"#9c179e\"],[0.4444444444444444,\"#bd3786\"],[0.5555555555555556,\"#d8576b\"],[0.6666666666666666,\"#ed7953\"],[0.7777777777777778,\"#fb9f3a\"],[0.8888888888888888,\"#fdca26\"],[1.0,\"#f0f921\"]]}],\"surface\":[{\"type\":\"surface\",\"colorbar\":{\"outlinewidth\":0,\"ticks\":\"\"},\"colorscale\":[[0.0,\"#0d0887\"],[0.1111111111111111,\"#46039f\"],[0.2222222222222222,\"#7201a8\"],[0.3333333333333333,\"#9c179e\"],[0.4444444444444444,\"#bd3786\"],[0.5555555555555556,\"#d8576b\"],[0.6666666666666666,\"#ed7953\"],[0.7777777777777778,\"#fb9f3a\"],[0.8888888888888888,\"#fdca26\"],[1.0,\"#f0f921\"]]}],\"mesh3d\":[{\"type\":\"mesh3d\",\"colorbar\":{\"outlinewidth\":0,\"ticks\":\"\"}}],\"scatter\":[{\"fillpattern\":{\"fillmode\":\"overlay\",\"size\":10,\"solidity\":0.2},\"type\":\"scatter\"}],\"parcoords\":[{\"type\":\"parcoords\",\"line\":{\"colorbar\":{\"outlinewidth\":0,\"ticks\":\"\"}}}],\"scatterpolargl\":[{\"type\":\"scatterpolargl\",\"marker\":{\"colorbar\":{\"outlinewidth\":0,\"ticks\":\"\"}}}],\"bar\":[{\"error_x\":{\"color\":\"#2a3f5f\"},\"error_y\":{\"color\":\"#2a3f5f\"},\"marker\":{\"line\":{\"color\":\"#E5ECF6\",\"width\":0.5},\"pattern\":{\"fillmode\":\"overlay\",\"size\":10,\"solidity\":0.2}},\"type\":\"bar\"}],\"scattergeo\":[{\"type\":\"scattergeo\",\"marker\":{\"colorbar\":{\"outlinewidth\":0,\"ticks\":\"\"}}}],\"scatterpolar\":[{\"type\":\"scatterpolar\",\"marker\":{\"colorbar\":{\"outlinewidth\":0,\"ticks\":\"\"}}}],\"histogram\":[{\"marker\":{\"pattern\":{\"fillmode\":\"overlay\",\"size\":10,\"solidity\":0.2}},\"type\":\"histogram\"}],\"scattergl\":[{\"type\":\"scattergl\",\"marker\":{\"colorbar\":{\"outlinewidth\":0,\"ticks\":\"\"}}}],\"scatter3d\":[{\"type\":\"scatter3d\",\"line\":{\"colorbar\":{\"outlinewidth\":0,\"ticks\":\"\"}},\"marker\":{\"colorbar\":{\"outlinewidth\":0,\"ticks\":\"\"}}}],\"scattermapbox\":[{\"type\":\"scattermapbox\",\"marker\":{\"colorbar\":{\"outlinewidth\":0,\"ticks\":\"\"}}}],\"scatterternary\":[{\"type\":\"scatterternary\",\"marker\":{\"colorbar\":{\"outlinewidth\":0,\"ticks\":\"\"}}}],\"scattercarpet\":[{\"type\":\"scattercarpet\",\"marker\":{\"colorbar\":{\"outlinewidth\":0,\"ticks\":\"\"}}}],\"carpet\":[{\"aaxis\":{\"endlinecolor\":\"#2a3f5f\",\"gridcolor\":\"white\",\"linecolor\":\"white\",\"minorgridcolor\":\"white\",\"startlinecolor\":\"#2a3f5f\"},\"baxis\":{\"endlinecolor\":\"#2a3f5f\",\"gridcolor\":\"white\",\"linecolor\":\"white\",\"minorgridcolor\":\"white\",\"startlinecolor\":\"#2a3f5f\"},\"type\":\"carpet\"}],\"table\":[{\"cells\":{\"fill\":{\"color\":\"#EBF0F8\"},\"line\":{\"color\":\"white\"}},\"header\":{\"fill\":{\"color\":\"#C8D4E3\"},\"line\":{\"color\":\"white\"}},\"type\":\"table\"}],\"barpolar\":[{\"marker\":{\"line\":{\"color\":\"#E5ECF6\",\"width\":0.5},\"pattern\":{\"fillmode\":\"overlay\",\"size\":10,\"solidity\":0.2}},\"type\":\"barpolar\"}],\"pie\":[{\"automargin\":true,\"type\":\"pie\"}]},\"layout\":{\"autotypenumbers\":\"strict\",\"colorway\":[\"#636efa\",\"#EF553B\",\"#00cc96\",\"#ab63fa\",\"#FFA15A\",\"#19d3f3\",\"#FF6692\",\"#B6E880\",\"#FF97FF\",\"#FECB52\"],\"font\":{\"color\":\"#2a3f5f\"},\"hovermode\":\"closest\",\"hoverlabel\":{\"align\":\"left\"},\"paper_bgcolor\":\"white\",\"plot_bgcolor\":\"#E5ECF6\",\"polar\":{\"bgcolor\":\"#E5ECF6\",\"angularaxis\":{\"gridcolor\":\"white\",\"linecolor\":\"white\",\"ticks\":\"\"},\"radialaxis\":{\"gridcolor\":\"white\",\"linecolor\":\"white\",\"ticks\":\"\"}},\"ternary\":{\"bgcolor\":\"#E5ECF6\",\"aaxis\":{\"gridcolor\":\"white\",\"linecolor\":\"white\",\"ticks\":\"\"},\"baxis\":{\"gridcolor\":\"white\",\"linecolor\":\"white\",\"ticks\":\"\"},\"caxis\":{\"gridcolor\":\"white\",\"linecolor\":\"white\",\"ticks\":\"\"}},\"coloraxis\":{\"colorbar\":{\"outlinewidth\":0,\"ticks\":\"\"}},\"colorscale\":{\"sequential\":[[0.0,\"#0d0887\"],[0.1111111111111111,\"#46039f\"],[0.2222222222222222,\"#7201a8\"],[0.3333333333333333,\"#9c179e\"],[0.4444444444444444,\"#bd3786\"],[0.5555555555555556,\"#d8576b\"],[0.6666666666666666,\"#ed7953\"],[0.7777777777777778,\"#fb9f3a\"],[0.8888888888888888,\"#fdca26\"],[1.0,\"#f0f921\"]],\"sequentialminus\":[[0.0,\"#0d0887\"],[0.1111111111111111,\"#46039f\"],[0.2222222222222222,\"#7201a8\"],[0.3333333333333333,\"#9c179e\"],[0.4444444444444444,\"#bd3786\"],[0.5555555555555556,\"#d8576b\"],[0.6666666666666666,\"#ed7953\"],[0.7777777777777778,\"#fb9f3a\"],[0.8888888888888888,\"#fdca26\"],[1.0,\"#f0f921\"]],\"diverging\":[[0,\"#8e0152\"],[0.1,\"#c51b7d\"],[0.2,\"#de77ae\"],[0.3,\"#f1b6da\"],[0.4,\"#fde0ef\"],[0.5,\"#f7f7f7\"],[0.6,\"#e6f5d0\"],[0.7,\"#b8e186\"],[0.8,\"#7fbc41\"],[0.9,\"#4d9221\"],[1,\"#276419\"]]},\"xaxis\":{\"gridcolor\":\"white\",\"linecolor\":\"white\",\"ticks\":\"\",\"title\":{\"standoff\":15},\"zerolinecolor\":\"white\",\"automargin\":true,\"zerolinewidth\":2},\"yaxis\":{\"gridcolor\":\"white\",\"linecolor\":\"white\",\"ticks\":\"\",\"title\":{\"standoff\":15},\"zerolinecolor\":\"white\",\"automargin\":true,\"zerolinewidth\":2},\"scene\":{\"xaxis\":{\"backgroundcolor\":\"#E5ECF6\",\"gridcolor\":\"white\",\"linecolor\":\"white\",\"showbackground\":true,\"ticks\":\"\",\"zerolinecolor\":\"white\",\"gridwidth\":2},\"yaxis\":{\"backgroundcolor\":\"#E5ECF6\",\"gridcolor\":\"white\",\"linecolor\":\"white\",\"showbackground\":true,\"ticks\":\"\",\"zerolinecolor\":\"white\",\"gridwidth\":2},\"zaxis\":{\"backgroundcolor\":\"#E5ECF6\",\"gridcolor\":\"white\",\"linecolor\":\"white\",\"showbackground\":true,\"ticks\":\"\",\"zerolinecolor\":\"white\",\"gridwidth\":2}},\"shapedefaults\":{\"line\":{\"color\":\"#2a3f5f\"}},\"annotationdefaults\":{\"arrowcolor\":\"#2a3f5f\",\"arrowhead\":0,\"arrowwidth\":1},\"geo\":{\"bgcolor\":\"white\",\"landcolor\":\"#E5ECF6\",\"subunitcolor\":\"white\",\"showland\":true,\"showlakes\":true,\"lakecolor\":\"white\"},\"title\":{\"x\":0.05},\"mapbox\":{\"style\":\"light\"}}},\"xaxis\":{\"anchor\":\"y\",\"domain\":[0.0,1.0],\"title\":{\"text\":\"Date\"}},\"yaxis\":{\"anchor\":\"x\",\"domain\":[0.0,1.0],\"title\":{\"text\":\"value\"}},\"legend\":{\"title\":{\"text\":\"variable\"},\"tracegroupgap\":0},\"margin\":{\"t\":60}},                        {\"responsive\": true}                    ).then(function(){\n                            \nvar gd = document.getElementById('9a445891-5e2a-4592-a155-531c1effeb95');\nvar x = new MutationObserver(function (mutations, observer) {{\n        var display = window.getComputedStyle(gd).display;\n        if (!display || display === 'none') {{\n            console.log([gd, 'removed!']);\n            Plotly.purge(gd);\n            observer.disconnect();\n        }}\n}});\n\n// Listen for the removal of the full notebook cells\nvar notebookContainer = gd.closest('#notebook-container');\nif (notebookContainer) {{\n    x.observe(notebookContainer, {childList: true});\n}}\n\n// Listen for the clearing of the current output cell\nvar outputEl = gd.closest('.output');\nif (outputEl) {{\n    x.observe(outputEl, {childList: true});\n}}\n\n                        })                };                            </script>        </div>\n</body>\n</html>"
     },
     "metadata": {},
     "output_type": "display_data"
    }
   ],
   "execution_count": null
  },
  {
   "cell_type": "code",
   "metadata": {
    "cell_id": "88b7f91954b4494682d4c24f085339c9",
    "tags": [],
    "deepnote_to_be_reexecuted": false,
    "source_hash": "8646af31",
    "execution_start": 1651824129588,
    "execution_millis": 52,
    "deepnote_cell_type": "code",
    "deepnote_cell_height": 618.3125
   },
   "source": "crypto",
   "outputs": [
    {
     "output_type": "execute_result",
     "execution_count": 22,
     "data": {
      "application/vnd.deepnote.dataframe.v3+json": {
       "column_count": 13,
       "row_count": 485,
       "columns": [
        {
         "name": "BTC",
         "dtype": "float64",
         "stats": {
          "unique_count": 485,
          "nan_count": 0,
          "min": "29374.15234375",
          "max": "67566.828125",
          "histogram": [
           {
            "bin_start": 29374.15234375,
            "bin_end": 33193.419921875,
            "count": 28
           },
           {
            "bin_start": 33193.419921875,
            "bin_end": 37012.6875,
            "count": 58
           },
           {
            "bin_start": 37012.6875,
            "bin_end": 40831.955078125,
            "count": 83
           },
           {
            "bin_start": 40831.955078125,
            "bin_end": 44651.22265625,
            "count": 70
           },
           {
            "bin_start": 44651.22265625,
            "bin_end": 48470.490234375,
            "count": 72
           },
           {
            "bin_start": 48470.490234375,
            "bin_end": 52289.7578125,
            "count": 51
           },
           {
            "bin_start": 52289.7578125,
            "bin_end": 56109.025390625,
            "count": 31
           },
           {
            "bin_start": 56109.025390625,
            "bin_end": 59928.29296875,
            "count": 52
           },
           {
            "bin_start": 59928.29296875,
            "bin_end": 63747.560546875,
            "count": 31
           },
           {
            "bin_start": 63747.560546875,
            "bin_end": 67566.828125,
            "count": 9
           }
          ]
         }
        },
        {
         "name": "BTC_7DAY_MA",
         "dtype": "float64",
         "stats": {
          "unique_count": 479,
          "nan_count": 6,
          "min": "31324.003069196428",
          "max": "65510.87946428572",
          "histogram": [
           {
            "bin_start": 31324.003069196428,
            "bin_end": 34742.690708705355,
            "count": 47
           },
           {
            "bin_start": 34742.690708705355,
            "bin_end": 38161.37834821428,
            "count": 58
           },
           {
            "bin_start": 38161.37834821428,
            "bin_end": 41580.06598772321,
            "count": 76
           },
           {
            "bin_start": 41580.06598772321,
            "bin_end": 44998.753627232145,
            "count": 55
           },
           {
            "bin_start": 44998.753627232145,
            "bin_end": 48417.44126674107,
            "count": 69
           },
           {
            "bin_start": 48417.44126674107,
            "bin_end": 51836.12890625,
            "count": 43
           },
           {
            "bin_start": 51836.12890625,
            "bin_end": 55254.816545758935,
            "count": 30
           },
           {
            "bin_start": 55254.816545758935,
            "bin_end": 58673.504185267855,
            "count": 55
           },
           {
            "bin_start": 58673.504185267855,
            "bin_end": 62092.19182477679,
            "count": 30
           },
           {
            "bin_start": 62092.19182477679,
            "bin_end": 65510.87946428572,
            "count": 16
           }
          ]
         }
        },
        {
         "name": "ETH",
         "dtype": "float64",
         "stats": {
          "unique_count": 485,
          "nan_count": 0,
          "min": "730.3675537109375",
          "max": "4812.08740234375",
          "histogram": [
           {
            "bin_start": 730.3675537109375,
            "bin_end": 1138.5395385742188,
            "count": 9
           },
           {
            "bin_start": 1138.5395385742188,
            "bin_end": 1546.7115234375,
            "count": 31
           },
           {
            "bin_start": 1546.7115234375,
            "bin_end": 1954.8835083007812,
            "count": 60
           },
           {
            "bin_start": 1954.8835083007812,
            "bin_end": 2363.0554931640627,
            "count": 54
           },
           {
            "bin_start": 2363.0554931640627,
            "bin_end": 2771.2274780273438,
            "count": 75
           },
           {
            "bin_start": 2771.2274780273438,
            "bin_end": 3179.399462890625,
            "count": 85
           },
           {
            "bin_start": 3179.399462890625,
            "bin_end": 3587.5714477539063,
            "count": 71
           },
           {
            "bin_start": 3587.5714477539063,
            "bin_end": 3995.7434326171874,
            "count": 40
           },
           {
            "bin_start": 3995.7434326171874,
            "bin_end": 4403.915417480468,
            "count": 39
           },
           {
            "bin_start": 4403.915417480468,
            "bin_end": 4812.08740234375,
            "count": 21
           }
          ]
         }
        },
        {
         "name": "ETH_7DAY_MA",
         "dtype": "float64",
         "stats": {
          "unique_count": 479,
          "nan_count": 6,
          "min": "1007.6342337472098",
          "max": "4694.0927734375",
          "histogram": [
           {
            "bin_start": 1007.6342337472098,
            "bin_end": 1376.2800877162388,
            "count": 27
           },
           {
            "bin_start": 1376.2800877162388,
            "bin_end": 1744.9259416852678,
            "count": 30
           },
           {
            "bin_start": 1744.9259416852678,
            "bin_end": 2113.5717956542967,
            "count": 62
           },
           {
            "bin_start": 2113.5717956542967,
            "bin_end": 2482.217649623326,
            "count": 45
           },
           {
            "bin_start": 2482.217649623326,
            "bin_end": 2850.863503592355,
            "count": 73
           },
           {
            "bin_start": 2850.863503592355,
            "bin_end": 3219.5093575613837,
            "count": 84
           },
           {
            "bin_start": 3219.5093575613837,
            "bin_end": 3588.155211530413,
            "count": 57
           },
           {
            "bin_start": 3588.155211530413,
            "bin_end": 3956.801065499442,
            "count": 39
           },
           {
            "bin_start": 3956.801065499442,
            "bin_end": 4325.446919468471,
            "count": 37
           },
           {
            "bin_start": 4325.446919468471,
            "bin_end": 4694.0927734375,
            "count": 25
           }
          ]
         }
        },
        {
         "name": "DOGE",
         "dtype": "float64",
         "stats": {
          "unique_count": 485,
          "nan_count": 0,
          "min": "0.005685000214725733",
          "max": "0.684777021408081",
          "histogram": [
           {
            "bin_start": 0.005685000214725733,
            "bin_end": 0.07359420233406126,
            "count": 99
           },
           {
            "bin_start": 0.07359420233406126,
            "bin_end": 0.1415034044533968,
            "count": 67
           },
           {
            "bin_start": 0.1415034044533968,
            "bin_end": 0.2094126065727323,
            "count": 128
           },
           {
            "bin_start": 0.2094126065727323,
            "bin_end": 0.27732180869206785,
            "count": 104
           },
           {
            "bin_start": 0.27732180869206785,
            "bin_end": 0.3452310108114034,
            "count": 56
           },
           {
            "bin_start": 0.3452310108114034,
            "bin_end": 0.4131402129307389,
            "count": 15
           },
           {
            "bin_start": 0.4131402129307389,
            "bin_end": 0.4810494150500744,
            "count": 4
           },
           {
            "bin_start": 0.4810494150500744,
            "bin_end": 0.54895861716941,
            "count": 6
           },
           {
            "bin_start": 0.54895861716941,
            "bin_end": 0.6168678192887455,
            "count": 3
           },
           {
            "bin_start": 0.6168678192887455,
            "bin_end": 0.684777021408081,
            "count": 3
           }
          ]
         }
        },
        {
         "name": "DOGE_7DAY_MA",
         "dtype": "float64",
         "stats": {
          "unique_count": 479,
          "nan_count": 6,
          "min": "0.008302285801619291",
          "max": "0.5887172903333392",
          "histogram": [
           {
            "bin_start": 0.008302285801619291,
            "bin_end": 0.06634378625479129,
            "count": 91
           },
           {
            "bin_start": 0.06634378625479129,
            "bin_end": 0.12438528670796327,
            "count": 25
           },
           {
            "bin_start": 0.12438528670796327,
            "bin_end": 0.18242678716113525,
            "count": 128
           },
           {
            "bin_start": 0.18242678716113525,
            "bin_end": 0.24046828761430725,
            "count": 86
           },
           {
            "bin_start": 0.24046828761430725,
            "bin_end": 0.29850978806747924,
            "count": 84
           },
           {
            "bin_start": 0.29850978806747924,
            "bin_end": 0.3565512885206512,
            "count": 38
           },
           {
            "bin_start": 0.3565512885206512,
            "bin_end": 0.41459278897382323,
            "count": 9
           },
           {
            "bin_start": 0.41459278897382323,
            "bin_end": 0.4726342894269952,
            "count": 4
           },
           {
            "bin_start": 0.4726342894269952,
            "bin_end": 0.5306757898801672,
            "count": 9
           },
           {
            "bin_start": 0.5306757898801672,
            "bin_end": 0.5887172903333392,
            "count": 5
           }
          ]
         }
        },
        {
         "name": "BNB",
         "dtype": "float64",
         "stats": {
          "unique_count": 485,
          "nan_count": 0,
          "min": "37.90501022338867",
          "max": "675.68408203125",
          "histogram": [
           {
            "bin_start": 37.90501022338867,
            "bin_end": 101.6829174041748,
            "count": 39
           },
           {
            "bin_start": 101.6829174041748,
            "bin_end": 165.46082458496093,
            "count": 9
           },
           {
            "bin_start": 165.46082458496093,
            "bin_end": 229.23873176574705,
            "count": 6
           },
           {
            "bin_start": 229.23873176574705,
            "bin_end": 293.0166389465332,
            "count": 43
           },
           {
            "bin_start": 293.0166389465332,
            "bin_end": 356.79454612731934,
            "count": 73
           },
           {
            "bin_start": 356.79454612731934,
            "bin_end": 420.5724533081054,
            "count": 124
           },
           {
            "bin_start": 420.5724533081054,
            "bin_end": 484.35036048889157,
            "count": 67
           },
           {
            "bin_start": 484.35036048889157,
            "bin_end": 548.1282676696777,
            "count": 57
           },
           {
            "bin_start": 548.1282676696777,
            "bin_end": 611.9061748504638,
            "count": 42
           },
           {
            "bin_start": 611.9061748504638,
            "bin_end": 675.68408203125,
            "count": 25
           }
          ]
         }
        },
        {
         "name": "BNB_7DAY_MA",
         "dtype": "float64",
         "stats": {
          "unique_count": 479,
          "nan_count": 6,
          "min": "40.70740944998605",
          "max": "645.9316755022321",
          "histogram": [
           {
            "bin_start": 40.70740944998605,
            "bin_end": 101.22983605521065,
            "count": 36
           },
           {
            "bin_start": 101.22983605521065,
            "bin_end": 161.75226266043526,
            "count": 7
           },
           {
            "bin_start": 161.75226266043526,
            "bin_end": 222.27468926565987,
            "count": 3
           },
           {
            "bin_start": 222.27468926565987,
            "bin_end": 282.7971158708845,
            "count": 38
           },
           {
            "bin_start": 282.7971158708845,
            "bin_end": 343.3195424761091,
            "count": 61
           },
           {
            "bin_start": 343.3195424761091,
            "bin_end": 403.84196908133373,
            "count": 101
           },
           {
            "bin_start": 403.84196908133373,
            "bin_end": 464.36439568655834,
            "count": 90
           },
           {
            "bin_start": 464.36439568655834,
            "bin_end": 524.8868222917829,
            "count": 53
           },
           {
            "bin_start": 524.8868222917829,
            "bin_end": 585.4092488970075,
            "count": 46
           },
           {
            "bin_start": 585.4092488970075,
            "bin_end": 645.9316755022321,
            "count": 44
           }
          ]
         }
        },
        {
         "name": "ADA",
         "dtype": "float64",
         "stats": {
          "unique_count": 485,
          "nan_count": 0,
          "min": "0.17534999549388885",
          "max": "2.9682390689849854",
          "histogram": [
           {
            "bin_start": 0.17534999549388885,
            "bin_end": 0.4546389028429985,
            "count": 35
           },
           {
            "bin_start": 0.4546389028429985,
            "bin_end": 0.7339278101921082,
            "count": 5
           },
           {
            "bin_start": 0.7339278101921082,
            "bin_end": 1.013216717541218,
            "count": 64
           },
           {
            "bin_start": 1.013216717541218,
            "bin_end": 1.2925056248903275,
            "count": 145
           },
           {
            "bin_start": 1.2925056248903275,
            "bin_end": 1.571794532239437,
            "count": 97
           },
           {
            "bin_start": 1.571794532239437,
            "bin_end": 1.851083439588547,
            "count": 34
           },
           {
            "bin_start": 1.851083439588547,
            "bin_end": 2.1303723469376568,
            "count": 39
           },
           {
            "bin_start": 2.1303723469376568,
            "bin_end": 2.409661254286766,
            "count": 40
           },
           {
            "bin_start": 2.409661254286766,
            "bin_end": 2.688950161635876,
            "count": 11
           },
           {
            "bin_start": 2.688950161635876,
            "bin_end": 2.9682390689849854,
            "count": 15
           }
          ]
         }
        },
        {
         "name": "XRP",
         "dtype": "float64",
         "stats": {
          "unique_count": 485,
          "nan_count": 0,
          "min": "0.2216549962759018",
          "max": "1.8392360210418701",
          "histogram": [
           {
            "bin_start": 0.2216549962759018,
            "bin_end": 0.3834130987524986,
            "count": 31
           },
           {
            "bin_start": 0.3834130987524986,
            "bin_end": 0.5451712012290955,
            "count": 46
           },
           {
            "bin_start": 0.5451712012290955,
            "bin_end": 0.7069293037056923,
            "count": 82
           },
           {
            "bin_start": 0.7069293037056923,
            "bin_end": 0.8686874061822891,
            "count": 134
           },
           {
            "bin_start": 0.8686874061822891,
            "bin_end": 1.030445508658886,
            "count": 53
           },
           {
            "bin_start": 1.030445508658886,
            "bin_end": 1.1922036111354828,
            "count": 84
           },
           {
            "bin_start": 1.1922036111354828,
            "bin_end": 1.3539617136120796,
            "count": 22
           },
           {
            "bin_start": 1.3539617136120796,
            "bin_end": 1.5157198160886765,
            "count": 18
           },
           {
            "bin_start": 1.5157198160886765,
            "bin_end": 1.6774779185652733,
            "count": 12
           },
           {
            "bin_start": 1.6774779185652733,
            "bin_end": 1.8392360210418701,
            "count": 3
           }
          ]
         }
        },
        {
         "name": "XRP_7DAY_MA",
         "dtype": "float64",
         "stats": {
          "unique_count": 479,
          "nan_count": 6,
          "min": "0.24646728592259542",
          "max": "1.6272312913622176",
          "histogram": [
           {
            "bin_start": 0.24646728592259542,
            "bin_end": 0.3845436864665577,
            "count": 28
           },
           {
            "bin_start": 0.3845436864665577,
            "bin_end": 0.5226200870105199,
            "count": 39
           },
           {
            "bin_start": 0.5226200870105199,
            "bin_end": 0.6606964875544821,
            "count": 65
           },
           {
            "bin_start": 0.6606964875544821,
            "bin_end": 0.7987728880984444,
            "count": 95
           },
           {
            "bin_start": 0.7987728880984444,
            "bin_end": 0.9368492886424065,
            "count": 80
           },
           {
            "bin_start": 0.9368492886424065,
            "bin_end": 1.0749256891863688,
            "count": 51
           },
           {
            "bin_start": 1.0749256891863688,
            "bin_end": 1.213002089730331,
            "count": 74
           },
           {
            "bin_start": 1.213002089730331,
            "bin_end": 1.3510784902742932,
            "count": 18
           },
           {
            "bin_start": 1.3510784902742932,
            "bin_end": 1.4891548908182555,
            "count": 14
           },
           {
            "bin_start": 1.4891548908182555,
            "bin_end": 1.6272312913622176,
            "count": 15
           }
          ]
         }
        },
        {
         "name": "DASH",
         "dtype": "float64",
         "stats": {
          "unique_count": 485,
          "nan_count": 0,
          "min": "85.08344268798828",
          "max": "440.8867492675781",
          "histogram": [
           {
            "bin_start": 85.08344268798828,
            "bin_end": 120.66377334594726,
            "count": 115
           },
           {
            "bin_start": 120.66377334594726,
            "bin_end": 156.24410400390624,
            "count": 120
           },
           {
            "bin_start": 156.24410400390624,
            "bin_end": 191.8244346618652,
            "count": 81
           },
           {
            "bin_start": 191.8244346618652,
            "bin_end": 227.4047653198242,
            "count": 83
           },
           {
            "bin_start": 227.4047653198242,
            "bin_end": 262.9850959777832,
            "count": 35
           },
           {
            "bin_start": 262.9850959777832,
            "bin_end": 298.56542663574214,
            "count": 24
           },
           {
            "bin_start": 298.56542663574214,
            "bin_end": 334.14575729370114,
            "count": 12
           },
           {
            "bin_start": 334.14575729370114,
            "bin_end": 369.72608795166013,
            "count": 6
           },
           {
            "bin_start": 369.72608795166013,
            "bin_end": 405.30641860961913,
            "count": 5
           },
           {
            "bin_start": 405.30641860961913,
            "bin_end": 440.8867492675781,
            "count": 4
           }
          ]
         }
        },
        {
         "name": "LUNA",
         "dtype": "float64",
         "stats": {
          "unique_count": 475,
          "nan_count": 0,
          "min": "0.0013549999566748738",
          "max": "0.012330000288784504",
          "histogram": [
           {
            "bin_start": 0.0013549999566748738,
            "bin_end": 0.002452499989885837,
            "count": 17
           },
           {
            "bin_start": 0.002452499989885837,
            "bin_end": 0.0035500000230968,
            "count": 17
           },
           {
            "bin_start": 0.0035500000230968,
            "bin_end": 0.004647500056307763,
            "count": 50
           },
           {
            "bin_start": 0.004647500056307763,
            "bin_end": 0.005745000089518726,
            "count": 65
           },
           {
            "bin_start": 0.005745000089518726,
            "bin_end": 0.006842500122729689,
            "count": 75
           },
           {
            "bin_start": 0.006842500122729689,
            "bin_end": 0.007940000155940652,
            "count": 85
           },
           {
            "bin_start": 0.007940000155940652,
            "bin_end": 0.009037500189151615,
            "count": 101
           },
           {
            "bin_start": 0.009037500189151615,
            "bin_end": 0.010135000222362578,
            "count": 47
           },
           {
            "bin_start": 0.010135000222362578,
            "bin_end": 0.011232500255573541,
            "count": 24
           },
           {
            "bin_start": 0.011232500255573541,
            "bin_end": 0.012330000288784504,
            "count": 4
           }
          ]
         }
        },
        {
         "name": "_deepnote_index_column",
         "dtype": "datetime64[ns]"
        }
       ],
       "rows": [
        {
         "BTC": 29374.15234375,
         "BTC_7DAY_MA": "nan",
         "ETH": 730.3675537109375,
         "ETH_7DAY_MA": "nan",
         "DOGE": 0.005685000214725733,
         "DOGE_7DAY_MA": "nan",
         "BNB": 37.90501022338867,
         "BNB_7DAY_MA": "nan",
         "ADA": 0.17534999549388885,
         "XRP": 0.23744399845600128,
         "XRP_7DAY_MA": "nan",
         "DASH": 88.24170684814453,
         "LUNA": 0.002937000012025237,
         "_deepnote_index_column": "2021-01-01T00:00:00.000000"
        },
        {
         "BTC": 32127.267578125,
         "BTC_7DAY_MA": "nan",
         "ETH": 774.5349731445312,
         "ETH_7DAY_MA": "nan",
         "DOGE": 0.010614999569952488,
         "DOGE_7DAY_MA": "nan",
         "BNB": 38.24159240722656,
         "BNB_7DAY_MA": "nan",
         "ADA": 0.17742300033569336,
         "XRP": 0.2216549962759018,
         "XRP_7DAY_MA": "nan",
         "DASH": 86.96977233886719,
         "LUNA": 0.002566999988630414,
         "_deepnote_index_column": "2021-01-02T00:00:00.000000"
        },
        {
         "BTC": 32782.0234375,
         "BTC_7DAY_MA": "nan",
         "ETH": 975.5076904296875,
         "ETH_7DAY_MA": "nan",
         "DOGE": 0.009770999662578106,
         "DOGE_7DAY_MA": "nan",
         "BNB": 41.14897918701172,
         "BNB_7DAY_MA": "nan",
         "ADA": 0.20499500632286072,
         "XRP": 0.2258480042219162,
         "XRP_7DAY_MA": "nan",
         "DASH": 89.06913757324219,
         "LUNA": 0.003283000085502863,
         "_deepnote_index_column": "2021-01-03T00:00:00.000000"
        },
        {
         "BTC": 31971.9140625,
         "BTC_7DAY_MA": "nan",
         "ETH": 1040.2330322265625,
         "ETH_7DAY_MA": "nan",
         "DOGE": 0.009766999632120132,
         "DOGE_7DAY_MA": "nan",
         "BNB": 40.926353454589844,
         "BNB_7DAY_MA": "nan",
         "ADA": 0.2247619926929474,
         "XRP": 0.23667700588703156,
         "XRP_7DAY_MA": "nan",
         "DASH": 88.79717254638672,
         "LUNA": 0.0031969998963177204,
         "_deepnote_index_column": "2021-01-04T00:00:00.000000"
        },
        {
         "BTC": 33992.4296875,
         "BTC_7DAY_MA": "nan",
         "ETH": 1100.006103515625,
         "ETH_7DAY_MA": "nan",
         "DOGE": 0.009920000098645687,
         "DOGE_7DAY_MA": "nan",
         "BNB": 41.73460006713867,
         "BNB_7DAY_MA": "nan",
         "ADA": 0.25831401348114014,
         "XRP": 0.22675000131130219,
         "XRP_7DAY_MA": "nan",
         "DASH": 89.10277557373047,
         "LUNA": 0.0033990000374615192,
         "_deepnote_index_column": "2021-01-05T00:00:00.000000"
        },
        {
         "BTC": 36824.36328125,
         "BTC_7DAY_MA": "nan",
         "ETH": 1207.1121826171875,
         "ETH_7DAY_MA": "nan",
         "DOGE": 0.010464999824762344,
         "DOGE_7DAY_MA": "nan",
         "BNB": 42.16595458984375,
         "BNB_7DAY_MA": "nan",
         "ADA": 0.3318980038166046,
         "XRP": 0.2508949935436249,
         "XRP_7DAY_MA": "nan",
         "DASH": 94.29486083984375,
         "LUNA": 0.0036879999097436666,
         "_deepnote_index_column": "2021-01-06T00:00:00.000000"
        },
        {
         "BTC": 39371.04296875,
         "BTC_7DAY_MA": 33777.59905133928,
         "ETH": 1225.6781005859375,
         "ETH_7DAY_MA": 1007.6342337472098,
         "DOGE": 0.00974200014024973,
         "DOGE_7DAY_MA": 0.009423571306147746,
         "BNB": 43.44948959350586,
         "BNB_7DAY_MA": 40.79599707467215,
         "ADA": 0.2999800145626068,
         "XRP": 0.32600200176239014,
         "XRP_7DAY_MA": 0.24646728592259542,
         "DASH": 99.25945281982422,
         "LUNA": 0.00393499992787838,
         "_deepnote_index_column": "2021-01-07T00:00:00.000000"
        },
        {
         "BTC": 40797.609375,
         "BTC_7DAY_MA": 35409.521484375,
         "ETH": 1224.1971435546875,
         "ETH_7DAY_MA": 1078.1813180106026,
         "DOGE": 0.009846000000834465,
         "DOGE_7DAY_MA": 0.010017999847020422,
         "BNB": 42.39531707763672,
         "BNB_7DAY_MA": 41.437469482421875,
         "ADA": 0.3055970072746277,
         "XRP": 0.32322999835014343,
         "XRP_7DAY_MA": 0.25872242876461576,
         "DASH": 96.63829040527344,
         "LUNA": 0.0028570001013576984,
         "_deepnote_index_column": "2021-01-08T00:00:00.000000"
        },
        {
         "BTC": 40254.546875,
         "BTC_7DAY_MA": 36570.56138392857,
         "ETH": 1281.0772705078125,
         "ETH_7DAY_MA": 1150.5445033482142,
         "DOGE": 0.010193999856710434,
         "DOGE_7DAY_MA": 0.009957857030842985,
         "BNB": 43.93285369873047,
         "BNB_7DAY_MA": 42.25050680977957,
         "ADA": 0.33297300338745117,
         "XRP": 0.32691600918769836,
         "XRP_7DAY_MA": 0.2737597163234438,
         "DASH": 110.03205108642578,
         "LUNA": 0.0040259999223053455,
         "_deepnote_index_column": "2021-01-09T00:00:00.000000"
        },
        {
         "BTC": 38356.44140625,
         "BTC_7DAY_MA": 37366.90680803572,
         "ETH": 1262.2467041015625,
         "ETH_7DAY_MA": 1191.5072195870537,
         "DOGE": 0.009859999641776085,
         "DOGE_7DAY_MA": 0.009970571313585554,
         "BNB": 42.4484748840332,
         "BNB_7DAY_MA": 42.43614905221121,
         "ADA": 0.3048950135707855,
         "XRP": 0.31833600997924805,
         "XRP_7DAY_MA": 0.28697228857449125,
         "DASH": 148.38363647460938,
         "LUNA": 0.002302000066265464,
         "_deepnote_index_column": "2021-01-10T00:00:00.000000"
        }
       ]
      },
      "text/plain": "                     BTC   BTC_7DAY_MA          ETH  ETH_7DAY_MA      DOGE  \\\nDate                                                                         \n2021-01-01  29374.152344           NaN   730.367554          NaN  0.005685   \n2021-01-02  32127.267578           NaN   774.534973          NaN  0.010615   \n2021-01-03  32782.023438           NaN   975.507690          NaN  0.009771   \n2021-01-04  31971.914062           NaN  1040.233032          NaN  0.009767   \n2021-01-05  33992.429688           NaN  1100.006104          NaN  0.009920   \n...                  ...           ...          ...          ...       ...   \n2022-04-26  38117.460938  39881.979353  2808.298340  2958.371547  0.137767   \n2022-04-27  39241.121094  39577.228237  2888.929688  2931.397810  0.139700   \n2022-04-28  39773.828125  39469.580357  2936.940918  2924.177839  0.137363   \n2022-04-29  38609.824219  39308.080915  2815.601807  2902.858712  0.135027   \n2022-04-30  37714.875000  39054.958705  2730.186768  2873.154820  0.127557   \n\n            DOGE_7DAY_MA         BNB  BNB_7DAY_MA       ADA       XRP  \\\nDate                                                                    \n2021-01-01           NaN   37.905010          NaN  0.175350  0.237444   \n2021-01-02           NaN   38.241592          NaN  0.177423  0.221655   \n2021-01-03           NaN   41.148979          NaN  0.204995  0.225848   \n2021-01-04           NaN   40.926353          NaN  0.224762  0.236677   \n2021-01-05           NaN   41.734600          NaN  0.258314  0.226750   \n...                  ...         ...          ...       ...       ...   \n2022-04-26      0.139365  385.483063   402.993487  0.827645  0.641699   \n2022-04-27      0.139196  391.445831   399.149427  0.840595  0.652318   \n2022-04-28      0.139339  406.718201   399.391820  0.843950  0.644363   \n2022-04-29      0.139143  393.062164   397.402483  0.805043  0.611407   \n2022-04-30      0.138189  377.767822   393.990391  0.756660  0.587091   \n\n            XRP_7DAY_MA       DASH      LUNA  \nDate                                          \n2021-01-01          NaN  88.241707  0.002937  \n2021-01-02          NaN  86.969772  0.002567  \n2021-01-03          NaN  89.069138  0.003283  \n2021-01-04          NaN  88.797173  0.003197  \n2021-01-05          NaN  89.102776  0.003399  \n...                 ...        ...       ...  \n2022-04-26     0.706731  93.270164  0.003049  \n2022-04-27     0.692466  95.617142  0.004709  \n2022-04-28     0.679778  96.568245  0.004773  \n2022-04-29     0.664380  92.269463  0.004633  \n2022-04-30     0.647149  85.083443  0.004149  \n\n[485 rows x 13 columns]",
      "text/html": "<div>\n<style scoped>\n    .dataframe tbody tr th:only-of-type {\n        vertical-align: middle;\n    }\n\n    .dataframe tbody tr th {\n        vertical-align: top;\n    }\n\n    .dataframe thead th {\n        text-align: right;\n    }\n</style>\n<table border=\"1\" class=\"dataframe\">\n  <thead>\n    <tr style=\"text-align: right;\">\n      <th></th>\n      <th>BTC</th>\n      <th>BTC_7DAY_MA</th>\n      <th>ETH</th>\n      <th>ETH_7DAY_MA</th>\n      <th>DOGE</th>\n      <th>DOGE_7DAY_MA</th>\n      <th>BNB</th>\n      <th>BNB_7DAY_MA</th>\n      <th>ADA</th>\n      <th>XRP</th>\n      <th>XRP_7DAY_MA</th>\n      <th>DASH</th>\n      <th>LUNA</th>\n    </tr>\n    <tr>\n      <th>Date</th>\n      <th></th>\n      <th></th>\n      <th></th>\n      <th></th>\n      <th></th>\n      <th></th>\n      <th></th>\n      <th></th>\n      <th></th>\n      <th></th>\n      <th></th>\n      <th></th>\n      <th></th>\n    </tr>\n  </thead>\n  <tbody>\n    <tr>\n      <th>2021-01-01</th>\n      <td>29374.152344</td>\n      <td>NaN</td>\n      <td>730.367554</td>\n      <td>NaN</td>\n      <td>0.005685</td>\n      <td>NaN</td>\n      <td>37.905010</td>\n      <td>NaN</td>\n      <td>0.175350</td>\n      <td>0.237444</td>\n      <td>NaN</td>\n      <td>88.241707</td>\n      <td>0.002937</td>\n    </tr>\n    <tr>\n      <th>2021-01-02</th>\n      <td>32127.267578</td>\n      <td>NaN</td>\n      <td>774.534973</td>\n      <td>NaN</td>\n      <td>0.010615</td>\n      <td>NaN</td>\n      <td>38.241592</td>\n      <td>NaN</td>\n      <td>0.177423</td>\n      <td>0.221655</td>\n      <td>NaN</td>\n      <td>86.969772</td>\n      <td>0.002567</td>\n    </tr>\n    <tr>\n      <th>2021-01-03</th>\n      <td>32782.023438</td>\n      <td>NaN</td>\n      <td>975.507690</td>\n      <td>NaN</td>\n      <td>0.009771</td>\n      <td>NaN</td>\n      <td>41.148979</td>\n      <td>NaN</td>\n      <td>0.204995</td>\n      <td>0.225848</td>\n      <td>NaN</td>\n      <td>89.069138</td>\n      <td>0.003283</td>\n    </tr>\n    <tr>\n      <th>2021-01-04</th>\n      <td>31971.914062</td>\n      <td>NaN</td>\n      <td>1040.233032</td>\n      <td>NaN</td>\n      <td>0.009767</td>\n      <td>NaN</td>\n      <td>40.926353</td>\n      <td>NaN</td>\n      <td>0.224762</td>\n      <td>0.236677</td>\n      <td>NaN</td>\n      <td>88.797173</td>\n      <td>0.003197</td>\n    </tr>\n    <tr>\n      <th>2021-01-05</th>\n      <td>33992.429688</td>\n      <td>NaN</td>\n      <td>1100.006104</td>\n      <td>NaN</td>\n      <td>0.009920</td>\n      <td>NaN</td>\n      <td>41.734600</td>\n      <td>NaN</td>\n      <td>0.258314</td>\n      <td>0.226750</td>\n      <td>NaN</td>\n      <td>89.102776</td>\n      <td>0.003399</td>\n    </tr>\n    <tr>\n      <th>...</th>\n      <td>...</td>\n      <td>...</td>\n      <td>...</td>\n      <td>...</td>\n      <td>...</td>\n      <td>...</td>\n      <td>...</td>\n      <td>...</td>\n      <td>...</td>\n      <td>...</td>\n      <td>...</td>\n      <td>...</td>\n      <td>...</td>\n    </tr>\n    <tr>\n      <th>2022-04-26</th>\n      <td>38117.460938</td>\n      <td>39881.979353</td>\n      <td>2808.298340</td>\n      <td>2958.371547</td>\n      <td>0.137767</td>\n      <td>0.139365</td>\n      <td>385.483063</td>\n      <td>402.993487</td>\n      <td>0.827645</td>\n      <td>0.641699</td>\n      <td>0.706731</td>\n      <td>93.270164</td>\n      <td>0.003049</td>\n    </tr>\n    <tr>\n      <th>2022-04-27</th>\n      <td>39241.121094</td>\n      <td>39577.228237</td>\n      <td>2888.929688</td>\n      <td>2931.397810</td>\n      <td>0.139700</td>\n      <td>0.139196</td>\n      <td>391.445831</td>\n      <td>399.149427</td>\n      <td>0.840595</td>\n      <td>0.652318</td>\n      <td>0.692466</td>\n      <td>95.617142</td>\n      <td>0.004709</td>\n    </tr>\n    <tr>\n      <th>2022-04-28</th>\n      <td>39773.828125</td>\n      <td>39469.580357</td>\n      <td>2936.940918</td>\n      <td>2924.177839</td>\n      <td>0.137363</td>\n      <td>0.139339</td>\n      <td>406.718201</td>\n      <td>399.391820</td>\n      <td>0.843950</td>\n      <td>0.644363</td>\n      <td>0.679778</td>\n      <td>96.568245</td>\n      <td>0.004773</td>\n    </tr>\n    <tr>\n      <th>2022-04-29</th>\n      <td>38609.824219</td>\n      <td>39308.080915</td>\n      <td>2815.601807</td>\n      <td>2902.858712</td>\n      <td>0.135027</td>\n      <td>0.139143</td>\n      <td>393.062164</td>\n      <td>397.402483</td>\n      <td>0.805043</td>\n      <td>0.611407</td>\n      <td>0.664380</td>\n      <td>92.269463</td>\n      <td>0.004633</td>\n    </tr>\n    <tr>\n      <th>2022-04-30</th>\n      <td>37714.875000</td>\n      <td>39054.958705</td>\n      <td>2730.186768</td>\n      <td>2873.154820</td>\n      <td>0.127557</td>\n      <td>0.138189</td>\n      <td>377.767822</td>\n      <td>393.990391</td>\n      <td>0.756660</td>\n      <td>0.587091</td>\n      <td>0.647149</td>\n      <td>85.083443</td>\n      <td>0.004149</td>\n    </tr>\n  </tbody>\n</table>\n<p>485 rows × 13 columns</p>\n</div>"
     },
     "metadata": {}
    }
   ],
   "execution_count": null
  },
  {
   "cell_type": "code",
   "metadata": {
    "cell_id": "678e55d9344b4cd7b1716a6521d03748",
    "tags": [],
    "deepnote_to_be_reexecuted": false,
    "source_hash": "575e050d",
    "execution_start": 1651824129641,
    "execution_millis": 37,
    "deepnote_cell_type": "code",
    "deepnote_cell_height": 80.921875
   },
   "source": "import sweetviz as sv",
   "outputs": [],
   "execution_count": null
  },
  {
   "cell_type": "code",
   "metadata": {
    "cell_id": "a4eee646f41040bfa065fa54bee22110",
    "tags": [],
    "deepnote_to_be_reexecuted": false,
    "source_hash": "1f3b3bbd",
    "execution_start": 1651824129680,
    "execution_millis": 4,
    "deepnote_cell_type": "code",
    "deepnote_cell_height": 80.921875,
    "deepnote_output_heights": [
     null,
     21.171875
    ]
   },
   "source": "df = crypto.loc[:,~crypto.columns.str.contains('MA')]",
   "outputs": [],
   "execution_count": null
  },
  {
   "cell_type": "code",
   "metadata": {
    "cell_id": "31d930b8330147eab8e5a826c4bfdbef",
    "tags": [],
    "deepnote_to_be_reexecuted": false,
    "source_hash": "518decdb",
    "execution_start": 1651824266708,
    "execution_millis": 7408,
    "owner_user_id": "a511d4d9-7d03-4712-9a7f-e2cf352e03b6",
    "deepnote_cell_type": "code",
    "deepnote_cell_height": 162.90625,
    "deepnote_output_heights": [
     174.671875
    ]
   },
   "source": "Report= sv.analyze(df)\n",
   "outputs": [
    {
     "data": {
      "text/plain": "                                             |          | [  0%]   00:00 -> (? left)",
      "application/vnd.jupyter.widget-view+json": {
       "version_major": 2,
       "version_minor": 0,
       "model_id": "74aceb83a29b40f7a996c861bbbec74b"
      }
     },
     "metadata": {},
     "output_type": "display_data"
    }
   ],
   "execution_count": null
  },
  {
   "cell_type": "code",
   "source": "Report.show_html(\"Analized report.html\")\n",
   "metadata": {
    "cell_id": "58f8c99e2304488dadfe998dc0112c01",
    "tags": [],
    "deepnote_to_be_reexecuted": false,
    "source_hash": "9600637c",
    "execution_start": 1651824339257,
    "execution_millis": 10,
    "deepnote_cell_type": "code",
    "deepnote_cell_height": 133.5
   },
   "outputs": [
    {
     "name": "stdout",
     "text": "Report Analized report.html was generated! NOTEBOOK/COLAB USERS: the web browser MAY not pop up, regardless, the report IS saved in your notebook/colab files.\n",
     "output_type": "stream"
    }
   ],
   "execution_count": null
  },
  {
   "cell_type": "code",
   "source": "",
   "metadata": {
    "cell_id": "206f4afdaf724c6794ce1ba7313791db",
    "tags": [],
    "deepnote_cell_type": "code",
    "deepnote_cell_height": 65.921875
   },
   "outputs": [],
   "execution_count": null
  },
  {
   "cell_type": "markdown",
   "source": "<a style='text-decoration:none;line-height:16px;display:flex;color:#5B5B62;padding:10px;justify-content:end;' href='https://deepnote.com?utm_source=created-in-deepnote-cell&projectId=7d3e683f-6e61-41cd-8b10-c5507e9efee2' target=\"_blank\">\n<img alt='Created in deepnote.com' style='display:inline;max-height:16px;margin:0px;margin-right:7.5px;' src='data:image/svg+xml;base64,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' > </img>\nCreated in <span style='font-weight:600;margin-left:4px;'>Deepnote</span></a>",
   "metadata": {
    "tags": [],
    "created_in_deepnote_cell": true,
    "deepnote_cell_type": "markdown"
   }
  }
 ],
 "nbformat": 4,
 "nbformat_minor": 2,
 "metadata": {
  "orig_nbformat": 2,
  "deepnote": {},
  "deepnote_notebook_id": "05763560-83d1-4370-9f32-d79b8bc4d737",
  "deepnote_execution_queue": []
 }
}